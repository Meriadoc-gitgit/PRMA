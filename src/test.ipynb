{
 "cells": [
  {
   "cell_type": "markdown",
   "metadata": {},
   "source": [
    "# Importation Bibliothèques"
   ]
  },
  {
   "cell_type": "code",
   "execution_count": null,
   "metadata": {},
   "outputs": [],
   "source": [
    "import gymnasium as gym\n",
    "import bbrl_gymnasium\n",
    "from moviepy.editor import ipython_display as video_display\n",
    "from RewardWrapper import RewardWrapper\n",
    "from Algorithms import PrioritizedReplayAgent\n",
    "import matplotlib.pyplot as plt\n",
    "\n",
    "from LargestFirst import LargestFirst\n",
    "from RandomDyna import RandomDyna\n",
    "from FocusedDyna import FocusedDyna\n",
    "\n",
    "import pandas as pd\n",
    "import numpy as np\n",
    "\n",
    "from omegaconf import OmegaConf\n",
    "# Load YAML config file as OmegaConf\n",
    "config = OmegaConf.load(\"hyperparam.yaml\")"
   ]
  },
  {
   "cell_type": "markdown",
   "metadata": {},
   "source": [
    "# Paramètres"
   ]
  },
  {
   "cell_type": "code",
   "execution_count": null,
   "metadata": {},
   "outputs": [],
   "source": [
    "EPSILON = config.main.epsilon  # parametres pour gerer l'exploration dans EPSILONgreedy\n",
    "DELTA = config.main.delta  #treshold\n",
    "gamma = config.main.gamma  #discount factor\n",
    "ALPHA = config.main.alpha   #learning rate\n",
    "MAX_STEP = config.main.max_step #nombre de pas maximum pour un episode"
   ]
  },
  {
   "cell_type": "markdown",
   "metadata": {},
   "source": [
    "# Définition des labyrinthes"
   ]
  },
  {
   "cell_type": "code",
   "execution_count": null,
   "metadata": {},
   "outputs": [],
   "source": [
    "# environnement 9x6 \n",
    "env_9x6 = gym.make(\"MazeMDP-v0\", kwargs={\"width\": 9, \"height\": 6,\n",
    "\"start_states\": [2], \"walls\": [13, 14, 15, 34, 42, 43, 44],\n",
    "\"terminal_states\": [41]}, render_mode=\"rgb_array\")\n",
    "\n",
    "env_9x6.metadata['render_fps'] = 1\n",
    "env_9x6 = RewardWrapper(env_9x6)\n",
    "env_9x6.reset()\n",
    "\n",
    "env_9x6.set_no_agent()\n",
    "env_9x6.init_draw(\"The maze 9x6\")\n",
    "\n",
    "# environnement 18x12\n",
    "env_18x12 = gym.make(\"MazeMDP-v0\", kwargs={\"width\": 18, \"height\": 12,\n",
    "\"start_states\": [4], \"walls\": [50,51,52,53,54,62,63,64,65,66, 128,129,140,141,168,169,170,171,172,173,180,181,182,183,184,185],\n",
    "\"terminal_states\": [166,167,178,179]}, render_mode=\"rgb_array\")\n",
    "\n",
    "env_18x12.metadata['render_fps'] = 1\n",
    "env_18x12 = RewardWrapper(env_18x12)\n",
    "env_18x12.reset()\n",
    "\n",
    "env_18x12.set_no_agent()\n",
    "env_18x12.init_draw(\"The maze 18x12\")\n"
   ]
  },
  {
   "cell_type": "markdown",
   "metadata": {},
   "source": [
    "# Largest First Dyna\n",
    "\n",
    "### Queue Dyna Priority Based on Prediction Difference Magnitude"
   ]
  },
  {
   "cell_type": "code",
   "execution_count": null,
   "metadata": {},
   "outputs": [],
   "source": [
    "QueueDyna = LargestFirst(env_9x6, ALPHA, DELTA, EPSILON,MAX_STEP, render = True, episode= 100)\n",
    "QueueDyna.execute()\n"
   ]
  },
  {
   "cell_type": "code",
   "execution_count": null,
   "metadata": {},
   "outputs": [],
   "source": [
    "data = pd.read_csv(\"executionInformation.csv\")\n",
    "\n",
    "nb_steps = data.iloc[:, 1].tolist()\n",
    "nb_backup = data.iloc[:,0].tolist()\n",
    "\n",
    "plt.plot(nb_backup,nb_steps)\n",
    "\n",
    "\n",
    "plt.title('Courbe du nombre de step to goal en fonction du nombre de backup')\n",
    "plt.xlabel('nb_backup')\n",
    "plt.ylabel('nb_step')\n",
    "plt.xscale('log')\n",
    "plt.grid(True)\n",
    "plt.show()"
   ]
  },
  {
   "cell_type": "markdown",
   "metadata": {},
   "source": [
    "# Random Dyna"
   ]
  },
  {
   "cell_type": "code",
   "execution_count": null,
   "metadata": {},
   "outputs": [],
   "source": [
    "RDyna = RandomDyna(env_9x6, ALPHA, DELTA, EPSILON, MAX_STEP, render = True, episode= 100)\n",
    "RDyna.execute()"
   ]
  },
  {
   "cell_type": "code",
   "execution_count": null,
   "metadata": {},
   "outputs": [],
   "source": [
    "data = pd.read_csv(\"executionInformation.csv\")\n",
    "\n",
    "nb_steps = data.iloc[:, 1].tolist()\n",
    "nb_backup = data.iloc[:,0].tolist()\n",
    "\n",
    "plt.plot(nb_backup,nb_steps)\n",
    "\n",
    "plt.title('Courbe du nombre de step to goal en fonction du nombre de backup')\n",
    "plt.xlabel('nb_backup')\n",
    "plt.ylabel('nb_step')\n",
    "plt.xscale('log')\n",
    "plt.grid(True)\n",
    "plt.show()\n"
   ]
  },
  {
   "cell_type": "markdown",
   "metadata": {},
   "source": [
    "# Focused Dyna"
   ]
  },
  {
   "cell_type": "code",
   "execution_count": null,
   "metadata": {},
   "outputs": [],
   "source": [
    "FDyna = FocusedDyna(env_9x6, ALPHA, DELTA, EPSILON,MAX_STEP, render = True, episode= 100)\n",
    "FDyna.execute()\n"
   ]
  },
  {
   "cell_type": "code",
   "execution_count": null,
   "metadata": {},
   "outputs": [],
   "source": [
    "data = pd.read_csv(\"executionInformation.csv\")\n",
    "\n",
    "nb_steps = data.iloc[:, 1].tolist()\n",
    "nb_backup = data.iloc[:,0].tolist()\n",
    "\n",
    "plt.plot(nb_backup,nb_steps)\n",
    "\n",
    "\n",
    "plt.title('Courbe du nombre de step to goal en fonction du nombre de backup')\n",
    "plt.xlabel('nb_backup')\n",
    "plt.ylabel('nb_step')\n",
    "plt.xscale('log')\n",
    "plt.grid(True)\n",
    "plt.show()"
   ]
  },
  {
   "cell_type": "markdown",
   "metadata": {},
   "source": [
    "# Test SR"
   ]
  },
  {
   "cell_type": "code",
   "execution_count": null,
   "metadata": {},
   "outputs": [],
   "source": [
    "from SuccessorRepresentation import FocusedDynaSR"
   ]
  },
  {
   "cell_type": "markdown",
   "metadata": {},
   "source": [
    "## Small labyrinth"
   ]
  },
  {
   "cell_type": "code",
   "execution_count": 10,
   "metadata": {},
   "outputs": [],
   "source": [
    "fdsr = FocusedDynaSR(env_9x6, ALPHA, EPSILON, config.sr.episode, config.sr.small.train_episode_length, config.sr.small.test_episode_length)\n",
    "\n",
    "fdsr.execute()"
   ]
  },
  {
   "cell_type": "code",
   "execution_count": null,
   "metadata": {},
   "outputs": [],
   "source": [
    "print(\"longueur du chemin au but minimal :\",fdsr.optimal_path_length())"
   ]
  },
  {
   "cell_type": "code",
   "execution_count": null,
   "metadata": {},
   "outputs": [],
   "source": [
    "plt.plot(fdsr.test_lengths)\n",
    "plt.savefig(\"img/SR-performance.png\")"
   ]
  },
  {
   "cell_type": "code",
   "execution_count": null,
   "metadata": {},
   "outputs": [],
   "source": [
    "plt.plot(fdsr.lifetime_td_errors)"
   ]
  },
  {
   "cell_type": "markdown",
   "metadata": {},
   "source": [
    "# Figure 8"
   ]
  },
  {
   "cell_type": "code",
   "execution_count": 16,
   "metadata": {},
   "outputs": [
    {
     "ename": "KeyboardInterrupt",
     "evalue": "",
     "output_type": "error",
     "traceback": [
      "\u001b[0;31m---------------------------------------------------------------------------\u001b[0m",
      "\u001b[0;31mKeyboardInterrupt\u001b[0m                         Traceback (most recent call last)",
      "\u001b[0;32m/var/folders/dk/5xxlbv9n6xngmfm92w8343_40000gp/T/ipykernel_56707/1425289979.py\u001b[0m in \u001b[0;36m<module>\u001b[0;34m\u001b[0m\n\u001b[1;32m      1\u001b[0m \u001b[0mQueueDyna\u001b[0m \u001b[0;34m=\u001b[0m \u001b[0mFocusedDyna\u001b[0m\u001b[0;34m(\u001b[0m\u001b[0menv_9x6\u001b[0m\u001b[0;34m,\u001b[0m \u001b[0mALPHA\u001b[0m\u001b[0;34m,\u001b[0m \u001b[0mDELTA\u001b[0m\u001b[0;34m,\u001b[0m \u001b[0mEPSILON\u001b[0m\u001b[0;34m,\u001b[0m\u001b[0mMAX_STEP\u001b[0m\u001b[0;34m,\u001b[0m \u001b[0mrender\u001b[0m \u001b[0;34m=\u001b[0m \u001b[0;32mFalse\u001b[0m\u001b[0;34m,\u001b[0m \u001b[0mepisode\u001b[0m\u001b[0;34m=\u001b[0m \u001b[0;36m1000\u001b[0m\u001b[0;34m)\u001b[0m\u001b[0;34m\u001b[0m\u001b[0;34m\u001b[0m\u001b[0m\n\u001b[0;32m----> 2\u001b[0;31m \u001b[0mQueueDyna\u001b[0m\u001b[0;34m.\u001b[0m\u001b[0mexecute\u001b[0m\u001b[0;34m(\u001b[0m\u001b[0;34m)\u001b[0m\u001b[0;34m\u001b[0m\u001b[0;34m\u001b[0m\u001b[0m\n\u001b[0m",
      "\u001b[0;32m~/Library/Mobile Documents/com~apple~CloudDocs/Document/L3/Prioritized-Memories-Activation/src/Algorithms.py\u001b[0m in \u001b[0;36mexecute\u001b[0;34m(self)\u001b[0m\n\u001b[1;32m     67\u001b[0m         \u001b[0mself\u001b[0m\u001b[0;34m.\u001b[0m\u001b[0mmdp\u001b[0m\u001b[0;34m.\u001b[0m\u001b[0mdraw_v_pi\u001b[0m\u001b[0;34m(\u001b[0m\u001b[0mself\u001b[0m\u001b[0;34m.\u001b[0m\u001b[0mq_table\u001b[0m\u001b[0;34m,\u001b[0m \u001b[0mself\u001b[0m\u001b[0;34m.\u001b[0m\u001b[0mq_table\u001b[0m\u001b[0;34m.\u001b[0m\u001b[0margmax\u001b[0m\u001b[0;34m(\u001b[0m\u001b[0maxis\u001b[0m\u001b[0;34m=\u001b[0m\u001b[0;36m1\u001b[0m\u001b[0;34m)\u001b[0m\u001b[0;34m,\u001b[0m \u001b[0mrecorder\u001b[0m\u001b[0;34m=\u001b[0m\u001b[0;32mNone\u001b[0m\u001b[0;34m)\u001b[0m\u001b[0;34m\u001b[0m\u001b[0;34m\u001b[0m\u001b[0m\n\u001b[1;32m     68\u001b[0m       \u001b[0;32mfor\u001b[0m \u001b[0mj\u001b[0m \u001b[0;32min\u001b[0m \u001b[0mrange\u001b[0m\u001b[0;34m(\u001b[0m\u001b[0mself\u001b[0m\u001b[0;34m.\u001b[0m\u001b[0mMAX_STEP\u001b[0m\u001b[0;34m)\u001b[0m\u001b[0;34m:\u001b[0m\u001b[0;34m\u001b[0m\u001b[0;34m\u001b[0m\u001b[0m\n\u001b[0;32m---> 69\u001b[0;31m         \u001b[0maction\u001b[0m\u001b[0;34m,\u001b[0m \u001b[0mnext_state\u001b[0m\u001b[0;34m,\u001b[0m \u001b[0mreward\u001b[0m\u001b[0;34m,\u001b[0m \u001b[0mterminated\u001b[0m \u001b[0;34m=\u001b[0m \u001b[0mself\u001b[0m\u001b[0;34m.\u001b[0m\u001b[0mstep_in_world\u001b[0m\u001b[0;34m(\u001b[0m\u001b[0mstate\u001b[0m\u001b[0;34m)\u001b[0m\u001b[0;34m\u001b[0m\u001b[0;34m\u001b[0m\u001b[0m\n\u001b[0m\u001b[1;32m     70\u001b[0m \u001b[0;34m\u001b[0m\u001b[0m\n\u001b[1;32m     71\u001b[0m         \u001b[0;32mif\u001b[0m \u001b[0mself\u001b[0m\u001b[0;34m.\u001b[0m\u001b[0mmemory\u001b[0m\u001b[0;34m:\u001b[0m                                      \u001b[0;31m#update_model\u001b[0m\u001b[0;34m\u001b[0m\u001b[0;34m\u001b[0m\u001b[0m\n",
      "\u001b[0;32m~/Library/Mobile Documents/com~apple~CloudDocs/Document/L3/Prioritized-Memories-Activation/src/Algorithms.py\u001b[0m in \u001b[0;36mstep_in_world\u001b[0;34m(self, state)\u001b[0m\n\u001b[1;32m     99\u001b[0m             \u001b[0mterminated\u001b[0m \u001b[0;34m-\u001b[0m\u001b[0;34m-\u001b[0m \u001b[0mbool\u001b[0m \u001b[0;34m:\u001b[0m \u001b[0mdéterminé\u001b[0m \u001b[0msi\u001b[0m \u001b[0ml\u001b[0m\u001b[0;31m'\u001b[0m\u001b[0métat\u001b[0m \u001b[0mest\u001b[0m \u001b[0mterminal\u001b[0m\u001b[0;34m\u001b[0m\u001b[0;34m\u001b[0m\u001b[0m\n\u001b[1;32m    100\u001b[0m     \"\"\"\n\u001b[0;32m--> 101\u001b[0;31m     \u001b[0maction\u001b[0m \u001b[0;34m=\u001b[0m \u001b[0megreedy\u001b[0m\u001b[0;34m(\u001b[0m\u001b[0mself\u001b[0m\u001b[0;34m.\u001b[0m\u001b[0mq_table\u001b[0m\u001b[0;34m,\u001b[0m \u001b[0mstate\u001b[0m\u001b[0;34m,\u001b[0m \u001b[0mself\u001b[0m\u001b[0;34m.\u001b[0m\u001b[0mEPSILON\u001b[0m\u001b[0;34m)\u001b[0m       \u001b[0;31m# choix d'une action avec la méthode EPSILON\u001b[0m\u001b[0;34m\u001b[0m\u001b[0;34m\u001b[0m\u001b[0m\n\u001b[0m\u001b[1;32m    102\u001b[0m     \u001b[0mnext_state\u001b[0m\u001b[0;34m,\u001b[0m \u001b[0mreward\u001b[0m\u001b[0;34m,\u001b[0m \u001b[0mterminated\u001b[0m\u001b[0;34m,\u001b[0m \u001b[0mtruncated\u001b[0m\u001b[0;34m,\u001b[0m \u001b[0m_\u001b[0m \u001b[0;34m=\u001b[0m \u001b[0mself\u001b[0m\u001b[0;34m.\u001b[0m\u001b[0mmdp\u001b[0m\u001b[0;34m.\u001b[0m\u001b[0mstep\u001b[0m\u001b[0;34m(\u001b[0m\u001b[0maction\u001b[0m\u001b[0;34m)\u001b[0m    \u001b[0;31m# effectue l'action à dans l'environnement\u001b[0m\u001b[0;34m\u001b[0m\u001b[0;34m\u001b[0m\u001b[0m\n\u001b[1;32m    103\u001b[0m \u001b[0;34m\u001b[0m\u001b[0m\n",
      "\u001b[0;32m/Library/Frameworks/Python.framework/Versions/3.9/lib/python3.9/site-packages/mazemdp/toolbox.py\u001b[0m in \u001b[0;36megreedy\u001b[0;34m(q, x, epsilon)\u001b[0m\n\u001b[1;32m     65\u001b[0m     \u001b[0;32melse\u001b[0m\u001b[0;34m:\u001b[0m\u001b[0;34m\u001b[0m\u001b[0;34m\u001b[0m\u001b[0m\n\u001b[1;32m     66\u001b[0m         \u001b[0;31m# choose randomly about the actions with a max value\u001b[0m\u001b[0;34m\u001b[0m\u001b[0;34m\u001b[0m\u001b[0m\n\u001b[0;32m---> 67\u001b[0;31m         \u001b[0;32mreturn\u001b[0m \u001b[0mnp\u001b[0m\u001b[0;34m.\u001b[0m\u001b[0mrandom\u001b[0m\u001b[0;34m.\u001b[0m\u001b[0mchoice\u001b[0m\u001b[0;34m(\u001b[0m\u001b[0mnp\u001b[0m\u001b[0;34m.\u001b[0m\u001b[0mwhere\u001b[0m\u001b[0;34m(\u001b[0m\u001b[0mq\u001b[0m\u001b[0;34m[\u001b[0m\u001b[0mx\u001b[0m\u001b[0;34m,\u001b[0m \u001b[0;34m:\u001b[0m\u001b[0;34m]\u001b[0m \u001b[0;34m==\u001b[0m \u001b[0mq\u001b[0m\u001b[0;34m[\u001b[0m\u001b[0mx\u001b[0m\u001b[0;34m,\u001b[0m \u001b[0;34m:\u001b[0m\u001b[0;34m]\u001b[0m\u001b[0;34m.\u001b[0m\u001b[0mmax\u001b[0m\u001b[0;34m(\u001b[0m\u001b[0;34m)\u001b[0m\u001b[0;34m)\u001b[0m\u001b[0;34m[\u001b[0m\u001b[0;36m0\u001b[0m\u001b[0;34m]\u001b[0m\u001b[0;34m)\u001b[0m\u001b[0;34m\u001b[0m\u001b[0;34m\u001b[0m\u001b[0m\n\u001b[0m\u001b[1;32m     68\u001b[0m \u001b[0;34m\u001b[0m\u001b[0m\n\u001b[1;32m     69\u001b[0m \u001b[0;34m\u001b[0m\u001b[0m\n",
      "\u001b[0;32mnumpy/random/mtrand.pyx\u001b[0m in \u001b[0;36mnumpy.random.mtrand.RandomState.choice\u001b[0;34m()\u001b[0m\n",
      "\u001b[0;32mnumpy/random/mtrand.pyx\u001b[0m in \u001b[0;36mnumpy.random.mtrand.RandomState.randint\u001b[0;34m()\u001b[0m\n",
      "\u001b[0;32mnumpy/random/_bounded_integers.pyx\u001b[0m in \u001b[0;36mnumpy.random._bounded_integers._rand_int64\u001b[0;34m()\u001b[0m\n",
      "\u001b[0;32m/Library/Frameworks/Python.framework/Versions/3.9/lib/python3.9/site-packages/numpy/core/fromnumeric.py\u001b[0m in \u001b[0;36mprod\u001b[0;34m(a, axis, dtype, out, keepdims, initial, where)\u001b[0m\n\u001b[1;32m   2977\u001b[0m \u001b[0;34m\u001b[0m\u001b[0m\n\u001b[1;32m   2978\u001b[0m \u001b[0;34m\u001b[0m\u001b[0m\n\u001b[0;32m-> 2979\u001b[0;31m \u001b[0;34m@\u001b[0m\u001b[0marray_function_dispatch\u001b[0m\u001b[0;34m(\u001b[0m\u001b[0m_prod_dispatcher\u001b[0m\u001b[0;34m)\u001b[0m\u001b[0;34m\u001b[0m\u001b[0;34m\u001b[0m\u001b[0m\n\u001b[0m\u001b[1;32m   2980\u001b[0m def prod(a, axis=None, dtype=None, out=None, keepdims=np._NoValue,\n\u001b[1;32m   2981\u001b[0m          initial=np._NoValue, where=np._NoValue):\n",
      "\u001b[0;31mKeyboardInterrupt\u001b[0m: "
     ]
    }
   ],
   "source": [
    "\n",
    "from scipy.interpolate import interp1d\n",
    "\n",
    "all_steps_lg = []\n",
    "all_backups_lg = []\n",
    "\n",
    "all_steps_rd = []\n",
    "all_backups_rd = []\n",
    "\n",
    "all_steps_fc = []\n",
    "all_backups_fc = []\n",
    "\n",
    "for i in range(30):\n",
    "    QueueDyna = LargestFirst(env_9x6, ALPHA, DELTA, EPSILON,MAX_STEP, render = False, episode= 100)\n",
    "    QueueDyna.execute()\n",
    "    data = pd.read_csv(\"executionInformation.csv\")\n",
    "\n",
    "    nb_steps = data.iloc[:, 1].tolist()\n",
    "    nb_backup = data.iloc[:,0].tolist()\n",
    "    all_steps_lg.append(nb_steps)\n",
    "    all_backups_lg.append(nb_backup)\n",
    "\n",
    "    RDyna = RandomDyna(env_9x6, ALPHA, DELTA, EPSILON,MAX_STEP, render = False, episode= 100)\n",
    "    RDyna.execute()\n",
    "    data = pd.read_csv(\"executionInformation.csv\")\n",
    "\n",
    "    nb_steps = data.iloc[:, 1].tolist()\n",
    "    nb_backup = data.iloc[:,0].tolist()\n",
    "    all_steps_rd.append(nb_steps)\n",
    "    all_backups_rd.append(nb_backup)\n",
    "\n",
    "    FDyna = FocusedDyna(env_9x6, ALPHA, DELTA, EPSILON,MAX_STEP, render = False, episode= 100)\n",
    "    FDyna.execute()\n",
    "    data = pd.read_csv(\"executionInformation.csv\")\n",
    "\n",
    "    nb_steps = data.iloc[:, 1].tolist()\n",
    "    nb_backup = data.iloc[:,0].tolist()\n",
    "    all_steps_fc.append(nb_steps)\n",
    "    all_backups_fc.append(nb_backup)\n",
    "    \n",
    "\n",
    "num_points_interp = min([len(i) for i in all_backups_lg])\n",
    "interp_data = []\n",
    "for curve in all_steps_lg:\n",
    "    x_old = np.linspace(0, 1, len(curve))\n",
    "    x_new = np.linspace(0, 1, num_points_interp)\n",
    "    f = interp1d(x_old, curve, kind='cubic')\n",
    "    interp_data.append(f(x_new))\n",
    "\n",
    "average_curve_lg = np.mean(interp_data, axis=0)\n",
    "plt.plot(average_curve_lg, color='red', linewidth=2)\n",
    "\n",
    "num_points_interp = min([len(i) for i in all_backups_rd])\n",
    "interp_data = []\n",
    "for curve in all_steps_lg:\n",
    "    x_old = np.linspace(0, 1, len(curve))\n",
    "    x_new = np.linspace(0, 1, num_points_interp)\n",
    "    f = interp1d(x_old, curve, kind='cubic')\n",
    "    interp_data.append(f(x_new))\n",
    "\n",
    "average_curve_rd = np.mean(interp_data, axis=0)\n",
    "plt.plot(average_curve_rd, color='blue', linewidth=2)\n",
    "\n",
    "num_points_interp = min([len(i) for i in all_backups_fc])\n",
    "interp_data = []\n",
    "for curve in all_steps_fc:\n",
    "    x_old = np.linspace(0, 1, len(curve))\n",
    "    x_new = np.linspace(0, 1, num_points_interp)\n",
    "    f = interp1d(x_old, curve, kind='cubic')\n",
    "    interp_data.append(f(x_new))\n",
    "\n",
    "average_curve_fc = np.mean(interp_data, axis=0)\n",
    "plt.plot(average_curve_fc, color='green', linewidth=2)\n",
    "\n",
    "\n",
    "\n",
    "\n",
    "plt.title('Courbe du nombre de step to goal en fonction du nombre de backup')\n",
    "plt.xlabel('nb_backup')\n",
    "plt.ylabel('nb_step')\n",
    "plt.xscale('log')\n",
    "plt.grid(True)\n",
    "plt.show()\n"
   ]
  },
  {
   "cell_type": "code",
   "execution_count": null,
   "metadata": {},
   "outputs": [],
   "source": []
  },
  {
   "cell_type": "code",
   "execution_count": null,
   "metadata": {},
   "outputs": [],
   "source": []
  }
 ],
 "metadata": {
  "kernelspec": {
   "display_name": "Python 3",
   "language": "python",
   "name": "python3"
  },
  "language_info": {
   "codemirror_mode": {
    "name": "ipython",
    "version": 3
   },
   "file_extension": ".py",
   "mimetype": "text/x-python",
   "name": "python",
   "nbconvert_exporter": "python",
   "pygments_lexer": "ipython3",
   "version": "3.9.7"
  }
 },
 "nbformat": 4,
 "nbformat_minor": 4
}
