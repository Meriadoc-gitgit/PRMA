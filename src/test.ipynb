{
 "cells": [
  {
   "cell_type": "markdown",
   "metadata": {},
   "source": [
    "# Importation Bibliothèques"
   ]
  },
  {
   "cell_type": "code",
   "execution_count": 11,
   "metadata": {},
   "outputs": [],
   "source": [
    "import gymnasium as gym\n",
    "import bbrl_gymnasium\n",
    "from moviepy.editor import ipython_display as video_display\n",
    "from RewardWrapper import RewardWrapper\n",
    "from Algorithms import PrioritizedReplayAgent\n",
    "import matplotlib.pyplot as plt\n",
    "\n",
    "from LargestFirst import LargestFirst\n",
    "from RandomDyna import RandomDyna\n",
    "from FocusedDyna import FocusedDyna\n",
    "\n",
    "import pandas as pd\n",
    "import numpy as np"
   ]
  },
  {
   "cell_type": "markdown",
   "metadata": {},
   "source": [
    "# Paramètres"
   ]
  },
  {
   "cell_type": "code",
   "execution_count": 12,
   "metadata": {},
   "outputs": [],
   "source": [
    "epsilon= 0.5  # parametres pour gerer l'exploration dans epsilongreedy\n",
    "delta = 0.01  #treshold\n",
    "gamma = 0.95  #discount factor\n",
    "alpha = 0.5   #learning rate\n",
    "max_step = 1000#nombre de pas maximum pour un episode"
   ]
  },
  {
   "cell_type": "markdown",
   "metadata": {},
   "source": [
    "# Définition des labyrinthes"
   ]
  },
  {
   "cell_type": "code",
   "execution_count": 13,
   "metadata": {},
   "outputs": [
    {
     "data": {
      "application/vnd.jupyter.widget-view+json": {
       "model_id": "750c78c74b4c49f4b14db6472308584f",
       "version_major": 2,
       "version_minor": 0
      },
      "text/plain": [
       "Output()"
      ]
     },
     "metadata": {},
     "output_type": "display_data"
    },
    {
     "data": {
      "application/vnd.jupyter.widget-view+json": {
       "model_id": "869c9315277d441d96e0389d3bd100da",
       "version_major": 2,
       "version_minor": 0
      },
      "text/plain": [
       "Output()"
      ]
     },
     "metadata": {},
     "output_type": "display_data"
    }
   ],
   "source": [
    "# environnement 9x6 \n",
    "env_9x6 = gym.make(\"MazeMDP-v0\", kwargs={\"width\": 9, \"height\": 6,\n",
    "\"start_states\": [2], \"walls\": [13, 14, 15, 34, 42, 43, 44],\n",
    "\"terminal_states\": [41]}, render_mode=\"rgb_array\")\n",
    "\n",
    "env_9x6.metadata['render_fps'] = 1\n",
    "env_9x6 = RewardWrapper(env_9x6)\n",
    "env_9x6.reset()\n",
    "\n",
    "env_9x6.set_no_agent()\n",
    "env_9x6.init_draw(\"The maze 9x6\")\n",
    "\n",
    "# environnement 18x12\n",
    "env_18x12 = gym.make(\"MazeMDP-v0\", kwargs={\"width\": 18, \"height\": 12,\n",
    "\"start_states\": [4], \"walls\": [50,51,52,53,54,62,63,64,65,66, 128,129,140,141,168,169,170,171,172,173,180,181,182,183,184,185],\n",
    "\"terminal_states\": [166,167,178,179]}, render_mode=\"rgb_array\")\n",
    "\n",
    "env_18x12.metadata['render_fps'] = 1\n",
    "env_18x12 = RewardWrapper(env_18x12)\n",
    "env_18x12.reset()\n",
    "\n",
    "env_18x12.set_no_agent()\n",
    "env_18x12.init_draw(\"The maze 18x12\")\n"
   ]
  },
  {
   "cell_type": "markdown",
   "metadata": {},
   "source": [
    "# Largest First Dyna\n",
    "\n",
    "### Queue Dyna Priority Based on Prediction Difference Magnitude"
   ]
  },
  {
   "cell_type": "code",
   "execution_count": 14,
   "metadata": {},
   "outputs": [
    {
     "data": {
      "application/vnd.jupyter.widget-view+json": {
       "model_id": "6328b51c5b484cf8aa5e7980aaa0da16",
       "version_major": 2,
       "version_minor": 0
      },
      "text/plain": [
       "Output()"
      ]
     },
     "metadata": {},
     "output_type": "display_data"
    },
    {
     "name": "stdout",
     "output_type": "stream",
     "text": [
      "i 0 j 869 nb_backup 870\n"
     ]
    },
    {
     "name": "stdout",
     "output_type": "stream",
     "text": [
      "i 1 j 66 nb_backup 937\n"
     ]
    },
    {
     "name": "stdout",
     "output_type": "stream",
     "text": [
      "i 2 j 543 nb_backup 1481\n"
     ]
    },
    {
     "name": "stdout",
     "output_type": "stream",
     "text": [
      "i 3 j 267 nb_backup 1749\n"
     ]
    },
    {
     "name": "stdout",
     "output_type": "stream",
     "text": [
      "i 4 j 256 nb_backup 2006\n"
     ]
    },
    {
     "name": "stdout",
     "output_type": "stream",
     "text": [
      "i 5 j 63 nb_backup 2070\n"
     ]
    },
    {
     "name": "stdout",
     "output_type": "stream",
     "text": [
      "i 6 j 101 nb_backup 2172\n"
     ]
    },
    {
     "name": "stdout",
     "output_type": "stream",
     "text": [
      "i 7 j 284 nb_backup 2457\n"
     ]
    },
    {
     "name": "stdout",
     "output_type": "stream",
     "text": [
      "i 8 j 134 nb_backup 2592\n"
     ]
    },
    {
     "name": "stdout",
     "output_type": "stream",
     "text": [
      "i 9 j 98 nb_backup 2691\n"
     ]
    },
    {
     "name": "stdout",
     "output_type": "stream",
     "text": [
      "i 10 j 49 nb_backup 2741\n"
     ]
    },
    {
     "name": "stdout",
     "output_type": "stream",
     "text": [
      "i 11 j 24 nb_backup 2766\n"
     ]
    },
    {
     "name": "stdout",
     "output_type": "stream",
     "text": [
      "i 12 j 65 nb_backup 2832\n"
     ]
    },
    {
     "name": "stdout",
     "output_type": "stream",
     "text": [
      "i 13 j 168 nb_backup 3001\n"
     ]
    },
    {
     "name": "stdout",
     "output_type": "stream",
     "text": [
      "i 14 j 82 nb_backup 3084\n"
     ]
    },
    {
     "name": "stdout",
     "output_type": "stream",
     "text": [
      "i 15 j 25 nb_backup 3110\n"
     ]
    },
    {
     "name": "stdout",
     "output_type": "stream",
     "text": [
      "i 16 j 49 nb_backup 3160\n"
     ]
    },
    {
     "name": "stdout",
     "output_type": "stream",
     "text": [
      "i 17 j 23 nb_backup 3184\n"
     ]
    },
    {
     "name": "stdout",
     "output_type": "stream",
     "text": [
      "i 18 j 52 nb_backup 3237\n"
     ]
    },
    {
     "name": "stdout",
     "output_type": "stream",
     "text": [
      "i 19 j 31 nb_backup 3269\n"
     ]
    },
    {
     "name": "stdout",
     "output_type": "stream",
     "text": [
      "i 20 j 20 nb_backup 3290\n"
     ]
    },
    {
     "name": "stdout",
     "output_type": "stream",
     "text": [
      "i 21 j 19 nb_backup 3310\n"
     ]
    },
    {
     "name": "stdout",
     "output_type": "stream",
     "text": [
      "i 22 j 32 nb_backup 3343\n"
     ]
    },
    {
     "name": "stdout",
     "output_type": "stream",
     "text": [
      "i 23 j 43 nb_backup 3387\n"
     ]
    },
    {
     "name": "stdout",
     "output_type": "stream",
     "text": [
      "i 24 j 45 nb_backup 3433\n"
     ]
    },
    {
     "name": "stdout",
     "output_type": "stream",
     "text": [
      "i 25 j 21 nb_backup 3455\n"
     ]
    },
    {
     "name": "stdout",
     "output_type": "stream",
     "text": [
      "i 26 j 30 nb_backup 3486\n"
     ]
    },
    {
     "name": "stdout",
     "output_type": "stream",
     "text": [
      "i 27 j 39 nb_backup 3526\n"
     ]
    },
    {
     "name": "stdout",
     "output_type": "stream",
     "text": [
      "i 28 j 15 nb_backup 3542\n"
     ]
    },
    {
     "name": "stdout",
     "output_type": "stream",
     "text": [
      "i 29 j 38 nb_backup 3581\n"
     ]
    },
    {
     "name": "stdout",
     "output_type": "stream",
     "text": [
      "i 30 j 17 nb_backup 3599\n"
     ]
    },
    {
     "name": "stdout",
     "output_type": "stream",
     "text": [
      "i 31 j 29 nb_backup 3629\n"
     ]
    },
    {
     "name": "stdout",
     "output_type": "stream",
     "text": [
      "i 32 j 48 nb_backup 3678\n"
     ]
    },
    {
     "name": "stdout",
     "output_type": "stream",
     "text": [
      "i 33 j 52 nb_backup 3731\n"
     ]
    },
    {
     "name": "stdout",
     "output_type": "stream",
     "text": [
      "i 34 j 27 nb_backup 3759\n"
     ]
    },
    {
     "name": "stdout",
     "output_type": "stream",
     "text": [
      "i 35 j 44 nb_backup 3804\n"
     ]
    },
    {
     "name": "stdout",
     "output_type": "stream",
     "text": [
      "i 36 j 22 nb_backup 3827\n"
     ]
    },
    {
     "name": "stdout",
     "output_type": "stream",
     "text": [
      "i 37 j 27 nb_backup 3855\n"
     ]
    },
    {
     "name": "stdout",
     "output_type": "stream",
     "text": [
      "i 38 j 17 nb_backup 3873\n"
     ]
    },
    {
     "name": "stdout",
     "output_type": "stream",
     "text": [
      "i 39 j 18 nb_backup 3892\n"
     ]
    },
    {
     "name": "stdout",
     "output_type": "stream",
     "text": [
      "i 40 j 19 nb_backup 3912\n"
     ]
    },
    {
     "name": "stdout",
     "output_type": "stream",
     "text": [
      "i 41 j 29 nb_backup 3942\n"
     ]
    },
    {
     "name": "stdout",
     "output_type": "stream",
     "text": [
      "i 42 j 15 nb_backup 3958\n"
     ]
    },
    {
     "name": "stdout",
     "output_type": "stream",
     "text": [
      "i 43 j 26 nb_backup 3985\n"
     ]
    },
    {
     "name": "stdout",
     "output_type": "stream",
     "text": [
      "i 44 j 32 nb_backup 4018\n"
     ]
    },
    {
     "name": "stdout",
     "output_type": "stream",
     "text": [
      "i 45 j 26 nb_backup 4045\n"
     ]
    },
    {
     "name": "stdout",
     "output_type": "stream",
     "text": [
      "i 46 j 19 nb_backup 4065\n"
     ]
    },
    {
     "name": "stdout",
     "output_type": "stream",
     "text": [
      "i 47 j 57 nb_backup 4123\n"
     ]
    },
    {
     "name": "stdout",
     "output_type": "stream",
     "text": [
      "i 48 j 29 nb_backup 4153\n"
     ]
    },
    {
     "name": "stdout",
     "output_type": "stream",
     "text": [
      "i 49 j 45 nb_backup 4199\n"
     ]
    },
    {
     "name": "stdout",
     "output_type": "stream",
     "text": [
      "i 50 j 26 nb_backup 4226\n"
     ]
    },
    {
     "name": "stdout",
     "output_type": "stream",
     "text": [
      "i 51 j 30 nb_backup 4257\n"
     ]
    },
    {
     "name": "stdout",
     "output_type": "stream",
     "text": [
      "i 52 j 26 nb_backup 4284\n"
     ]
    },
    {
     "name": "stdout",
     "output_type": "stream",
     "text": [
      "i 53 j 17 nb_backup 4302\n"
     ]
    },
    {
     "name": "stdout",
     "output_type": "stream",
     "text": [
      "i 54 j 34 nb_backup 4337\n"
     ]
    },
    {
     "name": "stdout",
     "output_type": "stream",
     "text": [
      "i 55 j 17 nb_backup 4355\n"
     ]
    },
    {
     "name": "stdout",
     "output_type": "stream",
     "text": [
      "i 56 j 24 nb_backup 4380\n"
     ]
    },
    {
     "name": "stdout",
     "output_type": "stream",
     "text": [
      "i 57 j 25 nb_backup 4406\n"
     ]
    },
    {
     "name": "stdout",
     "output_type": "stream",
     "text": [
      "i 58 j 30 nb_backup 4437\n"
     ]
    },
    {
     "name": "stdout",
     "output_type": "stream",
     "text": [
      "i 59 j 26 nb_backup 4464\n"
     ]
    },
    {
     "name": "stdout",
     "output_type": "stream",
     "text": [
      "i 60 j 39 nb_backup 4504\n"
     ]
    },
    {
     "name": "stdout",
     "output_type": "stream",
     "text": [
      "i 61 j 24 nb_backup 4529\n"
     ]
    },
    {
     "name": "stdout",
     "output_type": "stream",
     "text": [
      "i 62 j 38 nb_backup 4568\n"
     ]
    },
    {
     "name": "stdout",
     "output_type": "stream",
     "text": [
      "i 63 j 20 nb_backup 4589\n"
     ]
    },
    {
     "name": "stdout",
     "output_type": "stream",
     "text": [
      "i 64 j 18 nb_backup 4608\n"
     ]
    },
    {
     "name": "stdout",
     "output_type": "stream",
     "text": [
      "i 65 j 35 nb_backup 4644\n"
     ]
    },
    {
     "name": "stdout",
     "output_type": "stream",
     "text": [
      "i 66 j 31 nb_backup 4676\n"
     ]
    },
    {
     "name": "stdout",
     "output_type": "stream",
     "text": [
      "i 67 j 47 nb_backup 4724\n"
     ]
    },
    {
     "name": "stdout",
     "output_type": "stream",
     "text": [
      "i 68 j 21 nb_backup 4746\n"
     ]
    },
    {
     "name": "stdout",
     "output_type": "stream",
     "text": [
      "i 69 j 27 nb_backup 4774\n"
     ]
    },
    {
     "name": "stdout",
     "output_type": "stream",
     "text": [
      "i 70 j 23 nb_backup 4798\n"
     ]
    },
    {
     "name": "stdout",
     "output_type": "stream",
     "text": [
      "i 71 j 32 nb_backup 4831\n"
     ]
    },
    {
     "name": "stdout",
     "output_type": "stream",
     "text": [
      "i 72 j 22 nb_backup 4854\n"
     ]
    },
    {
     "name": "stdout",
     "output_type": "stream",
     "text": [
      "i 73 j 47 nb_backup 4902\n"
     ]
    },
    {
     "name": "stdout",
     "output_type": "stream",
     "text": [
      "i 74 j 13 nb_backup 4916\n"
     ]
    },
    {
     "name": "stdout",
     "output_type": "stream",
     "text": [
      "i 75 j 32 nb_backup 4949\n"
     ]
    },
    {
     "name": "stdout",
     "output_type": "stream",
     "text": [
      "i 76 j 20 nb_backup 4970\n"
     ]
    },
    {
     "name": "stdout",
     "output_type": "stream",
     "text": [
      "i 77 j 21 nb_backup 4992\n"
     ]
    },
    {
     "name": "stdout",
     "output_type": "stream",
     "text": [
      "i 78 j 30 nb_backup 5023\n"
     ]
    },
    {
     "name": "stdout",
     "output_type": "stream",
     "text": [
      "i 79 j 42 nb_backup 5066\n"
     ]
    },
    {
     "name": "stdout",
     "output_type": "stream",
     "text": [
      "i 80 j 28 nb_backup 5095\n"
     ]
    },
    {
     "name": "stdout",
     "output_type": "stream",
     "text": [
      "i 81 j 38 nb_backup 5134\n"
     ]
    },
    {
     "name": "stdout",
     "output_type": "stream",
     "text": [
      "i 82 j 16 nb_backup 5151\n"
     ]
    },
    {
     "name": "stdout",
     "output_type": "stream",
     "text": [
      "i 83 j 48 nb_backup 5200\n"
     ]
    },
    {
     "name": "stdout",
     "output_type": "stream",
     "text": [
      "i 84 j 23 nb_backup 5224\n"
     ]
    },
    {
     "name": "stdout",
     "output_type": "stream",
     "text": [
      "i 85 j 35 nb_backup 5260\n"
     ]
    },
    {
     "name": "stdout",
     "output_type": "stream",
     "text": [
      "i 86 j 24 nb_backup 5285\n"
     ]
    },
    {
     "name": "stdout",
     "output_type": "stream",
     "text": [
      "i 87 j 27 nb_backup 5313\n"
     ]
    },
    {
     "name": "stdout",
     "output_type": "stream",
     "text": [
      "i 88 j 55 nb_backup 5369\n"
     ]
    },
    {
     "name": "stdout",
     "output_type": "stream",
     "text": [
      "i 89 j 35 nb_backup 5405\n"
     ]
    },
    {
     "name": "stdout",
     "output_type": "stream",
     "text": [
      "i 90 j 20 nb_backup 5426\n"
     ]
    },
    {
     "name": "stdout",
     "output_type": "stream",
     "text": [
      "i 91 j 22 nb_backup 5449\n"
     ]
    },
    {
     "name": "stdout",
     "output_type": "stream",
     "text": [
      "i 92 j 35 nb_backup 5485\n"
     ]
    },
    {
     "name": "stdout",
     "output_type": "stream",
     "text": [
      "i 93 j 16 nb_backup 5502\n"
     ]
    },
    {
     "name": "stdout",
     "output_type": "stream",
     "text": [
      "i 94 j 18 nb_backup 5521\n"
     ]
    },
    {
     "name": "stdout",
     "output_type": "stream",
     "text": [
      "i 95 j 35 nb_backup 5557\n"
     ]
    },
    {
     "name": "stdout",
     "output_type": "stream",
     "text": [
      "i 96 j 40 nb_backup 5598\n"
     ]
    },
    {
     "name": "stdout",
     "output_type": "stream",
     "text": [
      "i 97 j 37 nb_backup 5636\n"
     ]
    },
    {
     "name": "stdout",
     "output_type": "stream",
     "text": [
      "i 98 j 30 nb_backup 5667\n"
     ]
    },
    {
     "name": "stdout",
     "output_type": "stream",
     "text": [
      "i 99 j 25 nb_backup 5693\n"
     ]
    },
    {
     "name": "stdout",
     "output_type": "stream",
     "text": [
      "i 100 j 24 nb_backup 5718\n"
     ]
    },
    {
     "name": "stdout",
     "output_type": "stream",
     "text": [
      "i 101 j 34 nb_backup 5753\n"
     ]
    },
    {
     "name": "stdout",
     "output_type": "stream",
     "text": [
      "i 102 j 37 nb_backup 5791\n"
     ]
    },
    {
     "name": "stdout",
     "output_type": "stream",
     "text": [
      "i 103 j 21 nb_backup 5813\n"
     ]
    },
    {
     "name": "stdout",
     "output_type": "stream",
     "text": [
      "i 104 j 39 nb_backup 5853\n"
     ]
    },
    {
     "name": "stdout",
     "output_type": "stream",
     "text": [
      "i 105 j 22 nb_backup 5876\n"
     ]
    },
    {
     "name": "stdout",
     "output_type": "stream",
     "text": [
      "i 106 j 25 nb_backup 5902\n"
     ]
    },
    {
     "name": "stdout",
     "output_type": "stream",
     "text": [
      "i 107 j 27 nb_backup 5930\n"
     ]
    },
    {
     "name": "stdout",
     "output_type": "stream",
     "text": [
      "i 108 j 29 nb_backup 5960\n"
     ]
    },
    {
     "name": "stdout",
     "output_type": "stream",
     "text": [
      "i 109 j 38 nb_backup 5999\n"
     ]
    },
    {
     "name": "stdout",
     "output_type": "stream",
     "text": [
      "i 110 j 23 nb_backup 6023\n"
     ]
    },
    {
     "name": "stdout",
     "output_type": "stream",
     "text": [
      "i 111 j 24 nb_backup 6048\n"
     ]
    },
    {
     "name": "stdout",
     "output_type": "stream",
     "text": [
      "i 112 j 27 nb_backup 6076\n"
     ]
    },
    {
     "name": "stdout",
     "output_type": "stream",
     "text": [
      "i 113 j 27 nb_backup 6104\n"
     ]
    },
    {
     "name": "stdout",
     "output_type": "stream",
     "text": [
      "i 114 j 23 nb_backup 6128\n"
     ]
    },
    {
     "name": "stdout",
     "output_type": "stream",
     "text": [
      "i 115 j 24 nb_backup 6153\n"
     ]
    },
    {
     "name": "stdout",
     "output_type": "stream",
     "text": [
      "i 116 j 42 nb_backup 6196\n"
     ]
    },
    {
     "name": "stdout",
     "output_type": "stream",
     "text": [
      "i 117 j 38 nb_backup 6235\n"
     ]
    },
    {
     "name": "stdout",
     "output_type": "stream",
     "text": [
      "i 118 j 22 nb_backup 6258\n"
     ]
    },
    {
     "name": "stdout",
     "output_type": "stream",
     "text": [
      "i 119 j 33 nb_backup 6292\n"
     ]
    },
    {
     "name": "stdout",
     "output_type": "stream",
     "text": [
      "i 120 j 18 nb_backup 6311\n"
     ]
    },
    {
     "name": "stdout",
     "output_type": "stream",
     "text": [
      "i 121 j 15 nb_backup 6327\n"
     ]
    },
    {
     "name": "stdout",
     "output_type": "stream",
     "text": [
      "i 122 j 26 nb_backup 6354\n"
     ]
    },
    {
     "name": "stdout",
     "output_type": "stream",
     "text": [
      "i 123 j 16 nb_backup 6371\n"
     ]
    },
    {
     "name": "stdout",
     "output_type": "stream",
     "text": [
      "i 124 j 25 nb_backup 6397\n"
     ]
    },
    {
     "name": "stdout",
     "output_type": "stream",
     "text": [
      "i 125 j 41 nb_backup 6439\n"
     ]
    },
    {
     "name": "stdout",
     "output_type": "stream",
     "text": [
      "i 126 j 34 nb_backup 6474\n"
     ]
    },
    {
     "name": "stdout",
     "output_type": "stream",
     "text": [
      "i 127 j 27 nb_backup 6502\n"
     ]
    },
    {
     "name": "stdout",
     "output_type": "stream",
     "text": [
      "i 128 j 31 nb_backup 6534\n"
     ]
    },
    {
     "name": "stdout",
     "output_type": "stream",
     "text": [
      "i 129 j 22 nb_backup 6557\n"
     ]
    },
    {
     "name": "stdout",
     "output_type": "stream",
     "text": [
      "i 130 j 18 nb_backup 6576\n"
     ]
    },
    {
     "name": "stdout",
     "output_type": "stream",
     "text": [
      "i 131 j 30 nb_backup 6607\n"
     ]
    },
    {
     "name": "stdout",
     "output_type": "stream",
     "text": [
      "i 132 j 47 nb_backup 6655\n"
     ]
    },
    {
     "name": "stdout",
     "output_type": "stream",
     "text": [
      "i 133 j 27 nb_backup 6683\n"
     ]
    },
    {
     "name": "stdout",
     "output_type": "stream",
     "text": [
      "i 134 j 21 nb_backup 6705\n"
     ]
    },
    {
     "name": "stdout",
     "output_type": "stream",
     "text": [
      "i 135 j 19 nb_backup 6725\n"
     ]
    },
    {
     "name": "stdout",
     "output_type": "stream",
     "text": [
      "i 136 j 33 nb_backup 6759\n"
     ]
    },
    {
     "name": "stdout",
     "output_type": "stream",
     "text": [
      "i 137 j 25 nb_backup 6785\n"
     ]
    },
    {
     "name": "stdout",
     "output_type": "stream",
     "text": [
      "i 138 j 20 nb_backup 6806\n"
     ]
    },
    {
     "name": "stdout",
     "output_type": "stream",
     "text": [
      "i 139 j 16 nb_backup 6823\n"
     ]
    },
    {
     "name": "stdout",
     "output_type": "stream",
     "text": [
      "i 140 j 40 nb_backup 6864\n"
     ]
    },
    {
     "name": "stdout",
     "output_type": "stream",
     "text": [
      "i 141 j 23 nb_backup 6888\n"
     ]
    },
    {
     "name": "stdout",
     "output_type": "stream",
     "text": [
      "i 142 j 40 nb_backup 6929\n"
     ]
    },
    {
     "name": "stdout",
     "output_type": "stream",
     "text": [
      "i 143 j 25 nb_backup 6955\n"
     ]
    },
    {
     "name": "stdout",
     "output_type": "stream",
     "text": [
      "i 144 j 40 nb_backup 6996\n"
     ]
    },
    {
     "name": "stdout",
     "output_type": "stream",
     "text": [
      "i 145 j 31 nb_backup 7028\n"
     ]
    },
    {
     "name": "stdout",
     "output_type": "stream",
     "text": [
      "i 146 j 24 nb_backup 7053\n"
     ]
    },
    {
     "name": "stdout",
     "output_type": "stream",
     "text": [
      "i 147 j 25 nb_backup 7079\n"
     ]
    },
    {
     "name": "stdout",
     "output_type": "stream",
     "text": [
      "i 148 j 27 nb_backup 7107\n"
     ]
    },
    {
     "name": "stdout",
     "output_type": "stream",
     "text": [
      "i 149 j 33 nb_backup 7141\n"
     ]
    },
    {
     "name": "stdout",
     "output_type": "stream",
     "text": [
      "i 150 j 29 nb_backup 7171\n"
     ]
    },
    {
     "name": "stdout",
     "output_type": "stream",
     "text": [
      "i 151 j 24 nb_backup 7196\n"
     ]
    },
    {
     "name": "stdout",
     "output_type": "stream",
     "text": [
      "i 152 j 30 nb_backup 7227\n"
     ]
    },
    {
     "name": "stdout",
     "output_type": "stream",
     "text": [
      "i 153 j 32 nb_backup 7260\n"
     ]
    },
    {
     "name": "stdout",
     "output_type": "stream",
     "text": [
      "i 154 j 22 nb_backup 7283\n"
     ]
    },
    {
     "name": "stdout",
     "output_type": "stream",
     "text": [
      "i 155 j 34 nb_backup 7318\n"
     ]
    },
    {
     "name": "stdout",
     "output_type": "stream",
     "text": [
      "i 156 j 19 nb_backup 7338\n"
     ]
    },
    {
     "name": "stdout",
     "output_type": "stream",
     "text": [
      "i 157 j 27 nb_backup 7366\n"
     ]
    },
    {
     "name": "stdout",
     "output_type": "stream",
     "text": [
      "i 158 j 24 nb_backup 7391\n"
     ]
    },
    {
     "name": "stdout",
     "output_type": "stream",
     "text": [
      "i 159 j 28 nb_backup 7420\n"
     ]
    },
    {
     "name": "stdout",
     "output_type": "stream",
     "text": [
      "i 160 j 22 nb_backup 7443\n"
     ]
    },
    {
     "name": "stdout",
     "output_type": "stream",
     "text": [
      "i 161 j 24 nb_backup 7468\n"
     ]
    },
    {
     "name": "stdout",
     "output_type": "stream",
     "text": [
      "i 162 j 36 nb_backup 7505\n"
     ]
    },
    {
     "name": "stdout",
     "output_type": "stream",
     "text": [
      "i 163 j 26 nb_backup 7532\n"
     ]
    },
    {
     "name": "stdout",
     "output_type": "stream",
     "text": [
      "i 164 j 23 nb_backup 7556\n"
     ]
    },
    {
     "name": "stdout",
     "output_type": "stream",
     "text": [
      "i 165 j 43 nb_backup 7600\n"
     ]
    },
    {
     "name": "stdout",
     "output_type": "stream",
     "text": [
      "i 166 j 16 nb_backup 7617\n"
     ]
    },
    {
     "name": "stdout",
     "output_type": "stream",
     "text": [
      "i 167 j 22 nb_backup 7640\n"
     ]
    },
    {
     "name": "stdout",
     "output_type": "stream",
     "text": [
      "i 168 j 21 nb_backup 7662\n"
     ]
    },
    {
     "name": "stdout",
     "output_type": "stream",
     "text": [
      "i 169 j 14 nb_backup 7677\n"
     ]
    },
    {
     "name": "stdout",
     "output_type": "stream",
     "text": [
      "i 170 j 23 nb_backup 7701\n"
     ]
    },
    {
     "name": "stdout",
     "output_type": "stream",
     "text": [
      "i 171 j 21 nb_backup 7723\n"
     ]
    },
    {
     "name": "stdout",
     "output_type": "stream",
     "text": [
      "i 172 j 28 nb_backup 7752\n"
     ]
    },
    {
     "name": "stdout",
     "output_type": "stream",
     "text": [
      "i 173 j 36 nb_backup 7789\n"
     ]
    },
    {
     "name": "stdout",
     "output_type": "stream",
     "text": [
      "i 174 j 35 nb_backup 7825\n"
     ]
    },
    {
     "name": "stdout",
     "output_type": "stream",
     "text": [
      "i 175 j 18 nb_backup 7844\n"
     ]
    },
    {
     "name": "stdout",
     "output_type": "stream",
     "text": [
      "i 176 j 27 nb_backup 7872\n"
     ]
    },
    {
     "name": "stdout",
     "output_type": "stream",
     "text": [
      "i 177 j 24 nb_backup 7897\n"
     ]
    },
    {
     "name": "stdout",
     "output_type": "stream",
     "text": [
      "i 178 j 40 nb_backup 7938\n"
     ]
    },
    {
     "name": "stdout",
     "output_type": "stream",
     "text": [
      "i 179 j 24 nb_backup 7963\n"
     ]
    },
    {
     "name": "stdout",
     "output_type": "stream",
     "text": [
      "i 180 j 16 nb_backup 7980\n"
     ]
    },
    {
     "name": "stdout",
     "output_type": "stream",
     "text": [
      "i 181 j 13 nb_backup 7994\n"
     ]
    },
    {
     "name": "stdout",
     "output_type": "stream",
     "text": [
      "i 182 j 21 nb_backup 8016\n"
     ]
    },
    {
     "name": "stdout",
     "output_type": "stream",
     "text": [
      "i 183 j 20 nb_backup 8037\n"
     ]
    },
    {
     "name": "stdout",
     "output_type": "stream",
     "text": [
      "i 184 j 37 nb_backup 8075\n"
     ]
    },
    {
     "name": "stdout",
     "output_type": "stream",
     "text": [
      "i 185 j 31 nb_backup 8107\n"
     ]
    },
    {
     "name": "stdout",
     "output_type": "stream",
     "text": [
      "i 186 j 21 nb_backup 8129\n"
     ]
    },
    {
     "name": "stdout",
     "output_type": "stream",
     "text": [
      "i 187 j 24 nb_backup 8154\n"
     ]
    },
    {
     "name": "stdout",
     "output_type": "stream",
     "text": [
      "i 188 j 18 nb_backup 8173\n"
     ]
    },
    {
     "name": "stdout",
     "output_type": "stream",
     "text": [
      "i 189 j 26 nb_backup 8200\n"
     ]
    },
    {
     "name": "stdout",
     "output_type": "stream",
     "text": [
      "i 190 j 35 nb_backup 8236\n"
     ]
    },
    {
     "name": "stdout",
     "output_type": "stream",
     "text": [
      "i 191 j 28 nb_backup 8265\n"
     ]
    },
    {
     "name": "stdout",
     "output_type": "stream",
     "text": [
      "i 192 j 18 nb_backup 8284\n"
     ]
    },
    {
     "name": "stdout",
     "output_type": "stream",
     "text": [
      "i 193 j 38 nb_backup 8323\n"
     ]
    },
    {
     "name": "stdout",
     "output_type": "stream",
     "text": [
      "i 194 j 20 nb_backup 8344\n"
     ]
    },
    {
     "name": "stdout",
     "output_type": "stream",
     "text": [
      "i 195 j 24 nb_backup 8369\n"
     ]
    },
    {
     "name": "stdout",
     "output_type": "stream",
     "text": [
      "i 196 j 22 nb_backup 8392\n"
     ]
    },
    {
     "name": "stdout",
     "output_type": "stream",
     "text": [
      "i 197 j 32 nb_backup 8425\n"
     ]
    },
    {
     "name": "stdout",
     "output_type": "stream",
     "text": [
      "i 198 j 18 nb_backup 8444\n"
     ]
    },
    {
     "name": "stdout",
     "output_type": "stream",
     "text": [
      "i 199 j 29 nb_backup 8474\n"
     ]
    },
    {
     "name": "stdout",
     "output_type": "stream",
     "text": [
      "i 200 j 25 nb_backup 8500\n"
     ]
    },
    {
     "name": "stdout",
     "output_type": "stream",
     "text": [
      "i 201 j 59 nb_backup 8560\n"
     ]
    },
    {
     "name": "stdout",
     "output_type": "stream",
     "text": [
      "i 202 j 23 nb_backup 8584\n"
     ]
    },
    {
     "name": "stdout",
     "output_type": "stream",
     "text": [
      "i 203 j 26 nb_backup 8611\n"
     ]
    },
    {
     "name": "stdout",
     "output_type": "stream",
     "text": [
      "i 204 j 57 nb_backup 8669\n"
     ]
    },
    {
     "name": "stdout",
     "output_type": "stream",
     "text": [
      "i 205 j 29 nb_backup 8699\n"
     ]
    },
    {
     "name": "stdout",
     "output_type": "stream",
     "text": [
      "i 206 j 40 nb_backup 8740\n"
     ]
    },
    {
     "name": "stdout",
     "output_type": "stream",
     "text": [
      "i 207 j 26 nb_backup 8767\n"
     ]
    },
    {
     "name": "stdout",
     "output_type": "stream",
     "text": [
      "i 208 j 22 nb_backup 8790\n"
     ]
    },
    {
     "name": "stdout",
     "output_type": "stream",
     "text": [
      "i 209 j 31 nb_backup 8822\n"
     ]
    },
    {
     "name": "stdout",
     "output_type": "stream",
     "text": [
      "i 210 j 30 nb_backup 8853\n"
     ]
    },
    {
     "name": "stdout",
     "output_type": "stream",
     "text": [
      "i 211 j 34 nb_backup 8888\n"
     ]
    },
    {
     "name": "stdout",
     "output_type": "stream",
     "text": [
      "i 212 j 30 nb_backup 8919\n"
     ]
    },
    {
     "name": "stdout",
     "output_type": "stream",
     "text": [
      "i 213 j 23 nb_backup 8943\n"
     ]
    },
    {
     "name": "stdout",
     "output_type": "stream",
     "text": [
      "i 214 j 34 nb_backup 8978\n"
     ]
    },
    {
     "name": "stdout",
     "output_type": "stream",
     "text": [
      "i 215 j 41 nb_backup 9020\n"
     ]
    },
    {
     "name": "stdout",
     "output_type": "stream",
     "text": [
      "i 216 j 30 nb_backup 9051\n"
     ]
    },
    {
     "name": "stdout",
     "output_type": "stream",
     "text": [
      "i 217 j 24 nb_backup 9076\n"
     ]
    },
    {
     "name": "stdout",
     "output_type": "stream",
     "text": [
      "i 218 j 17 nb_backup 9094\n"
     ]
    },
    {
     "name": "stdout",
     "output_type": "stream",
     "text": [
      "i 219 j 22 nb_backup 9117\n"
     ]
    },
    {
     "name": "stdout",
     "output_type": "stream",
     "text": [
      "i 220 j 26 nb_backup 9144\n"
     ]
    },
    {
     "name": "stdout",
     "output_type": "stream",
     "text": [
      "i 221 j 19 nb_backup 9164\n"
     ]
    },
    {
     "name": "stdout",
     "output_type": "stream",
     "text": [
      "i 222 j 26 nb_backup 9191\n"
     ]
    },
    {
     "name": "stdout",
     "output_type": "stream",
     "text": [
      "i 223 j 34 nb_backup 9226\n"
     ]
    },
    {
     "name": "stdout",
     "output_type": "stream",
     "text": [
      "i 224 j 25 nb_backup 9252\n"
     ]
    },
    {
     "name": "stdout",
     "output_type": "stream",
     "text": [
      "i 225 j 22 nb_backup 9275\n"
     ]
    },
    {
     "name": "stdout",
     "output_type": "stream",
     "text": [
      "i 226 j 24 nb_backup 9300\n"
     ]
    },
    {
     "name": "stdout",
     "output_type": "stream",
     "text": [
      "i 227 j 24 nb_backup 9325\n"
     ]
    },
    {
     "name": "stdout",
     "output_type": "stream",
     "text": [
      "i 228 j 23 nb_backup 9349\n"
     ]
    },
    {
     "name": "stdout",
     "output_type": "stream",
     "text": [
      "i 229 j 15 nb_backup 9365\n"
     ]
    },
    {
     "name": "stdout",
     "output_type": "stream",
     "text": [
      "i 230 j 17 nb_backup 9383\n"
     ]
    },
    {
     "name": "stdout",
     "output_type": "stream",
     "text": [
      "i 231 j 19 nb_backup 9403\n"
     ]
    },
    {
     "name": "stdout",
     "output_type": "stream",
     "text": [
      "i 232 j 34 nb_backup 9438\n"
     ]
    },
    {
     "name": "stdout",
     "output_type": "stream",
     "text": [
      "i 233 j 18 nb_backup 9457\n"
     ]
    },
    {
     "name": "stdout",
     "output_type": "stream",
     "text": [
      "i 234 j 37 nb_backup 9495\n"
     ]
    },
    {
     "name": "stdout",
     "output_type": "stream",
     "text": [
      "i 235 j 28 nb_backup 9524\n"
     ]
    },
    {
     "name": "stdout",
     "output_type": "stream",
     "text": [
      "i 236 j 23 nb_backup 9548\n"
     ]
    },
    {
     "name": "stdout",
     "output_type": "stream",
     "text": [
      "i 237 j 21 nb_backup 9570\n"
     ]
    },
    {
     "name": "stdout",
     "output_type": "stream",
     "text": [
      "i 238 j 36 nb_backup 9607\n"
     ]
    },
    {
     "name": "stdout",
     "output_type": "stream",
     "text": [
      "i 239 j 26 nb_backup 9634\n"
     ]
    },
    {
     "name": "stdout",
     "output_type": "stream",
     "text": [
      "i 240 j 29 nb_backup 9664\n"
     ]
    },
    {
     "name": "stdout",
     "output_type": "stream",
     "text": [
      "i 241 j 32 nb_backup 9697\n"
     ]
    },
    {
     "name": "stdout",
     "output_type": "stream",
     "text": [
      "i 242 j 23 nb_backup 9721\n"
     ]
    },
    {
     "name": "stdout",
     "output_type": "stream",
     "text": [
      "i 243 j 30 nb_backup 9752\n"
     ]
    },
    {
     "name": "stdout",
     "output_type": "stream",
     "text": [
      "i 244 j 24 nb_backup 9777\n"
     ]
    },
    {
     "name": "stdout",
     "output_type": "stream",
     "text": [
      "i 245 j 32 nb_backup 9810\n"
     ]
    },
    {
     "name": "stdout",
     "output_type": "stream",
     "text": [
      "i 246 j 20 nb_backup 9831\n"
     ]
    },
    {
     "name": "stdout",
     "output_type": "stream",
     "text": [
      "i 247 j 21 nb_backup 9853\n"
     ]
    },
    {
     "name": "stdout",
     "output_type": "stream",
     "text": [
      "i 248 j 27 nb_backup 9881\n"
     ]
    },
    {
     "name": "stdout",
     "output_type": "stream",
     "text": [
      "i 249 j 29 nb_backup 9911\n"
     ]
    },
    {
     "name": "stdout",
     "output_type": "stream",
     "text": [
      "i 250 j 37 nb_backup 9949\n"
     ]
    },
    {
     "name": "stdout",
     "output_type": "stream",
     "text": [
      "i 251 j 29 nb_backup 9979\n"
     ]
    },
    {
     "name": "stdout",
     "output_type": "stream",
     "text": [
      "i 252 j 36 nb_backup 10016\n"
     ]
    },
    {
     "name": "stdout",
     "output_type": "stream",
     "text": [
      "i 253 j 26 nb_backup 10043\n"
     ]
    },
    {
     "name": "stdout",
     "output_type": "stream",
     "text": [
      "i 254 j 41 nb_backup 10085\n"
     ]
    },
    {
     "name": "stdout",
     "output_type": "stream",
     "text": [
      "i 255 j 26 nb_backup 10112\n"
     ]
    },
    {
     "name": "stdout",
     "output_type": "stream",
     "text": [
      "i 256 j 40 nb_backup 10153\n"
     ]
    },
    {
     "name": "stdout",
     "output_type": "stream",
     "text": [
      "i 257 j 19 nb_backup 10173\n"
     ]
    },
    {
     "name": "stdout",
     "output_type": "stream",
     "text": [
      "i 258 j 21 nb_backup 10195\n"
     ]
    },
    {
     "name": "stdout",
     "output_type": "stream",
     "text": [
      "i 259 j 29 nb_backup 10225\n"
     ]
    },
    {
     "name": "stdout",
     "output_type": "stream",
     "text": [
      "i 260 j 40 nb_backup 10266\n"
     ]
    },
    {
     "name": "stdout",
     "output_type": "stream",
     "text": [
      "i 261 j 25 nb_backup 10292\n"
     ]
    },
    {
     "name": "stdout",
     "output_type": "stream",
     "text": [
      "i 262 j 16 nb_backup 10309\n"
     ]
    },
    {
     "name": "stdout",
     "output_type": "stream",
     "text": [
      "i 263 j 31 nb_backup 10341\n"
     ]
    },
    {
     "name": "stdout",
     "output_type": "stream",
     "text": [
      "i 264 j 32 nb_backup 10374\n"
     ]
    },
    {
     "name": "stdout",
     "output_type": "stream",
     "text": [
      "i 265 j 23 nb_backup 10398\n"
     ]
    },
    {
     "name": "stdout",
     "output_type": "stream",
     "text": [
      "i 266 j 25 nb_backup 10424\n"
     ]
    },
    {
     "name": "stdout",
     "output_type": "stream",
     "text": [
      "i 267 j 31 nb_backup 10456\n"
     ]
    },
    {
     "name": "stdout",
     "output_type": "stream",
     "text": [
      "i 268 j 19 nb_backup 10476\n"
     ]
    },
    {
     "name": "stdout",
     "output_type": "stream",
     "text": [
      "i 269 j 33 nb_backup 10510\n"
     ]
    },
    {
     "name": "stdout",
     "output_type": "stream",
     "text": [
      "i 270 j 23 nb_backup 10534\n"
     ]
    },
    {
     "name": "stdout",
     "output_type": "stream",
     "text": [
      "i 271 j 35 nb_backup 10570\n"
     ]
    },
    {
     "name": "stdout",
     "output_type": "stream",
     "text": [
      "i 272 j 15 nb_backup 10586\n"
     ]
    },
    {
     "name": "stdout",
     "output_type": "stream",
     "text": [
      "i 273 j 24 nb_backup 10611\n"
     ]
    },
    {
     "name": "stdout",
     "output_type": "stream",
     "text": [
      "i 274 j 44 nb_backup 10656\n"
     ]
    },
    {
     "name": "stdout",
     "output_type": "stream",
     "text": [
      "i 275 j 37 nb_backup 10694\n"
     ]
    },
    {
     "name": "stdout",
     "output_type": "stream",
     "text": [
      "i 276 j 39 nb_backup 10734\n"
     ]
    },
    {
     "name": "stdout",
     "output_type": "stream",
     "text": [
      "i 277 j 25 nb_backup 10760\n"
     ]
    },
    {
     "name": "stdout",
     "output_type": "stream",
     "text": [
      "i 278 j 24 nb_backup 10785\n"
     ]
    },
    {
     "name": "stdout",
     "output_type": "stream",
     "text": [
      "i 279 j 33 nb_backup 10819\n"
     ]
    },
    {
     "name": "stdout",
     "output_type": "stream",
     "text": [
      "i 280 j 22 nb_backup 10842\n"
     ]
    },
    {
     "name": "stdout",
     "output_type": "stream",
     "text": [
      "i 281 j 20 nb_backup 10863\n"
     ]
    },
    {
     "name": "stdout",
     "output_type": "stream",
     "text": [
      "i 282 j 24 nb_backup 10888\n"
     ]
    },
    {
     "name": "stdout",
     "output_type": "stream",
     "text": [
      "i 283 j 31 nb_backup 10920\n"
     ]
    },
    {
     "name": "stdout",
     "output_type": "stream",
     "text": [
      "i 284 j 22 nb_backup 10943\n"
     ]
    },
    {
     "name": "stdout",
     "output_type": "stream",
     "text": [
      "i 285 j 39 nb_backup 10983\n"
     ]
    },
    {
     "name": "stdout",
     "output_type": "stream",
     "text": [
      "i 286 j 24 nb_backup 11008\n"
     ]
    },
    {
     "name": "stdout",
     "output_type": "stream",
     "text": [
      "i 287 j 45 nb_backup 11054\n"
     ]
    },
    {
     "name": "stdout",
     "output_type": "stream",
     "text": [
      "i 288 j 42 nb_backup 11097\n"
     ]
    },
    {
     "name": "stdout",
     "output_type": "stream",
     "text": [
      "i 289 j 42 nb_backup 11140\n"
     ]
    },
    {
     "name": "stdout",
     "output_type": "stream",
     "text": [
      "i 290 j 21 nb_backup 11162\n"
     ]
    },
    {
     "name": "stdout",
     "output_type": "stream",
     "text": [
      "i 291 j 23 nb_backup 11186\n"
     ]
    },
    {
     "name": "stdout",
     "output_type": "stream",
     "text": [
      "i 292 j 21 nb_backup 11208\n"
     ]
    },
    {
     "name": "stdout",
     "output_type": "stream",
     "text": [
      "i 293 j 14 nb_backup 11223\n"
     ]
    },
    {
     "name": "stdout",
     "output_type": "stream",
     "text": [
      "i 294 j 16 nb_backup 11240\n"
     ]
    },
    {
     "name": "stdout",
     "output_type": "stream",
     "text": [
      "i 295 j 23 nb_backup 11264\n"
     ]
    },
    {
     "name": "stdout",
     "output_type": "stream",
     "text": [
      "i 296 j 36 nb_backup 11301\n"
     ]
    },
    {
     "name": "stdout",
     "output_type": "stream",
     "text": [
      "i 297 j 30 nb_backup 11332\n"
     ]
    },
    {
     "name": "stdout",
     "output_type": "stream",
     "text": [
      "i 298 j 21 nb_backup 11354\n"
     ]
    },
    {
     "name": "stdout",
     "output_type": "stream",
     "text": [
      "i 299 j 21 nb_backup 11376\n"
     ]
    },
    {
     "name": "stdout",
     "output_type": "stream",
     "text": [
      "i 300 j 40 nb_backup 11417\n"
     ]
    },
    {
     "name": "stdout",
     "output_type": "stream",
     "text": [
      "i 301 j 25 nb_backup 11443\n"
     ]
    },
    {
     "name": "stdout",
     "output_type": "stream",
     "text": [
      "i 302 j 52 nb_backup 11496\n"
     ]
    },
    {
     "name": "stdout",
     "output_type": "stream",
     "text": [
      "i 303 j 43 nb_backup 11540\n"
     ]
    },
    {
     "name": "stdout",
     "output_type": "stream",
     "text": [
      "i 304 j 17 nb_backup 11558\n"
     ]
    },
    {
     "name": "stdout",
     "output_type": "stream",
     "text": [
      "i 305 j 16 nb_backup 11575\n"
     ]
    },
    {
     "name": "stdout",
     "output_type": "stream",
     "text": [
      "i 306 j 19 nb_backup 11595\n"
     ]
    },
    {
     "name": "stdout",
     "output_type": "stream",
     "text": [
      "i 307 j 17 nb_backup 11613\n"
     ]
    },
    {
     "name": "stdout",
     "output_type": "stream",
     "text": [
      "i 308 j 17 nb_backup 11631\n"
     ]
    },
    {
     "name": "stdout",
     "output_type": "stream",
     "text": [
      "i 309 j 32 nb_backup 11664\n"
     ]
    },
    {
     "name": "stdout",
     "output_type": "stream",
     "text": [
      "i 310 j 22 nb_backup 11687\n"
     ]
    },
    {
     "name": "stdout",
     "output_type": "stream",
     "text": [
      "i 311 j 34 nb_backup 11722\n"
     ]
    },
    {
     "name": "stdout",
     "output_type": "stream",
     "text": [
      "i 312 j 27 nb_backup 11750\n"
     ]
    },
    {
     "name": "stdout",
     "output_type": "stream",
     "text": [
      "i 313 j 24 nb_backup 11775\n"
     ]
    },
    {
     "name": "stdout",
     "output_type": "stream",
     "text": [
      "i 314 j 21 nb_backup 11797\n"
     ]
    },
    {
     "name": "stdout",
     "output_type": "stream",
     "text": [
      "i 315 j 23 nb_backup 11821\n"
     ]
    },
    {
     "name": "stdout",
     "output_type": "stream",
     "text": [
      "i 316 j 33 nb_backup 11855\n"
     ]
    },
    {
     "name": "stdout",
     "output_type": "stream",
     "text": [
      "i 317 j 24 nb_backup 11880\n"
     ]
    },
    {
     "name": "stdout",
     "output_type": "stream",
     "text": [
      "i 318 j 30 nb_backup 11911\n"
     ]
    },
    {
     "name": "stdout",
     "output_type": "stream",
     "text": [
      "i 319 j 52 nb_backup 11964\n"
     ]
    },
    {
     "name": "stdout",
     "output_type": "stream",
     "text": [
      "i 320 j 32 nb_backup 11997\n"
     ]
    },
    {
     "name": "stdout",
     "output_type": "stream",
     "text": [
      "i 321 j 29 nb_backup 12027\n"
     ]
    },
    {
     "name": "stdout",
     "output_type": "stream",
     "text": [
      "i 322 j 21 nb_backup 12049\n"
     ]
    },
    {
     "name": "stdout",
     "output_type": "stream",
     "text": [
      "i 323 j 26 nb_backup 12076\n"
     ]
    },
    {
     "name": "stdout",
     "output_type": "stream",
     "text": [
      "i 324 j 15 nb_backup 12092\n"
     ]
    },
    {
     "name": "stdout",
     "output_type": "stream",
     "text": [
      "i 325 j 33 nb_backup 12126\n"
     ]
    },
    {
     "name": "stdout",
     "output_type": "stream",
     "text": [
      "i 326 j 21 nb_backup 12148\n"
     ]
    },
    {
     "name": "stdout",
     "output_type": "stream",
     "text": [
      "i 327 j 18 nb_backup 12167\n"
     ]
    },
    {
     "name": "stdout",
     "output_type": "stream",
     "text": [
      "i 328 j 31 nb_backup 12199\n"
     ]
    },
    {
     "name": "stdout",
     "output_type": "stream",
     "text": [
      "i 329 j 31 nb_backup 12231\n"
     ]
    },
    {
     "name": "stdout",
     "output_type": "stream",
     "text": [
      "i 330 j 21 nb_backup 12253\n"
     ]
    },
    {
     "name": "stdout",
     "output_type": "stream",
     "text": [
      "i 331 j 26 nb_backup 12280\n"
     ]
    },
    {
     "name": "stdout",
     "output_type": "stream",
     "text": [
      "i 332 j 15 nb_backup 12296\n"
     ]
    },
    {
     "name": "stdout",
     "output_type": "stream",
     "text": [
      "i 333 j 17 nb_backup 12314\n"
     ]
    },
    {
     "name": "stdout",
     "output_type": "stream",
     "text": [
      "i 334 j 16 nb_backup 12331\n"
     ]
    },
    {
     "name": "stdout",
     "output_type": "stream",
     "text": [
      "i 335 j 58 nb_backup 12390\n"
     ]
    },
    {
     "name": "stdout",
     "output_type": "stream",
     "text": [
      "i 336 j 20 nb_backup 12411\n"
     ]
    },
    {
     "name": "stdout",
     "output_type": "stream",
     "text": [
      "i 337 j 62 nb_backup 12474\n"
     ]
    },
    {
     "name": "stdout",
     "output_type": "stream",
     "text": [
      "i 338 j 21 nb_backup 12496\n"
     ]
    },
    {
     "name": "stdout",
     "output_type": "stream",
     "text": [
      "i 339 j 28 nb_backup 12525\n"
     ]
    },
    {
     "name": "stdout",
     "output_type": "stream",
     "text": [
      "i 340 j 44 nb_backup 12570\n"
     ]
    },
    {
     "name": "stdout",
     "output_type": "stream",
     "text": [
      "i 341 j 19 nb_backup 12590\n"
     ]
    },
    {
     "name": "stdout",
     "output_type": "stream",
     "text": [
      "i 342 j 46 nb_backup 12637\n"
     ]
    },
    {
     "name": "stdout",
     "output_type": "stream",
     "text": [
      "i 343 j 30 nb_backup 12668\n"
     ]
    },
    {
     "name": "stdout",
     "output_type": "stream",
     "text": [
      "i 344 j 26 nb_backup 12695\n"
     ]
    },
    {
     "name": "stdout",
     "output_type": "stream",
     "text": [
      "i 345 j 20 nb_backup 12716\n"
     ]
    },
    {
     "name": "stdout",
     "output_type": "stream",
     "text": [
      "i 346 j 43 nb_backup 12760\n"
     ]
    },
    {
     "name": "stdout",
     "output_type": "stream",
     "text": [
      "i 347 j 20 nb_backup 12781\n"
     ]
    },
    {
     "name": "stdout",
     "output_type": "stream",
     "text": [
      "i 348 j 28 nb_backup 12810\n"
     ]
    },
    {
     "name": "stdout",
     "output_type": "stream",
     "text": [
      "i 349 j 28 nb_backup 12839\n"
     ]
    },
    {
     "name": "stdout",
     "output_type": "stream",
     "text": [
      "i 350 j 20 nb_backup 12860\n"
     ]
    },
    {
     "name": "stdout",
     "output_type": "stream",
     "text": [
      "i 351 j 17 nb_backup 12878\n"
     ]
    },
    {
     "name": "stdout",
     "output_type": "stream",
     "text": [
      "i 352 j 34 nb_backup 12913\n"
     ]
    },
    {
     "name": "stdout",
     "output_type": "stream",
     "text": [
      "i 353 j 30 nb_backup 12944\n"
     ]
    },
    {
     "name": "stdout",
     "output_type": "stream",
     "text": [
      "i 354 j 22 nb_backup 12967\n"
     ]
    },
    {
     "name": "stdout",
     "output_type": "stream",
     "text": [
      "i 355 j 19 nb_backup 12987\n"
     ]
    },
    {
     "name": "stdout",
     "output_type": "stream",
     "text": [
      "i 356 j 20 nb_backup 13008\n"
     ]
    },
    {
     "name": "stdout",
     "output_type": "stream",
     "text": [
      "i 357 j 24 nb_backup 13033\n"
     ]
    },
    {
     "name": "stdout",
     "output_type": "stream",
     "text": [
      "i 358 j 18 nb_backup 13052\n"
     ]
    },
    {
     "name": "stdout",
     "output_type": "stream",
     "text": [
      "i 359 j 16 nb_backup 13069\n"
     ]
    },
    {
     "name": "stdout",
     "output_type": "stream",
     "text": [
      "i 360 j 28 nb_backup 13098\n"
     ]
    },
    {
     "name": "stdout",
     "output_type": "stream",
     "text": [
      "i 361 j 30 nb_backup 13129\n"
     ]
    },
    {
     "name": "stdout",
     "output_type": "stream",
     "text": [
      "i 362 j 19 nb_backup 13149\n"
     ]
    },
    {
     "name": "stdout",
     "output_type": "stream",
     "text": [
      "i 363 j 44 nb_backup 13194\n"
     ]
    },
    {
     "name": "stdout",
     "output_type": "stream",
     "text": [
      "i 364 j 25 nb_backup 13220\n"
     ]
    },
    {
     "name": "stdout",
     "output_type": "stream",
     "text": [
      "i 365 j 27 nb_backup 13248\n"
     ]
    },
    {
     "name": "stdout",
     "output_type": "stream",
     "text": [
      "i 366 j 40 nb_backup 13289\n"
     ]
    },
    {
     "name": "stdout",
     "output_type": "stream",
     "text": [
      "i 367 j 30 nb_backup 13320\n"
     ]
    },
    {
     "name": "stdout",
     "output_type": "stream",
     "text": [
      "i 368 j 29 nb_backup 13350\n"
     ]
    },
    {
     "name": "stdout",
     "output_type": "stream",
     "text": [
      "i 369 j 21 nb_backup 13372\n"
     ]
    },
    {
     "name": "stdout",
     "output_type": "stream",
     "text": [
      "i 370 j 23 nb_backup 13396\n"
     ]
    },
    {
     "name": "stdout",
     "output_type": "stream",
     "text": [
      "i 371 j 27 nb_backup 13424\n"
     ]
    },
    {
     "name": "stdout",
     "output_type": "stream",
     "text": [
      "i 372 j 30 nb_backup 13455\n"
     ]
    },
    {
     "name": "stdout",
     "output_type": "stream",
     "text": [
      "i 373 j 39 nb_backup 13495\n"
     ]
    },
    {
     "name": "stdout",
     "output_type": "stream",
     "text": [
      "i 374 j 18 nb_backup 13514\n"
     ]
    },
    {
     "name": "stdout",
     "output_type": "stream",
     "text": [
      "i 375 j 51 nb_backup 13566\n"
     ]
    },
    {
     "name": "stdout",
     "output_type": "stream",
     "text": [
      "i 376 j 14 nb_backup 13581\n"
     ]
    },
    {
     "name": "stdout",
     "output_type": "stream",
     "text": [
      "i 377 j 16 nb_backup 13598\n"
     ]
    },
    {
     "name": "stdout",
     "output_type": "stream",
     "text": [
      "i 378 j 21 nb_backup 13620\n"
     ]
    },
    {
     "name": "stdout",
     "output_type": "stream",
     "text": [
      "i 379 j 33 nb_backup 13654\n"
     ]
    },
    {
     "name": "stdout",
     "output_type": "stream",
     "text": [
      "i 380 j 23 nb_backup 13678\n"
     ]
    },
    {
     "name": "stdout",
     "output_type": "stream",
     "text": [
      "i 381 j 22 nb_backup 13701\n"
     ]
    },
    {
     "name": "stdout",
     "output_type": "stream",
     "text": [
      "i 382 j 23 nb_backup 13725\n"
     ]
    },
    {
     "name": "stdout",
     "output_type": "stream",
     "text": [
      "i 383 j 19 nb_backup 13745\n"
     ]
    },
    {
     "name": "stdout",
     "output_type": "stream",
     "text": [
      "i 384 j 15 nb_backup 13761\n"
     ]
    },
    {
     "name": "stdout",
     "output_type": "stream",
     "text": [
      "i 385 j 22 nb_backup 13784\n"
     ]
    },
    {
     "name": "stdout",
     "output_type": "stream",
     "text": [
      "i 386 j 23 nb_backup 13808\n"
     ]
    },
    {
     "name": "stdout",
     "output_type": "stream",
     "text": [
      "i 387 j 18 nb_backup 13827\n"
     ]
    },
    {
     "name": "stdout",
     "output_type": "stream",
     "text": [
      "i 388 j 23 nb_backup 13851\n"
     ]
    },
    {
     "name": "stdout",
     "output_type": "stream",
     "text": [
      "i 389 j 39 nb_backup 13891\n"
     ]
    },
    {
     "name": "stdout",
     "output_type": "stream",
     "text": [
      "i 390 j 20 nb_backup 13912\n"
     ]
    },
    {
     "name": "stdout",
     "output_type": "stream",
     "text": [
      "i 391 j 25 nb_backup 13938\n"
     ]
    },
    {
     "name": "stdout",
     "output_type": "stream",
     "text": [
      "i 392 j 20 nb_backup 13959\n"
     ]
    },
    {
     "name": "stdout",
     "output_type": "stream",
     "text": [
      "i 393 j 50 nb_backup 14010\n"
     ]
    },
    {
     "name": "stdout",
     "output_type": "stream",
     "text": [
      "i 394 j 26 nb_backup 14037\n"
     ]
    },
    {
     "name": "stdout",
     "output_type": "stream",
     "text": [
      "i 395 j 37 nb_backup 14075\n"
     ]
    },
    {
     "name": "stdout",
     "output_type": "stream",
     "text": [
      "i 396 j 25 nb_backup 14101\n"
     ]
    },
    {
     "name": "stdout",
     "output_type": "stream",
     "text": [
      "i 397 j 26 nb_backup 14128\n"
     ]
    },
    {
     "name": "stdout",
     "output_type": "stream",
     "text": [
      "i 398 j 24 nb_backup 14153\n"
     ]
    },
    {
     "name": "stdout",
     "output_type": "stream",
     "text": [
      "i 399 j 24 nb_backup 14178\n"
     ]
    },
    {
     "name": "stdout",
     "output_type": "stream",
     "text": [
      "i 400 j 32 nb_backup 14211\n"
     ]
    },
    {
     "name": "stdout",
     "output_type": "stream",
     "text": [
      "i 401 j 17 nb_backup 14229\n"
     ]
    },
    {
     "name": "stdout",
     "output_type": "stream",
     "text": [
      "i 402 j 34 nb_backup 14264\n"
     ]
    },
    {
     "name": "stdout",
     "output_type": "stream",
     "text": [
      "i 403 j 25 nb_backup 14290\n"
     ]
    },
    {
     "name": "stdout",
     "output_type": "stream",
     "text": [
      "i 404 j 23 nb_backup 14314\n"
     ]
    },
    {
     "name": "stdout",
     "output_type": "stream",
     "text": [
      "i 405 j 29 nb_backup 14344\n"
     ]
    },
    {
     "name": "stdout",
     "output_type": "stream",
     "text": [
      "i 406 j 17 nb_backup 14362\n"
     ]
    },
    {
     "name": "stdout",
     "output_type": "stream",
     "text": [
      "i 407 j 26 nb_backup 14389\n"
     ]
    },
    {
     "name": "stdout",
     "output_type": "stream",
     "text": [
      "i 408 j 20 nb_backup 14410\n"
     ]
    },
    {
     "name": "stdout",
     "output_type": "stream",
     "text": [
      "i 409 j 35 nb_backup 14446\n"
     ]
    },
    {
     "name": "stdout",
     "output_type": "stream",
     "text": [
      "i 410 j 29 nb_backup 14476\n"
     ]
    },
    {
     "name": "stdout",
     "output_type": "stream",
     "text": [
      "i 411 j 31 nb_backup 14508\n"
     ]
    },
    {
     "name": "stdout",
     "output_type": "stream",
     "text": [
      "i 412 j 42 nb_backup 14551\n"
     ]
    },
    {
     "name": "stdout",
     "output_type": "stream",
     "text": [
      "i 413 j 22 nb_backup 14574\n"
     ]
    },
    {
     "name": "stdout",
     "output_type": "stream",
     "text": [
      "i 414 j 33 nb_backup 14608\n"
     ]
    },
    {
     "name": "stdout",
     "output_type": "stream",
     "text": [
      "i 415 j 30 nb_backup 14639\n"
     ]
    },
    {
     "name": "stdout",
     "output_type": "stream",
     "text": [
      "i 416 j 18 nb_backup 14658\n"
     ]
    },
    {
     "name": "stdout",
     "output_type": "stream",
     "text": [
      "i 417 j 33 nb_backup 14692\n"
     ]
    },
    {
     "name": "stdout",
     "output_type": "stream",
     "text": [
      "i 418 j 21 nb_backup 14714\n"
     ]
    },
    {
     "name": "stdout",
     "output_type": "stream",
     "text": [
      "i 419 j 29 nb_backup 14744\n"
     ]
    },
    {
     "name": "stdout",
     "output_type": "stream",
     "text": [
      "i 420 j 33 nb_backup 14778\n"
     ]
    },
    {
     "name": "stdout",
     "output_type": "stream",
     "text": [
      "i 421 j 35 nb_backup 14814\n"
     ]
    },
    {
     "name": "stdout",
     "output_type": "stream",
     "text": [
      "i 422 j 34 nb_backup 14849\n"
     ]
    },
    {
     "name": "stdout",
     "output_type": "stream",
     "text": [
      "i 423 j 31 nb_backup 14881\n"
     ]
    },
    {
     "name": "stdout",
     "output_type": "stream",
     "text": [
      "i 424 j 32 nb_backup 14914\n"
     ]
    },
    {
     "name": "stdout",
     "output_type": "stream",
     "text": [
      "i 425 j 21 nb_backup 14936\n"
     ]
    },
    {
     "name": "stdout",
     "output_type": "stream",
     "text": [
      "i 426 j 35 nb_backup 14972\n"
     ]
    },
    {
     "name": "stdout",
     "output_type": "stream",
     "text": [
      "i 427 j 26 nb_backup 14999\n"
     ]
    },
    {
     "name": "stdout",
     "output_type": "stream",
     "text": [
      "i 428 j 14 nb_backup 15014\n"
     ]
    },
    {
     "name": "stdout",
     "output_type": "stream",
     "text": [
      "i 429 j 18 nb_backup 15033\n"
     ]
    },
    {
     "name": "stdout",
     "output_type": "stream",
     "text": [
      "i 430 j 15 nb_backup 15049\n"
     ]
    },
    {
     "name": "stdout",
     "output_type": "stream",
     "text": [
      "i 431 j 28 nb_backup 15078\n"
     ]
    },
    {
     "name": "stdout",
     "output_type": "stream",
     "text": [
      "i 432 j 13 nb_backup 15092\n"
     ]
    },
    {
     "name": "stdout",
     "output_type": "stream",
     "text": [
      "i 433 j 36 nb_backup 15129\n"
     ]
    },
    {
     "name": "stdout",
     "output_type": "stream",
     "text": [
      "i 434 j 26 nb_backup 15156\n"
     ]
    },
    {
     "name": "stdout",
     "output_type": "stream",
     "text": [
      "i 435 j 30 nb_backup 15187\n"
     ]
    },
    {
     "name": "stdout",
     "output_type": "stream",
     "text": [
      "i 436 j 22 nb_backup 15210\n"
     ]
    },
    {
     "name": "stdout",
     "output_type": "stream",
     "text": [
      "i 437 j 31 nb_backup 15242\n"
     ]
    },
    {
     "name": "stdout",
     "output_type": "stream",
     "text": [
      "i 438 j 23 nb_backup 15266\n"
     ]
    },
    {
     "name": "stdout",
     "output_type": "stream",
     "text": [
      "i 439 j 23 nb_backup 15290\n"
     ]
    },
    {
     "name": "stdout",
     "output_type": "stream",
     "text": [
      "i 440 j 26 nb_backup 15317\n"
     ]
    },
    {
     "name": "stdout",
     "output_type": "stream",
     "text": [
      "i 441 j 44 nb_backup 15362\n"
     ]
    },
    {
     "name": "stdout",
     "output_type": "stream",
     "text": [
      "i 442 j 31 nb_backup 15394\n"
     ]
    },
    {
     "name": "stdout",
     "output_type": "stream",
     "text": [
      "i 443 j 19 nb_backup 15414\n"
     ]
    },
    {
     "name": "stdout",
     "output_type": "stream",
     "text": [
      "i 444 j 20 nb_backup 15435\n"
     ]
    },
    {
     "name": "stdout",
     "output_type": "stream",
     "text": [
      "i 445 j 45 nb_backup 15481\n"
     ]
    },
    {
     "name": "stdout",
     "output_type": "stream",
     "text": [
      "i 446 j 24 nb_backup 15506\n"
     ]
    },
    {
     "name": "stdout",
     "output_type": "stream",
     "text": [
      "i 447 j 34 nb_backup 15541\n"
     ]
    },
    {
     "name": "stdout",
     "output_type": "stream",
     "text": [
      "i 448 j 19 nb_backup 15561\n"
     ]
    },
    {
     "name": "stdout",
     "output_type": "stream",
     "text": [
      "i 449 j 40 nb_backup 15602\n"
     ]
    },
    {
     "name": "stdout",
     "output_type": "stream",
     "text": [
      "i 450 j 23 nb_backup 15626\n"
     ]
    },
    {
     "name": "stdout",
     "output_type": "stream",
     "text": [
      "i 451 j 29 nb_backup 15656\n"
     ]
    },
    {
     "name": "stdout",
     "output_type": "stream",
     "text": [
      "i 452 j 21 nb_backup 15678\n"
     ]
    },
    {
     "name": "stdout",
     "output_type": "stream",
     "text": [
      "i 453 j 47 nb_backup 15726\n"
     ]
    },
    {
     "name": "stdout",
     "output_type": "stream",
     "text": [
      "i 454 j 37 nb_backup 15764\n"
     ]
    },
    {
     "name": "stdout",
     "output_type": "stream",
     "text": [
      "i 455 j 34 nb_backup 15799\n"
     ]
    },
    {
     "name": "stdout",
     "output_type": "stream",
     "text": [
      "i 456 j 15 nb_backup 15815\n"
     ]
    },
    {
     "name": "stdout",
     "output_type": "stream",
     "text": [
      "i 457 j 27 nb_backup 15843\n"
     ]
    },
    {
     "name": "stdout",
     "output_type": "stream",
     "text": [
      "i 458 j 24 nb_backup 15868\n"
     ]
    },
    {
     "name": "stdout",
     "output_type": "stream",
     "text": [
      "i 459 j 20 nb_backup 15889\n"
     ]
    },
    {
     "name": "stdout",
     "output_type": "stream",
     "text": [
      "i 460 j 32 nb_backup 15922\n"
     ]
    },
    {
     "name": "stdout",
     "output_type": "stream",
     "text": [
      "i 461 j 31 nb_backup 15954\n"
     ]
    },
    {
     "name": "stdout",
     "output_type": "stream",
     "text": [
      "i 462 j 19 nb_backup 15974\n"
     ]
    },
    {
     "name": "stdout",
     "output_type": "stream",
     "text": [
      "i 463 j 24 nb_backup 15999\n"
     ]
    },
    {
     "name": "stdout",
     "output_type": "stream",
     "text": [
      "i 464 j 18 nb_backup 16018\n"
     ]
    },
    {
     "name": "stdout",
     "output_type": "stream",
     "text": [
      "i 465 j 25 nb_backup 16044\n"
     ]
    },
    {
     "name": "stdout",
     "output_type": "stream",
     "text": [
      "i 466 j 19 nb_backup 16064\n"
     ]
    },
    {
     "name": "stdout",
     "output_type": "stream",
     "text": [
      "i 467 j 27 nb_backup 16092\n"
     ]
    },
    {
     "name": "stdout",
     "output_type": "stream",
     "text": [
      "i 468 j 19 nb_backup 16112\n"
     ]
    },
    {
     "name": "stdout",
     "output_type": "stream",
     "text": [
      "i 469 j 21 nb_backup 16134\n"
     ]
    },
    {
     "name": "stdout",
     "output_type": "stream",
     "text": [
      "i 470 j 36 nb_backup 16171\n"
     ]
    },
    {
     "name": "stdout",
     "output_type": "stream",
     "text": [
      "i 471 j 24 nb_backup 16196\n"
     ]
    },
    {
     "name": "stdout",
     "output_type": "stream",
     "text": [
      "i 472 j 28 nb_backup 16225\n"
     ]
    },
    {
     "name": "stdout",
     "output_type": "stream",
     "text": [
      "i 473 j 20 nb_backup 16246\n"
     ]
    },
    {
     "name": "stdout",
     "output_type": "stream",
     "text": [
      "i 474 j 21 nb_backup 16268\n"
     ]
    },
    {
     "name": "stdout",
     "output_type": "stream",
     "text": [
      "i 475 j 20 nb_backup 16289\n"
     ]
    },
    {
     "name": "stdout",
     "output_type": "stream",
     "text": [
      "i 476 j 21 nb_backup 16311\n"
     ]
    },
    {
     "name": "stdout",
     "output_type": "stream",
     "text": [
      "i 477 j 16 nb_backup 16328\n"
     ]
    },
    {
     "name": "stdout",
     "output_type": "stream",
     "text": [
      "i 478 j 32 nb_backup 16361\n"
     ]
    },
    {
     "name": "stdout",
     "output_type": "stream",
     "text": [
      "i 479 j 23 nb_backup 16385\n"
     ]
    },
    {
     "name": "stdout",
     "output_type": "stream",
     "text": [
      "i 480 j 24 nb_backup 16410\n"
     ]
    },
    {
     "name": "stdout",
     "output_type": "stream",
     "text": [
      "i 481 j 26 nb_backup 16437\n"
     ]
    },
    {
     "name": "stdout",
     "output_type": "stream",
     "text": [
      "i 482 j 26 nb_backup 16464\n"
     ]
    },
    {
     "name": "stdout",
     "output_type": "stream",
     "text": [
      "i 483 j 18 nb_backup 16483\n"
     ]
    },
    {
     "name": "stdout",
     "output_type": "stream",
     "text": [
      "i 484 j 30 nb_backup 16514\n"
     ]
    },
    {
     "name": "stdout",
     "output_type": "stream",
     "text": [
      "i 485 j 19 nb_backup 16534\n"
     ]
    },
    {
     "name": "stdout",
     "output_type": "stream",
     "text": [
      "i 486 j 20 nb_backup 16555\n"
     ]
    },
    {
     "name": "stdout",
     "output_type": "stream",
     "text": [
      "i 487 j 28 nb_backup 16584\n"
     ]
    },
    {
     "name": "stdout",
     "output_type": "stream",
     "text": [
      "i 488 j 26 nb_backup 16611\n"
     ]
    },
    {
     "name": "stdout",
     "output_type": "stream",
     "text": [
      "i 489 j 48 nb_backup 16660\n"
     ]
    },
    {
     "name": "stdout",
     "output_type": "stream",
     "text": [
      "i 490 j 25 nb_backup 16686\n"
     ]
    },
    {
     "name": "stdout",
     "output_type": "stream",
     "text": [
      "i 491 j 19 nb_backup 16706\n"
     ]
    },
    {
     "name": "stdout",
     "output_type": "stream",
     "text": [
      "i 492 j 27 nb_backup 16734\n"
     ]
    },
    {
     "name": "stdout",
     "output_type": "stream",
     "text": [
      "i 493 j 23 nb_backup 16758\n"
     ]
    },
    {
     "name": "stdout",
     "output_type": "stream",
     "text": [
      "i 494 j 19 nb_backup 16778\n"
     ]
    },
    {
     "name": "stdout",
     "output_type": "stream",
     "text": [
      "i 495 j 23 nb_backup 16802\n"
     ]
    },
    {
     "name": "stdout",
     "output_type": "stream",
     "text": [
      "i 496 j 27 nb_backup 16830\n"
     ]
    },
    {
     "name": "stdout",
     "output_type": "stream",
     "text": [
      "i 497 j 34 nb_backup 16865\n"
     ]
    },
    {
     "name": "stdout",
     "output_type": "stream",
     "text": [
      "i 498 j 34 nb_backup 16900\n"
     ]
    },
    {
     "name": "stdout",
     "output_type": "stream",
     "text": [
      "i 499 j 30 nb_backup 16931\n"
     ]
    },
    {
     "name": "stdout",
     "output_type": "stream",
     "text": [
      "i 500 j 28 nb_backup 16960\n"
     ]
    },
    {
     "name": "stdout",
     "output_type": "stream",
     "text": [
      "i 501 j 39 nb_backup 17000\n"
     ]
    },
    {
     "name": "stdout",
     "output_type": "stream",
     "text": [
      "i 502 j 18 nb_backup 17019\n"
     ]
    },
    {
     "name": "stdout",
     "output_type": "stream",
     "text": [
      "i 503 j 23 nb_backup 17043\n"
     ]
    },
    {
     "name": "stdout",
     "output_type": "stream",
     "text": [
      "i 504 j 18 nb_backup 17062\n"
     ]
    },
    {
     "name": "stdout",
     "output_type": "stream",
     "text": [
      "i 505 j 18 nb_backup 17081\n"
     ]
    },
    {
     "name": "stdout",
     "output_type": "stream",
     "text": [
      "i 506 j 24 nb_backup 17106\n"
     ]
    },
    {
     "name": "stdout",
     "output_type": "stream",
     "text": [
      "i 507 j 29 nb_backup 17136\n"
     ]
    },
    {
     "name": "stdout",
     "output_type": "stream",
     "text": [
      "i 508 j 13 nb_backup 17150\n"
     ]
    },
    {
     "name": "stdout",
     "output_type": "stream",
     "text": [
      "i 509 j 37 nb_backup 17188\n"
     ]
    },
    {
     "name": "stdout",
     "output_type": "stream",
     "text": [
      "i 510 j 46 nb_backup 17235\n"
     ]
    },
    {
     "name": "stdout",
     "output_type": "stream",
     "text": [
      "i 511 j 28 nb_backup 17264\n"
     ]
    },
    {
     "name": "stdout",
     "output_type": "stream",
     "text": [
      "i 512 j 21 nb_backup 17286\n"
     ]
    },
    {
     "name": "stdout",
     "output_type": "stream",
     "text": [
      "i 513 j 29 nb_backup 17316\n"
     ]
    },
    {
     "name": "stdout",
     "output_type": "stream",
     "text": [
      "i 514 j 29 nb_backup 17346\n"
     ]
    },
    {
     "name": "stdout",
     "output_type": "stream",
     "text": [
      "i 515 j 25 nb_backup 17372\n"
     ]
    },
    {
     "name": "stdout",
     "output_type": "stream",
     "text": [
      "i 516 j 27 nb_backup 17400\n"
     ]
    },
    {
     "name": "stdout",
     "output_type": "stream",
     "text": [
      "i 517 j 22 nb_backup 17423\n"
     ]
    },
    {
     "name": "stdout",
     "output_type": "stream",
     "text": [
      "i 518 j 16 nb_backup 17440\n"
     ]
    },
    {
     "name": "stdout",
     "output_type": "stream",
     "text": [
      "i 519 j 24 nb_backup 17465\n"
     ]
    },
    {
     "name": "stdout",
     "output_type": "stream",
     "text": [
      "i 520 j 33 nb_backup 17499\n"
     ]
    },
    {
     "name": "stdout",
     "output_type": "stream",
     "text": [
      "i 521 j 29 nb_backup 17529\n"
     ]
    },
    {
     "name": "stdout",
     "output_type": "stream",
     "text": [
      "i 522 j 17 nb_backup 17547\n"
     ]
    },
    {
     "name": "stdout",
     "output_type": "stream",
     "text": [
      "i 523 j 34 nb_backup 17582\n"
     ]
    },
    {
     "name": "stdout",
     "output_type": "stream",
     "text": [
      "i 524 j 25 nb_backup 17608\n"
     ]
    },
    {
     "name": "stdout",
     "output_type": "stream",
     "text": [
      "i 525 j 20 nb_backup 17629\n"
     ]
    },
    {
     "name": "stdout",
     "output_type": "stream",
     "text": [
      "i 526 j 14 nb_backup 17644\n"
     ]
    },
    {
     "name": "stdout",
     "output_type": "stream",
     "text": [
      "i 527 j 44 nb_backup 17689\n"
     ]
    },
    {
     "name": "stdout",
     "output_type": "stream",
     "text": [
      "i 528 j 25 nb_backup 17715\n"
     ]
    },
    {
     "name": "stdout",
     "output_type": "stream",
     "text": [
      "i 529 j 24 nb_backup 17740\n"
     ]
    },
    {
     "name": "stdout",
     "output_type": "stream",
     "text": [
      "i 530 j 28 nb_backup 17769\n"
     ]
    },
    {
     "name": "stdout",
     "output_type": "stream",
     "text": [
      "i 531 j 21 nb_backup 17791\n"
     ]
    },
    {
     "name": "stdout",
     "output_type": "stream",
     "text": [
      "i 532 j 14 nb_backup 17806\n"
     ]
    },
    {
     "name": "stdout",
     "output_type": "stream",
     "text": [
      "i 533 j 37 nb_backup 17844\n"
     ]
    },
    {
     "name": "stdout",
     "output_type": "stream",
     "text": [
      "i 534 j 30 nb_backup 17875\n"
     ]
    },
    {
     "name": "stdout",
     "output_type": "stream",
     "text": [
      "i 535 j 16 nb_backup 17892\n"
     ]
    },
    {
     "name": "stdout",
     "output_type": "stream",
     "text": [
      "i 536 j 20 nb_backup 17913\n"
     ]
    },
    {
     "name": "stdout",
     "output_type": "stream",
     "text": [
      "i 537 j 46 nb_backup 17960\n"
     ]
    },
    {
     "name": "stdout",
     "output_type": "stream",
     "text": [
      "i 538 j 18 nb_backup 17979\n"
     ]
    },
    {
     "name": "stdout",
     "output_type": "stream",
     "text": [
      "i 539 j 26 nb_backup 18006\n"
     ]
    },
    {
     "name": "stdout",
     "output_type": "stream",
     "text": [
      "i 540 j 29 nb_backup 18036\n"
     ]
    },
    {
     "name": "stdout",
     "output_type": "stream",
     "text": [
      "i 541 j 28 nb_backup 18065\n"
     ]
    },
    {
     "name": "stdout",
     "output_type": "stream",
     "text": [
      "i 542 j 29 nb_backup 18095\n"
     ]
    },
    {
     "name": "stdout",
     "output_type": "stream",
     "text": [
      "i 543 j 32 nb_backup 18128\n"
     ]
    },
    {
     "name": "stdout",
     "output_type": "stream",
     "text": [
      "i 544 j 23 nb_backup 18152\n"
     ]
    },
    {
     "name": "stdout",
     "output_type": "stream",
     "text": [
      "i 545 j 24 nb_backup 18177\n"
     ]
    },
    {
     "name": "stdout",
     "output_type": "stream",
     "text": [
      "i 546 j 21 nb_backup 18199\n"
     ]
    },
    {
     "name": "stdout",
     "output_type": "stream",
     "text": [
      "i 547 j 23 nb_backup 18223\n"
     ]
    },
    {
     "name": "stdout",
     "output_type": "stream",
     "text": [
      "i 548 j 43 nb_backup 18267\n"
     ]
    },
    {
     "name": "stdout",
     "output_type": "stream",
     "text": [
      "i 549 j 29 nb_backup 18297\n"
     ]
    },
    {
     "name": "stdout",
     "output_type": "stream",
     "text": [
      "i 550 j 26 nb_backup 18324\n"
     ]
    },
    {
     "name": "stdout",
     "output_type": "stream",
     "text": [
      "i 551 j 32 nb_backup 18357\n"
     ]
    },
    {
     "name": "stdout",
     "output_type": "stream",
     "text": [
      "i 552 j 20 nb_backup 18378\n"
     ]
    },
    {
     "name": "stdout",
     "output_type": "stream",
     "text": [
      "i 553 j 25 nb_backup 18404\n"
     ]
    },
    {
     "name": "stdout",
     "output_type": "stream",
     "text": [
      "i 554 j 21 nb_backup 18426\n"
     ]
    },
    {
     "name": "stdout",
     "output_type": "stream",
     "text": [
      "i 555 j 24 nb_backup 18451\n"
     ]
    },
    {
     "name": "stdout",
     "output_type": "stream",
     "text": [
      "i 556 j 34 nb_backup 18486\n"
     ]
    },
    {
     "name": "stdout",
     "output_type": "stream",
     "text": [
      "i 557 j 23 nb_backup 18510\n"
     ]
    },
    {
     "name": "stdout",
     "output_type": "stream",
     "text": [
      "i 558 j 19 nb_backup 18530\n"
     ]
    },
    {
     "name": "stdout",
     "output_type": "stream",
     "text": [
      "i 559 j 22 nb_backup 18553\n"
     ]
    },
    {
     "name": "stdout",
     "output_type": "stream",
     "text": [
      "i 560 j 19 nb_backup 18573\n"
     ]
    },
    {
     "name": "stdout",
     "output_type": "stream",
     "text": [
      "i 561 j 19 nb_backup 18593\n"
     ]
    },
    {
     "name": "stdout",
     "output_type": "stream",
     "text": [
      "i 562 j 18 nb_backup 18612\n"
     ]
    },
    {
     "name": "stdout",
     "output_type": "stream",
     "text": [
      "i 563 j 23 nb_backup 18636\n"
     ]
    },
    {
     "name": "stdout",
     "output_type": "stream",
     "text": [
      "i 564 j 27 nb_backup 18664\n"
     ]
    },
    {
     "name": "stdout",
     "output_type": "stream",
     "text": [
      "i 565 j 24 nb_backup 18689\n"
     ]
    },
    {
     "name": "stdout",
     "output_type": "stream",
     "text": [
      "i 566 j 21 nb_backup 18711\n"
     ]
    },
    {
     "name": "stdout",
     "output_type": "stream",
     "text": [
      "i 567 j 21 nb_backup 18733\n"
     ]
    },
    {
     "name": "stdout",
     "output_type": "stream",
     "text": [
      "i 568 j 32 nb_backup 18766\n"
     ]
    },
    {
     "name": "stdout",
     "output_type": "stream",
     "text": [
      "i 569 j 41 nb_backup 18808\n"
     ]
    },
    {
     "name": "stdout",
     "output_type": "stream",
     "text": [
      "i 570 j 20 nb_backup 18829\n"
     ]
    },
    {
     "name": "stdout",
     "output_type": "stream",
     "text": [
      "i 571 j 21 nb_backup 18851\n"
     ]
    },
    {
     "name": "stdout",
     "output_type": "stream",
     "text": [
      "i 572 j 13 nb_backup 18865\n"
     ]
    },
    {
     "name": "stdout",
     "output_type": "stream",
     "text": [
      "i 573 j 20 nb_backup 18886\n"
     ]
    },
    {
     "name": "stdout",
     "output_type": "stream",
     "text": [
      "i 574 j 22 nb_backup 18909\n"
     ]
    },
    {
     "name": "stdout",
     "output_type": "stream",
     "text": [
      "i 575 j 19 nb_backup 18929\n"
     ]
    },
    {
     "name": "stdout",
     "output_type": "stream",
     "text": [
      "i 576 j 24 nb_backup 18954\n"
     ]
    },
    {
     "name": "stdout",
     "output_type": "stream",
     "text": [
      "i 577 j 24 nb_backup 18979\n"
     ]
    },
    {
     "name": "stdout",
     "output_type": "stream",
     "text": [
      "i 578 j 18 nb_backup 18998\n"
     ]
    },
    {
     "name": "stdout",
     "output_type": "stream",
     "text": [
      "i 579 j 19 nb_backup 19018\n"
     ]
    },
    {
     "name": "stdout",
     "output_type": "stream",
     "text": [
      "i 580 j 26 nb_backup 19045\n"
     ]
    },
    {
     "name": "stdout",
     "output_type": "stream",
     "text": [
      "i 581 j 15 nb_backup 19061\n"
     ]
    },
    {
     "name": "stdout",
     "output_type": "stream",
     "text": [
      "i 582 j 42 nb_backup 19104\n"
     ]
    },
    {
     "name": "stdout",
     "output_type": "stream",
     "text": [
      "i 583 j 44 nb_backup 19149\n"
     ]
    },
    {
     "name": "stdout",
     "output_type": "stream",
     "text": [
      "i 584 j 19 nb_backup 19169\n"
     ]
    },
    {
     "name": "stdout",
     "output_type": "stream",
     "text": [
      "i 585 j 39 nb_backup 19209\n"
     ]
    },
    {
     "name": "stdout",
     "output_type": "stream",
     "text": [
      "i 586 j 30 nb_backup 19240\n"
     ]
    },
    {
     "name": "stdout",
     "output_type": "stream",
     "text": [
      "i 587 j 30 nb_backup 19271\n"
     ]
    },
    {
     "name": "stdout",
     "output_type": "stream",
     "text": [
      "i 588 j 24 nb_backup 19296\n"
     ]
    },
    {
     "name": "stdout",
     "output_type": "stream",
     "text": [
      "i 589 j 15 nb_backup 19312\n"
     ]
    },
    {
     "name": "stdout",
     "output_type": "stream",
     "text": [
      "i 590 j 30 nb_backup 19343\n"
     ]
    },
    {
     "name": "stdout",
     "output_type": "stream",
     "text": [
      "i 591 j 20 nb_backup 19364\n"
     ]
    },
    {
     "name": "stdout",
     "output_type": "stream",
     "text": [
      "i 592 j 25 nb_backup 19390\n"
     ]
    },
    {
     "name": "stdout",
     "output_type": "stream",
     "text": [
      "i 593 j 30 nb_backup 19421\n"
     ]
    },
    {
     "name": "stdout",
     "output_type": "stream",
     "text": [
      "i 594 j 28 nb_backup 19450\n"
     ]
    },
    {
     "name": "stdout",
     "output_type": "stream",
     "text": [
      "i 595 j 16 nb_backup 19467\n"
     ]
    },
    {
     "name": "stdout",
     "output_type": "stream",
     "text": [
      "i 596 j 20 nb_backup 19488\n"
     ]
    },
    {
     "name": "stdout",
     "output_type": "stream",
     "text": [
      "i 597 j 21 nb_backup 19510\n"
     ]
    },
    {
     "name": "stdout",
     "output_type": "stream",
     "text": [
      "i 598 j 31 nb_backup 19542\n"
     ]
    },
    {
     "name": "stdout",
     "output_type": "stream",
     "text": [
      "i 599 j 24 nb_backup 19567\n"
     ]
    },
    {
     "name": "stdout",
     "output_type": "stream",
     "text": [
      "i 600 j 23 nb_backup 19591\n"
     ]
    },
    {
     "name": "stdout",
     "output_type": "stream",
     "text": [
      "i 601 j 33 nb_backup 19625\n"
     ]
    },
    {
     "name": "stdout",
     "output_type": "stream",
     "text": [
      "i 602 j 14 nb_backup 19640\n"
     ]
    },
    {
     "name": "stdout",
     "output_type": "stream",
     "text": [
      "i 603 j 17 nb_backup 19658\n"
     ]
    },
    {
     "name": "stdout",
     "output_type": "stream",
     "text": [
      "i 604 j 21 nb_backup 19680\n"
     ]
    },
    {
     "name": "stdout",
     "output_type": "stream",
     "text": [
      "i 605 j 25 nb_backup 19706\n"
     ]
    },
    {
     "name": "stdout",
     "output_type": "stream",
     "text": [
      "i 606 j 28 nb_backup 19735\n"
     ]
    },
    {
     "name": "stdout",
     "output_type": "stream",
     "text": [
      "i 607 j 19 nb_backup 19755\n"
     ]
    },
    {
     "name": "stdout",
     "output_type": "stream",
     "text": [
      "i 608 j 25 nb_backup 19781\n"
     ]
    },
    {
     "name": "stdout",
     "output_type": "stream",
     "text": [
      "i 609 j 18 nb_backup 19800\n"
     ]
    },
    {
     "name": "stdout",
     "output_type": "stream",
     "text": [
      "i 610 j 30 nb_backup 19831\n"
     ]
    },
    {
     "name": "stdout",
     "output_type": "stream",
     "text": [
      "i 611 j 54 nb_backup 19886\n"
     ]
    },
    {
     "name": "stdout",
     "output_type": "stream",
     "text": [
      "i 612 j 14 nb_backup 19901\n"
     ]
    },
    {
     "name": "stdout",
     "output_type": "stream",
     "text": [
      "i 613 j 25 nb_backup 19927\n"
     ]
    },
    {
     "name": "stdout",
     "output_type": "stream",
     "text": [
      "i 614 j 36 nb_backup 19964\n"
     ]
    },
    {
     "name": "stdout",
     "output_type": "stream",
     "text": [
      "i 615 j 27 nb_backup 19992\n"
     ]
    },
    {
     "name": "stdout",
     "output_type": "stream",
     "text": [
      "i 616 j 26 nb_backup 20019\n"
     ]
    },
    {
     "name": "stdout",
     "output_type": "stream",
     "text": [
      "i 617 j 34 nb_backup 20054\n"
     ]
    },
    {
     "name": "stdout",
     "output_type": "stream",
     "text": [
      "i 618 j 14 nb_backup 20069\n"
     ]
    },
    {
     "name": "stdout",
     "output_type": "stream",
     "text": [
      "i 619 j 29 nb_backup 20099\n"
     ]
    },
    {
     "name": "stdout",
     "output_type": "stream",
     "text": [
      "i 620 j 36 nb_backup 20136\n"
     ]
    },
    {
     "name": "stdout",
     "output_type": "stream",
     "text": [
      "i 621 j 22 nb_backup 20159\n"
     ]
    },
    {
     "name": "stdout",
     "output_type": "stream",
     "text": [
      "i 622 j 48 nb_backup 20208\n"
     ]
    },
    {
     "name": "stdout",
     "output_type": "stream",
     "text": [
      "i 623 j 19 nb_backup 20228\n"
     ]
    },
    {
     "name": "stdout",
     "output_type": "stream",
     "text": [
      "i 624 j 16 nb_backup 20245\n"
     ]
    },
    {
     "name": "stdout",
     "output_type": "stream",
     "text": [
      "i 625 j 53 nb_backup 20299\n"
     ]
    },
    {
     "name": "stdout",
     "output_type": "stream",
     "text": [
      "i 626 j 20 nb_backup 20320\n"
     ]
    },
    {
     "name": "stdout",
     "output_type": "stream",
     "text": [
      "i 627 j 32 nb_backup 20353\n"
     ]
    },
    {
     "name": "stdout",
     "output_type": "stream",
     "text": [
      "i 628 j 27 nb_backup 20381\n"
     ]
    },
    {
     "name": "stdout",
     "output_type": "stream",
     "text": [
      "i 629 j 19 nb_backup 20401\n"
     ]
    },
    {
     "name": "stdout",
     "output_type": "stream",
     "text": [
      "i 630 j 20 nb_backup 20422\n"
     ]
    },
    {
     "name": "stdout",
     "output_type": "stream",
     "text": [
      "i 631 j 30 nb_backup 20453\n"
     ]
    },
    {
     "name": "stdout",
     "output_type": "stream",
     "text": [
      "i 632 j 28 nb_backup 20482\n"
     ]
    },
    {
     "name": "stdout",
     "output_type": "stream",
     "text": [
      "i 633 j 28 nb_backup 20511\n"
     ]
    },
    {
     "name": "stdout",
     "output_type": "stream",
     "text": [
      "i 634 j 35 nb_backup 20547\n"
     ]
    },
    {
     "name": "stdout",
     "output_type": "stream",
     "text": [
      "i 635 j 25 nb_backup 20573\n"
     ]
    },
    {
     "name": "stdout",
     "output_type": "stream",
     "text": [
      "i 636 j 25 nb_backup 20599\n"
     ]
    },
    {
     "name": "stdout",
     "output_type": "stream",
     "text": [
      "i 637 j 35 nb_backup 20635\n"
     ]
    },
    {
     "name": "stdout",
     "output_type": "stream",
     "text": [
      "i 638 j 23 nb_backup 20659\n"
     ]
    },
    {
     "name": "stdout",
     "output_type": "stream",
     "text": [
      "i 639 j 19 nb_backup 20679\n"
     ]
    },
    {
     "name": "stdout",
     "output_type": "stream",
     "text": [
      "i 640 j 13 nb_backup 20693\n"
     ]
    },
    {
     "name": "stdout",
     "output_type": "stream",
     "text": [
      "i 641 j 21 nb_backup 20715\n"
     ]
    },
    {
     "name": "stdout",
     "output_type": "stream",
     "text": [
      "i 642 j 26 nb_backup 20742\n"
     ]
    },
    {
     "name": "stdout",
     "output_type": "stream",
     "text": [
      "i 643 j 25 nb_backup 20768\n"
     ]
    },
    {
     "name": "stdout",
     "output_type": "stream",
     "text": [
      "i 644 j 28 nb_backup 20797\n"
     ]
    },
    {
     "name": "stdout",
     "output_type": "stream",
     "text": [
      "i 645 j 30 nb_backup 20828\n"
     ]
    },
    {
     "name": "stdout",
     "output_type": "stream",
     "text": [
      "i 646 j 22 nb_backup 20851\n"
     ]
    },
    {
     "name": "stdout",
     "output_type": "stream",
     "text": [
      "i 647 j 26 nb_backup 20878\n"
     ]
    },
    {
     "name": "stdout",
     "output_type": "stream",
     "text": [
      "i 648 j 24 nb_backup 20903\n"
     ]
    },
    {
     "name": "stdout",
     "output_type": "stream",
     "text": [
      "i 649 j 23 nb_backup 20927\n"
     ]
    },
    {
     "name": "stdout",
     "output_type": "stream",
     "text": [
      "i 650 j 23 nb_backup 20951\n"
     ]
    },
    {
     "name": "stdout",
     "output_type": "stream",
     "text": [
      "i 651 j 20 nb_backup 20972\n"
     ]
    },
    {
     "name": "stdout",
     "output_type": "stream",
     "text": [
      "i 652 j 27 nb_backup 21000\n"
     ]
    },
    {
     "name": "stdout",
     "output_type": "stream",
     "text": [
      "i 653 j 20 nb_backup 21021\n"
     ]
    },
    {
     "name": "stdout",
     "output_type": "stream",
     "text": [
      "i 654 j 14 nb_backup 21036\n"
     ]
    },
    {
     "name": "stdout",
     "output_type": "stream",
     "text": [
      "i 655 j 22 nb_backup 21059\n"
     ]
    },
    {
     "name": "stdout",
     "output_type": "stream",
     "text": [
      "i 656 j 28 nb_backup 21088\n"
     ]
    },
    {
     "name": "stdout",
     "output_type": "stream",
     "text": [
      "i 657 j 23 nb_backup 21112\n"
     ]
    },
    {
     "name": "stdout",
     "output_type": "stream",
     "text": [
      "i 658 j 17 nb_backup 21130\n"
     ]
    },
    {
     "name": "stdout",
     "output_type": "stream",
     "text": [
      "i 659 j 25 nb_backup 21156\n"
     ]
    },
    {
     "name": "stdout",
     "output_type": "stream",
     "text": [
      "i 660 j 33 nb_backup 21190\n"
     ]
    },
    {
     "name": "stdout",
     "output_type": "stream",
     "text": [
      "i 661 j 17 nb_backup 21208\n"
     ]
    },
    {
     "name": "stdout",
     "output_type": "stream",
     "text": [
      "i 662 j 16 nb_backup 21225\n"
     ]
    },
    {
     "name": "stdout",
     "output_type": "stream",
     "text": [
      "i 663 j 16 nb_backup 21242\n"
     ]
    },
    {
     "name": "stdout",
     "output_type": "stream",
     "text": [
      "i 664 j 32 nb_backup 21275\n"
     ]
    },
    {
     "name": "stdout",
     "output_type": "stream",
     "text": [
      "i 665 j 25 nb_backup 21301\n"
     ]
    },
    {
     "name": "stdout",
     "output_type": "stream",
     "text": [
      "i 666 j 25 nb_backup 21327\n"
     ]
    },
    {
     "name": "stdout",
     "output_type": "stream",
     "text": [
      "i 667 j 30 nb_backup 21358\n"
     ]
    },
    {
     "name": "stdout",
     "output_type": "stream",
     "text": [
      "i 668 j 18 nb_backup 21377\n"
     ]
    },
    {
     "name": "stdout",
     "output_type": "stream",
     "text": [
      "i 669 j 18 nb_backup 21396\n"
     ]
    },
    {
     "name": "stdout",
     "output_type": "stream",
     "text": [
      "i 670 j 22 nb_backup 21419\n"
     ]
    },
    {
     "name": "stdout",
     "output_type": "stream",
     "text": [
      "i 671 j 23 nb_backup 21443\n"
     ]
    },
    {
     "name": "stdout",
     "output_type": "stream",
     "text": [
      "i 672 j 19 nb_backup 21463\n"
     ]
    },
    {
     "name": "stdout",
     "output_type": "stream",
     "text": [
      "i 673 j 25 nb_backup 21489\n"
     ]
    },
    {
     "name": "stdout",
     "output_type": "stream",
     "text": [
      "i 674 j 25 nb_backup 21515\n"
     ]
    },
    {
     "name": "stdout",
     "output_type": "stream",
     "text": [
      "i 675 j 29 nb_backup 21545\n"
     ]
    },
    {
     "name": "stdout",
     "output_type": "stream",
     "text": [
      "i 676 j 28 nb_backup 21574\n"
     ]
    },
    {
     "name": "stdout",
     "output_type": "stream",
     "text": [
      "i 677 j 26 nb_backup 21601\n"
     ]
    },
    {
     "name": "stdout",
     "output_type": "stream",
     "text": [
      "i 678 j 38 nb_backup 21640\n"
     ]
    },
    {
     "name": "stdout",
     "output_type": "stream",
     "text": [
      "i 679 j 26 nb_backup 21667\n"
     ]
    },
    {
     "name": "stdout",
     "output_type": "stream",
     "text": [
      "i 680 j 35 nb_backup 21703\n"
     ]
    },
    {
     "name": "stdout",
     "output_type": "stream",
     "text": [
      "i 681 j 21 nb_backup 21725\n"
     ]
    },
    {
     "name": "stdout",
     "output_type": "stream",
     "text": [
      "i 682 j 25 nb_backup 21751\n"
     ]
    },
    {
     "name": "stdout",
     "output_type": "stream",
     "text": [
      "i 683 j 23 nb_backup 21775\n"
     ]
    },
    {
     "name": "stdout",
     "output_type": "stream",
     "text": [
      "i 684 j 25 nb_backup 21801\n"
     ]
    },
    {
     "name": "stdout",
     "output_type": "stream",
     "text": [
      "i 685 j 18 nb_backup 21820\n"
     ]
    },
    {
     "name": "stdout",
     "output_type": "stream",
     "text": [
      "i 686 j 24 nb_backup 21845\n"
     ]
    },
    {
     "name": "stdout",
     "output_type": "stream",
     "text": [
      "i 687 j 32 nb_backup 21878\n"
     ]
    },
    {
     "name": "stdout",
     "output_type": "stream",
     "text": [
      "i 688 j 21 nb_backup 21900\n"
     ]
    },
    {
     "name": "stdout",
     "output_type": "stream",
     "text": [
      "i 689 j 22 nb_backup 21923\n"
     ]
    },
    {
     "name": "stdout",
     "output_type": "stream",
     "text": [
      "i 690 j 16 nb_backup 21940\n"
     ]
    },
    {
     "name": "stdout",
     "output_type": "stream",
     "text": [
      "i 691 j 22 nb_backup 21963\n"
     ]
    },
    {
     "name": "stdout",
     "output_type": "stream",
     "text": [
      "i 692 j 21 nb_backup 21985\n"
     ]
    },
    {
     "name": "stdout",
     "output_type": "stream",
     "text": [
      "i 693 j 35 nb_backup 22021\n"
     ]
    },
    {
     "name": "stdout",
     "output_type": "stream",
     "text": [
      "i 694 j 22 nb_backup 22044\n"
     ]
    },
    {
     "name": "stdout",
     "output_type": "stream",
     "text": [
      "i 695 j 28 nb_backup 22073\n"
     ]
    },
    {
     "name": "stdout",
     "output_type": "stream",
     "text": [
      "i 696 j 19 nb_backup 22093\n"
     ]
    },
    {
     "name": "stdout",
     "output_type": "stream",
     "text": [
      "i 697 j 28 nb_backup 22122\n"
     ]
    },
    {
     "name": "stdout",
     "output_type": "stream",
     "text": [
      "i 698 j 36 nb_backup 22159\n"
     ]
    },
    {
     "name": "stdout",
     "output_type": "stream",
     "text": [
      "i 699 j 19 nb_backup 22179\n"
     ]
    },
    {
     "name": "stdout",
     "output_type": "stream",
     "text": [
      "i 700 j 17 nb_backup 22197\n"
     ]
    },
    {
     "name": "stdout",
     "output_type": "stream",
     "text": [
      "i 701 j 30 nb_backup 22228\n"
     ]
    },
    {
     "name": "stdout",
     "output_type": "stream",
     "text": [
      "i 702 j 21 nb_backup 22250\n"
     ]
    },
    {
     "name": "stdout",
     "output_type": "stream",
     "text": [
      "i 703 j 26 nb_backup 22277\n"
     ]
    },
    {
     "name": "stdout",
     "output_type": "stream",
     "text": [
      "i 704 j 25 nb_backup 22303\n"
     ]
    },
    {
     "name": "stdout",
     "output_type": "stream",
     "text": [
      "i 705 j 28 nb_backup 22332\n"
     ]
    },
    {
     "name": "stdout",
     "output_type": "stream",
     "text": [
      "i 706 j 30 nb_backup 22363\n"
     ]
    },
    {
     "name": "stdout",
     "output_type": "stream",
     "text": [
      "i 707 j 28 nb_backup 22392\n"
     ]
    },
    {
     "name": "stdout",
     "output_type": "stream",
     "text": [
      "i 708 j 31 nb_backup 22424\n"
     ]
    },
    {
     "name": "stdout",
     "output_type": "stream",
     "text": [
      "i 709 j 23 nb_backup 22448\n"
     ]
    },
    {
     "name": "stdout",
     "output_type": "stream",
     "text": [
      "i 710 j 16 nb_backup 22465\n"
     ]
    },
    {
     "name": "stdout",
     "output_type": "stream",
     "text": [
      "i 711 j 33 nb_backup 22499\n"
     ]
    },
    {
     "name": "stdout",
     "output_type": "stream",
     "text": [
      "i 712 j 27 nb_backup 22527\n"
     ]
    },
    {
     "name": "stdout",
     "output_type": "stream",
     "text": [
      "i 713 j 28 nb_backup 22556\n"
     ]
    },
    {
     "name": "stdout",
     "output_type": "stream",
     "text": [
      "i 714 j 25 nb_backup 22582\n"
     ]
    },
    {
     "name": "stdout",
     "output_type": "stream",
     "text": [
      "i 715 j 35 nb_backup 22618\n"
     ]
    },
    {
     "name": "stdout",
     "output_type": "stream",
     "text": [
      "i 716 j 39 nb_backup 22658\n"
     ]
    },
    {
     "name": "stdout",
     "output_type": "stream",
     "text": [
      "i 717 j 20 nb_backup 22679\n"
     ]
    },
    {
     "name": "stdout",
     "output_type": "stream",
     "text": [
      "i 718 j 24 nb_backup 22704\n"
     ]
    },
    {
     "name": "stdout",
     "output_type": "stream",
     "text": [
      "i 719 j 16 nb_backup 22721\n"
     ]
    },
    {
     "name": "stdout",
     "output_type": "stream",
     "text": [
      "i 720 j 29 nb_backup 22751\n"
     ]
    },
    {
     "name": "stdout",
     "output_type": "stream",
     "text": [
      "i 721 j 35 nb_backup 22787\n"
     ]
    },
    {
     "name": "stdout",
     "output_type": "stream",
     "text": [
      "i 722 j 42 nb_backup 22830\n"
     ]
    },
    {
     "name": "stdout",
     "output_type": "stream",
     "text": [
      "i 723 j 13 nb_backup 22844\n"
     ]
    },
    {
     "name": "stdout",
     "output_type": "stream",
     "text": [
      "i 724 j 29 nb_backup 22874\n"
     ]
    },
    {
     "name": "stdout",
     "output_type": "stream",
     "text": [
      "i 725 j 23 nb_backup 22898\n"
     ]
    },
    {
     "name": "stdout",
     "output_type": "stream",
     "text": [
      "i 726 j 35 nb_backup 22934\n"
     ]
    },
    {
     "name": "stdout",
     "output_type": "stream",
     "text": [
      "i 727 j 42 nb_backup 22977\n"
     ]
    },
    {
     "name": "stdout",
     "output_type": "stream",
     "text": [
      "i 728 j 23 nb_backup 23001\n"
     ]
    },
    {
     "name": "stdout",
     "output_type": "stream",
     "text": [
      "i 729 j 39 nb_backup 23041\n"
     ]
    },
    {
     "name": "stdout",
     "output_type": "stream",
     "text": [
      "i 730 j 40 nb_backup 23082\n"
     ]
    },
    {
     "name": "stdout",
     "output_type": "stream",
     "text": [
      "i 731 j 22 nb_backup 23105\n"
     ]
    },
    {
     "name": "stdout",
     "output_type": "stream",
     "text": [
      "i 732 j 37 nb_backup 23143\n"
     ]
    },
    {
     "name": "stdout",
     "output_type": "stream",
     "text": [
      "i 733 j 26 nb_backup 23170\n"
     ]
    },
    {
     "name": "stdout",
     "output_type": "stream",
     "text": [
      "i 734 j 40 nb_backup 23211\n"
     ]
    },
    {
     "name": "stdout",
     "output_type": "stream",
     "text": [
      "i 735 j 60 nb_backup 23272\n"
     ]
    },
    {
     "name": "stdout",
     "output_type": "stream",
     "text": [
      "i 736 j 46 nb_backup 23319\n"
     ]
    },
    {
     "name": "stdout",
     "output_type": "stream",
     "text": [
      "i 737 j 20 nb_backup 23340\n"
     ]
    },
    {
     "name": "stdout",
     "output_type": "stream",
     "text": [
      "i 738 j 25 nb_backup 23366\n"
     ]
    },
    {
     "name": "stdout",
     "output_type": "stream",
     "text": [
      "i 739 j 19 nb_backup 23386\n"
     ]
    },
    {
     "name": "stdout",
     "output_type": "stream",
     "text": [
      "i 740 j 26 nb_backup 23413\n"
     ]
    },
    {
     "name": "stdout",
     "output_type": "stream",
     "text": [
      "i 741 j 37 nb_backup 23451\n"
     ]
    },
    {
     "name": "stdout",
     "output_type": "stream",
     "text": [
      "i 742 j 31 nb_backup 23483\n"
     ]
    },
    {
     "name": "stdout",
     "output_type": "stream",
     "text": [
      "i 743 j 29 nb_backup 23513\n"
     ]
    },
    {
     "name": "stdout",
     "output_type": "stream",
     "text": [
      "i 744 j 32 nb_backup 23546\n"
     ]
    },
    {
     "name": "stdout",
     "output_type": "stream",
     "text": [
      "i 745 j 27 nb_backup 23574\n"
     ]
    },
    {
     "name": "stdout",
     "output_type": "stream",
     "text": [
      "i 746 j 34 nb_backup 23609\n"
     ]
    },
    {
     "name": "stdout",
     "output_type": "stream",
     "text": [
      "i 747 j 23 nb_backup 23633\n"
     ]
    },
    {
     "name": "stdout",
     "output_type": "stream",
     "text": [
      "i 748 j 25 nb_backup 23659\n"
     ]
    },
    {
     "name": "stdout",
     "output_type": "stream",
     "text": [
      "i 749 j 20 nb_backup 23680\n"
     ]
    },
    {
     "name": "stdout",
     "output_type": "stream",
     "text": [
      "i 750 j 25 nb_backup 23706\n"
     ]
    },
    {
     "name": "stdout",
     "output_type": "stream",
     "text": [
      "i 751 j 18 nb_backup 23725\n"
     ]
    },
    {
     "name": "stdout",
     "output_type": "stream",
     "text": [
      "i 752 j 15 nb_backup 23741\n"
     ]
    },
    {
     "name": "stdout",
     "output_type": "stream",
     "text": [
      "i 753 j 23 nb_backup 23765\n"
     ]
    },
    {
     "name": "stdout",
     "output_type": "stream",
     "text": [
      "i 754 j 25 nb_backup 23791\n"
     ]
    },
    {
     "name": "stdout",
     "output_type": "stream",
     "text": [
      "i 755 j 35 nb_backup 23827\n"
     ]
    },
    {
     "name": "stdout",
     "output_type": "stream",
     "text": [
      "i 756 j 22 nb_backup 23850\n"
     ]
    },
    {
     "name": "stdout",
     "output_type": "stream",
     "text": [
      "i 757 j 23 nb_backup 23874\n"
     ]
    },
    {
     "name": "stdout",
     "output_type": "stream",
     "text": [
      "i 758 j 31 nb_backup 23906\n"
     ]
    },
    {
     "name": "stdout",
     "output_type": "stream",
     "text": [
      "i 759 j 24 nb_backup 23931\n"
     ]
    },
    {
     "name": "stdout",
     "output_type": "stream",
     "text": [
      "i 760 j 19 nb_backup 23951\n"
     ]
    },
    {
     "name": "stdout",
     "output_type": "stream",
     "text": [
      "i 761 j 18 nb_backup 23970\n"
     ]
    },
    {
     "name": "stdout",
     "output_type": "stream",
     "text": [
      "i 762 j 28 nb_backup 23999\n"
     ]
    },
    {
     "name": "stdout",
     "output_type": "stream",
     "text": [
      "i 763 j 37 nb_backup 24037\n"
     ]
    },
    {
     "name": "stdout",
     "output_type": "stream",
     "text": [
      "i 764 j 31 nb_backup 24069\n"
     ]
    },
    {
     "name": "stdout",
     "output_type": "stream",
     "text": [
      "i 765 j 19 nb_backup 24089\n"
     ]
    },
    {
     "name": "stdout",
     "output_type": "stream",
     "text": [
      "i 766 j 31 nb_backup 24121\n"
     ]
    },
    {
     "name": "stdout",
     "output_type": "stream",
     "text": [
      "i 767 j 29 nb_backup 24151\n"
     ]
    },
    {
     "name": "stdout",
     "output_type": "stream",
     "text": [
      "i 768 j 17 nb_backup 24169\n"
     ]
    },
    {
     "name": "stdout",
     "output_type": "stream",
     "text": [
      "i 769 j 30 nb_backup 24200\n"
     ]
    },
    {
     "name": "stdout",
     "output_type": "stream",
     "text": [
      "i 770 j 34 nb_backup 24235\n"
     ]
    },
    {
     "name": "stdout",
     "output_type": "stream",
     "text": [
      "i 771 j 33 nb_backup 24269\n"
     ]
    },
    {
     "name": "stdout",
     "output_type": "stream",
     "text": [
      "i 772 j 60 nb_backup 24330\n"
     ]
    },
    {
     "name": "stdout",
     "output_type": "stream",
     "text": [
      "i 773 j 23 nb_backup 24354\n"
     ]
    },
    {
     "name": "stdout",
     "output_type": "stream",
     "text": [
      "i 774 j 37 nb_backup 24392\n"
     ]
    },
    {
     "name": "stdout",
     "output_type": "stream",
     "text": [
      "i 775 j 35 nb_backup 24428\n"
     ]
    },
    {
     "name": "stdout",
     "output_type": "stream",
     "text": [
      "i 776 j 14 nb_backup 24443\n"
     ]
    },
    {
     "name": "stdout",
     "output_type": "stream",
     "text": [
      "i 777 j 45 nb_backup 24489\n"
     ]
    },
    {
     "name": "stdout",
     "output_type": "stream",
     "text": [
      "i 778 j 24 nb_backup 24514\n"
     ]
    },
    {
     "name": "stdout",
     "output_type": "stream",
     "text": [
      "i 779 j 17 nb_backup 24532\n"
     ]
    },
    {
     "name": "stdout",
     "output_type": "stream",
     "text": [
      "i 780 j 22 nb_backup 24555\n"
     ]
    },
    {
     "name": "stdout",
     "output_type": "stream",
     "text": [
      "i 781 j 14 nb_backup 24570\n"
     ]
    },
    {
     "name": "stdout",
     "output_type": "stream",
     "text": [
      "i 782 j 15 nb_backup 24586\n"
     ]
    },
    {
     "name": "stdout",
     "output_type": "stream",
     "text": [
      "i 783 j 40 nb_backup 24627\n"
     ]
    },
    {
     "name": "stdout",
     "output_type": "stream",
     "text": [
      "i 784 j 21 nb_backup 24649\n"
     ]
    },
    {
     "name": "stdout",
     "output_type": "stream",
     "text": [
      "i 785 j 21 nb_backup 24671\n"
     ]
    },
    {
     "name": "stdout",
     "output_type": "stream",
     "text": [
      "i 786 j 31 nb_backup 24703\n"
     ]
    },
    {
     "name": "stdout",
     "output_type": "stream",
     "text": [
      "i 787 j 15 nb_backup 24719\n"
     ]
    },
    {
     "name": "stdout",
     "output_type": "stream",
     "text": [
      "i 788 j 16 nb_backup 24736\n"
     ]
    },
    {
     "name": "stdout",
     "output_type": "stream",
     "text": [
      "i 789 j 20 nb_backup 24757\n"
     ]
    },
    {
     "name": "stdout",
     "output_type": "stream",
     "text": [
      "i 790 j 41 nb_backup 24799\n"
     ]
    },
    {
     "name": "stdout",
     "output_type": "stream",
     "text": [
      "i 791 j 23 nb_backup 24823\n"
     ]
    },
    {
     "name": "stdout",
     "output_type": "stream",
     "text": [
      "i 792 j 39 nb_backup 24863\n"
     ]
    },
    {
     "name": "stdout",
     "output_type": "stream",
     "text": [
      "i 793 j 22 nb_backup 24886\n"
     ]
    },
    {
     "name": "stdout",
     "output_type": "stream",
     "text": [
      "i 794 j 20 nb_backup 24907\n"
     ]
    },
    {
     "name": "stdout",
     "output_type": "stream",
     "text": [
      "i 795 j 24 nb_backup 24932\n"
     ]
    },
    {
     "name": "stdout",
     "output_type": "stream",
     "text": [
      "i 796 j 32 nb_backup 24965\n"
     ]
    },
    {
     "name": "stdout",
     "output_type": "stream",
     "text": [
      "i 797 j 27 nb_backup 24993\n"
     ]
    },
    {
     "name": "stdout",
     "output_type": "stream",
     "text": [
      "i 798 j 38 nb_backup 25032\n"
     ]
    },
    {
     "name": "stdout",
     "output_type": "stream",
     "text": [
      "i 799 j 30 nb_backup 25063\n"
     ]
    },
    {
     "name": "stdout",
     "output_type": "stream",
     "text": [
      "i 800 j 20 nb_backup 25084\n"
     ]
    },
    {
     "name": "stdout",
     "output_type": "stream",
     "text": [
      "i 801 j 25 nb_backup 25110\n"
     ]
    },
    {
     "name": "stdout",
     "output_type": "stream",
     "text": [
      "i 802 j 22 nb_backup 25133\n"
     ]
    },
    {
     "name": "stdout",
     "output_type": "stream",
     "text": [
      "i 803 j 29 nb_backup 25163\n"
     ]
    },
    {
     "name": "stdout",
     "output_type": "stream",
     "text": [
      "i 804 j 23 nb_backup 25187\n"
     ]
    },
    {
     "name": "stdout",
     "output_type": "stream",
     "text": [
      "i 805 j 16 nb_backup 25204\n"
     ]
    },
    {
     "name": "stdout",
     "output_type": "stream",
     "text": [
      "i 806 j 34 nb_backup 25239\n"
     ]
    },
    {
     "name": "stdout",
     "output_type": "stream",
     "text": [
      "i 807 j 38 nb_backup 25278\n"
     ]
    },
    {
     "name": "stdout",
     "output_type": "stream",
     "text": [
      "i 808 j 26 nb_backup 25305\n"
     ]
    },
    {
     "name": "stdout",
     "output_type": "stream",
     "text": [
      "i 809 j 37 nb_backup 25343\n"
     ]
    },
    {
     "name": "stdout",
     "output_type": "stream",
     "text": [
      "i 810 j 26 nb_backup 25370\n"
     ]
    },
    {
     "name": "stdout",
     "output_type": "stream",
     "text": [
      "i 811 j 25 nb_backup 25396\n"
     ]
    },
    {
     "name": "stdout",
     "output_type": "stream",
     "text": [
      "i 812 j 18 nb_backup 25415\n"
     ]
    },
    {
     "name": "stdout",
     "output_type": "stream",
     "text": [
      "i 813 j 33 nb_backup 25449\n"
     ]
    },
    {
     "name": "stdout",
     "output_type": "stream",
     "text": [
      "i 814 j 24 nb_backup 25474\n"
     ]
    },
    {
     "name": "stdout",
     "output_type": "stream",
     "text": [
      "i 815 j 26 nb_backup 25501\n"
     ]
    },
    {
     "name": "stdout",
     "output_type": "stream",
     "text": [
      "i 816 j 30 nb_backup 25532\n"
     ]
    },
    {
     "name": "stdout",
     "output_type": "stream",
     "text": [
      "i 817 j 37 nb_backup 25570\n"
     ]
    },
    {
     "name": "stdout",
     "output_type": "stream",
     "text": [
      "i 818 j 27 nb_backup 25598\n"
     ]
    },
    {
     "name": "stdout",
     "output_type": "stream",
     "text": [
      "i 819 j 24 nb_backup 25623\n"
     ]
    },
    {
     "name": "stdout",
     "output_type": "stream",
     "text": [
      "i 820 j 15 nb_backup 25639\n"
     ]
    },
    {
     "name": "stdout",
     "output_type": "stream",
     "text": [
      "i 821 j 35 nb_backup 25675\n"
     ]
    },
    {
     "name": "stdout",
     "output_type": "stream",
     "text": [
      "i 822 j 37 nb_backup 25713\n"
     ]
    },
    {
     "name": "stdout",
     "output_type": "stream",
     "text": [
      "i 823 j 25 nb_backup 25739\n"
     ]
    },
    {
     "name": "stdout",
     "output_type": "stream",
     "text": [
      "i 824 j 26 nb_backup 25766\n"
     ]
    },
    {
     "name": "stdout",
     "output_type": "stream",
     "text": [
      "i 825 j 36 nb_backup 25803\n"
     ]
    },
    {
     "name": "stdout",
     "output_type": "stream",
     "text": [
      "i 826 j 20 nb_backup 25824\n"
     ]
    },
    {
     "name": "stdout",
     "output_type": "stream",
     "text": [
      "i 827 j 60 nb_backup 25885\n"
     ]
    },
    {
     "name": "stdout",
     "output_type": "stream",
     "text": [
      "i 828 j 22 nb_backup 25908\n"
     ]
    },
    {
     "name": "stdout",
     "output_type": "stream",
     "text": [
      "i 829 j 25 nb_backup 25934\n"
     ]
    },
    {
     "name": "stdout",
     "output_type": "stream",
     "text": [
      "i 830 j 30 nb_backup 25965\n"
     ]
    },
    {
     "name": "stdout",
     "output_type": "stream",
     "text": [
      "i 831 j 37 nb_backup 26003\n"
     ]
    },
    {
     "name": "stdout",
     "output_type": "stream",
     "text": [
      "i 832 j 37 nb_backup 26041\n"
     ]
    },
    {
     "name": "stdout",
     "output_type": "stream",
     "text": [
      "i 833 j 30 nb_backup 26072\n"
     ]
    },
    {
     "name": "stdout",
     "output_type": "stream",
     "text": [
      "i 834 j 24 nb_backup 26097\n"
     ]
    },
    {
     "name": "stdout",
     "output_type": "stream",
     "text": [
      "i 835 j 19 nb_backup 26117\n"
     ]
    },
    {
     "name": "stdout",
     "output_type": "stream",
     "text": [
      "i 836 j 27 nb_backup 26145\n"
     ]
    },
    {
     "name": "stdout",
     "output_type": "stream",
     "text": [
      "i 837 j 18 nb_backup 26164\n"
     ]
    },
    {
     "name": "stdout",
     "output_type": "stream",
     "text": [
      "i 838 j 41 nb_backup 26206\n"
     ]
    },
    {
     "name": "stdout",
     "output_type": "stream",
     "text": [
      "i 839 j 25 nb_backup 26232\n"
     ]
    },
    {
     "name": "stdout",
     "output_type": "stream",
     "text": [
      "i 840 j 25 nb_backup 26258\n"
     ]
    },
    {
     "name": "stdout",
     "output_type": "stream",
     "text": [
      "i 841 j 32 nb_backup 26291\n"
     ]
    },
    {
     "name": "stdout",
     "output_type": "stream",
     "text": [
      "i 842 j 28 nb_backup 26320\n"
     ]
    },
    {
     "name": "stdout",
     "output_type": "stream",
     "text": [
      "i 843 j 22 nb_backup 26343\n"
     ]
    },
    {
     "name": "stdout",
     "output_type": "stream",
     "text": [
      "i 844 j 22 nb_backup 26366\n"
     ]
    },
    {
     "name": "stdout",
     "output_type": "stream",
     "text": [
      "i 845 j 28 nb_backup 26395\n"
     ]
    },
    {
     "name": "stdout",
     "output_type": "stream",
     "text": [
      "i 846 j 21 nb_backup 26417\n"
     ]
    },
    {
     "name": "stdout",
     "output_type": "stream",
     "text": [
      "i 847 j 20 nb_backup 26438\n"
     ]
    },
    {
     "name": "stdout",
     "output_type": "stream",
     "text": [
      "i 848 j 24 nb_backup 26463\n"
     ]
    },
    {
     "name": "stdout",
     "output_type": "stream",
     "text": [
      "i 849 j 60 nb_backup 26524\n"
     ]
    },
    {
     "name": "stdout",
     "output_type": "stream",
     "text": [
      "i 850 j 28 nb_backup 26553\n"
     ]
    },
    {
     "name": "stdout",
     "output_type": "stream",
     "text": [
      "i 851 j 26 nb_backup 26580\n"
     ]
    },
    {
     "name": "stdout",
     "output_type": "stream",
     "text": [
      "i 852 j 26 nb_backup 26607\n"
     ]
    },
    {
     "name": "stdout",
     "output_type": "stream",
     "text": [
      "i 853 j 16 nb_backup 26624\n"
     ]
    },
    {
     "name": "stdout",
     "output_type": "stream",
     "text": [
      "i 854 j 19 nb_backup 26644\n"
     ]
    },
    {
     "name": "stdout",
     "output_type": "stream",
     "text": [
      "i 855 j 17 nb_backup 26662\n"
     ]
    },
    {
     "name": "stdout",
     "output_type": "stream",
     "text": [
      "i 856 j 18 nb_backup 26681\n"
     ]
    },
    {
     "name": "stdout",
     "output_type": "stream",
     "text": [
      "i 857 j 22 nb_backup 26704\n"
     ]
    },
    {
     "name": "stdout",
     "output_type": "stream",
     "text": [
      "i 858 j 20 nb_backup 26725\n"
     ]
    },
    {
     "name": "stdout",
     "output_type": "stream",
     "text": [
      "i 859 j 15 nb_backup 26741\n"
     ]
    },
    {
     "name": "stdout",
     "output_type": "stream",
     "text": [
      "i 860 j 22 nb_backup 26764\n"
     ]
    },
    {
     "name": "stdout",
     "output_type": "stream",
     "text": [
      "i 861 j 24 nb_backup 26789\n"
     ]
    },
    {
     "name": "stdout",
     "output_type": "stream",
     "text": [
      "i 862 j 21 nb_backup 26811\n"
     ]
    },
    {
     "name": "stdout",
     "output_type": "stream",
     "text": [
      "i 863 j 28 nb_backup 26840\n"
     ]
    },
    {
     "name": "stdout",
     "output_type": "stream",
     "text": [
      "i 864 j 27 nb_backup 26868\n"
     ]
    },
    {
     "name": "stdout",
     "output_type": "stream",
     "text": [
      "i 865 j 34 nb_backup 26903\n"
     ]
    },
    {
     "name": "stdout",
     "output_type": "stream",
     "text": [
      "i 866 j 25 nb_backup 26929\n"
     ]
    },
    {
     "name": "stdout",
     "output_type": "stream",
     "text": [
      "i 867 j 18 nb_backup 26948\n"
     ]
    },
    {
     "name": "stdout",
     "output_type": "stream",
     "text": [
      "i 868 j 20 nb_backup 26969\n"
     ]
    },
    {
     "name": "stdout",
     "output_type": "stream",
     "text": [
      "i 869 j 18 nb_backup 26988\n"
     ]
    },
    {
     "name": "stdout",
     "output_type": "stream",
     "text": [
      "i 870 j 45 nb_backup 27034\n"
     ]
    },
    {
     "name": "stdout",
     "output_type": "stream",
     "text": [
      "i 871 j 23 nb_backup 27058\n"
     ]
    },
    {
     "name": "stdout",
     "output_type": "stream",
     "text": [
      "i 872 j 26 nb_backup 27085\n"
     ]
    },
    {
     "name": "stdout",
     "output_type": "stream",
     "text": [
      "i 873 j 25 nb_backup 27111\n"
     ]
    },
    {
     "name": "stdout",
     "output_type": "stream",
     "text": [
      "i 874 j 21 nb_backup 27133\n"
     ]
    },
    {
     "name": "stdout",
     "output_type": "stream",
     "text": [
      "i 875 j 21 nb_backup 27155\n"
     ]
    },
    {
     "name": "stdout",
     "output_type": "stream",
     "text": [
      "i 876 j 19 nb_backup 27175\n"
     ]
    },
    {
     "name": "stdout",
     "output_type": "stream",
     "text": [
      "i 877 j 23 nb_backup 27199\n"
     ]
    },
    {
     "name": "stdout",
     "output_type": "stream",
     "text": [
      "i 878 j 24 nb_backup 27224\n"
     ]
    },
    {
     "name": "stdout",
     "output_type": "stream",
     "text": [
      "i 879 j 15 nb_backup 27240\n"
     ]
    },
    {
     "name": "stdout",
     "output_type": "stream",
     "text": [
      "i 880 j 24 nb_backup 27265\n"
     ]
    },
    {
     "name": "stdout",
     "output_type": "stream",
     "text": [
      "i 881 j 29 nb_backup 27295\n"
     ]
    },
    {
     "name": "stdout",
     "output_type": "stream",
     "text": [
      "i 882 j 38 nb_backup 27334\n"
     ]
    },
    {
     "name": "stdout",
     "output_type": "stream",
     "text": [
      "i 883 j 26 nb_backup 27361\n"
     ]
    },
    {
     "name": "stdout",
     "output_type": "stream",
     "text": [
      "i 884 j 26 nb_backup 27388\n"
     ]
    },
    {
     "name": "stdout",
     "output_type": "stream",
     "text": [
      "i 885 j 29 nb_backup 27418\n"
     ]
    },
    {
     "name": "stdout",
     "output_type": "stream",
     "text": [
      "i 886 j 16 nb_backup 27435\n"
     ]
    },
    {
     "name": "stdout",
     "output_type": "stream",
     "text": [
      "i 887 j 28 nb_backup 27464\n"
     ]
    },
    {
     "name": "stdout",
     "output_type": "stream",
     "text": [
      "i 888 j 26 nb_backup 27491\n"
     ]
    },
    {
     "name": "stdout",
     "output_type": "stream",
     "text": [
      "i 889 j 28 nb_backup 27520\n"
     ]
    },
    {
     "name": "stdout",
     "output_type": "stream",
     "text": [
      "i 890 j 31 nb_backup 27552\n"
     ]
    },
    {
     "name": "stdout",
     "output_type": "stream",
     "text": [
      "i 891 j 31 nb_backup 27584\n"
     ]
    },
    {
     "name": "stdout",
     "output_type": "stream",
     "text": [
      "i 892 j 19 nb_backup 27604\n"
     ]
    },
    {
     "name": "stdout",
     "output_type": "stream",
     "text": [
      "i 893 j 32 nb_backup 27637\n"
     ]
    },
    {
     "name": "stdout",
     "output_type": "stream",
     "text": [
      "i 894 j 22 nb_backup 27660\n"
     ]
    },
    {
     "name": "stdout",
     "output_type": "stream",
     "text": [
      "i 895 j 44 nb_backup 27705\n"
     ]
    },
    {
     "name": "stdout",
     "output_type": "stream",
     "text": [
      "i 896 j 31 nb_backup 27737\n"
     ]
    },
    {
     "name": "stdout",
     "output_type": "stream",
     "text": [
      "i 897 j 17 nb_backup 27755\n"
     ]
    },
    {
     "name": "stdout",
     "output_type": "stream",
     "text": [
      "i 898 j 39 nb_backup 27795\n"
     ]
    },
    {
     "name": "stdout",
     "output_type": "stream",
     "text": [
      "i 899 j 24 nb_backup 27820\n"
     ]
    },
    {
     "name": "stdout",
     "output_type": "stream",
     "text": [
      "i 900 j 24 nb_backup 27845\n"
     ]
    },
    {
     "name": "stdout",
     "output_type": "stream",
     "text": [
      "i 901 j 24 nb_backup 27870\n"
     ]
    },
    {
     "name": "stdout",
     "output_type": "stream",
     "text": [
      "i 902 j 16 nb_backup 27887\n"
     ]
    },
    {
     "name": "stdout",
     "output_type": "stream",
     "text": [
      "i 903 j 39 nb_backup 27927\n"
     ]
    },
    {
     "name": "stdout",
     "output_type": "stream",
     "text": [
      "i 904 j 24 nb_backup 27952\n"
     ]
    },
    {
     "name": "stdout",
     "output_type": "stream",
     "text": [
      "i 905 j 22 nb_backup 27975\n"
     ]
    },
    {
     "name": "stdout",
     "output_type": "stream",
     "text": [
      "i 906 j 21 nb_backup 27997\n"
     ]
    },
    {
     "name": "stdout",
     "output_type": "stream",
     "text": [
      "i 907 j 20 nb_backup 28018\n"
     ]
    },
    {
     "name": "stdout",
     "output_type": "stream",
     "text": [
      "i 908 j 31 nb_backup 28050\n"
     ]
    },
    {
     "name": "stdout",
     "output_type": "stream",
     "text": [
      "i 909 j 25 nb_backup 28076\n"
     ]
    },
    {
     "name": "stdout",
     "output_type": "stream",
     "text": [
      "i 910 j 26 nb_backup 28103\n"
     ]
    },
    {
     "name": "stdout",
     "output_type": "stream",
     "text": [
      "i 911 j 17 nb_backup 28121\n"
     ]
    },
    {
     "name": "stdout",
     "output_type": "stream",
     "text": [
      "i 912 j 21 nb_backup 28143\n"
     ]
    },
    {
     "name": "stdout",
     "output_type": "stream",
     "text": [
      "i 913 j 43 nb_backup 28187\n"
     ]
    },
    {
     "name": "stdout",
     "output_type": "stream",
     "text": [
      "i 914 j 31 nb_backup 28219\n"
     ]
    },
    {
     "name": "stdout",
     "output_type": "stream",
     "text": [
      "i 915 j 17 nb_backup 28237\n"
     ]
    },
    {
     "name": "stdout",
     "output_type": "stream",
     "text": [
      "i 916 j 36 nb_backup 28274\n"
     ]
    },
    {
     "name": "stdout",
     "output_type": "stream",
     "text": [
      "i 917 j 21 nb_backup 28296\n"
     ]
    },
    {
     "name": "stdout",
     "output_type": "stream",
     "text": [
      "i 918 j 24 nb_backup 28321\n"
     ]
    },
    {
     "name": "stdout",
     "output_type": "stream",
     "text": [
      "i 919 j 26 nb_backup 28348\n"
     ]
    },
    {
     "name": "stdout",
     "output_type": "stream",
     "text": [
      "i 920 j 38 nb_backup 28387\n"
     ]
    },
    {
     "name": "stdout",
     "output_type": "stream",
     "text": [
      "i 921 j 28 nb_backup 28416\n"
     ]
    },
    {
     "name": "stdout",
     "output_type": "stream",
     "text": [
      "i 922 j 25 nb_backup 28442\n"
     ]
    },
    {
     "name": "stdout",
     "output_type": "stream",
     "text": [
      "i 923 j 24 nb_backup 28467\n"
     ]
    },
    {
     "name": "stdout",
     "output_type": "stream",
     "text": [
      "i 924 j 38 nb_backup 28506\n"
     ]
    },
    {
     "name": "stdout",
     "output_type": "stream",
     "text": [
      "i 925 j 13 nb_backup 28520\n"
     ]
    },
    {
     "name": "stdout",
     "output_type": "stream",
     "text": [
      "i 926 j 28 nb_backup 28549\n"
     ]
    },
    {
     "name": "stdout",
     "output_type": "stream",
     "text": [
      "i 927 j 30 nb_backup 28580\n"
     ]
    },
    {
     "name": "stdout",
     "output_type": "stream",
     "text": [
      "i 928 j 19 nb_backup 28600\n"
     ]
    },
    {
     "name": "stdout",
     "output_type": "stream",
     "text": [
      "i 929 j 16 nb_backup 28617\n"
     ]
    },
    {
     "name": "stdout",
     "output_type": "stream",
     "text": [
      "i 930 j 18 nb_backup 28636\n"
     ]
    },
    {
     "name": "stdout",
     "output_type": "stream",
     "text": [
      "i 931 j 21 nb_backup 28658\n"
     ]
    },
    {
     "name": "stdout",
     "output_type": "stream",
     "text": [
      "i 932 j 28 nb_backup 28687\n"
     ]
    },
    {
     "name": "stdout",
     "output_type": "stream",
     "text": [
      "i 933 j 24 nb_backup 28712\n"
     ]
    },
    {
     "name": "stdout",
     "output_type": "stream",
     "text": [
      "i 934 j 29 nb_backup 28742\n"
     ]
    },
    {
     "name": "stdout",
     "output_type": "stream",
     "text": [
      "i 935 j 30 nb_backup 28773\n"
     ]
    },
    {
     "name": "stdout",
     "output_type": "stream",
     "text": [
      "i 936 j 43 nb_backup 28817\n"
     ]
    },
    {
     "name": "stdout",
     "output_type": "stream",
     "text": [
      "i 937 j 33 nb_backup 28851\n"
     ]
    },
    {
     "name": "stdout",
     "output_type": "stream",
     "text": [
      "i 938 j 18 nb_backup 28870\n"
     ]
    },
    {
     "name": "stdout",
     "output_type": "stream",
     "text": [
      "i 939 j 17 nb_backup 28888\n"
     ]
    },
    {
     "name": "stdout",
     "output_type": "stream",
     "text": [
      "i 940 j 20 nb_backup 28909\n"
     ]
    },
    {
     "name": "stdout",
     "output_type": "stream",
     "text": [
      "i 941 j 23 nb_backup 28933\n"
     ]
    },
    {
     "name": "stdout",
     "output_type": "stream",
     "text": [
      "i 942 j 32 nb_backup 28966\n"
     ]
    },
    {
     "name": "stdout",
     "output_type": "stream",
     "text": [
      "i 943 j 20 nb_backup 28987\n"
     ]
    },
    {
     "name": "stdout",
     "output_type": "stream",
     "text": [
      "i 944 j 29 nb_backup 29017\n"
     ]
    },
    {
     "name": "stdout",
     "output_type": "stream",
     "text": [
      "i 945 j 41 nb_backup 29059\n"
     ]
    },
    {
     "name": "stdout",
     "output_type": "stream",
     "text": [
      "i 946 j 32 nb_backup 29092\n"
     ]
    },
    {
     "name": "stdout",
     "output_type": "stream",
     "text": [
      "i 947 j 34 nb_backup 29127\n"
     ]
    },
    {
     "name": "stdout",
     "output_type": "stream",
     "text": [
      "i 948 j 28 nb_backup 29156\n"
     ]
    },
    {
     "name": "stdout",
     "output_type": "stream",
     "text": [
      "i 949 j 30 nb_backup 29187\n"
     ]
    },
    {
     "name": "stdout",
     "output_type": "stream",
     "text": [
      "i 950 j 33 nb_backup 29221\n"
     ]
    },
    {
     "name": "stdout",
     "output_type": "stream",
     "text": [
      "i 951 j 17 nb_backup 29239\n"
     ]
    },
    {
     "name": "stdout",
     "output_type": "stream",
     "text": [
      "i 952 j 39 nb_backup 29279\n"
     ]
    },
    {
     "name": "stdout",
     "output_type": "stream",
     "text": [
      "i 953 j 23 nb_backup 29303\n"
     ]
    },
    {
     "name": "stdout",
     "output_type": "stream",
     "text": [
      "i 954 j 40 nb_backup 29344\n"
     ]
    },
    {
     "name": "stdout",
     "output_type": "stream",
     "text": [
      "i 955 j 40 nb_backup 29385\n"
     ]
    },
    {
     "name": "stdout",
     "output_type": "stream",
     "text": [
      "i 956 j 16 nb_backup 29402\n"
     ]
    },
    {
     "name": "stdout",
     "output_type": "stream",
     "text": [
      "i 957 j 17 nb_backup 29420\n"
     ]
    },
    {
     "name": "stdout",
     "output_type": "stream",
     "text": [
      "i 958 j 21 nb_backup 29442\n"
     ]
    },
    {
     "name": "stdout",
     "output_type": "stream",
     "text": [
      "i 959 j 15 nb_backup 29458\n"
     ]
    },
    {
     "name": "stdout",
     "output_type": "stream",
     "text": [
      "i 960 j 46 nb_backup 29505\n"
     ]
    },
    {
     "name": "stdout",
     "output_type": "stream",
     "text": [
      "i 961 j 32 nb_backup 29538\n"
     ]
    },
    {
     "name": "stdout",
     "output_type": "stream",
     "text": [
      "i 962 j 28 nb_backup 29567\n"
     ]
    },
    {
     "name": "stdout",
     "output_type": "stream",
     "text": [
      "i 963 j 37 nb_backup 29605\n"
     ]
    },
    {
     "name": "stdout",
     "output_type": "stream",
     "text": [
      "i 964 j 25 nb_backup 29631\n"
     ]
    },
    {
     "name": "stdout",
     "output_type": "stream",
     "text": [
      "i 965 j 32 nb_backup 29664\n"
     ]
    },
    {
     "name": "stdout",
     "output_type": "stream",
     "text": [
      "i 966 j 35 nb_backup 29700\n"
     ]
    },
    {
     "name": "stdout",
     "output_type": "stream",
     "text": [
      "i 967 j 20 nb_backup 29721\n"
     ]
    },
    {
     "name": "stdout",
     "output_type": "stream",
     "text": [
      "i 968 j 41 nb_backup 29763\n"
     ]
    },
    {
     "name": "stdout",
     "output_type": "stream",
     "text": [
      "i 969 j 36 nb_backup 29800\n"
     ]
    },
    {
     "name": "stdout",
     "output_type": "stream",
     "text": [
      "i 970 j 22 nb_backup 29823\n"
     ]
    },
    {
     "name": "stdout",
     "output_type": "stream",
     "text": [
      "i 971 j 31 nb_backup 29855\n"
     ]
    },
    {
     "name": "stdout",
     "output_type": "stream",
     "text": [
      "i 972 j 36 nb_backup 29892\n"
     ]
    },
    {
     "name": "stdout",
     "output_type": "stream",
     "text": [
      "i 973 j 28 nb_backup 29921\n"
     ]
    },
    {
     "name": "stdout",
     "output_type": "stream",
     "text": [
      "i 974 j 28 nb_backup 29950\n"
     ]
    },
    {
     "name": "stdout",
     "output_type": "stream",
     "text": [
      "i 975 j 34 nb_backup 29985\n"
     ]
    },
    {
     "name": "stdout",
     "output_type": "stream",
     "text": [
      "i 976 j 28 nb_backup 30014\n"
     ]
    },
    {
     "name": "stdout",
     "output_type": "stream",
     "text": [
      "i 977 j 29 nb_backup 30044\n"
     ]
    },
    {
     "name": "stdout",
     "output_type": "stream",
     "text": [
      "i 978 j 27 nb_backup 30072\n"
     ]
    },
    {
     "name": "stdout",
     "output_type": "stream",
     "text": [
      "i 979 j 42 nb_backup 30115\n"
     ]
    },
    {
     "name": "stdout",
     "output_type": "stream",
     "text": [
      "i 980 j 17 nb_backup 30133\n"
     ]
    },
    {
     "name": "stdout",
     "output_type": "stream",
     "text": [
      "i 981 j 20 nb_backup 30154\n"
     ]
    },
    {
     "name": "stdout",
     "output_type": "stream",
     "text": [
      "i 982 j 21 nb_backup 30176\n"
     ]
    },
    {
     "name": "stdout",
     "output_type": "stream",
     "text": [
      "i 983 j 27 nb_backup 30204\n"
     ]
    },
    {
     "name": "stdout",
     "output_type": "stream",
     "text": [
      "i 984 j 26 nb_backup 30231\n"
     ]
    },
    {
     "name": "stdout",
     "output_type": "stream",
     "text": [
      "i 985 j 15 nb_backup 30247\n"
     ]
    },
    {
     "name": "stdout",
     "output_type": "stream",
     "text": [
      "i 986 j 26 nb_backup 30274\n"
     ]
    },
    {
     "name": "stdout",
     "output_type": "stream",
     "text": [
      "i 987 j 19 nb_backup 30294\n"
     ]
    },
    {
     "name": "stdout",
     "output_type": "stream",
     "text": [
      "i 988 j 32 nb_backup 30327\n"
     ]
    },
    {
     "name": "stdout",
     "output_type": "stream",
     "text": [
      "i 989 j 18 nb_backup 30346\n"
     ]
    },
    {
     "name": "stdout",
     "output_type": "stream",
     "text": [
      "i 990 j 26 nb_backup 30373\n"
     ]
    },
    {
     "name": "stdout",
     "output_type": "stream",
     "text": [
      "i 991 j 18 nb_backup 30392\n"
     ]
    },
    {
     "name": "stdout",
     "output_type": "stream",
     "text": [
      "i 992 j 41 nb_backup 30434\n"
     ]
    },
    {
     "name": "stdout",
     "output_type": "stream",
     "text": [
      "i 993 j 16 nb_backup 30451\n"
     ]
    },
    {
     "name": "stdout",
     "output_type": "stream",
     "text": [
      "i 994 j 31 nb_backup 30483\n"
     ]
    },
    {
     "name": "stdout",
     "output_type": "stream",
     "text": [
      "i 995 j 25 nb_backup 30509\n"
     ]
    },
    {
     "name": "stdout",
     "output_type": "stream",
     "text": [
      "i 996 j 17 nb_backup 30527\n"
     ]
    },
    {
     "name": "stdout",
     "output_type": "stream",
     "text": [
      "i 997 j 19 nb_backup 30547\n"
     ]
    },
    {
     "name": "stdout",
     "output_type": "stream",
     "text": [
      "i 998 j 20 nb_backup 30568\n"
     ]
    },
    {
     "name": "stdout",
     "output_type": "stream",
     "text": [
      "i 999 j 27 nb_backup 30596\n"
     ]
    }
   ],
   "source": [
    "QueueDyna = LargestFirst(env_9x6, alpha, delta, epsilon,max_step, render = True, episode= 1000)\n",
    "QueueDyna.execute()"
   ]
  },
  {
   "cell_type": "code",
   "execution_count": 15,
   "metadata": {},
   "outputs": [
    {
     "data": {
      "image/png": "[encoded data removed]",
      "text/plain": [
       "<Figure size 432x288 with 1 Axes>"
      ]
     },
     "metadata": {
      "needs_background": "light"
     },
     "output_type": "display_data"
    }
   ],
   "source": [
    "data = pd.read_csv(\"executionInformation.csv\")\n",
    "\n",
    "nb_steps = data[\"nb_step\"]\n",
    "nb_backup = data[\"nb_backup\"]\n",
    "\n",
    "plt.plot(nb_backup,nb_steps)\n",
    "\n",
    "\n",
    "plt.title('Courbe du nombre de step to goal en fonction du nombre de backup')\n",
    "plt.xlabel('nb_backup')\n",
    "plt.ylabel('nb_step')\n",
    "plt.xscale('log')\n",
    "plt.grid(True)\n",
    "plt.show()"
   ]
  },
  {
   "cell_type": "markdown",
   "metadata": {},
   "source": [
    "# Random Dyna"
   ]
  },
  {
   "cell_type": "code",
   "execution_count": 16,
   "metadata": {},
   "outputs": [
    {
     "name": "stdout",
     "output_type": "stream",
     "text": [
      "i 0 j 316 nb_backup 317\n",
      "i 1 j 320 nb_backup 638\n",
      "i 2 j 524 nb_backup 1163\n",
      "i 3 j 317 nb_backup 1481\n",
      "i 4 j 129 nb_backup 1611\n",
      "i 5 j 216 nb_backup 1828\n",
      "i 6 j 67 nb_backup 1896\n",
      "i 7 j 87 nb_backup 1984\n",
      "i 8 j 142 nb_backup 2127\n",
      "i 9 j 101 nb_backup 2229\n",
      "i 10 j 152 nb_backup 2382\n",
      "i 11 j 124 nb_backup 2507\n",
      "i 12 j 55 nb_backup 2563\n",
      "i 13 j 17 nb_backup 2581\n",
      "i 14 j 27 nb_backup 2609\n",
      "i 15 j 93 nb_backup 2703\n",
      "i 16 j 29 nb_backup 2733\n",
      "i 17 j 20 nb_backup 2754\n",
      "i 18 j 37 nb_backup 2792\n",
      "i 19 j 28 nb_backup 2821\n",
      "i 20 j 46 nb_backup 2868\n",
      "i 21 j 48 nb_backup 2917\n",
      "i 22 j 50 nb_backup 2968\n",
      "i 23 j 42 nb_backup 3011\n",
      "i 24 j 22 nb_backup 3034\n",
      "i 25 j 53 nb_backup 3088\n",
      "i 26 j 23 nb_backup 3112\n",
      "i 27 j 17 nb_backup 3130\n",
      "i 28 j 44 nb_backup 3175\n",
      "i 29 j 13 nb_backup 3189\n",
      "i 30 j 22 nb_backup 3212\n",
      "i 31 j 18 nb_backup 3231\n",
      "i 32 j 53 nb_backup 3285\n",
      "i 33 j 36 nb_backup 3322\n",
      "i 34 j 30 nb_backup 3353\n",
      "i 35 j 43 nb_backup 3397\n",
      "i 36 j 31 nb_backup 3429\n",
      "i 37 j 18 nb_backup 3448\n",
      "i 38 j 32 nb_backup 3481\n",
      "i 39 j 36 nb_backup 3518\n",
      "i 40 j 18 nb_backup 3537\n",
      "i 41 j 26 nb_backup 3564\n",
      "i 42 j 19 nb_backup 3584\n",
      "i 43 j 47 nb_backup 3632\n",
      "i 44 j 32 nb_backup 3665\n",
      "i 45 j 44 nb_backup 3710\n",
      "i 46 j 21 nb_backup 3732\n",
      "i 47 j 24 nb_backup 3757\n",
      "i 48 j 20 nb_backup 3778\n",
      "i 49 j 24 nb_backup 3803\n",
      "i 50 j 38 nb_backup 3842\n",
      "i 51 j 37 nb_backup 3880\n",
      "i 52 j 29 nb_backup 3910\n",
      "i 53 j 45 nb_backup 3956\n",
      "i 54 j 32 nb_backup 3989\n",
      "i 55 j 43 nb_backup 4033\n",
      "i 56 j 25 nb_backup 4059\n",
      "i 57 j 40 nb_backup 4100\n",
      "i 58 j 49 nb_backup 4150\n",
      "i 59 j 17 nb_backup 4168\n",
      "i 60 j 28 nb_backup 4197\n",
      "i 61 j 39 nb_backup 4237\n",
      "i 62 j 36 nb_backup 4274\n",
      "i 63 j 20 nb_backup 4295\n",
      "i 64 j 34 nb_backup 4330\n",
      "i 65 j 21 nb_backup 4352\n",
      "i 66 j 19 nb_backup 4372\n",
      "i 67 j 17 nb_backup 4390\n",
      "i 68 j 27 nb_backup 4418\n",
      "i 69 j 36 nb_backup 4455\n",
      "i 70 j 18 nb_backup 4474\n",
      "i 71 j 32 nb_backup 4507\n",
      "i 72 j 28 nb_backup 4536\n",
      "i 73 j 34 nb_backup 4571\n",
      "i 74 j 26 nb_backup 4598\n",
      "i 75 j 14 nb_backup 4613\n",
      "i 76 j 19 nb_backup 4633\n",
      "i 77 j 47 nb_backup 4681\n",
      "i 78 j 42 nb_backup 4724\n",
      "i 79 j 31 nb_backup 4756\n",
      "i 80 j 16 nb_backup 4773\n",
      "i 81 j 31 nb_backup 4805\n",
      "i 82 j 15 nb_backup 4821\n",
      "i 83 j 46 nb_backup 4868\n",
      "i 84 j 15 nb_backup 4884\n",
      "i 85 j 34 nb_backup 4919\n",
      "i 86 j 33 nb_backup 4953\n",
      "i 87 j 26 nb_backup 4980\n",
      "i 88 j 22 nb_backup 5003\n",
      "i 89 j 21 nb_backup 5025\n",
      "i 90 j 23 nb_backup 5049\n",
      "i 91 j 16 nb_backup 5066\n",
      "i 92 j 29 nb_backup 5096\n",
      "i 93 j 23 nb_backup 5120\n",
      "i 94 j 20 nb_backup 5141\n",
      "i 95 j 18 nb_backup 5160\n",
      "i 96 j 23 nb_backup 5184\n",
      "i 97 j 26 nb_backup 5211\n",
      "i 98 j 36 nb_backup 5248\n",
      "i 99 j 31 nb_backup 5280\n",
      "i 100 j 25 nb_backup 5306\n",
      "i 101 j 23 nb_backup 5330\n",
      "i 102 j 19 nb_backup 5350\n",
      "i 103 j 19 nb_backup 5370\n",
      "i 104 j 23 nb_backup 5394\n",
      "i 105 j 17 nb_backup 5412\n",
      "i 106 j 43 nb_backup 5456\n",
      "i 107 j 24 nb_backup 5481\n",
      "i 108 j 21 nb_backup 5503\n",
      "i 109 j 28 nb_backup 5532\n",
      "i 110 j 15 nb_backup 5548\n",
      "i 111 j 29 nb_backup 5578\n",
      "i 112 j 44 nb_backup 5623\n",
      "i 113 j 26 nb_backup 5650\n",
      "i 114 j 23 nb_backup 5674\n",
      "i 115 j 18 nb_backup 5693\n",
      "i 116 j 26 nb_backup 5720\n",
      "i 117 j 18 nb_backup 5739\n",
      "i 118 j 15 nb_backup 5755\n",
      "i 119 j 34 nb_backup 5790\n",
      "i 120 j 15 nb_backup 5806\n",
      "i 121 j 23 nb_backup 5830\n",
      "i 122 j 18 nb_backup 5849\n",
      "i 123 j 23 nb_backup 5873\n",
      "i 124 j 25 nb_backup 5899\n",
      "i 125 j 30 nb_backup 5930\n",
      "i 126 j 19 nb_backup 5950\n",
      "i 127 j 29 nb_backup 5980\n",
      "i 128 j 21 nb_backup 6002\n",
      "i 129 j 28 nb_backup 6031\n",
      "i 130 j 30 nb_backup 6062\n",
      "i 131 j 37 nb_backup 6100\n",
      "i 132 j 43 nb_backup 6144\n",
      "i 133 j 19 nb_backup 6164\n",
      "i 134 j 17 nb_backup 6182\n",
      "i 135 j 22 nb_backup 6205\n",
      "i 136 j 23 nb_backup 6229\n",
      "i 137 j 22 nb_backup 6252\n",
      "i 138 j 22 nb_backup 6275\n",
      "i 139 j 68 nb_backup 6344\n",
      "i 140 j 27 nb_backup 6372\n",
      "i 141 j 33 nb_backup 6406\n",
      "i 142 j 21 nb_backup 6428\n",
      "i 143 j 36 nb_backup 6465\n",
      "i 144 j 21 nb_backup 6487\n",
      "i 145 j 37 nb_backup 6525\n",
      "i 146 j 19 nb_backup 6545\n",
      "i 147 j 33 nb_backup 6579\n",
      "i 148 j 28 nb_backup 6608\n",
      "i 149 j 20 nb_backup 6629\n",
      "i 150 j 41 nb_backup 6671\n",
      "i 151 j 43 nb_backup 6715\n",
      "i 152 j 26 nb_backup 6742\n",
      "i 153 j 34 nb_backup 6777\n",
      "i 154 j 20 nb_backup 6798\n",
      "i 155 j 23 nb_backup 6822\n",
      "i 156 j 14 nb_backup 6837\n",
      "i 157 j 31 nb_backup 6869\n",
      "i 158 j 39 nb_backup 6909\n",
      "i 159 j 20 nb_backup 6930\n",
      "i 160 j 22 nb_backup 6953\n",
      "i 161 j 66 nb_backup 7020\n",
      "i 162 j 28 nb_backup 7049\n",
      "i 163 j 23 nb_backup 7073\n",
      "i 164 j 31 nb_backup 7105\n",
      "i 165 j 38 nb_backup 7144\n",
      "i 166 j 32 nb_backup 7177\n",
      "i 167 j 29 nb_backup 7207\n",
      "i 168 j 24 nb_backup 7232\n",
      "i 169 j 22 nb_backup 7255\n",
      "i 170 j 16 nb_backup 7272\n",
      "i 171 j 24 nb_backup 7297\n",
      "i 172 j 25 nb_backup 7323\n",
      "i 173 j 20 nb_backup 7344\n",
      "i 174 j 23 nb_backup 7368\n",
      "i 175 j 54 nb_backup 7423\n",
      "i 176 j 22 nb_backup 7446\n",
      "i 177 j 20 nb_backup 7467\n",
      "i 178 j 28 nb_backup 7496\n",
      "i 179 j 26 nb_backup 7523\n",
      "i 180 j 40 nb_backup 7564\n",
      "i 181 j 24 nb_backup 7589\n",
      "i 182 j 19 nb_backup 7609\n",
      "i 183 j 36 nb_backup 7646\n",
      "i 184 j 20 nb_backup 7667\n",
      "i 185 j 30 nb_backup 7698\n",
      "i 186 j 32 nb_backup 7731\n",
      "i 187 j 16 nb_backup 7748\n",
      "i 188 j 23 nb_backup 7772\n",
      "i 189 j 19 nb_backup 7792\n",
      "i 190 j 16 nb_backup 7809\n",
      "i 191 j 22 nb_backup 7832\n",
      "i 192 j 28 nb_backup 7861\n",
      "i 193 j 28 nb_backup 7890\n",
      "i 194 j 25 nb_backup 7916\n",
      "i 195 j 30 nb_backup 7947\n",
      "i 196 j 24 nb_backup 7972\n",
      "i 197 j 32 nb_backup 8005\n",
      "i 198 j 21 nb_backup 8027\n",
      "i 199 j 17 nb_backup 8045\n",
      "i 200 j 52 nb_backup 8098\n",
      "i 201 j 20 nb_backup 8119\n",
      "i 202 j 27 nb_backup 8147\n",
      "i 203 j 36 nb_backup 8184\n",
      "i 204 j 19 nb_backup 8204\n",
      "i 205 j 17 nb_backup 8222\n",
      "i 206 j 22 nb_backup 8245\n",
      "i 207 j 30 nb_backup 8276\n",
      "i 208 j 19 nb_backup 8296\n",
      "i 209 j 26 nb_backup 8323\n",
      "i 210 j 26 nb_backup 8350\n",
      "i 211 j 23 nb_backup 8374\n",
      "i 212 j 36 nb_backup 8411\n",
      "i 213 j 29 nb_backup 8441\n",
      "i 214 j 20 nb_backup 8462\n",
      "i 215 j 28 nb_backup 8491\n",
      "i 216 j 28 nb_backup 8520\n",
      "i 217 j 35 nb_backup 8556\n",
      "i 218 j 18 nb_backup 8575\n",
      "i 219 j 23 nb_backup 8599\n",
      "i 220 j 41 nb_backup 8641\n",
      "i 221 j 24 nb_backup 8666\n",
      "i 222 j 15 nb_backup 8682\n",
      "i 223 j 23 nb_backup 8706\n",
      "i 224 j 27 nb_backup 8734\n",
      "i 225 j 23 nb_backup 8758\n",
      "i 226 j 23 nb_backup 8782\n",
      "i 227 j 16 nb_backup 8799\n",
      "i 228 j 47 nb_backup 8847\n",
      "i 229 j 16 nb_backup 8864\n",
      "i 230 j 18 nb_backup 8883\n",
      "i 231 j 31 nb_backup 8915\n",
      "i 232 j 28 nb_backup 8944\n",
      "i 233 j 42 nb_backup 8987\n",
      "i 234 j 30 nb_backup 9018\n",
      "i 235 j 35 nb_backup 9054\n",
      "i 236 j 27 nb_backup 9082\n",
      "i 237 j 23 nb_backup 9106\n",
      "i 238 j 24 nb_backup 9131\n",
      "i 239 j 19 nb_backup 9151\n",
      "i 240 j 18 nb_backup 9170\n",
      "i 241 j 27 nb_backup 9198\n",
      "i 242 j 22 nb_backup 9221\n",
      "i 243 j 35 nb_backup 9257\n",
      "i 244 j 18 nb_backup 9276\n",
      "i 245 j 39 nb_backup 9316\n",
      "i 246 j 28 nb_backup 9345\n",
      "i 247 j 25 nb_backup 9371\n",
      "i 248 j 29 nb_backup 9401\n",
      "i 249 j 42 nb_backup 9444\n",
      "i 250 j 40 nb_backup 9485\n",
      "i 251 j 29 nb_backup 9515\n",
      "i 252 j 26 nb_backup 9542\n",
      "i 253 j 29 nb_backup 9572\n",
      "i 254 j 23 nb_backup 9596\n",
      "i 255 j 26 nb_backup 9623\n",
      "i 256 j 23 nb_backup 9647\n",
      "i 257 j 28 nb_backup 9676\n",
      "i 258 j 47 nb_backup 9724\n",
      "i 259 j 25 nb_backup 9750\n",
      "i 260 j 23 nb_backup 9774\n",
      "i 261 j 25 nb_backup 9800\n",
      "i 262 j 45 nb_backup 9846\n",
      "i 263 j 24 nb_backup 9871\n",
      "i 264 j 33 nb_backup 9905\n",
      "i 265 j 25 nb_backup 9931\n",
      "i 266 j 22 nb_backup 9954\n",
      "i 267 j 17 nb_backup 9972\n",
      "i 268 j 22 nb_backup 9995\n",
      "i 269 j 22 nb_backup 10018\n",
      "i 270 j 37 nb_backup 10056\n",
      "i 271 j 22 nb_backup 10079\n",
      "i 272 j 41 nb_backup 10121\n",
      "i 273 j 26 nb_backup 10148\n",
      "i 274 j 23 nb_backup 10172\n",
      "i 275 j 28 nb_backup 10201\n",
      "i 276 j 35 nb_backup 10237\n",
      "i 277 j 24 nb_backup 10262\n",
      "i 278 j 28 nb_backup 10291\n",
      "i 279 j 32 nb_backup 10324\n",
      "i 280 j 20 nb_backup 10345\n",
      "i 281 j 24 nb_backup 10370\n",
      "i 282 j 25 nb_backup 10396\n",
      "i 283 j 22 nb_backup 10419\n",
      "i 284 j 25 nb_backup 10445\n",
      "i 285 j 13 nb_backup 10459\n",
      "i 286 j 29 nb_backup 10489\n",
      "i 287 j 15 nb_backup 10505\n",
      "i 288 j 29 nb_backup 10535\n",
      "i 289 j 18 nb_backup 10554\n",
      "i 290 j 22 nb_backup 10577\n",
      "i 291 j 21 nb_backup 10599\n",
      "i 292 j 16 nb_backup 10616\n",
      "i 293 j 26 nb_backup 10643\n",
      "i 294 j 28 nb_backup 10672\n",
      "i 295 j 20 nb_backup 10693\n",
      "i 296 j 21 nb_backup 10715\n",
      "i 297 j 27 nb_backup 10743\n",
      "i 298 j 24 nb_backup 10768\n",
      "i 299 j 20 nb_backup 10789\n",
      "i 300 j 16 nb_backup 10806\n",
      "i 301 j 26 nb_backup 10833\n",
      "i 302 j 20 nb_backup 10854\n",
      "i 303 j 52 nb_backup 10907\n",
      "i 304 j 30 nb_backup 10938\n",
      "i 305 j 23 nb_backup 10962\n",
      "i 306 j 36 nb_backup 10999\n",
      "i 307 j 47 nb_backup 11047\n",
      "i 308 j 21 nb_backup 11069\n",
      "i 309 j 23 nb_backup 11093\n",
      "i 310 j 34 nb_backup 11128\n",
      "i 311 j 33 nb_backup 11162\n",
      "i 312 j 34 nb_backup 11197\n",
      "i 313 j 18 nb_backup 11216\n",
      "i 314 j 23 nb_backup 11240\n",
      "i 315 j 38 nb_backup 11279\n",
      "i 316 j 26 nb_backup 11306\n",
      "i 317 j 25 nb_backup 11332\n",
      "i 318 j 35 nb_backup 11368\n",
      "i 319 j 30 nb_backup 11399\n",
      "i 320 j 32 nb_backup 11432\n",
      "i 321 j 18 nb_backup 11451\n",
      "i 322 j 17 nb_backup 11469\n",
      "i 323 j 20 nb_backup 11490\n",
      "i 324 j 27 nb_backup 11518\n",
      "i 325 j 30 nb_backup 11549\n",
      "i 326 j 19 nb_backup 11569\n",
      "i 327 j 23 nb_backup 11593\n",
      "i 328 j 21 nb_backup 11615\n",
      "i 329 j 27 nb_backup 11643\n",
      "i 330 j 23 nb_backup 11667\n",
      "i 331 j 24 nb_backup 11692\n",
      "i 332 j 23 nb_backup 11716\n",
      "i 333 j 30 nb_backup 11747\n",
      "i 334 j 16 nb_backup 11764\n",
      "i 335 j 37 nb_backup 11802\n",
      "i 336 j 29 nb_backup 11832\n",
      "i 337 j 43 nb_backup 11876\n",
      "i 338 j 23 nb_backup 11900\n",
      "i 339 j 22 nb_backup 11923\n",
      "i 340 j 29 nb_backup 11953\n",
      "i 341 j 17 nb_backup 11971\n",
      "i 342 j 28 nb_backup 12000\n",
      "i 343 j 16 nb_backup 12017\n",
      "i 344 j 23 nb_backup 12041\n",
      "i 345 j 31 nb_backup 12073\n",
      "i 346 j 20 nb_backup 12094\n",
      "i 347 j 39 nb_backup 12134\n",
      "i 348 j 31 nb_backup 12166\n",
      "i 349 j 37 nb_backup 12204\n",
      "i 350 j 30 nb_backup 12235\n",
      "i 351 j 19 nb_backup 12255\n",
      "i 352 j 16 nb_backup 12272\n",
      "i 353 j 19 nb_backup 12292\n",
      "i 354 j 40 nb_backup 12333\n",
      "i 355 j 25 nb_backup 12359\n",
      "i 356 j 27 nb_backup 12387\n",
      "i 357 j 18 nb_backup 12406\n",
      "i 358 j 44 nb_backup 12451\n",
      "i 359 j 53 nb_backup 12505\n",
      "i 360 j 25 nb_backup 12531\n",
      "i 361 j 29 nb_backup 12561\n",
      "i 362 j 30 nb_backup 12592\n",
      "i 363 j 21 nb_backup 12614\n",
      "i 364 j 25 nb_backup 12640\n",
      "i 365 j 18 nb_backup 12659\n",
      "i 366 j 22 nb_backup 12682\n",
      "i 367 j 18 nb_backup 12701\n",
      "i 368 j 15 nb_backup 12717\n",
      "i 369 j 26 nb_backup 12744\n",
      "i 370 j 31 nb_backup 12776\n",
      "i 371 j 26 nb_backup 12803\n",
      "i 372 j 48 nb_backup 12852\n",
      "i 373 j 52 nb_backup 12905\n",
      "i 374 j 21 nb_backup 12927\n",
      "i 375 j 17 nb_backup 12945\n",
      "i 376 j 15 nb_backup 12961\n",
      "i 377 j 20 nb_backup 12982\n",
      "i 378 j 25 nb_backup 13008\n",
      "i 379 j 30 nb_backup 13039\n",
      "i 380 j 16 nb_backup 13056\n",
      "i 381 j 22 nb_backup 13079\n",
      "i 382 j 40 nb_backup 13120\n",
      "i 383 j 17 nb_backup 13138\n",
      "i 384 j 36 nb_backup 13175\n",
      "i 385 j 18 nb_backup 13194\n",
      "i 386 j 27 nb_backup 13222\n",
      "i 387 j 25 nb_backup 13248\n",
      "i 388 j 17 nb_backup 13266\n",
      "i 389 j 28 nb_backup 13295\n",
      "i 390 j 18 nb_backup 13314\n",
      "i 391 j 24 nb_backup 13339\n",
      "i 392 j 26 nb_backup 13366\n",
      "i 393 j 28 nb_backup 13395\n",
      "i 394 j 21 nb_backup 13417\n",
      "i 395 j 37 nb_backup 13455\n",
      "i 396 j 53 nb_backup 13509\n",
      "i 397 j 30 nb_backup 13540\n",
      "i 398 j 20 nb_backup 13561\n",
      "i 399 j 28 nb_backup 13590\n",
      "i 400 j 13 nb_backup 13604\n",
      "i 401 j 20 nb_backup 13625\n",
      "i 402 j 20 nb_backup 13646\n",
      "i 403 j 16 nb_backup 13663\n",
      "i 404 j 20 nb_backup 13684\n",
      "i 405 j 17 nb_backup 13702\n",
      "i 406 j 21 nb_backup 13724\n",
      "i 407 j 32 nb_backup 13757\n",
      "i 408 j 29 nb_backup 13787\n",
      "i 409 j 29 nb_backup 13817\n",
      "i 410 j 22 nb_backup 13840\n",
      "i 411 j 36 nb_backup 13877\n",
      "i 412 j 21 nb_backup 13899\n",
      "i 413 j 29 nb_backup 13929\n",
      "i 414 j 32 nb_backup 13962\n",
      "i 415 j 21 nb_backup 13984\n",
      "i 416 j 23 nb_backup 14008\n",
      "i 417 j 13 nb_backup 14022\n",
      "i 418 j 19 nb_backup 14042\n",
      "i 419 j 17 nb_backup 14060\n",
      "i 420 j 47 nb_backup 14108\n",
      "i 421 j 24 nb_backup 14133\n",
      "i 422 j 32 nb_backup 14166\n",
      "i 423 j 13 nb_backup 14180\n",
      "i 424 j 27 nb_backup 14208\n",
      "i 425 j 16 nb_backup 14225\n",
      "i 426 j 32 nb_backup 14258\n",
      "i 427 j 27 nb_backup 14286\n",
      "i 428 j 22 nb_backup 14309\n",
      "i 429 j 17 nb_backup 14327\n",
      "i 430 j 31 nb_backup 14359\n",
      "i 431 j 21 nb_backup 14381\n",
      "i 432 j 25 nb_backup 14407\n",
      "i 433 j 34 nb_backup 14442\n",
      "i 434 j 29 nb_backup 14472\n",
      "i 435 j 44 nb_backup 14517\n",
      "i 436 j 31 nb_backup 14549\n",
      "i 437 j 27 nb_backup 14577\n",
      "i 438 j 25 nb_backup 14603\n",
      "i 439 j 37 nb_backup 14641\n",
      "i 440 j 30 nb_backup 14672\n",
      "i 441 j 35 nb_backup 14708\n",
      "i 442 j 33 nb_backup 14742\n",
      "i 443 j 20 nb_backup 14763\n",
      "i 444 j 20 nb_backup 14784\n",
      "i 445 j 32 nb_backup 14817\n",
      "i 446 j 18 nb_backup 14836\n",
      "i 447 j 27 nb_backup 14864\n",
      "i 448 j 25 nb_backup 14890\n",
      "i 449 j 30 nb_backup 14921\n",
      "i 450 j 34 nb_backup 14956\n",
      "i 451 j 17 nb_backup 14974\n",
      "i 452 j 19 nb_backup 14994\n",
      "i 453 j 32 nb_backup 15027\n",
      "i 454 j 45 nb_backup 15073\n",
      "i 455 j 35 nb_backup 15109\n",
      "i 456 j 24 nb_backup 15134\n",
      "i 457 j 19 nb_backup 15154\n",
      "i 458 j 22 nb_backup 15177\n",
      "i 459 j 19 nb_backup 15197\n",
      "i 460 j 15 nb_backup 15213\n",
      "i 461 j 29 nb_backup 15243\n",
      "i 462 j 30 nb_backup 15274\n",
      "i 463 j 18 nb_backup 15293\n",
      "i 464 j 40 nb_backup 15334\n",
      "i 465 j 36 nb_backup 15371\n",
      "i 466 j 23 nb_backup 15395\n",
      "i 467 j 27 nb_backup 15423\n",
      "i 468 j 32 nb_backup 15456\n",
      "i 469 j 22 nb_backup 15479\n",
      "i 470 j 65 nb_backup 15545\n",
      "i 471 j 25 nb_backup 15571\n",
      "i 472 j 39 nb_backup 15611\n",
      "i 473 j 18 nb_backup 15630\n",
      "i 474 j 27 nb_backup 15658\n",
      "i 475 j 19 nb_backup 15678\n",
      "i 476 j 19 nb_backup 15698\n",
      "i 477 j 35 nb_backup 15734\n",
      "i 478 j 51 nb_backup 15786\n",
      "i 479 j 17 nb_backup 15804\n",
      "i 480 j 26 nb_backup 15831\n",
      "i 481 j 37 nb_backup 15869\n",
      "i 482 j 25 nb_backup 15895\n",
      "i 483 j 20 nb_backup 15916\n",
      "i 484 j 25 nb_backup 15942\n",
      "i 485 j 16 nb_backup 15959\n",
      "i 486 j 19 nb_backup 15979\n",
      "i 487 j 26 nb_backup 16006\n",
      "i 488 j 39 nb_backup 16046\n",
      "i 489 j 17 nb_backup 16064\n",
      "i 490 j 30 nb_backup 16095\n",
      "i 491 j 39 nb_backup 16135\n",
      "i 492 j 32 nb_backup 16168\n",
      "i 493 j 23 nb_backup 16192\n",
      "i 494 j 26 nb_backup 16219\n",
      "i 495 j 20 nb_backup 16240\n",
      "i 496 j 25 nb_backup 16266\n",
      "i 497 j 35 nb_backup 16302\n",
      "i 498 j 19 nb_backup 16322\n",
      "i 499 j 21 nb_backup 16344\n",
      "i 500 j 17 nb_backup 16362\n",
      "i 501 j 20 nb_backup 16383\n",
      "i 502 j 19 nb_backup 16403\n",
      "i 503 j 25 nb_backup 16429\n",
      "i 504 j 36 nb_backup 16466\n",
      "i 505 j 25 nb_backup 16492\n",
      "i 506 j 26 nb_backup 16519\n",
      "i 507 j 35 nb_backup 16555\n",
      "i 508 j 24 nb_backup 16580\n",
      "i 509 j 38 nb_backup 16619\n",
      "i 510 j 30 nb_backup 16650\n",
      "i 511 j 19 nb_backup 16670\n",
      "i 512 j 28 nb_backup 16699\n",
      "i 513 j 22 nb_backup 16722\n",
      "i 514 j 20 nb_backup 16743\n",
      "i 515 j 26 nb_backup 16770\n",
      "i 516 j 24 nb_backup 16795\n",
      "i 517 j 17 nb_backup 16813\n",
      "i 518 j 36 nb_backup 16850\n",
      "i 519 j 23 nb_backup 16874\n",
      "i 520 j 29 nb_backup 16904\n",
      "i 521 j 22 nb_backup 16927\n",
      "i 522 j 26 nb_backup 16954\n",
      "i 523 j 20 nb_backup 16975\n",
      "i 524 j 58 nb_backup 17034\n",
      "i 525 j 20 nb_backup 17055\n",
      "i 526 j 27 nb_backup 17083\n",
      "i 527 j 22 nb_backup 17106\n",
      "i 528 j 30 nb_backup 17137\n",
      "i 529 j 19 nb_backup 17157\n",
      "i 530 j 20 nb_backup 17178\n",
      "i 531 j 19 nb_backup 17198\n",
      "i 532 j 43 nb_backup 17242\n",
      "i 533 j 23 nb_backup 17266\n",
      "i 534 j 22 nb_backup 17289\n",
      "i 535 j 24 nb_backup 17314\n",
      "i 536 j 17 nb_backup 17332\n",
      "i 537 j 19 nb_backup 17352\n",
      "i 538 j 25 nb_backup 17378\n",
      "i 539 j 44 nb_backup 17423\n",
      "i 540 j 85 nb_backup 17509\n",
      "i 541 j 17 nb_backup 17527\n",
      "i 542 j 30 nb_backup 17558\n",
      "i 543 j 27 nb_backup 17586\n",
      "i 544 j 35 nb_backup 17622\n",
      "i 545 j 21 nb_backup 17644\n",
      "i 546 j 19 nb_backup 17664\n",
      "i 547 j 15 nb_backup 17680\n",
      "i 548 j 24 nb_backup 17705\n",
      "i 549 j 19 nb_backup 17725\n",
      "i 550 j 17 nb_backup 17743\n",
      "i 551 j 23 nb_backup 17767\n",
      "i 552 j 28 nb_backup 17796\n",
      "i 553 j 17 nb_backup 17814\n",
      "i 554 j 40 nb_backup 17855\n",
      "i 555 j 31 nb_backup 17887\n",
      "i 556 j 15 nb_backup 17903\n",
      "i 557 j 24 nb_backup 17928\n",
      "i 558 j 23 nb_backup 17952\n",
      "i 559 j 32 nb_backup 17985\n",
      "i 560 j 30 nb_backup 18016\n",
      "i 561 j 30 nb_backup 18047\n",
      "i 562 j 35 nb_backup 18083\n",
      "i 563 j 38 nb_backup 18122\n",
      "i 564 j 32 nb_backup 18155\n",
      "i 565 j 22 nb_backup 18178\n",
      "i 566 j 17 nb_backup 18196\n",
      "i 567 j 22 nb_backup 18219\n",
      "i 568 j 21 nb_backup 18241\n",
      "i 569 j 32 nb_backup 18274\n",
      "i 570 j 23 nb_backup 18298\n",
      "i 571 j 32 nb_backup 18331\n",
      "i 572 j 17 nb_backup 18349\n",
      "i 573 j 32 nb_backup 18382\n",
      "i 574 j 20 nb_backup 18403\n",
      "i 575 j 24 nb_backup 18428\n",
      "i 576 j 20 nb_backup 18449\n",
      "i 577 j 45 nb_backup 18495\n",
      "i 578 j 19 nb_backup 18515\n",
      "i 579 j 53 nb_backup 18569\n",
      "i 580 j 22 nb_backup 18592\n",
      "i 581 j 23 nb_backup 18616\n",
      "i 582 j 37 nb_backup 18654\n",
      "i 583 j 29 nb_backup 18684\n",
      "i 584 j 25 nb_backup 18710\n",
      "i 585 j 15 nb_backup 18726\n",
      "i 586 j 34 nb_backup 18761\n",
      "i 587 j 32 nb_backup 18794\n",
      "i 588 j 28 nb_backup 18823\n",
      "i 589 j 28 nb_backup 18852\n",
      "i 590 j 38 nb_backup 18891\n",
      "i 591 j 54 nb_backup 18946\n",
      "i 592 j 33 nb_backup 18980\n",
      "i 593 j 25 nb_backup 19006\n",
      "i 594 j 31 nb_backup 19038\n",
      "i 595 j 30 nb_backup 19069\n",
      "i 596 j 29 nb_backup 19099\n",
      "i 597 j 24 nb_backup 19124\n",
      "i 598 j 15 nb_backup 19140\n",
      "i 599 j 22 nb_backup 19163\n",
      "i 600 j 28 nb_backup 19192\n",
      "i 601 j 23 nb_backup 19216\n",
      "i 602 j 28 nb_backup 19245\n",
      "i 603 j 21 nb_backup 19267\n",
      "i 604 j 21 nb_backup 19289\n",
      "i 605 j 21 nb_backup 19311\n",
      "i 606 j 17 nb_backup 19329\n",
      "i 607 j 29 nb_backup 19359\n",
      "i 608 j 17 nb_backup 19377\n",
      "i 609 j 20 nb_backup 19398\n",
      "i 610 j 63 nb_backup 19462\n",
      "i 611 j 36 nb_backup 19499\n",
      "i 612 j 21 nb_backup 19521\n",
      "i 613 j 31 nb_backup 19553\n",
      "i 614 j 23 nb_backup 19577\n",
      "i 615 j 27 nb_backup 19605\n",
      "i 616 j 28 nb_backup 19634\n",
      "i 617 j 32 nb_backup 19667\n",
      "i 618 j 27 nb_backup 19695\n",
      "i 619 j 22 nb_backup 19718\n",
      "i 620 j 24 nb_backup 19743\n",
      "i 621 j 30 nb_backup 19774\n",
      "i 622 j 33 nb_backup 19808\n",
      "i 623 j 18 nb_backup 19827\n",
      "i 624 j 15 nb_backup 19843\n",
      "i 625 j 16 nb_backup 19860\n",
      "i 626 j 21 nb_backup 19882\n",
      "i 627 j 19 nb_backup 19902\n",
      "i 628 j 25 nb_backup 19928\n",
      "i 629 j 25 nb_backup 19954\n",
      "i 630 j 16 nb_backup 19971\n",
      "i 631 j 27 nb_backup 19999\n",
      "i 632 j 20 nb_backup 20020\n",
      "i 633 j 28 nb_backup 20049\n",
      "i 634 j 36 nb_backup 20086\n",
      "i 635 j 32 nb_backup 20119\n",
      "i 636 j 20 nb_backup 20140\n",
      "i 637 j 24 nb_backup 20165\n",
      "i 638 j 34 nb_backup 20200\n",
      "i 639 j 54 nb_backup 20255\n",
      "i 640 j 29 nb_backup 20285\n",
      "i 641 j 16 nb_backup 20302\n",
      "i 642 j 29 nb_backup 20332\n",
      "i 643 j 29 nb_backup 20362\n",
      "i 644 j 32 nb_backup 20395\n",
      "i 645 j 23 nb_backup 20419\n",
      "i 646 j 33 nb_backup 20453\n",
      "i 647 j 32 nb_backup 20486\n",
      "i 648 j 18 nb_backup 20505\n",
      "i 649 j 23 nb_backup 20529\n",
      "i 650 j 23 nb_backup 20553\n",
      "i 651 j 35 nb_backup 20589\n",
      "i 652 j 19 nb_backup 20609\n",
      "i 653 j 27 nb_backup 20637\n",
      "i 654 j 22 nb_backup 20660\n",
      "i 655 j 39 nb_backup 20700\n",
      "i 656 j 22 nb_backup 20723\n",
      "i 657 j 38 nb_backup 20762\n",
      "i 658 j 16 nb_backup 20779\n",
      "i 659 j 25 nb_backup 20805\n",
      "i 660 j 32 nb_backup 20838\n",
      "i 661 j 28 nb_backup 20867\n",
      "i 662 j 34 nb_backup 20902\n",
      "i 663 j 45 nb_backup 20948\n",
      "i 664 j 35 nb_backup 20984\n",
      "i 665 j 27 nb_backup 21012\n",
      "i 666 j 28 nb_backup 21041\n",
      "i 667 j 17 nb_backup 21059\n",
      "i 668 j 28 nb_backup 21088\n",
      "i 669 j 46 nb_backup 21135\n",
      "i 670 j 43 nb_backup 21179\n",
      "i 671 j 42 nb_backup 21222\n",
      "i 672 j 21 nb_backup 21244\n",
      "i 673 j 25 nb_backup 21270\n",
      "i 674 j 24 nb_backup 21295\n",
      "i 675 j 43 nb_backup 21339\n",
      "i 676 j 25 nb_backup 21365\n",
      "i 677 j 23 nb_backup 21389\n",
      "i 678 j 37 nb_backup 21427\n",
      "i 679 j 53 nb_backup 21481\n",
      "i 680 j 28 nb_backup 21510\n",
      "i 681 j 24 nb_backup 21535\n",
      "i 682 j 18 nb_backup 21554\n",
      "i 683 j 32 nb_backup 21587\n",
      "i 684 j 34 nb_backup 21622\n",
      "i 685 j 24 nb_backup 21647\n",
      "i 686 j 28 nb_backup 21676\n",
      "i 687 j 46 nb_backup 21723\n",
      "i 688 j 32 nb_backup 21756\n",
      "i 689 j 19 nb_backup 21776\n",
      "i 690 j 35 nb_backup 21812\n",
      "i 691 j 34 nb_backup 21847\n",
      "i 692 j 25 nb_backup 21873\n",
      "i 693 j 22 nb_backup 21896\n",
      "i 694 j 18 nb_backup 21915\n",
      "i 695 j 23 nb_backup 21939\n",
      "i 696 j 28 nb_backup 21968\n",
      "i 697 j 24 nb_backup 21993\n",
      "i 698 j 22 nb_backup 22016\n",
      "i 699 j 24 nb_backup 22041\n",
      "i 700 j 24 nb_backup 22066\n",
      "i 701 j 45 nb_backup 22112\n",
      "i 702 j 22 nb_backup 22135\n",
      "i 703 j 27 nb_backup 22163\n",
      "i 704 j 26 nb_backup 22190\n",
      "i 705 j 25 nb_backup 22216\n",
      "i 706 j 21 nb_backup 22238\n",
      "i 707 j 33 nb_backup 22272\n",
      "i 708 j 18 nb_backup 22291\n",
      "i 709 j 41 nb_backup 22333\n",
      "i 710 j 17 nb_backup 22351\n",
      "i 711 j 24 nb_backup 22376\n",
      "i 712 j 28 nb_backup 22405\n",
      "i 713 j 23 nb_backup 22429\n",
      "i 714 j 28 nb_backup 22458\n",
      "i 715 j 20 nb_backup 22479\n",
      "i 716 j 24 nb_backup 22504\n",
      "i 717 j 34 nb_backup 22539\n",
      "i 718 j 14 nb_backup 22554\n",
      "i 719 j 27 nb_backup 22582\n",
      "i 720 j 24 nb_backup 22607\n",
      "i 721 j 26 nb_backup 22634\n",
      "i 722 j 42 nb_backup 22677\n",
      "i 723 j 33 nb_backup 22711\n",
      "i 724 j 17 nb_backup 22729\n",
      "i 725 j 14 nb_backup 22744\n",
      "i 726 j 32 nb_backup 22777\n",
      "i 727 j 22 nb_backup 22800\n",
      "i 728 j 16 nb_backup 22817\n",
      "i 729 j 25 nb_backup 22843\n",
      "i 730 j 33 nb_backup 22877\n",
      "i 731 j 25 nb_backup 22903\n",
      "i 732 j 22 nb_backup 22926\n",
      "i 733 j 23 nb_backup 22950\n",
      "i 734 j 17 nb_backup 22968\n",
      "i 735 j 26 nb_backup 22995\n",
      "i 736 j 27 nb_backup 23023\n",
      "i 737 j 19 nb_backup 23043\n",
      "i 738 j 33 nb_backup 23077\n",
      "i 739 j 23 nb_backup 23101\n",
      "i 740 j 28 nb_backup 23130\n",
      "i 741 j 53 nb_backup 23184\n",
      "i 742 j 15 nb_backup 23200\n",
      "i 743 j 23 nb_backup 23224\n",
      "i 744 j 29 nb_backup 23254\n",
      "i 745 j 31 nb_backup 23286\n",
      "i 746 j 17 nb_backup 23304\n",
      "i 747 j 27 nb_backup 23332\n",
      "i 748 j 39 nb_backup 23372\n",
      "i 749 j 17 nb_backup 23390\n",
      "i 750 j 32 nb_backup 23423\n",
      "i 751 j 22 nb_backup 23446\n",
      "i 752 j 40 nb_backup 23487\n",
      "i 753 j 34 nb_backup 23522\n",
      "i 754 j 27 nb_backup 23550\n",
      "i 755 j 16 nb_backup 23567\n",
      "i 756 j 23 nb_backup 23591\n",
      "i 757 j 22 nb_backup 23614\n",
      "i 758 j 28 nb_backup 23643\n",
      "i 759 j 21 nb_backup 23665\n",
      "i 760 j 18 nb_backup 23684\n",
      "i 761 j 59 nb_backup 23744\n",
      "i 762 j 41 nb_backup 23786\n",
      "i 763 j 31 nb_backup 23818\n",
      "i 764 j 24 nb_backup 23843\n",
      "i 765 j 34 nb_backup 23878\n",
      "i 766 j 45 nb_backup 23924\n",
      "i 767 j 16 nb_backup 23941\n",
      "i 768 j 33 nb_backup 23975\n",
      "i 769 j 28 nb_backup 24004\n",
      "i 770 j 22 nb_backup 24027\n",
      "i 771 j 25 nb_backup 24053\n",
      "i 772 j 38 nb_backup 24092\n",
      "i 773 j 25 nb_backup 24118\n",
      "i 774 j 42 nb_backup 24161\n",
      "i 775 j 30 nb_backup 24192\n",
      "i 776 j 47 nb_backup 24240\n",
      "i 777 j 25 nb_backup 24266\n",
      "i 778 j 27 nb_backup 24294\n",
      "i 779 j 19 nb_backup 24314\n",
      "i 780 j 43 nb_backup 24358\n",
      "i 781 j 35 nb_backup 24394\n",
      "i 782 j 16 nb_backup 24411\n",
      "i 783 j 28 nb_backup 24440\n",
      "i 784 j 22 nb_backup 24463\n",
      "i 785 j 30 nb_backup 24494\n",
      "i 786 j 15 nb_backup 24510\n",
      "i 787 j 37 nb_backup 24548\n",
      "i 788 j 25 nb_backup 24574\n",
      "i 789 j 27 nb_backup 24602\n",
      "i 790 j 31 nb_backup 24634\n",
      "i 791 j 23 nb_backup 24658\n",
      "i 792 j 24 nb_backup 24683\n",
      "i 793 j 46 nb_backup 24730\n",
      "i 794 j 20 nb_backup 24751\n",
      "i 795 j 13 nb_backup 24765\n",
      "i 796 j 23 nb_backup 24789\n",
      "i 797 j 26 nb_backup 24816\n",
      "i 798 j 32 nb_backup 24849\n",
      "i 799 j 25 nb_backup 24875\n",
      "i 800 j 24 nb_backup 24900\n",
      "i 801 j 27 nb_backup 24928\n",
      "i 802 j 30 nb_backup 24959\n",
      "i 803 j 17 nb_backup 24977\n",
      "i 804 j 23 nb_backup 25001\n",
      "i 805 j 27 nb_backup 25029\n",
      "i 806 j 24 nb_backup 25054\n",
      "i 807 j 31 nb_backup 25086\n",
      "i 808 j 23 nb_backup 25110\n",
      "i 809 j 19 nb_backup 25130\n",
      "i 810 j 24 nb_backup 25155\n",
      "i 811 j 47 nb_backup 25203\n",
      "i 812 j 31 nb_backup 25235\n",
      "i 813 j 21 nb_backup 25257\n",
      "i 814 j 34 nb_backup 25292\n",
      "i 815 j 29 nb_backup 25322\n",
      "i 816 j 36 nb_backup 25359\n",
      "i 817 j 24 nb_backup 25384\n",
      "i 818 j 22 nb_backup 25407\n",
      "i 819 j 26 nb_backup 25434\n",
      "i 820 j 14 nb_backup 25449\n",
      "i 821 j 16 nb_backup 25466\n",
      "i 822 j 34 nb_backup 25501\n",
      "i 823 j 44 nb_backup 25546\n",
      "i 824 j 13 nb_backup 25560\n",
      "i 825 j 18 nb_backup 25579\n",
      "i 826 j 25 nb_backup 25605\n",
      "i 827 j 28 nb_backup 25634\n",
      "i 828 j 34 nb_backup 25669\n",
      "i 829 j 37 nb_backup 25707\n",
      "i 830 j 15 nb_backup 25723\n",
      "i 831 j 25 nb_backup 25749\n",
      "i 832 j 33 nb_backup 25783\n",
      "i 833 j 26 nb_backup 25810\n",
      "i 834 j 24 nb_backup 25835\n",
      "i 835 j 16 nb_backup 25852\n",
      "i 836 j 41 nb_backup 25894\n",
      "i 837 j 26 nb_backup 25921\n",
      "i 838 j 27 nb_backup 25949\n",
      "i 839 j 20 nb_backup 25970\n",
      "i 840 j 34 nb_backup 26005\n",
      "i 841 j 22 nb_backup 26028\n",
      "i 842 j 64 nb_backup 26093\n",
      "i 843 j 48 nb_backup 26142\n",
      "i 844 j 18 nb_backup 26161\n",
      "i 845 j 29 nb_backup 26191\n",
      "i 846 j 23 nb_backup 26215\n",
      "i 847 j 44 nb_backup 26260\n",
      "i 848 j 29 nb_backup 26290\n",
      "i 849 j 18 nb_backup 26309\n",
      "i 850 j 50 nb_backup 26360\n",
      "i 851 j 24 nb_backup 26385\n",
      "i 852 j 29 nb_backup 26415\n",
      "i 853 j 34 nb_backup 26450\n",
      "i 854 j 18 nb_backup 26469\n",
      "i 855 j 30 nb_backup 26500\n",
      "i 856 j 20 nb_backup 26521\n",
      "i 857 j 21 nb_backup 26543\n",
      "i 858 j 34 nb_backup 26578\n",
      "i 859 j 21 nb_backup 26600\n",
      "i 860 j 22 nb_backup 26623\n",
      "i 861 j 19 nb_backup 26643\n",
      "i 862 j 25 nb_backup 26669\n",
      "i 863 j 21 nb_backup 26691\n",
      "i 864 j 22 nb_backup 26714\n",
      "i 865 j 25 nb_backup 26740\n",
      "i 866 j 39 nb_backup 26780\n",
      "i 867 j 19 nb_backup 26800\n",
      "i 868 j 59 nb_backup 26860\n",
      "i 869 j 25 nb_backup 26886\n",
      "i 870 j 16 nb_backup 26903\n",
      "i 871 j 35 nb_backup 26939\n",
      "i 872 j 24 nb_backup 26964\n",
      "i 873 j 33 nb_backup 26998\n",
      "i 874 j 27 nb_backup 27026\n",
      "i 875 j 18 nb_backup 27045\n",
      "i 876 j 25 nb_backup 27071\n",
      "i 877 j 32 nb_backup 27104\n",
      "i 878 j 27 nb_backup 27132\n",
      "i 879 j 27 nb_backup 27160\n",
      "i 880 j 17 nb_backup 27178\n",
      "i 881 j 30 nb_backup 27209\n",
      "i 882 j 19 nb_backup 27229\n",
      "i 883 j 25 nb_backup 27255\n",
      "i 884 j 20 nb_backup 27276\n",
      "i 885 j 16 nb_backup 27293\n",
      "i 886 j 17 nb_backup 27311\n",
      "i 887 j 44 nb_backup 27356\n",
      "i 888 j 34 nb_backup 27391\n",
      "i 889 j 21 nb_backup 27413\n",
      "i 890 j 32 nb_backup 27446\n",
      "i 891 j 21 nb_backup 27468\n",
      "i 892 j 25 nb_backup 27494\n",
      "i 893 j 20 nb_backup 27515\n",
      "i 894 j 19 nb_backup 27535\n",
      "i 895 j 21 nb_backup 27557\n",
      "i 896 j 18 nb_backup 27576\n",
      "i 897 j 29 nb_backup 27606\n",
      "i 898 j 33 nb_backup 27640\n",
      "i 899 j 21 nb_backup 27662\n",
      "i 900 j 16 nb_backup 27679\n",
      "i 901 j 26 nb_backup 27706\n",
      "i 902 j 27 nb_backup 27734\n",
      "i 903 j 25 nb_backup 27760\n",
      "i 904 j 23 nb_backup 27784\n",
      "i 905 j 21 nb_backup 27806\n",
      "i 906 j 29 nb_backup 27836\n",
      "i 907 j 17 nb_backup 27854\n",
      "i 908 j 35 nb_backup 27890\n",
      "i 909 j 48 nb_backup 27939\n",
      "i 910 j 27 nb_backup 27967\n",
      "i 911 j 25 nb_backup 27993\n",
      "i 912 j 17 nb_backup 28011\n",
      "i 913 j 31 nb_backup 28043\n",
      "i 914 j 38 nb_backup 28082\n",
      "i 915 j 44 nb_backup 28127\n",
      "i 916 j 23 nb_backup 28151\n",
      "i 917 j 32 nb_backup 28184\n",
      "i 918 j 20 nb_backup 28205\n",
      "i 919 j 35 nb_backup 28241\n",
      "i 920 j 23 nb_backup 28265\n",
      "i 921 j 21 nb_backup 28287\n",
      "i 922 j 36 nb_backup 28324\n",
      "i 923 j 18 nb_backup 28343\n",
      "i 924 j 29 nb_backup 28373\n",
      "i 925 j 26 nb_backup 28400\n",
      "i 926 j 44 nb_backup 28445\n",
      "i 927 j 21 nb_backup 28467\n",
      "i 928 j 25 nb_backup 28493\n",
      "i 929 j 24 nb_backup 28518\n",
      "i 930 j 25 nb_backup 28544\n",
      "i 931 j 48 nb_backup 28593\n",
      "i 932 j 23 nb_backup 28617\n",
      "i 933 j 31 nb_backup 28649\n",
      "i 934 j 37 nb_backup 28687\n",
      "i 935 j 18 nb_backup 28706\n",
      "i 936 j 29 nb_backup 28736\n",
      "i 937 j 30 nb_backup 28767\n",
      "i 938 j 18 nb_backup 28786\n",
      "i 939 j 28 nb_backup 28815\n",
      "i 940 j 19 nb_backup 28835\n",
      "i 941 j 38 nb_backup 28874\n",
      "i 942 j 21 nb_backup 28896\n",
      "i 943 j 30 nb_backup 28927\n",
      "i 944 j 23 nb_backup 28951\n",
      "i 945 j 26 nb_backup 28978\n",
      "i 946 j 54 nb_backup 29033\n",
      "i 947 j 22 nb_backup 29056\n",
      "i 948 j 28 nb_backup 29085\n",
      "i 949 j 29 nb_backup 29115\n",
      "i 950 j 19 nb_backup 29135\n",
      "i 951 j 24 nb_backup 29160\n",
      "i 952 j 31 nb_backup 29192\n",
      "i 953 j 17 nb_backup 29210\n",
      "i 954 j 13 nb_backup 29224\n",
      "i 955 j 24 nb_backup 29249\n",
      "i 956 j 18 nb_backup 29268\n",
      "i 957 j 38 nb_backup 29307\n",
      "i 958 j 26 nb_backup 29334\n",
      "i 959 j 25 nb_backup 29360\n",
      "i 960 j 26 nb_backup 29387\n",
      "i 961 j 20 nb_backup 29408\n",
      "i 962 j 32 nb_backup 29441\n",
      "i 963 j 24 nb_backup 29466\n",
      "i 964 j 22 nb_backup 29489\n",
      "i 965 j 24 nb_backup 29514\n",
      "i 966 j 26 nb_backup 29541\n",
      "i 967 j 48 nb_backup 29590\n",
      "i 968 j 30 nb_backup 29621\n",
      "i 969 j 22 nb_backup 29644\n",
      "i 970 j 24 nb_backup 29669\n",
      "i 971 j 18 nb_backup 29688\n",
      "i 972 j 32 nb_backup 29721\n",
      "i 973 j 32 nb_backup 29754\n",
      "i 974 j 32 nb_backup 29787\n",
      "i 975 j 30 nb_backup 29818\n",
      "i 976 j 39 nb_backup 29858\n",
      "i 977 j 25 nb_backup 29884\n",
      "i 978 j 16 nb_backup 29901\n",
      "i 979 j 23 nb_backup 29925\n",
      "i 980 j 14 nb_backup 29940\n",
      "i 981 j 34 nb_backup 29975\n",
      "i 982 j 26 nb_backup 30002\n",
      "i 983 j 29 nb_backup 30032\n",
      "i 984 j 25 nb_backup 30058\n",
      "i 985 j 22 nb_backup 30081\n",
      "i 986 j 15 nb_backup 30097\n",
      "i 987 j 34 nb_backup 30132\n",
      "i 988 j 23 nb_backup 30156\n",
      "i 989 j 26 nb_backup 30183\n",
      "i 990 j 29 nb_backup 30213\n",
      "i 991 j 20 nb_backup 30234\n",
      "i 992 j 26 nb_backup 30261\n",
      "i 993 j 27 nb_backup 30289\n",
      "i 994 j 21 nb_backup 30311\n",
      "i 995 j 22 nb_backup 30334\n",
      "i 996 j 25 nb_backup 30360\n",
      "i 997 j 17 nb_backup 30378\n",
      "i 998 j 26 nb_backup 30405\n",
      "i 999 j 24 nb_backup 30430\n",
      "i 1000 j 16 nb_backup 30447\n",
      "i 1001 j 27 nb_backup 30475\n",
      "i 1002 j 34 nb_backup 30510\n",
      "i 1003 j 19 nb_backup 30530\n",
      "i 1004 j 31 nb_backup 30562\n",
      "i 1005 j 37 nb_backup 30600\n",
      "i 1006 j 18 nb_backup 30619\n",
      "i 1007 j 48 nb_backup 30668\n",
      "i 1008 j 25 nb_backup 30694\n",
      "i 1009 j 36 nb_backup 30731\n",
      "i 1010 j 18 nb_backup 30750\n",
      "i 1011 j 22 nb_backup 30773\n",
      "i 1012 j 37 nb_backup 30811\n",
      "i 1013 j 44 nb_backup 30856\n",
      "i 1014 j 21 nb_backup 30878\n",
      "i 1015 j 27 nb_backup 30906\n",
      "i 1016 j 22 nb_backup 30929\n",
      "i 1017 j 25 nb_backup 30955\n",
      "i 1018 j 30 nb_backup 30986\n",
      "i 1019 j 21 nb_backup 31008\n",
      "i 1020 j 27 nb_backup 31036\n",
      "i 1021 j 21 nb_backup 31058\n",
      "i 1022 j 28 nb_backup 31087\n",
      "i 1023 j 30 nb_backup 31118\n",
      "i 1024 j 27 nb_backup 31146\n",
      "i 1025 j 18 nb_backup 31165\n",
      "i 1026 j 30 nb_backup 31196\n",
      "i 1027 j 23 nb_backup 31220\n",
      "i 1028 j 36 nb_backup 31257\n",
      "i 1029 j 18 nb_backup 31276\n",
      "i 1030 j 24 nb_backup 31301\n",
      "i 1031 j 16 nb_backup 31318\n",
      "i 1032 j 35 nb_backup 31354\n",
      "i 1033 j 28 nb_backup 31383\n",
      "i 1034 j 29 nb_backup 31413\n",
      "i 1035 j 27 nb_backup 31441\n",
      "i 1036 j 24 nb_backup 31466\n",
      "i 1037 j 25 nb_backup 31492\n",
      "i 1038 j 28 nb_backup 31521\n",
      "i 1039 j 29 nb_backup 31551\n",
      "i 1040 j 22 nb_backup 31574\n",
      "i 1041 j 24 nb_backup 31599\n",
      "i 1042 j 30 nb_backup 31630\n",
      "i 1043 j 19 nb_backup 31650\n",
      "i 1044 j 43 nb_backup 31694\n",
      "i 1045 j 23 nb_backup 31718\n",
      "i 1046 j 31 nb_backup 31750\n",
      "i 1047 j 30 nb_backup 31781\n",
      "i 1048 j 29 nb_backup 31811\n",
      "i 1049 j 36 nb_backup 31848\n",
      "i 1050 j 31 nb_backup 31880\n",
      "i 1051 j 19 nb_backup 31900\n",
      "i 1052 j 30 nb_backup 31931\n",
      "i 1053 j 26 nb_backup 31958\n",
      "i 1054 j 22 nb_backup 31981\n",
      "i 1055 j 15 nb_backup 31997\n",
      "i 1056 j 14 nb_backup 32012\n",
      "i 1057 j 23 nb_backup 32036\n",
      "i 1058 j 22 nb_backup 32059\n",
      "i 1059 j 23 nb_backup 32083\n",
      "i 1060 j 20 nb_backup 32104\n",
      "i 1061 j 44 nb_backup 32149\n",
      "i 1062 j 15 nb_backup 32165\n",
      "i 1063 j 31 nb_backup 32197\n",
      "i 1064 j 26 nb_backup 32224\n",
      "i 1065 j 26 nb_backup 32251\n",
      "i 1066 j 16 nb_backup 32268\n",
      "i 1067 j 18 nb_backup 32287\n",
      "i 1068 j 57 nb_backup 32345\n",
      "i 1069 j 40 nb_backup 32386\n",
      "i 1070 j 23 nb_backup 32410\n",
      "i 1071 j 31 nb_backup 32442\n",
      "i 1072 j 29 nb_backup 32472\n",
      "i 1073 j 38 nb_backup 32511\n",
      "i 1074 j 42 nb_backup 32554\n",
      "i 1075 j 20 nb_backup 32575\n",
      "i 1076 j 26 nb_backup 32602\n",
      "i 1077 j 16 nb_backup 32619\n",
      "i 1078 j 28 nb_backup 32648\n",
      "i 1079 j 32 nb_backup 32681\n",
      "i 1080 j 31 nb_backup 32713\n",
      "i 1081 j 27 nb_backup 32741\n",
      "i 1082 j 19 nb_backup 32761\n",
      "i 1083 j 15 nb_backup 32777\n",
      "i 1084 j 21 nb_backup 32799\n",
      "i 1085 j 18 nb_backup 32818\n",
      "i 1086 j 15 nb_backup 32834\n",
      "i 1087 j 49 nb_backup 32884\n",
      "i 1088 j 20 nb_backup 32905\n",
      "i 1089 j 46 nb_backup 32952\n",
      "i 1090 j 35 nb_backup 32988\n",
      "i 1091 j 18 nb_backup 33007\n",
      "i 1092 j 26 nb_backup 33034\n",
      "i 1093 j 19 nb_backup 33054\n",
      "i 1094 j 38 nb_backup 33093\n",
      "i 1095 j 17 nb_backup 33111\n",
      "i 1096 j 18 nb_backup 33130\n",
      "i 1097 j 28 nb_backup 33159\n",
      "i 1098 j 32 nb_backup 33192\n",
      "i 1099 j 40 nb_backup 33233\n",
      "i 1100 j 21 nb_backup 33255\n",
      "i 1101 j 21 nb_backup 33277\n",
      "i 1102 j 16 nb_backup 33294\n",
      "i 1103 j 30 nb_backup 33325\n",
      "i 1104 j 15 nb_backup 33341\n",
      "i 1105 j 15 nb_backup 33357\n",
      "i 1106 j 17 nb_backup 33375\n",
      "i 1107 j 15 nb_backup 33391\n",
      "i 1108 j 19 nb_backup 33411\n",
      "i 1109 j 35 nb_backup 33447\n",
      "i 1110 j 18 nb_backup 33466\n",
      "i 1111 j 18 nb_backup 33485\n",
      "i 1112 j 30 nb_backup 33516\n",
      "i 1113 j 23 nb_backup 33540\n",
      "i 1114 j 17 nb_backup 33558\n",
      "i 1115 j 24 nb_backup 33583\n",
      "i 1116 j 13 nb_backup 33597\n",
      "i 1117 j 26 nb_backup 33624\n",
      "i 1118 j 40 nb_backup 33665\n",
      "i 1119 j 16 nb_backup 33682\n",
      "i 1120 j 20 nb_backup 33703\n",
      "i 1121 j 27 nb_backup 33731\n",
      "i 1122 j 22 nb_backup 33754\n",
      "i 1123 j 29 nb_backup 33784\n",
      "i 1124 j 33 nb_backup 33818\n",
      "i 1125 j 21 nb_backup 33840\n",
      "i 1126 j 30 nb_backup 33871\n",
      "i 1127 j 22 nb_backup 33894\n",
      "i 1128 j 27 nb_backup 33922\n",
      "i 1129 j 29 nb_backup 33952\n",
      "i 1130 j 14 nb_backup 33967\n",
      "i 1131 j 41 nb_backup 34009\n",
      "i 1132 j 23 nb_backup 34033\n",
      "i 1133 j 35 nb_backup 34069\n",
      "i 1134 j 29 nb_backup 34099\n",
      "i 1135 j 23 nb_backup 34123\n",
      "i 1136 j 21 nb_backup 34145\n",
      "i 1137 j 18 nb_backup 34164\n",
      "i 1138 j 33 nb_backup 34198\n",
      "i 1139 j 24 nb_backup 34223\n",
      "i 1140 j 20 nb_backup 34244\n",
      "i 1141 j 29 nb_backup 34274\n",
      "i 1142 j 36 nb_backup 34311\n",
      "i 1143 j 27 nb_backup 34339\n",
      "i 1144 j 15 nb_backup 34355\n",
      "i 1145 j 47 nb_backup 34403\n",
      "i 1146 j 24 nb_backup 34428\n",
      "i 1147 j 26 nb_backup 34455\n",
      "i 1148 j 21 nb_backup 34477\n",
      "i 1149 j 22 nb_backup 34500\n",
      "i 1150 j 27 nb_backup 34528\n",
      "i 1151 j 28 nb_backup 34557\n",
      "i 1152 j 23 nb_backup 34581\n",
      "i 1153 j 18 nb_backup 34600\n",
      "i 1154 j 16 nb_backup 34617\n",
      "i 1155 j 28 nb_backup 34646\n",
      "i 1156 j 17 nb_backup 34664\n",
      "i 1157 j 16 nb_backup 34681\n",
      "i 1158 j 34 nb_backup 34716\n",
      "i 1159 j 18 nb_backup 34735\n",
      "i 1160 j 24 nb_backup 34760\n",
      "i 1161 j 25 nb_backup 34786\n",
      "i 1162 j 25 nb_backup 34812\n",
      "i 1163 j 21 nb_backup 34834\n",
      "i 1164 j 18 nb_backup 34853\n",
      "i 1165 j 24 nb_backup 34878\n",
      "i 1166 j 30 nb_backup 34909\n",
      "i 1167 j 29 nb_backup 34939\n",
      "i 1168 j 28 nb_backup 34968\n",
      "i 1169 j 30 nb_backup 34999\n",
      "i 1170 j 51 nb_backup 35051\n",
      "i 1171 j 27 nb_backup 35079\n",
      "i 1172 j 19 nb_backup 35099\n",
      "i 1173 j 25 nb_backup 35125\n",
      "i 1174 j 34 nb_backup 35160\n",
      "i 1175 j 22 nb_backup 35183\n",
      "i 1176 j 19 nb_backup 35203\n",
      "i 1177 j 23 nb_backup 35227\n",
      "i 1178 j 34 nb_backup 35262\n",
      "i 1179 j 34 nb_backup 35297\n",
      "i 1180 j 23 nb_backup 35321\n",
      "i 1181 j 22 nb_backup 35344\n",
      "i 1182 j 17 nb_backup 35362\n",
      "i 1183 j 25 nb_backup 35388\n",
      "i 1184 j 20 nb_backup 35409\n",
      "i 1185 j 29 nb_backup 35439\n",
      "i 1186 j 42 nb_backup 35482\n",
      "i 1187 j 26 nb_backup 35509\n",
      "i 1188 j 19 nb_backup 35529\n",
      "i 1189 j 49 nb_backup 35579\n",
      "i 1190 j 34 nb_backup 35614\n",
      "i 1191 j 21 nb_backup 35636\n",
      "i 1192 j 19 nb_backup 35656\n",
      "i 1193 j 19 nb_backup 35676\n",
      "i 1194 j 35 nb_backup 35712\n",
      "i 1195 j 43 nb_backup 35756\n",
      "i 1196 j 24 nb_backup 35781\n",
      "i 1197 j 46 nb_backup 35828\n",
      "i 1198 j 20 nb_backup 35849\n",
      "i 1199 j 31 nb_backup 35881\n",
      "i 1200 j 26 nb_backup 35908\n",
      "i 1201 j 18 nb_backup 35927\n",
      "i 1202 j 30 nb_backup 35958\n",
      "i 1203 j 27 nb_backup 35986\n",
      "i 1204 j 36 nb_backup 36023\n",
      "i 1205 j 19 nb_backup 36043\n",
      "i 1206 j 28 nb_backup 36072\n",
      "i 1207 j 31 nb_backup 36104\n",
      "i 1208 j 20 nb_backup 36125\n",
      "i 1209 j 34 nb_backup 36160\n",
      "i 1210 j 20 nb_backup 36181\n",
      "i 1211 j 30 nb_backup 36212\n",
      "i 1212 j 22 nb_backup 36235\n",
      "i 1213 j 33 nb_backup 36269\n",
      "i 1214 j 36 nb_backup 36306\n",
      "i 1215 j 30 nb_backup 36337\n",
      "i 1216 j 22 nb_backup 36360\n",
      "i 1217 j 20 nb_backup 36381\n",
      "i 1218 j 38 nb_backup 36420\n",
      "i 1219 j 25 nb_backup 36446\n",
      "i 1220 j 37 nb_backup 36484\n",
      "i 1221 j 23 nb_backup 36508\n",
      "i 1222 j 19 nb_backup 36528\n",
      "i 1223 j 27 nb_backup 36556\n",
      "i 1224 j 31 nb_backup 36588\n",
      "i 1225 j 26 nb_backup 36615\n",
      "i 1226 j 20 nb_backup 36636\n",
      "i 1227 j 36 nb_backup 36673\n",
      "i 1228 j 23 nb_backup 36697\n",
      "i 1229 j 28 nb_backup 36726\n",
      "i 1230 j 16 nb_backup 36743\n",
      "i 1231 j 29 nb_backup 36773\n",
      "i 1232 j 18 nb_backup 36792\n",
      "i 1233 j 30 nb_backup 36823\n",
      "i 1234 j 22 nb_backup 36846\n",
      "i 1235 j 28 nb_backup 36875\n",
      "i 1236 j 30 nb_backup 36906\n",
      "i 1237 j 27 nb_backup 36934\n",
      "i 1238 j 22 nb_backup 36957\n",
      "i 1239 j 28 nb_backup 36986\n",
      "i 1240 j 15 nb_backup 37002\n",
      "i 1241 j 46 nb_backup 37049\n",
      "i 1242 j 18 nb_backup 37068\n",
      "i 1243 j 30 nb_backup 37099\n",
      "i 1244 j 32 nb_backup 37132\n",
      "i 1245 j 29 nb_backup 37162\n",
      "i 1246 j 42 nb_backup 37205\n",
      "i 1247 j 29 nb_backup 37235\n",
      "i 1248 j 16 nb_backup 37252\n",
      "i 1249 j 32 nb_backup 37285\n",
      "i 1250 j 20 nb_backup 37306\n",
      "i 1251 j 20 nb_backup 37327\n",
      "i 1252 j 15 nb_backup 37343\n",
      "i 1253 j 25 nb_backup 37369\n",
      "i 1254 j 22 nb_backup 37392\n",
      "i 1255 j 42 nb_backup 37435\n",
      "i 1256 j 15 nb_backup 37451\n",
      "i 1257 j 39 nb_backup 37491\n",
      "i 1258 j 38 nb_backup 37530\n",
      "i 1259 j 16 nb_backup 37547\n",
      "i 1260 j 22 nb_backup 37570\n",
      "i 1261 j 26 nb_backup 37597\n",
      "i 1262 j 24 nb_backup 37622\n",
      "i 1263 j 22 nb_backup 37645\n",
      "i 1264 j 31 nb_backup 37677\n",
      "i 1265 j 28 nb_backup 37706\n",
      "i 1266 j 23 nb_backup 37730\n",
      "i 1267 j 18 nb_backup 37749\n",
      "i 1268 j 25 nb_backup 37775\n",
      "i 1269 j 36 nb_backup 37812\n",
      "i 1270 j 20 nb_backup 37833\n",
      "i 1271 j 22 nb_backup 37856\n",
      "i 1272 j 30 nb_backup 37887\n",
      "i 1273 j 23 nb_backup 37911\n",
      "i 1274 j 27 nb_backup 37939\n",
      "i 1275 j 37 nb_backup 37977\n",
      "i 1276 j 33 nb_backup 38011\n",
      "i 1277 j 27 nb_backup 38039\n",
      "i 1278 j 25 nb_backup 38065\n",
      "i 1279 j 21 nb_backup 38087\n",
      "i 1280 j 26 nb_backup 38114\n",
      "i 1281 j 30 nb_backup 38145\n",
      "i 1282 j 20 nb_backup 38166\n",
      "i 1283 j 32 nb_backup 38199\n",
      "i 1284 j 31 nb_backup 38231\n",
      "i 1285 j 38 nb_backup 38270\n",
      "i 1286 j 24 nb_backup 38295\n",
      "i 1287 j 27 nb_backup 38323\n",
      "i 1288 j 13 nb_backup 38337\n",
      "i 1289 j 15 nb_backup 38353\n",
      "i 1290 j 19 nb_backup 38373\n",
      "i 1291 j 23 nb_backup 38397\n",
      "i 1292 j 26 nb_backup 38424\n",
      "i 1293 j 17 nb_backup 38442\n",
      "i 1294 j 23 nb_backup 38466\n",
      "i 1295 j 23 nb_backup 38490\n",
      "i 1296 j 38 nb_backup 38529\n",
      "i 1297 j 20 nb_backup 38550\n",
      "i 1298 j 18 nb_backup 38569\n",
      "i 1299 j 24 nb_backup 38594\n",
      "i 1300 j 21 nb_backup 38616\n",
      "i 1301 j 29 nb_backup 38646\n",
      "i 1302 j 17 nb_backup 38664\n",
      "i 1303 j 25 nb_backup 38690\n",
      "i 1304 j 35 nb_backup 38726\n",
      "i 1305 j 24 nb_backup 38751\n",
      "i 1306 j 22 nb_backup 38774\n",
      "i 1307 j 22 nb_backup 38797\n",
      "i 1308 j 16 nb_backup 38814\n",
      "i 1309 j 21 nb_backup 38836\n",
      "i 1310 j 24 nb_backup 38861\n",
      "i 1311 j 17 nb_backup 38879\n",
      "i 1312 j 20 nb_backup 38900\n",
      "i 1313 j 29 nb_backup 38930\n",
      "i 1314 j 28 nb_backup 38959\n",
      "i 1315 j 20 nb_backup 38980\n",
      "i 1316 j 24 nb_backup 39005\n",
      "i 1317 j 28 nb_backup 39034\n",
      "i 1318 j 35 nb_backup 39070\n",
      "i 1319 j 17 nb_backup 39088\n",
      "i 1320 j 20 nb_backup 39109\n",
      "i 1321 j 36 nb_backup 39146\n",
      "i 1322 j 33 nb_backup 39180\n",
      "i 1323 j 18 nb_backup 39199\n",
      "i 1324 j 26 nb_backup 39226\n",
      "i 1325 j 50 nb_backup 39277\n",
      "i 1326 j 26 nb_backup 39304\n",
      "i 1327 j 15 nb_backup 39320\n",
      "i 1328 j 21 nb_backup 39342\n",
      "i 1329 j 35 nb_backup 39378\n",
      "i 1330 j 28 nb_backup 39407\n",
      "i 1331 j 25 nb_backup 39433\n",
      "i 1332 j 15 nb_backup 39449\n",
      "i 1333 j 26 nb_backup 39476\n",
      "i 1334 j 43 nb_backup 39520\n",
      "i 1335 j 43 nb_backup 39564\n",
      "i 1336 j 17 nb_backup 39582\n",
      "i 1337 j 22 nb_backup 39605\n",
      "i 1338 j 29 nb_backup 39635\n",
      "i 1339 j 61 nb_backup 39697\n",
      "i 1340 j 39 nb_backup 39737\n",
      "i 1341 j 38 nb_backup 39776\n",
      "i 1342 j 17 nb_backup 39794\n",
      "i 1343 j 27 nb_backup 39822\n",
      "i 1344 j 31 nb_backup 39854\n",
      "i 1345 j 32 nb_backup 39887\n",
      "i 1346 j 19 nb_backup 39907\n",
      "i 1347 j 13 nb_backup 39921\n",
      "i 1348 j 19 nb_backup 39941\n",
      "i 1349 j 31 nb_backup 39973\n",
      "i 1350 j 41 nb_backup 40015\n",
      "i 1351 j 25 nb_backup 40041\n",
      "i 1352 j 32 nb_backup 40074\n",
      "i 1353 j 37 nb_backup 40112\n",
      "i 1354 j 26 nb_backup 40139\n",
      "i 1355 j 40 nb_backup 40180\n",
      "i 1356 j 29 nb_backup 40210\n",
      "i 1357 j 37 nb_backup 40248\n",
      "i 1358 j 22 nb_backup 40271\n",
      "i 1359 j 16 nb_backup 40288\n",
      "i 1360 j 35 nb_backup 40324\n",
      "i 1361 j 34 nb_backup 40359\n",
      "i 1362 j 23 nb_backup 40383\n",
      "i 1363 j 29 nb_backup 40413\n",
      "i 1364 j 18 nb_backup 40432\n",
      "i 1365 j 33 nb_backup 40466\n",
      "i 1366 j 27 nb_backup 40494\n",
      "i 1367 j 24 nb_backup 40519\n",
      "i 1368 j 20 nb_backup 40540\n",
      "i 1369 j 21 nb_backup 40562\n",
      "i 1370 j 19 nb_backup 40582\n",
      "i 1371 j 28 nb_backup 40611\n",
      "i 1372 j 30 nb_backup 40642\n",
      "i 1373 j 42 nb_backup 40685\n",
      "i 1374 j 28 nb_backup 40714\n",
      "i 1375 j 24 nb_backup 40739\n",
      "i 1376 j 18 nb_backup 40758\n",
      "i 1377 j 18 nb_backup 40777\n",
      "i 1378 j 47 nb_backup 40825\n",
      "i 1379 j 32 nb_backup 40858\n",
      "i 1380 j 20 nb_backup 40879\n",
      "i 1381 j 22 nb_backup 40902\n",
      "i 1382 j 19 nb_backup 40922\n",
      "i 1383 j 21 nb_backup 40944\n",
      "i 1384 j 18 nb_backup 40963\n",
      "i 1385 j 23 nb_backup 40987\n",
      "i 1386 j 22 nb_backup 41010\n",
      "i 1387 j 22 nb_backup 41033\n",
      "i 1388 j 40 nb_backup 41074\n",
      "i 1389 j 28 nb_backup 41103\n",
      "i 1390 j 30 nb_backup 41134\n",
      "i 1391 j 19 nb_backup 41154\n",
      "i 1392 j 25 nb_backup 41180\n",
      "i 1393 j 22 nb_backup 41203\n",
      "i 1394 j 35 nb_backup 41239\n",
      "i 1395 j 20 nb_backup 41260\n",
      "i 1396 j 21 nb_backup 41282\n",
      "i 1397 j 22 nb_backup 41305\n",
      "i 1398 j 19 nb_backup 41325\n",
      "i 1399 j 46 nb_backup 41372\n",
      "i 1400 j 30 nb_backup 41403\n",
      "i 1401 j 24 nb_backup 41428\n",
      "i 1402 j 21 nb_backup 41450\n",
      "i 1403 j 26 nb_backup 41477\n",
      "i 1404 j 27 nb_backup 41505\n",
      "i 1405 j 31 nb_backup 41537\n",
      "i 1406 j 25 nb_backup 41563\n",
      "i 1407 j 22 nb_backup 41586\n",
      "i 1408 j 37 nb_backup 41624\n",
      "i 1409 j 37 nb_backup 41662\n",
      "i 1410 j 23 nb_backup 41686\n",
      "i 1411 j 58 nb_backup 41745\n",
      "i 1412 j 18 nb_backup 41764\n",
      "i 1413 j 21 nb_backup 41786\n",
      "i 1414 j 22 nb_backup 41809\n",
      "i 1415 j 32 nb_backup 41842\n",
      "i 1416 j 24 nb_backup 41867\n",
      "i 1417 j 22 nb_backup 41890\n",
      "i 1418 j 49 nb_backup 41940\n",
      "i 1419 j 37 nb_backup 41978\n",
      "i 1420 j 36 nb_backup 42015\n",
      "i 1421 j 24 nb_backup 42040\n",
      "i 1422 j 22 nb_backup 42063\n",
      "i 1423 j 21 nb_backup 42085\n",
      "i 1424 j 14 nb_backup 42100\n",
      "i 1425 j 27 nb_backup 42128\n",
      "i 1426 j 27 nb_backup 42156\n",
      "i 1427 j 22 nb_backup 42179\n",
      "i 1428 j 14 nb_backup 42194\n",
      "i 1429 j 55 nb_backup 42250\n",
      "i 1430 j 25 nb_backup 42276\n",
      "i 1431 j 23 nb_backup 42300\n",
      "i 1432 j 23 nb_backup 42324\n",
      "i 1433 j 42 nb_backup 42367\n",
      "i 1434 j 35 nb_backup 42403\n",
      "i 1435 j 28 nb_backup 42432\n",
      "i 1436 j 18 nb_backup 42451\n",
      "i 1437 j 26 nb_backup 42478\n",
      "i 1438 j 36 nb_backup 42515\n",
      "i 1439 j 32 nb_backup 42548\n",
      "i 1440 j 21 nb_backup 42570\n",
      "i 1441 j 25 nb_backup 42596\n",
      "i 1442 j 35 nb_backup 42632\n",
      "i 1443 j 31 nb_backup 42664\n",
      "i 1444 j 25 nb_backup 42690\n",
      "i 1445 j 24 nb_backup 42715\n",
      "i 1446 j 32 nb_backup 42748\n",
      "i 1447 j 19 nb_backup 42768\n",
      "i 1448 j 19 nb_backup 42788\n",
      "i 1449 j 22 nb_backup 42811\n",
      "i 1450 j 26 nb_backup 42838\n",
      "i 1451 j 27 nb_backup 42866\n",
      "i 1452 j 42 nb_backup 42909\n",
      "i 1453 j 23 nb_backup 42933\n",
      "i 1454 j 21 nb_backup 42955\n",
      "i 1455 j 24 nb_backup 42980\n",
      "i 1456 j 38 nb_backup 43019\n",
      "i 1457 j 18 nb_backup 43038\n",
      "i 1458 j 36 nb_backup 43075\n",
      "i 1459 j 33 nb_backup 43109\n",
      "i 1460 j 22 nb_backup 43132\n",
      "i 1461 j 22 nb_backup 43155\n",
      "i 1462 j 24 nb_backup 43180\n",
      "i 1463 j 19 nb_backup 43200\n",
      "i 1464 j 29 nb_backup 43230\n",
      "i 1465 j 22 nb_backup 43253\n",
      "i 1466 j 36 nb_backup 43290\n",
      "i 1467 j 16 nb_backup 43307\n",
      "i 1468 j 25 nb_backup 43333\n",
      "i 1469 j 26 nb_backup 43360\n",
      "i 1470 j 39 nb_backup 43400\n",
      "i 1471 j 26 nb_backup 43427\n",
      "i 1472 j 22 nb_backup 43450\n",
      "i 1473 j 21 nb_backup 43472\n",
      "i 1474 j 20 nb_backup 43493\n",
      "i 1475 j 29 nb_backup 43523\n",
      "i 1476 j 24 nb_backup 43548\n",
      "i 1477 j 38 nb_backup 43587\n",
      "i 1478 j 25 nb_backup 43613\n",
      "i 1479 j 22 nb_backup 43636\n",
      "i 1480 j 70 nb_backup 43707\n",
      "i 1481 j 15 nb_backup 43723\n",
      "i 1482 j 26 nb_backup 43750\n",
      "i 1483 j 15 nb_backup 43766\n",
      "i 1484 j 21 nb_backup 43788\n",
      "i 1485 j 26 nb_backup 43815\n",
      "i 1486 j 21 nb_backup 43837\n",
      "i 1487 j 26 nb_backup 43864\n",
      "i 1488 j 30 nb_backup 43895\n",
      "i 1489 j 23 nb_backup 43919\n",
      "i 1490 j 28 nb_backup 43948\n",
      "i 1491 j 56 nb_backup 44005\n",
      "i 1492 j 56 nb_backup 44062\n",
      "i 1493 j 37 nb_backup 44100\n",
      "i 1494 j 32 nb_backup 44133\n",
      "i 1495 j 18 nb_backup 44152\n",
      "i 1496 j 35 nb_backup 44188\n",
      "i 1497 j 25 nb_backup 44214\n",
      "i 1498 j 23 nb_backup 44238\n",
      "i 1499 j 23 nb_backup 44262\n",
      "i 1500 j 23 nb_backup 44286\n",
      "i 1501 j 44 nb_backup 44331\n",
      "i 1502 j 35 nb_backup 44367\n",
      "i 1503 j 32 nb_backup 44400\n",
      "i 1504 j 19 nb_backup 44420\n",
      "i 1505 j 31 nb_backup 44452\n",
      "i 1506 j 28 nb_backup 44481\n",
      "i 1507 j 21 nb_backup 44503\n",
      "i 1508 j 33 nb_backup 44537\n",
      "i 1509 j 40 nb_backup 44578\n",
      "i 1510 j 17 nb_backup 44596\n",
      "i 1511 j 22 nb_backup 44619\n",
      "i 1512 j 22 nb_backup 44642\n",
      "i 1513 j 18 nb_backup 44661\n",
      "i 1514 j 32 nb_backup 44694\n",
      "i 1515 j 15 nb_backup 44710\n",
      "i 1516 j 40 nb_backup 44751\n",
      "i 1517 j 20 nb_backup 44772\n",
      "i 1518 j 28 nb_backup 44801\n",
      "i 1519 j 20 nb_backup 44822\n",
      "i 1520 j 35 nb_backup 44858\n",
      "i 1521 j 23 nb_backup 44882\n",
      "i 1522 j 39 nb_backup 44922\n",
      "i 1523 j 15 nb_backup 44938\n",
      "i 1524 j 20 nb_backup 44959\n",
      "i 1525 j 39 nb_backup 44999\n",
      "i 1526 j 28 nb_backup 45028\n",
      "i 1527 j 16 nb_backup 45045\n",
      "i 1528 j 25 nb_backup 45071\n",
      "i 1529 j 30 nb_backup 45102\n",
      "i 1530 j 16 nb_backup 45119\n",
      "i 1531 j 20 nb_backup 45140\n",
      "i 1532 j 28 nb_backup 45169\n",
      "i 1533 j 24 nb_backup 45194\n",
      "i 1534 j 39 nb_backup 45234\n",
      "i 1535 j 36 nb_backup 45271\n",
      "i 1536 j 22 nb_backup 45294\n",
      "i 1537 j 34 nb_backup 45329\n",
      "i 1538 j 25 nb_backup 45355\n",
      "i 1539 j 17 nb_backup 45373\n",
      "i 1540 j 24 nb_backup 45398\n",
      "i 1541 j 40 nb_backup 45439\n",
      "i 1542 j 21 nb_backup 45461\n",
      "i 1543 j 21 nb_backup 45483\n",
      "i 1544 j 25 nb_backup 45509\n",
      "i 1545 j 25 nb_backup 45535\n",
      "i 1546 j 25 nb_backup 45561\n",
      "i 1547 j 19 nb_backup 45581\n",
      "i 1548 j 17 nb_backup 45599\n",
      "i 1549 j 28 nb_backup 45628\n",
      "i 1550 j 34 nb_backup 45663\n",
      "i 1551 j 16 nb_backup 45680\n",
      "i 1552 j 24 nb_backup 45705\n",
      "i 1553 j 36 nb_backup 45742\n",
      "i 1554 j 24 nb_backup 45767\n",
      "i 1555 j 23 nb_backup 45791\n",
      "i 1556 j 30 nb_backup 45822\n",
      "i 1557 j 19 nb_backup 45842\n",
      "i 1558 j 13 nb_backup 45856\n",
      "i 1559 j 26 nb_backup 45883\n",
      "i 1560 j 25 nb_backup 45909\n",
      "i 1561 j 15 nb_backup 45925\n",
      "i 1562 j 13 nb_backup 45939\n",
      "i 1563 j 16 nb_backup 45956\n",
      "i 1564 j 34 nb_backup 45991\n",
      "i 1565 j 16 nb_backup 46008\n",
      "i 1566 j 37 nb_backup 46046\n",
      "i 1567 j 18 nb_backup 46065\n",
      "i 1568 j 33 nb_backup 46099\n",
      "i 1569 j 22 nb_backup 46122\n",
      "i 1570 j 34 nb_backup 46157\n",
      "i 1571 j 23 nb_backup 46181\n",
      "i 1572 j 21 nb_backup 46203\n",
      "i 1573 j 18 nb_backup 46222\n",
      "i 1574 j 13 nb_backup 46236\n",
      "i 1575 j 27 nb_backup 46264\n",
      "i 1576 j 25 nb_backup 46290\n",
      "i 1577 j 14 nb_backup 46305\n",
      "i 1578 j 24 nb_backup 46330\n",
      "i 1579 j 29 nb_backup 46360\n",
      "i 1580 j 25 nb_backup 46386\n",
      "i 1581 j 39 nb_backup 46426\n",
      "i 1582 j 24 nb_backup 46451\n",
      "i 1583 j 32 nb_backup 46484\n",
      "i 1584 j 40 nb_backup 46525\n",
      "i 1585 j 21 nb_backup 46547\n",
      "i 1586 j 17 nb_backup 46565\n",
      "i 1587 j 18 nb_backup 46584\n",
      "i 1588 j 33 nb_backup 46618\n",
      "i 1589 j 29 nb_backup 46648\n",
      "i 1590 j 20 nb_backup 46669\n",
      "i 1591 j 18 nb_backup 46688\n",
      "i 1592 j 20 nb_backup 46709\n",
      "i 1593 j 17 nb_backup 46727\n",
      "i 1594 j 19 nb_backup 46747\n",
      "i 1595 j 29 nb_backup 46777\n",
      "i 1596 j 18 nb_backup 46796\n",
      "i 1597 j 29 nb_backup 46826\n",
      "i 1598 j 18 nb_backup 46845\n",
      "i 1599 j 31 nb_backup 46877\n",
      "i 1600 j 32 nb_backup 46910\n",
      "i 1601 j 30 nb_backup 46941\n",
      "i 1602 j 19 nb_backup 46961\n",
      "i 1603 j 20 nb_backup 46982\n",
      "i 1604 j 18 nb_backup 47001\n",
      "i 1605 j 33 nb_backup 47035\n",
      "i 1606 j 31 nb_backup 47067\n",
      "i 1607 j 24 nb_backup 47092\n",
      "i 1608 j 29 nb_backup 47122\n",
      "i 1609 j 20 nb_backup 47143\n",
      "i 1610 j 19 nb_backup 47163\n",
      "i 1611 j 35 nb_backup 47199\n",
      "i 1612 j 14 nb_backup 47214\n",
      "i 1613 j 22 nb_backup 47237\n",
      "i 1614 j 31 nb_backup 47269\n",
      "i 1615 j 17 nb_backup 47287\n",
      "i 1616 j 33 nb_backup 47321\n",
      "i 1617 j 23 nb_backup 47345\n",
      "i 1618 j 25 nb_backup 47371\n",
      "i 1619 j 17 nb_backup 47389\n",
      "i 1620 j 38 nb_backup 47428\n",
      "i 1621 j 24 nb_backup 47453\n",
      "i 1622 j 18 nb_backup 47472\n",
      "i 1623 j 22 nb_backup 47495\n",
      "i 1624 j 24 nb_backup 47520\n",
      "i 1625 j 13 nb_backup 47534\n",
      "i 1626 j 25 nb_backup 47560\n",
      "i 1627 j 19 nb_backup 47580\n",
      "i 1628 j 20 nb_backup 47601\n",
      "i 1629 j 26 nb_backup 47628\n",
      "i 1630 j 27 nb_backup 47656\n",
      "i 1631 j 19 nb_backup 47676\n",
      "i 1632 j 32 nb_backup 47709\n",
      "i 1633 j 21 nb_backup 47731\n",
      "i 1634 j 29 nb_backup 47761\n",
      "i 1635 j 21 nb_backup 47783\n",
      "i 1636 j 25 nb_backup 47809\n",
      "i 1637 j 26 nb_backup 47836\n",
      "i 1638 j 19 nb_backup 47856\n",
      "i 1639 j 19 nb_backup 47876\n",
      "i 1640 j 18 nb_backup 47895\n",
      "i 1641 j 25 nb_backup 47921\n",
      "i 1642 j 19 nb_backup 47941\n",
      "i 1643 j 32 nb_backup 47974\n",
      "i 1644 j 19 nb_backup 47994\n",
      "i 1645 j 31 nb_backup 48026\n",
      "i 1646 j 22 nb_backup 48049\n",
      "i 1647 j 32 nb_backup 48082\n",
      "i 1648 j 30 nb_backup 48113\n",
      "i 1649 j 41 nb_backup 48155\n",
      "i 1650 j 17 nb_backup 48173\n",
      "i 1651 j 19 nb_backup 48193\n",
      "i 1652 j 35 nb_backup 48229\n",
      "i 1653 j 14 nb_backup 48244\n",
      "i 1654 j 38 nb_backup 48283\n",
      "i 1655 j 49 nb_backup 48333\n",
      "i 1656 j 18 nb_backup 48352\n",
      "i 1657 j 31 nb_backup 48384\n",
      "i 1658 j 30 nb_backup 48415\n",
      "i 1659 j 25 nb_backup 48441\n",
      "i 1660 j 46 nb_backup 48488\n",
      "i 1661 j 30 nb_backup 48519\n",
      "i 1662 j 20 nb_backup 48540\n",
      "i 1663 j 24 nb_backup 48565\n",
      "i 1664 j 31 nb_backup 48597\n",
      "i 1665 j 55 nb_backup 48653\n",
      "i 1666 j 43 nb_backup 48697\n",
      "i 1667 j 24 nb_backup 48722\n",
      "i 1668 j 29 nb_backup 48752\n",
      "i 1669 j 22 nb_backup 48775\n",
      "i 1670 j 21 nb_backup 48797\n",
      "i 1671 j 25 nb_backup 48823\n",
      "i 1672 j 23 nb_backup 48847\n",
      "i 1673 j 22 nb_backup 48870\n",
      "i 1674 j 25 nb_backup 48896\n",
      "i 1675 j 25 nb_backup 48922\n",
      "i 1676 j 31 nb_backup 48954\n",
      "i 1677 j 32 nb_backup 48987\n",
      "i 1678 j 29 nb_backup 49017\n",
      "i 1679 j 22 nb_backup 49040\n",
      "i 1680 j 23 nb_backup 49064\n",
      "i 1681 j 30 nb_backup 49095\n",
      "i 1682 j 18 nb_backup 49114\n",
      "i 1683 j 26 nb_backup 49141\n",
      "i 1684 j 23 nb_backup 49165\n",
      "i 1685 j 29 nb_backup 49195\n",
      "i 1686 j 19 nb_backup 49215\n",
      "i 1687 j 53 nb_backup 49269\n",
      "i 1688 j 13 nb_backup 49283\n",
      "i 1689 j 31 nb_backup 49315\n",
      "i 1690 j 34 nb_backup 49350\n",
      "i 1691 j 15 nb_backup 49366\n",
      "i 1692 j 35 nb_backup 49402\n",
      "i 1693 j 22 nb_backup 49425\n",
      "i 1694 j 14 nb_backup 49440\n",
      "i 1695 j 19 nb_backup 49460\n",
      "i 1696 j 28 nb_backup 49489\n",
      "i 1697 j 14 nb_backup 49504\n",
      "i 1698 j 27 nb_backup 49532\n",
      "i 1699 j 21 nb_backup 49554\n",
      "i 1700 j 27 nb_backup 49582\n",
      "i 1701 j 19 nb_backup 49602\n",
      "i 1702 j 18 nb_backup 49621\n",
      "i 1703 j 18 nb_backup 49640\n",
      "i 1704 j 30 nb_backup 49671\n",
      "i 1705 j 32 nb_backup 49704\n",
      "i 1706 j 43 nb_backup 49748\n",
      "i 1707 j 15 nb_backup 49764\n",
      "i 1708 j 26 nb_backup 49791\n",
      "i 1709 j 23 nb_backup 49815\n",
      "i 1710 j 30 nb_backup 49846\n",
      "i 1711 j 26 nb_backup 49873\n",
      "i 1712 j 26 nb_backup 49900\n",
      "i 1713 j 20 nb_backup 49921\n",
      "i 1714 j 25 nb_backup 49947\n",
      "i 1715 j 32 nb_backup 49980\n",
      "i 1716 j 19 nb_backup 50000\n",
      "i 1717 j 22 nb_backup 50023\n",
      "i 1718 j 24 nb_backup 50048\n",
      "i 1719 j 21 nb_backup 50070\n",
      "i 1720 j 26 nb_backup 50097\n",
      "i 1721 j 25 nb_backup 50123\n",
      "i 1722 j 20 nb_backup 50144\n",
      "i 1723 j 16 nb_backup 50161\n",
      "i 1724 j 20 nb_backup 50182\n",
      "i 1725 j 29 nb_backup 50212\n",
      "i 1726 j 26 nb_backup 50239\n",
      "i 1727 j 26 nb_backup 50266\n",
      "i 1728 j 21 nb_backup 50288\n",
      "i 1729 j 32 nb_backup 50321\n",
      "i 1730 j 18 nb_backup 50340\n",
      "i 1731 j 24 nb_backup 50365\n",
      "i 1732 j 39 nb_backup 50405\n",
      "i 1733 j 27 nb_backup 50433\n",
      "i 1734 j 30 nb_backup 50464\n",
      "i 1735 j 48 nb_backup 50513\n",
      "i 1736 j 27 nb_backup 50541\n",
      "i 1737 j 25 nb_backup 50567\n",
      "i 1738 j 24 nb_backup 50592\n",
      "i 1739 j 22 nb_backup 50615\n",
      "i 1740 j 23 nb_backup 50639\n",
      "i 1741 j 27 nb_backup 50667\n",
      "i 1742 j 29 nb_backup 50697\n",
      "i 1743 j 27 nb_backup 50725\n",
      "i 1744 j 21 nb_backup 50747\n",
      "i 1745 j 26 nb_backup 50774\n",
      "i 1746 j 25 nb_backup 50800\n",
      "i 1747 j 23 nb_backup 50824\n",
      "i 1748 j 21 nb_backup 50846\n",
      "i 1749 j 58 nb_backup 50905\n",
      "i 1750 j 27 nb_backup 50933\n",
      "i 1751 j 21 nb_backup 50955\n",
      "i 1752 j 37 nb_backup 50993\n",
      "i 1753 j 30 nb_backup 51024\n",
      "i 1754 j 34 nb_backup 51059\n",
      "i 1755 j 17 nb_backup 51077\n",
      "i 1756 j 20 nb_backup 51098\n",
      "i 1757 j 29 nb_backup 51128\n",
      "i 1758 j 29 nb_backup 51158\n",
      "i 1759 j 32 nb_backup 51191\n",
      "i 1760 j 20 nb_backup 51212\n",
      "i 1761 j 19 nb_backup 51232\n",
      "i 1762 j 19 nb_backup 51252\n",
      "i 1763 j 30 nb_backup 51283\n",
      "i 1764 j 25 nb_backup 51309\n",
      "i 1765 j 18 nb_backup 51328\n",
      "i 1766 j 24 nb_backup 51353\n",
      "i 1767 j 26 nb_backup 51380\n",
      "i 1768 j 31 nb_backup 51412\n",
      "i 1769 j 27 nb_backup 51440\n",
      "i 1770 j 23 nb_backup 51464\n",
      "i 1771 j 37 nb_backup 51502\n",
      "i 1772 j 23 nb_backup 51526\n",
      "i 1773 j 36 nb_backup 51563\n",
      "i 1774 j 27 nb_backup 51591\n",
      "i 1775 j 46 nb_backup 51638\n",
      "i 1776 j 29 nb_backup 51668\n",
      "i 1777 j 25 nb_backup 51694\n",
      "i 1778 j 22 nb_backup 51717\n",
      "i 1779 j 27 nb_backup 51745\n",
      "i 1780 j 33 nb_backup 51779\n",
      "i 1781 j 35 nb_backup 51815\n",
      "i 1782 j 22 nb_backup 51838\n",
      "i 1783 j 38 nb_backup 51877\n",
      "i 1784 j 29 nb_backup 51907\n",
      "i 1785 j 32 nb_backup 51940\n",
      "i 1786 j 23 nb_backup 51964\n",
      "i 1787 j 22 nb_backup 51987\n",
      "i 1788 j 18 nb_backup 52006\n",
      "i 1789 j 21 nb_backup 52028\n",
      "i 1790 j 20 nb_backup 52049\n",
      "i 1791 j 36 nb_backup 52086\n",
      "i 1792 j 20 nb_backup 52107\n",
      "i 1793 j 33 nb_backup 52141\n",
      "i 1794 j 36 nb_backup 52178\n",
      "i 1795 j 35 nb_backup 52214\n",
      "i 1796 j 27 nb_backup 52242\n",
      "i 1797 j 37 nb_backup 52280\n",
      "i 1798 j 28 nb_backup 52309\n",
      "i 1799 j 18 nb_backup 52328\n",
      "i 1800 j 25 nb_backup 52354\n",
      "i 1801 j 34 nb_backup 52389\n",
      "i 1802 j 21 nb_backup 52411\n",
      "i 1803 j 27 nb_backup 52439\n",
      "i 1804 j 27 nb_backup 52467\n",
      "i 1805 j 13 nb_backup 52481\n",
      "i 1806 j 26 nb_backup 52508\n",
      "i 1807 j 29 nb_backup 52538\n",
      "i 1808 j 43 nb_backup 52582\n",
      "i 1809 j 26 nb_backup 52609\n",
      "i 1810 j 20 nb_backup 52630\n",
      "i 1811 j 19 nb_backup 52650\n",
      "i 1812 j 25 nb_backup 52676\n",
      "i 1813 j 26 nb_backup 52703\n",
      "i 1814 j 20 nb_backup 52724\n",
      "i 1815 j 16 nb_backup 52741\n",
      "i 1816 j 24 nb_backup 52766\n",
      "i 1817 j 24 nb_backup 52791\n",
      "i 1818 j 28 nb_backup 52820\n",
      "i 1819 j 20 nb_backup 52841\n",
      "i 1820 j 18 nb_backup 52860\n",
      "i 1821 j 36 nb_backup 52897\n",
      "i 1822 j 21 nb_backup 52919\n",
      "i 1823 j 23 nb_backup 52943\n",
      "i 1824 j 33 nb_backup 52977\n",
      "i 1825 j 21 nb_backup 52999\n",
      "i 1826 j 14 nb_backup 53014\n",
      "i 1827 j 19 nb_backup 53034\n",
      "i 1828 j 22 nb_backup 53057\n",
      "i 1829 j 15 nb_backup 53073\n",
      "i 1830 j 20 nb_backup 53094\n",
      "i 1831 j 16 nb_backup 53111\n",
      "i 1832 j 27 nb_backup 53139\n",
      "i 1833 j 24 nb_backup 53164\n",
      "i 1834 j 30 nb_backup 53195\n",
      "i 1835 j 42 nb_backup 53238\n",
      "i 1836 j 36 nb_backup 53275\n",
      "i 1837 j 13 nb_backup 53289\n",
      "i 1838 j 22 nb_backup 53312\n",
      "i 1839 j 31 nb_backup 53344\n",
      "i 1840 j 22 nb_backup 53367\n",
      "i 1841 j 18 nb_backup 53386\n",
      "i 1842 j 34 nb_backup 53421\n",
      "i 1843 j 22 nb_backup 53444\n",
      "i 1844 j 43 nb_backup 53488\n",
      "i 1845 j 25 nb_backup 53514\n",
      "i 1846 j 34 nb_backup 53549\n",
      "i 1847 j 17 nb_backup 53567\n",
      "i 1848 j 41 nb_backup 53609\n",
      "i 1849 j 24 nb_backup 53634\n",
      "i 1850 j 23 nb_backup 53658\n",
      "i 1851 j 33 nb_backup 53692\n",
      "i 1852 j 19 nb_backup 53712\n",
      "i 1853 j 25 nb_backup 53738\n",
      "i 1854 j 22 nb_backup 53761\n",
      "i 1855 j 23 nb_backup 53785\n",
      "i 1856 j 27 nb_backup 53813\n",
      "i 1857 j 16 nb_backup 53830\n",
      "i 1858 j 24 nb_backup 53855\n",
      "i 1859 j 14 nb_backup 53870\n",
      "i 1860 j 25 nb_backup 53896\n",
      "i 1861 j 38 nb_backup 53935\n",
      "i 1862 j 14 nb_backup 53950\n",
      "i 1863 j 45 nb_backup 53996\n",
      "i 1864 j 26 nb_backup 54023\n",
      "i 1865 j 39 nb_backup 54063\n",
      "i 1866 j 20 nb_backup 54084\n",
      "i 1867 j 22 nb_backup 54107\n",
      "i 1868 j 28 nb_backup 54136\n",
      "i 1869 j 28 nb_backup 54165\n",
      "i 1870 j 29 nb_backup 54195\n",
      "i 1871 j 37 nb_backup 54233\n",
      "i 1872 j 25 nb_backup 54259\n",
      "i 1873 j 38 nb_backup 54298\n",
      "i 1874 j 19 nb_backup 54318\n",
      "i 1875 j 33 nb_backup 54352\n",
      "i 1876 j 23 nb_backup 54376\n",
      "i 1877 j 20 nb_backup 54397\n",
      "i 1878 j 28 nb_backup 54426\n",
      "i 1879 j 48 nb_backup 54475\n",
      "i 1880 j 24 nb_backup 54500\n",
      "i 1881 j 33 nb_backup 54534\n",
      "i 1882 j 27 nb_backup 54562\n",
      "i 1883 j 29 nb_backup 54592\n",
      "i 1884 j 28 nb_backup 54621\n",
      "i 1885 j 22 nb_backup 54644\n",
      "i 1886 j 28 nb_backup 54673\n",
      "i 1887 j 41 nb_backup 54715\n",
      "i 1888 j 51 nb_backup 54767\n",
      "i 1889 j 19 nb_backup 54787\n",
      "i 1890 j 33 nb_backup 54821\n",
      "i 1891 j 21 nb_backup 54843\n",
      "i 1892 j 22 nb_backup 54866\n",
      "i 1893 j 29 nb_backup 54896\n",
      "i 1894 j 32 nb_backup 54929\n",
      "i 1895 j 24 nb_backup 54954\n",
      "i 1896 j 27 nb_backup 54982\n",
      "i 1897 j 26 nb_backup 55009\n",
      "i 1898 j 35 nb_backup 55045\n",
      "i 1899 j 25 nb_backup 55071\n",
      "i 1900 j 30 nb_backup 55102\n",
      "i 1901 j 24 nb_backup 55127\n",
      "i 1902 j 26 nb_backup 55154\n",
      "i 1903 j 21 nb_backup 55176\n",
      "i 1904 j 18 nb_backup 55195\n",
      "i 1905 j 21 nb_backup 55217\n",
      "i 1906 j 37 nb_backup 55255\n",
      "i 1907 j 24 nb_backup 55280\n",
      "i 1908 j 20 nb_backup 55301\n",
      "i 1909 j 19 nb_backup 55321\n",
      "i 1910 j 21 nb_backup 55343\n",
      "i 1911 j 21 nb_backup 55365\n",
      "i 1912 j 29 nb_backup 55395\n",
      "i 1913 j 30 nb_backup 55426\n",
      "i 1914 j 20 nb_backup 55447\n",
      "i 1915 j 41 nb_backup 55489\n",
      "i 1916 j 32 nb_backup 55522\n",
      "i 1917 j 33 nb_backup 55556\n",
      "i 1918 j 26 nb_backup 55583\n",
      "i 1919 j 28 nb_backup 55612\n",
      "i 1920 j 22 nb_backup 55635\n",
      "i 1921 j 25 nb_backup 55661\n",
      "i 1922 j 23 nb_backup 55685\n",
      "i 1923 j 39 nb_backup 55725\n",
      "i 1924 j 22 nb_backup 55748\n",
      "i 1925 j 26 nb_backup 55775\n",
      "i 1926 j 21 nb_backup 55797\n",
      "i 1927 j 21 nb_backup 55819\n",
      "i 1928 j 33 nb_backup 55853\n",
      "i 1929 j 30 nb_backup 55884\n",
      "i 1930 j 24 nb_backup 55909\n",
      "i 1931 j 25 nb_backup 55935\n",
      "i 1932 j 20 nb_backup 55956\n",
      "i 1933 j 36 nb_backup 55993\n",
      "i 1934 j 29 nb_backup 56023\n",
      "i 1935 j 27 nb_backup 56051\n",
      "i 1936 j 36 nb_backup 56088\n",
      "i 1937 j 30 nb_backup 56119\n",
      "i 1938 j 22 nb_backup 56142\n",
      "i 1939 j 36 nb_backup 56179\n",
      "i 1940 j 23 nb_backup 56203\n",
      "i 1941 j 27 nb_backup 56231\n",
      "i 1942 j 34 nb_backup 56266\n",
      "i 1943 j 28 nb_backup 56295\n",
      "i 1944 j 19 nb_backup 56315\n",
      "i 1945 j 26 nb_backup 56342\n",
      "i 1946 j 32 nb_backup 56375\n",
      "i 1947 j 24 nb_backup 56400\n",
      "i 1948 j 22 nb_backup 56423\n",
      "i 1949 j 32 nb_backup 56456\n",
      "i 1950 j 29 nb_backup 56486\n",
      "i 1951 j 22 nb_backup 56509\n",
      "i 1952 j 16 nb_backup 56526\n",
      "i 1953 j 26 nb_backup 56553\n",
      "i 1954 j 19 nb_backup 56573\n",
      "i 1955 j 18 nb_backup 56592\n",
      "i 1956 j 30 nb_backup 56623\n",
      "i 1957 j 21 nb_backup 56645\n",
      "i 1958 j 23 nb_backup 56669\n",
      "i 1959 j 20 nb_backup 56690\n",
      "i 1960 j 19 nb_backup 56710\n",
      "i 1961 j 40 nb_backup 56751\n",
      "i 1962 j 17 nb_backup 56769\n",
      "i 1963 j 32 nb_backup 56802\n",
      "i 1964 j 27 nb_backup 56830\n",
      "i 1965 j 32 nb_backup 56863\n",
      "i 1966 j 30 nb_backup 56894\n",
      "i 1967 j 14 nb_backup 56909\n",
      "i 1968 j 26 nb_backup 56936\n",
      "i 1969 j 38 nb_backup 56975\n",
      "i 1970 j 39 nb_backup 57015\n",
      "i 1971 j 24 nb_backup 57040\n",
      "i 1972 j 26 nb_backup 57067\n",
      "i 1973 j 31 nb_backup 57099\n",
      "i 1974 j 18 nb_backup 57118\n",
      "i 1975 j 21 nb_backup 57140\n",
      "i 1976 j 19 nb_backup 57160\n",
      "i 1977 j 25 nb_backup 57186\n",
      "i 1978 j 16 nb_backup 57203\n",
      "i 1979 j 23 nb_backup 57227\n",
      "i 1980 j 15 nb_backup 57243\n",
      "i 1981 j 18 nb_backup 57262\n",
      "i 1982 j 30 nb_backup 57293\n",
      "i 1983 j 13 nb_backup 57307\n",
      "i 1984 j 23 nb_backup 57331\n",
      "i 1985 j 26 nb_backup 57358\n",
      "i 1986 j 23 nb_backup 57382\n",
      "i 1987 j 38 nb_backup 57421\n",
      "i 1988 j 20 nb_backup 57442\n",
      "i 1989 j 31 nb_backup 57474\n",
      "i 1990 j 34 nb_backup 57509\n",
      "i 1991 j 39 nb_backup 57549\n",
      "i 1992 j 21 nb_backup 57571\n",
      "i 1993 j 33 nb_backup 57605\n",
      "i 1994 j 29 nb_backup 57635\n",
      "i 1995 j 24 nb_backup 57660\n",
      "i 1996 j 19 nb_backup 57680\n",
      "i 1997 j 14 nb_backup 57695\n",
      "i 1998 j 21 nb_backup 57717\n",
      "i 1999 j 29 nb_backup 57747\n",
      "i 2000 j 60 nb_backup 57808\n",
      "i 2001 j 18 nb_backup 57827\n",
      "i 2002 j 23 nb_backup 57851\n",
      "i 2003 j 46 nb_backup 57898\n",
      "i 2004 j 27 nb_backup 57926\n",
      "i 2005 j 27 nb_backup 57954\n",
      "i 2006 j 29 nb_backup 57984\n",
      "i 2007 j 42 nb_backup 58027\n",
      "i 2008 j 21 nb_backup 58049\n",
      "i 2009 j 33 nb_backup 58083\n",
      "i 2010 j 28 nb_backup 58112\n",
      "i 2011 j 15 nb_backup 58128\n",
      "i 2012 j 19 nb_backup 58148\n",
      "i 2013 j 18 nb_backup 58167\n",
      "i 2014 j 49 nb_backup 58217\n",
      "i 2015 j 20 nb_backup 58238\n",
      "i 2016 j 21 nb_backup 58260\n",
      "i 2017 j 23 nb_backup 58284\n",
      "i 2018 j 15 nb_backup 58300\n",
      "i 2019 j 38 nb_backup 58339\n",
      "i 2020 j 31 nb_backup 58371\n",
      "i 2021 j 23 nb_backup 58395\n",
      "i 2022 j 35 nb_backup 58431\n",
      "i 2023 j 35 nb_backup 58467\n",
      "i 2024 j 23 nb_backup 58491\n",
      "i 2025 j 27 nb_backup 58519\n",
      "i 2026 j 22 nb_backup 58542\n",
      "i 2027 j 31 nb_backup 58574\n",
      "i 2028 j 31 nb_backup 58606\n",
      "i 2029 j 25 nb_backup 58632\n",
      "i 2030 j 21 nb_backup 58654\n",
      "i 2031 j 17 nb_backup 58672\n",
      "i 2032 j 16 nb_backup 58689\n",
      "i 2033 j 16 nb_backup 58706\n",
      "i 2034 j 16 nb_backup 58723\n",
      "i 2035 j 21 nb_backup 58745\n",
      "i 2036 j 28 nb_backup 58774\n",
      "i 2037 j 30 nb_backup 58805\n",
      "i 2038 j 31 nb_backup 58837\n",
      "i 2039 j 35 nb_backup 58873\n",
      "i 2040 j 18 nb_backup 58892\n",
      "i 2041 j 31 nb_backup 58924\n",
      "i 2042 j 20 nb_backup 58945\n",
      "i 2043 j 22 nb_backup 58968\n",
      "i 2044 j 26 nb_backup 58995\n",
      "i 2045 j 24 nb_backup 59020\n",
      "i 2046 j 23 nb_backup 59044\n",
      "i 2047 j 24 nb_backup 59069\n",
      "i 2048 j 16 nb_backup 59086\n",
      "i 2049 j 27 nb_backup 59114\n",
      "i 2050 j 19 nb_backup 59134\n",
      "i 2051 j 17 nb_backup 59152\n",
      "i 2052 j 37 nb_backup 59190\n",
      "i 2053 j 21 nb_backup 59212\n",
      "i 2054 j 39 nb_backup 59252\n",
      "i 2055 j 40 nb_backup 59293\n",
      "i 2056 j 35 nb_backup 59329\n",
      "i 2057 j 23 nb_backup 59353\n",
      "i 2058 j 19 nb_backup 59373\n",
      "i 2059 j 24 nb_backup 59398\n",
      "i 2060 j 17 nb_backup 59416\n",
      "i 2061 j 21 nb_backup 59438\n",
      "i 2062 j 19 nb_backup 59458\n",
      "i 2063 j 23 nb_backup 59482\n",
      "i 2064 j 23 nb_backup 59506\n",
      "i 2065 j 18 nb_backup 59525\n",
      "i 2066 j 32 nb_backup 59558\n",
      "i 2067 j 33 nb_backup 59592\n",
      "i 2068 j 28 nb_backup 59621\n",
      "i 2069 j 25 nb_backup 59647\n",
      "i 2070 j 34 nb_backup 59682\n",
      "i 2071 j 38 nb_backup 59721\n",
      "i 2072 j 20 nb_backup 59742\n",
      "i 2073 j 25 nb_backup 59768\n",
      "i 2074 j 23 nb_backup 59792\n",
      "i 2075 j 38 nb_backup 59831\n",
      "i 2076 j 17 nb_backup 59849\n",
      "i 2077 j 23 nb_backup 59873\n",
      "i 2078 j 18 nb_backup 59892\n",
      "i 2079 j 40 nb_backup 59933\n",
      "i 2080 j 22 nb_backup 59956\n",
      "i 2081 j 23 nb_backup 59980\n",
      "i 2082 j 27 nb_backup 60008\n",
      "i 2083 j 38 nb_backup 60047\n",
      "i 2084 j 35 nb_backup 60083\n",
      "i 2085 j 17 nb_backup 60101\n",
      "i 2086 j 42 nb_backup 60144\n",
      "i 2087 j 29 nb_backup 60174\n",
      "i 2088 j 18 nb_backup 60193\n",
      "i 2089 j 27 nb_backup 60221\n",
      "i 2090 j 29 nb_backup 60251\n",
      "i 2091 j 21 nb_backup 60273\n",
      "i 2092 j 30 nb_backup 60304\n",
      "i 2093 j 20 nb_backup 60325\n",
      "i 2094 j 36 nb_backup 60362\n",
      "i 2095 j 31 nb_backup 60394\n",
      "i 2096 j 29 nb_backup 60424\n",
      "i 2097 j 28 nb_backup 60453\n",
      "i 2098 j 19 nb_backup 60473\n",
      "i 2099 j 28 nb_backup 60502\n",
      "i 2100 j 18 nb_backup 60521\n",
      "i 2101 j 18 nb_backup 60540\n",
      "i 2102 j 17 nb_backup 60558\n",
      "i 2103 j 24 nb_backup 60583\n",
      "i 2104 j 28 nb_backup 60612\n",
      "i 2105 j 54 nb_backup 60667\n",
      "i 2106 j 37 nb_backup 60705\n",
      "i 2107 j 29 nb_backup 60735\n",
      "i 2108 j 21 nb_backup 60757\n",
      "i 2109 j 23 nb_backup 60781\n",
      "i 2110 j 41 nb_backup 60823\n",
      "i 2111 j 22 nb_backup 60846\n",
      "i 2112 j 34 nb_backup 60881\n",
      "i 2113 j 24 nb_backup 60906\n",
      "i 2114 j 21 nb_backup 60928\n",
      "i 2115 j 23 nb_backup 60952\n",
      "i 2116 j 23 nb_backup 60976\n",
      "i 2117 j 30 nb_backup 61007\n",
      "i 2118 j 35 nb_backup 61043\n",
      "i 2119 j 15 nb_backup 61059\n",
      "i 2120 j 33 nb_backup 61093\n",
      "i 2121 j 31 nb_backup 61125\n",
      "i 2122 j 34 nb_backup 61160\n",
      "i 2123 j 27 nb_backup 61188\n",
      "i 2124 j 36 nb_backup 61225\n",
      "i 2125 j 31 nb_backup 61257\n",
      "i 2126 j 21 nb_backup 61279\n",
      "i 2127 j 28 nb_backup 61308\n",
      "i 2128 j 21 nb_backup 61330\n",
      "i 2129 j 13 nb_backup 61344\n",
      "i 2130 j 17 nb_backup 61362\n",
      "i 2131 j 16 nb_backup 61379\n",
      "i 2132 j 30 nb_backup 61410\n",
      "i 2133 j 27 nb_backup 61438\n",
      "i 2134 j 16 nb_backup 61455\n",
      "i 2135 j 45 nb_backup 61501\n",
      "i 2136 j 20 nb_backup 61522\n",
      "i 2137 j 40 nb_backup 61563\n",
      "i 2138 j 26 nb_backup 61590\n",
      "i 2139 j 37 nb_backup 61628\n",
      "i 2140 j 27 nb_backup 61656\n",
      "i 2141 j 27 nb_backup 61684\n",
      "i 2142 j 27 nb_backup 61712\n",
      "i 2143 j 16 nb_backup 61729\n",
      "i 2144 j 24 nb_backup 61754\n",
      "i 2145 j 25 nb_backup 61780\n",
      "i 2146 j 27 nb_backup 61808\n",
      "i 2147 j 24 nb_backup 61833\n",
      "i 2148 j 44 nb_backup 61878\n",
      "i 2149 j 28 nb_backup 61907\n",
      "i 2150 j 23 nb_backup 61931\n",
      "i 2151 j 23 nb_backup 61955\n",
      "i 2152 j 20 nb_backup 61976\n",
      "i 2153 j 27 nb_backup 62004\n",
      "i 2154 j 31 nb_backup 62036\n",
      "i 2155 j 18 nb_backup 62055\n",
      "i 2156 j 22 nb_backup 62078\n",
      "i 2157 j 14 nb_backup 62093\n",
      "i 2158 j 39 nb_backup 62133\n",
      "i 2159 j 25 nb_backup 62159\n",
      "i 2160 j 24 nb_backup 62184\n",
      "i 2161 j 23 nb_backup 62208\n",
      "i 2162 j 20 nb_backup 62229\n",
      "i 2163 j 21 nb_backup 62251\n",
      "i 2164 j 34 nb_backup 62286\n",
      "i 2165 j 19 nb_backup 62306\n",
      "i 2166 j 19 nb_backup 62326\n",
      "i 2167 j 30 nb_backup 62357\n",
      "i 2168 j 32 nb_backup 62390\n",
      "i 2169 j 21 nb_backup 62412\n",
      "i 2170 j 24 nb_backup 62437\n",
      "i 2171 j 41 nb_backup 62479\n",
      "i 2172 j 16 nb_backup 62496\n",
      "i 2173 j 23 nb_backup 62520\n",
      "i 2174 j 14 nb_backup 62535\n",
      "i 2175 j 21 nb_backup 62557\n",
      "i 2176 j 25 nb_backup 62583\n",
      "i 2177 j 28 nb_backup 62612\n",
      "i 2178 j 17 nb_backup 62630\n",
      "i 2179 j 25 nb_backup 62656\n",
      "i 2180 j 36 nb_backup 62693\n",
      "i 2181 j 56 nb_backup 62750\n",
      "i 2182 j 43 nb_backup 62794\n",
      "i 2183 j 23 nb_backup 62818\n",
      "i 2184 j 36 nb_backup 62855\n",
      "i 2185 j 23 nb_backup 62879\n",
      "i 2186 j 33 nb_backup 62913\n",
      "i 2187 j 50 nb_backup 62964\n",
      "i 2188 j 30 nb_backup 62995\n",
      "i 2189 j 30 nb_backup 63026\n",
      "i 2190 j 32 nb_backup 63059\n",
      "i 2191 j 24 nb_backup 63084\n",
      "i 2192 j 17 nb_backup 63102\n",
      "i 2193 j 18 nb_backup 63121\n",
      "i 2194 j 22 nb_backup 63144\n",
      "i 2195 j 19 nb_backup 63164\n",
      "i 2196 j 21 nb_backup 63186\n",
      "i 2197 j 19 nb_backup 63206\n",
      "i 2198 j 37 nb_backup 63244\n",
      "i 2199 j 17 nb_backup 63262\n",
      "i 2200 j 26 nb_backup 63289\n",
      "i 2201 j 21 nb_backup 63311\n",
      "i 2202 j 29 nb_backup 63341\n",
      "i 2203 j 18 nb_backup 63360\n",
      "i 2204 j 20 nb_backup 63381\n",
      "i 2205 j 20 nb_backup 63402\n",
      "i 2206 j 21 nb_backup 63424\n",
      "i 2207 j 21 nb_backup 63446\n",
      "i 2208 j 22 nb_backup 63469\n",
      "i 2209 j 39 nb_backup 63509\n",
      "i 2210 j 27 nb_backup 63537\n",
      "i 2211 j 20 nb_backup 63558\n",
      "i 2212 j 24 nb_backup 63583\n",
      "i 2213 j 20 nb_backup 63604\n",
      "i 2214 j 47 nb_backup 63652\n",
      "i 2215 j 19 nb_backup 63672\n",
      "i 2216 j 17 nb_backup 63690\n",
      "i 2217 j 21 nb_backup 63712\n",
      "i 2218 j 39 nb_backup 63752\n",
      "i 2219 j 35 nb_backup 63788\n",
      "i 2220 j 27 nb_backup 63816\n",
      "i 2221 j 25 nb_backup 63842\n",
      "i 2222 j 30 nb_backup 63873\n",
      "i 2223 j 20 nb_backup 63894\n",
      "i 2224 j 30 nb_backup 63925\n",
      "i 2225 j 24 nb_backup 63950\n",
      "i 2226 j 17 nb_backup 63968\n",
      "i 2227 j 16 nb_backup 63985\n",
      "i 2228 j 19 nb_backup 64005\n",
      "i 2229 j 31 nb_backup 64037\n",
      "i 2230 j 25 nb_backup 64063\n",
      "i 2231 j 19 nb_backup 64083\n",
      "i 2232 j 45 nb_backup 64129\n",
      "i 2233 j 21 nb_backup 64151\n",
      "i 2234 j 39 nb_backup 64191\n",
      "i 2235 j 29 nb_backup 64221\n",
      "i 2236 j 33 nb_backup 64255\n",
      "i 2237 j 20 nb_backup 64276\n",
      "i 2238 j 31 nb_backup 64308\n",
      "i 2239 j 36 nb_backup 64345\n",
      "i 2240 j 24 nb_backup 64370\n",
      "i 2241 j 25 nb_backup 64396\n",
      "i 2242 j 16 nb_backup 64413\n",
      "i 2243 j 38 nb_backup 64452\n",
      "i 2244 j 22 nb_backup 64475\n",
      "i 2245 j 18 nb_backup 64494\n",
      "i 2246 j 21 nb_backup 64516\n",
      "i 2247 j 30 nb_backup 64547\n",
      "i 2248 j 22 nb_backup 64570\n",
      "i 2249 j 42 nb_backup 64613\n",
      "i 2250 j 24 nb_backup 64638\n",
      "i 2251 j 25 nb_backup 64664\n",
      "i 2252 j 21 nb_backup 64686\n",
      "i 2253 j 17 nb_backup 64704\n",
      "i 2254 j 32 nb_backup 64737\n",
      "i 2255 j 28 nb_backup 64766\n",
      "i 2256 j 54 nb_backup 64821\n",
      "i 2257 j 19 nb_backup 64841\n",
      "i 2258 j 20 nb_backup 64862\n",
      "i 2259 j 16 nb_backup 64879\n",
      "i 2260 j 33 nb_backup 64913\n",
      "i 2261 j 25 nb_backup 64939\n",
      "i 2262 j 47 nb_backup 64987\n",
      "i 2263 j 24 nb_backup 65012\n",
      "i 2264 j 17 nb_backup 65030\n",
      "i 2265 j 28 nb_backup 65059\n",
      "i 2266 j 30 nb_backup 65090\n",
      "i 2267 j 38 nb_backup 65129\n",
      "i 2268 j 36 nb_backup 65166\n",
      "i 2269 j 23 nb_backup 65190\n",
      "i 2270 j 14 nb_backup 65205\n",
      "i 2271 j 23 nb_backup 65229\n",
      "i 2272 j 30 nb_backup 65260\n",
      "i 2273 j 27 nb_backup 65288\n",
      "i 2274 j 29 nb_backup 65318\n",
      "i 2275 j 37 nb_backup 65356\n",
      "i 2276 j 27 nb_backup 65384\n",
      "i 2277 j 22 nb_backup 65407\n",
      "i 2278 j 31 nb_backup 65439\n",
      "i 2279 j 23 nb_backup 65463\n",
      "i 2280 j 25 nb_backup 65489\n",
      "i 2281 j 19 nb_backup 65509\n",
      "i 2282 j 23 nb_backup 65533\n",
      "i 2283 j 43 nb_backup 65577\n",
      "i 2284 j 29 nb_backup 65607\n",
      "i 2285 j 22 nb_backup 65630\n",
      "i 2286 j 27 nb_backup 65658\n",
      "i 2287 j 43 nb_backup 65702\n",
      "i 2288 j 49 nb_backup 65752\n",
      "i 2289 j 33 nb_backup 65786\n",
      "i 2290 j 19 nb_backup 65806\n",
      "i 2291 j 48 nb_backup 65855\n",
      "i 2292 j 28 nb_backup 65884\n",
      "i 2293 j 34 nb_backup 65919\n",
      "i 2294 j 32 nb_backup 65952\n",
      "i 2295 j 38 nb_backup 65991\n",
      "i 2296 j 28 nb_backup 66020\n",
      "i 2297 j 29 nb_backup 66050\n",
      "i 2298 j 27 nb_backup 66078\n",
      "i 2299 j 22 nb_backup 66101\n",
      "i 2300 j 41 nb_backup 66143\n",
      "i 2301 j 20 nb_backup 66164\n",
      "i 2302 j 29 nb_backup 66194\n",
      "i 2303 j 23 nb_backup 66218\n",
      "i 2304 j 37 nb_backup 66256\n",
      "i 2305 j 30 nb_backup 66287\n",
      "i 2306 j 41 nb_backup 66329\n",
      "i 2307 j 21 nb_backup 66351\n",
      "i 2308 j 25 nb_backup 66377\n",
      "i 2309 j 51 nb_backup 66429\n",
      "i 2310 j 40 nb_backup 66470\n",
      "i 2311 j 29 nb_backup 66500\n",
      "i 2312 j 30 nb_backup 66531\n",
      "i 2313 j 44 nb_backup 66576\n",
      "i 2314 j 37 nb_backup 66614\n",
      "i 2315 j 26 nb_backup 66641\n",
      "i 2316 j 29 nb_backup 66671\n",
      "i 2317 j 15 nb_backup 66687\n",
      "i 2318 j 26 nb_backup 66714\n",
      "i 2319 j 20 nb_backup 66735\n",
      "i 2320 j 22 nb_backup 66758\n",
      "i 2321 j 27 nb_backup 66786\n",
      "i 2322 j 46 nb_backup 66833\n",
      "i 2323 j 17 nb_backup 66851\n",
      "i 2324 j 28 nb_backup 66880\n",
      "i 2325 j 21 nb_backup 66902\n",
      "i 2326 j 17 nb_backup 66920\n",
      "i 2327 j 32 nb_backup 66953\n",
      "i 2328 j 26 nb_backup 66980\n",
      "i 2329 j 35 nb_backup 67016\n",
      "i 2330 j 30 nb_backup 67047\n",
      "i 2331 j 22 nb_backup 67070\n",
      "i 2332 j 27 nb_backup 67098\n",
      "i 2333 j 29 nb_backup 67128\n",
      "i 2334 j 36 nb_backup 67165\n",
      "i 2335 j 25 nb_backup 67191\n",
      "i 2336 j 32 nb_backup 67224\n",
      "i 2337 j 37 nb_backup 67262\n",
      "i 2338 j 16 nb_backup 67279\n",
      "i 2339 j 29 nb_backup 67309\n",
      "i 2340 j 43 nb_backup 67353\n",
      "i 2341 j 23 nb_backup 67377\n",
      "i 2342 j 22 nb_backup 67400\n",
      "i 2343 j 18 nb_backup 67419\n",
      "i 2344 j 32 nb_backup 67452\n",
      "i 2345 j 35 nb_backup 67488\n",
      "i 2346 j 33 nb_backup 67522\n",
      "i 2347 j 23 nb_backup 67546\n",
      "i 2348 j 26 nb_backup 67573\n",
      "i 2349 j 19 nb_backup 67593\n",
      "i 2350 j 27 nb_backup 67621\n",
      "i 2351 j 23 nb_backup 67645\n",
      "i 2352 j 18 nb_backup 67664\n",
      "i 2353 j 13 nb_backup 67678\n",
      "i 2354 j 20 nb_backup 67699\n",
      "i 2355 j 23 nb_backup 67723\n",
      "i 2356 j 40 nb_backup 67764\n",
      "i 2357 j 21 nb_backup 67786\n",
      "i 2358 j 31 nb_backup 67818\n",
      "i 2359 j 27 nb_backup 67846\n",
      "i 2360 j 23 nb_backup 67870\n",
      "i 2361 j 17 nb_backup 67888\n",
      "i 2362 j 34 nb_backup 67923\n",
      "i 2363 j 23 nb_backup 67947\n",
      "i 2364 j 24 nb_backup 67972\n",
      "i 2365 j 20 nb_backup 67993\n",
      "i 2366 j 17 nb_backup 68011\n",
      "i 2367 j 27 nb_backup 68039\n",
      "i 2368 j 20 nb_backup 68060\n",
      "i 2369 j 23 nb_backup 68084\n",
      "i 2370 j 20 nb_backup 68105\n",
      "i 2371 j 23 nb_backup 68129\n",
      "i 2372 j 19 nb_backup 68149\n",
      "i 2373 j 42 nb_backup 68192\n",
      "i 2374 j 20 nb_backup 68213\n",
      "i 2375 j 17 nb_backup 68231\n",
      "i 2376 j 19 nb_backup 68251\n",
      "i 2377 j 19 nb_backup 68271\n",
      "i 2378 j 32 nb_backup 68304\n",
      "i 2379 j 40 nb_backup 68345\n",
      "i 2380 j 42 nb_backup 68388\n",
      "i 2381 j 29 nb_backup 68418\n",
      "i 2382 j 47 nb_backup 68466\n",
      "i 2383 j 31 nb_backup 68498\n",
      "i 2384 j 15 nb_backup 68514\n",
      "i 2385 j 29 nb_backup 68544\n",
      "i 2386 j 34 nb_backup 68579\n",
      "i 2387 j 41 nb_backup 68621\n",
      "i 2388 j 37 nb_backup 68659\n",
      "i 2389 j 32 nb_backup 68692\n",
      "i 2390 j 23 nb_backup 68716\n",
      "i 2391 j 37 nb_backup 68754\n",
      "i 2392 j 33 nb_backup 68788\n",
      "i 2393 j 29 nb_backup 68818\n",
      "i 2394 j 30 nb_backup 68849\n",
      "i 2395 j 21 nb_backup 68871\n",
      "i 2396 j 27 nb_backup 68899\n",
      "i 2397 j 23 nb_backup 68923\n",
      "i 2398 j 28 nb_backup 68952\n",
      "i 2399 j 47 nb_backup 69000\n",
      "i 2400 j 28 nb_backup 69029\n",
      "i 2401 j 15 nb_backup 69045\n",
      "i 2402 j 26 nb_backup 69072\n",
      "i 2403 j 39 nb_backup 69112\n",
      "i 2404 j 16 nb_backup 69129\n",
      "i 2405 j 23 nb_backup 69153\n",
      "i 2406 j 20 nb_backup 69174\n",
      "i 2407 j 25 nb_backup 69200\n",
      "i 2408 j 32 nb_backup 69233\n",
      "i 2409 j 20 nb_backup 69254\n",
      "i 2410 j 24 nb_backup 69279\n",
      "i 2411 j 17 nb_backup 69297\n",
      "i 2412 j 48 nb_backup 69346\n",
      "i 2413 j 47 nb_backup 69394\n",
      "i 2414 j 24 nb_backup 69419\n",
      "i 2415 j 23 nb_backup 69443\n",
      "i 2416 j 21 nb_backup 69465\n",
      "i 2417 j 16 nb_backup 69482\n",
      "i 2418 j 20 nb_backup 69503\n",
      "i 2419 j 23 nb_backup 69527\n",
      "i 2420 j 30 nb_backup 69558\n",
      "i 2421 j 15 nb_backup 69574\n",
      "i 2422 j 17 nb_backup 69592\n",
      "i 2423 j 26 nb_backup 69619\n",
      "i 2424 j 29 nb_backup 69649\n",
      "i 2425 j 27 nb_backup 69677\n",
      "i 2426 j 23 nb_backup 69701\n",
      "i 2427 j 17 nb_backup 69719\n",
      "i 2428 j 33 nb_backup 69753\n",
      "i 2429 j 31 nb_backup 69785\n",
      "i 2430 j 18 nb_backup 69804\n",
      "i 2431 j 26 nb_backup 69831\n",
      "i 2432 j 17 nb_backup 69849\n",
      "i 2433 j 29 nb_backup 69879\n",
      "i 2434 j 18 nb_backup 69898\n",
      "i 2435 j 25 nb_backup 69924\n",
      "i 2436 j 29 nb_backup 69954\n",
      "i 2437 j 24 nb_backup 69979\n",
      "i 2438 j 25 nb_backup 70005\n",
      "i 2439 j 21 nb_backup 70027\n",
      "i 2440 j 19 nb_backup 70047\n",
      "i 2441 j 29 nb_backup 70077\n",
      "i 2442 j 21 nb_backup 70099\n",
      "i 2443 j 19 nb_backup 70119\n",
      "i 2444 j 32 nb_backup 70152\n",
      "i 2445 j 27 nb_backup 70180\n",
      "i 2446 j 35 nb_backup 70216\n",
      "i 2447 j 15 nb_backup 70232\n",
      "i 2448 j 19 nb_backup 70252\n",
      "i 2449 j 21 nb_backup 70274\n",
      "i 2450 j 17 nb_backup 70292\n",
      "i 2451 j 23 nb_backup 70316\n",
      "i 2452 j 23 nb_backup 70340\n",
      "i 2453 j 22 nb_backup 70363\n",
      "i 2454 j 26 nb_backup 70390\n",
      "i 2455 j 16 nb_backup 70407\n",
      "i 2456 j 19 nb_backup 70427\n",
      "i 2457 j 27 nb_backup 70455\n",
      "i 2458 j 22 nb_backup 70478\n",
      "i 2459 j 40 nb_backup 70519\n",
      "i 2460 j 28 nb_backup 70548\n",
      "i 2461 j 26 nb_backup 70575\n",
      "i 2462 j 21 nb_backup 70597\n",
      "i 2463 j 21 nb_backup 70619\n",
      "i 2464 j 16 nb_backup 70636\n",
      "i 2465 j 34 nb_backup 70671\n",
      "i 2466 j 25 nb_backup 70697\n",
      "i 2467 j 17 nb_backup 70715\n",
      "i 2468 j 27 nb_backup 70743\n",
      "i 2469 j 27 nb_backup 70771\n",
      "i 2470 j 22 nb_backup 70794\n",
      "i 2471 j 18 nb_backup 70813\n",
      "i 2472 j 31 nb_backup 70845\n",
      "i 2473 j 23 nb_backup 70869\n",
      "i 2474 j 24 nb_backup 70894\n",
      "i 2475 j 20 nb_backup 70915\n",
      "i 2476 j 29 nb_backup 70945\n",
      "i 2477 j 24 nb_backup 70970\n",
      "i 2478 j 36 nb_backup 71007\n",
      "i 2479 j 23 nb_backup 71031\n",
      "i 2480 j 40 nb_backup 71072\n",
      "i 2481 j 24 nb_backup 71097\n",
      "i 2482 j 19 nb_backup 71117\n",
      "i 2483 j 44 nb_backup 71162\n",
      "i 2484 j 15 nb_backup 71178\n",
      "i 2485 j 39 nb_backup 71218\n",
      "i 2486 j 21 nb_backup 71240\n",
      "i 2487 j 36 nb_backup 71277\n",
      "i 2488 j 16 nb_backup 71294\n",
      "i 2489 j 39 nb_backup 71334\n",
      "i 2490 j 51 nb_backup 71386\n",
      "i 2491 j 14 nb_backup 71401\n",
      "i 2492 j 34 nb_backup 71436\n",
      "i 2493 j 41 nb_backup 71478\n",
      "i 2494 j 37 nb_backup 71516\n",
      "i 2495 j 19 nb_backup 71536\n",
      "i 2496 j 21 nb_backup 71558\n",
      "i 2497 j 21 nb_backup 71580\n",
      "i 2498 j 22 nb_backup 71603\n",
      "i 2499 j 25 nb_backup 71629\n",
      "i 2500 j 17 nb_backup 71647\n",
      "i 2501 j 22 nb_backup 71670\n",
      "i 2502 j 21 nb_backup 71692\n",
      "i 2503 j 19 nb_backup 71712\n",
      "i 2504 j 21 nb_backup 71734\n",
      "i 2505 j 33 nb_backup 71768\n",
      "i 2506 j 18 nb_backup 71787\n",
      "i 2507 j 28 nb_backup 71816\n",
      "i 2508 j 28 nb_backup 71845\n",
      "i 2509 j 33 nb_backup 71879\n",
      "i 2510 j 22 nb_backup 71902\n",
      "i 2511 j 21 nb_backup 71924\n",
      "i 2512 j 15 nb_backup 71940\n",
      "i 2513 j 43 nb_backup 71984\n",
      "i 2514 j 23 nb_backup 72008\n",
      "i 2515 j 15 nb_backup 72024\n",
      "i 2516 j 26 nb_backup 72051\n",
      "i 2517 j 43 nb_backup 72095\n",
      "i 2518 j 16 nb_backup 72112\n",
      "i 2519 j 23 nb_backup 72136\n",
      "i 2520 j 32 nb_backup 72169\n",
      "i 2521 j 28 nb_backup 72198\n",
      "i 2522 j 25 nb_backup 72224\n",
      "i 2523 j 21 nb_backup 72246\n",
      "i 2524 j 27 nb_backup 72274\n",
      "i 2525 j 50 nb_backup 72325\n",
      "i 2526 j 28 nb_backup 72354\n",
      "i 2527 j 19 nb_backup 72374\n",
      "i 2528 j 36 nb_backup 72411\n",
      "i 2529 j 26 nb_backup 72438\n",
      "i 2530 j 16 nb_backup 72455\n",
      "i 2531 j 28 nb_backup 72484\n",
      "i 2532 j 29 nb_backup 72514\n",
      "i 2533 j 39 nb_backup 72554\n",
      "i 2534 j 35 nb_backup 72590\n",
      "i 2535 j 25 nb_backup 72616\n",
      "i 2536 j 25 nb_backup 72642\n",
      "i 2537 j 13 nb_backup 72656\n",
      "i 2538 j 21 nb_backup 72678\n",
      "i 2539 j 37 nb_backup 72716\n",
      "i 2540 j 40 nb_backup 72757\n",
      "i 2541 j 20 nb_backup 72778\n",
      "i 2542 j 25 nb_backup 72804\n",
      "i 2543 j 27 nb_backup 72832\n",
      "i 2544 j 20 nb_backup 72853\n",
      "i 2545 j 20 nb_backup 72874\n",
      "i 2546 j 20 nb_backup 72895\n",
      "i 2547 j 23 nb_backup 72919\n",
      "i 2548 j 22 nb_backup 72942\n",
      "i 2549 j 31 nb_backup 72974\n",
      "i 2550 j 40 nb_backup 73015\n",
      "i 2551 j 23 nb_backup 73039\n",
      "i 2552 j 23 nb_backup 73063\n",
      "i 2553 j 28 nb_backup 73092\n",
      "i 2554 j 19 nb_backup 73112\n",
      "i 2555 j 36 nb_backup 73149\n",
      "i 2556 j 20 nb_backup 73170\n",
      "i 2557 j 16 nb_backup 73187\n",
      "i 2558 j 29 nb_backup 73217\n",
      "i 2559 j 29 nb_backup 73247\n",
      "i 2560 j 39 nb_backup 73287\n",
      "i 2561 j 21 nb_backup 73309\n",
      "i 2562 j 28 nb_backup 73338\n",
      "i 2563 j 28 nb_backup 73367\n",
      "i 2564 j 26 nb_backup 73394\n",
      "i 2565 j 21 nb_backup 73416\n",
      "i 2566 j 14 nb_backup 73431\n",
      "i 2567 j 16 nb_backup 73448\n",
      "i 2568 j 26 nb_backup 73475\n",
      "i 2569 j 15 nb_backup 73491\n",
      "i 2570 j 20 nb_backup 73512\n",
      "i 2571 j 22 nb_backup 73535\n",
      "i 2572 j 22 nb_backup 73558\n",
      "i 2573 j 28 nb_backup 73587\n",
      "i 2574 j 16 nb_backup 73604\n",
      "i 2575 j 20 nb_backup 73625\n",
      "i 2576 j 24 nb_backup 73650\n",
      "i 2577 j 48 nb_backup 73699\n",
      "i 2578 j 27 nb_backup 73727\n",
      "i 2579 j 21 nb_backup 73749\n",
      "i 2580 j 19 nb_backup 73769\n",
      "i 2581 j 25 nb_backup 73795\n",
      "i 2582 j 23 nb_backup 73819\n",
      "i 2583 j 17 nb_backup 73837\n",
      "i 2584 j 27 nb_backup 73865\n",
      "i 2585 j 18 nb_backup 73884\n",
      "i 2586 j 33 nb_backup 73918\n",
      "i 2587 j 26 nb_backup 73945\n",
      "i 2588 j 28 nb_backup 73974\n",
      "i 2589 j 20 nb_backup 73995\n",
      "i 2590 j 23 nb_backup 74019\n",
      "i 2591 j 42 nb_backup 74062\n",
      "i 2592 j 42 nb_backup 74105\n",
      "i 2593 j 16 nb_backup 74122\n",
      "i 2594 j 45 nb_backup 74168\n",
      "i 2595 j 17 nb_backup 74186\n",
      "i 2596 j 32 nb_backup 74219\n",
      "i 2597 j 27 nb_backup 74247\n",
      "i 2598 j 21 nb_backup 74269\n",
      "i 2599 j 24 nb_backup 74294\n",
      "i 2600 j 30 nb_backup 74325\n",
      "i 2601 j 33 nb_backup 74359\n",
      "i 2602 j 23 nb_backup 74383\n",
      "i 2603 j 30 nb_backup 74414\n",
      "i 2604 j 33 nb_backup 74448\n",
      "i 2605 j 20 nb_backup 74469\n",
      "i 2606 j 28 nb_backup 74498\n",
      "i 2607 j 26 nb_backup 74525\n",
      "i 2608 j 17 nb_backup 74543\n",
      "i 2609 j 46 nb_backup 74590\n",
      "i 2610 j 34 nb_backup 74625\n",
      "i 2611 j 18 nb_backup 74644\n",
      "i 2612 j 41 nb_backup 74686\n",
      "i 2613 j 29 nb_backup 74716\n",
      "i 2614 j 23 nb_backup 74740\n",
      "i 2615 j 31 nb_backup 74772\n",
      "i 2616 j 19 nb_backup 74792\n",
      "i 2617 j 36 nb_backup 74829\n",
      "i 2618 j 19 nb_backup 74849\n",
      "i 2619 j 36 nb_backup 74886\n",
      "i 2620 j 29 nb_backup 74916\n",
      "i 2621 j 17 nb_backup 74934\n",
      "i 2622 j 18 nb_backup 74953\n",
      "i 2623 j 31 nb_backup 74985\n",
      "i 2624 j 29 nb_backup 75015\n",
      "i 2625 j 27 nb_backup 75043\n",
      "i 2626 j 30 nb_backup 75074\n",
      "i 2627 j 39 nb_backup 75114\n",
      "i 2628 j 26 nb_backup 75141\n",
      "i 2629 j 21 nb_backup 75163\n",
      "i 2630 j 24 nb_backup 75188\n",
      "i 2631 j 34 nb_backup 75223\n",
      "i 2632 j 35 nb_backup 75259\n",
      "i 2633 j 50 nb_backup 75310\n",
      "i 2634 j 16 nb_backup 75327\n",
      "i 2635 j 18 nb_backup 75346\n",
      "i 2636 j 28 nb_backup 75375\n",
      "i 2637 j 32 nb_backup 75408\n",
      "i 2638 j 27 nb_backup 75436\n",
      "i 2639 j 19 nb_backup 75456\n",
      "i 2640 j 19 nb_backup 75476\n",
      "i 2641 j 28 nb_backup 75505\n",
      "i 2642 j 33 nb_backup 75539\n",
      "i 2643 j 39 nb_backup 75579\n",
      "i 2644 j 18 nb_backup 75598\n",
      "i 2645 j 22 nb_backup 75621\n",
      "i 2646 j 34 nb_backup 75656\n",
      "i 2647 j 28 nb_backup 75685\n",
      "i 2648 j 34 nb_backup 75720\n",
      "i 2649 j 18 nb_backup 75739\n",
      "i 2650 j 32 nb_backup 75772\n",
      "i 2651 j 24 nb_backup 75797\n",
      "i 2652 j 22 nb_backup 75820\n",
      "i 2653 j 21 nb_backup 75842\n",
      "i 2654 j 26 nb_backup 75869\n",
      "i 2655 j 30 nb_backup 75900\n",
      "i 2656 j 19 nb_backup 75920\n",
      "i 2657 j 40 nb_backup 75961\n",
      "i 2658 j 21 nb_backup 75983\n",
      "i 2659 j 29 nb_backup 76013\n",
      "i 2660 j 26 nb_backup 76040\n",
      "i 2661 j 32 nb_backup 76073\n",
      "i 2662 j 25 nb_backup 76099\n",
      "i 2663 j 46 nb_backup 76146\n",
      "i 2664 j 20 nb_backup 76167\n",
      "i 2665 j 20 nb_backup 76188\n",
      "i 2666 j 29 nb_backup 76218\n",
      "i 2667 j 16 nb_backup 76235\n",
      "i 2668 j 22 nb_backup 76258\n",
      "i 2669 j 30 nb_backup 76289\n",
      "i 2670 j 37 nb_backup 76327\n",
      "i 2671 j 27 nb_backup 76355\n",
      "i 2672 j 24 nb_backup 76380\n",
      "i 2673 j 37 nb_backup 76418\n",
      "i 2674 j 23 nb_backup 76442\n",
      "i 2675 j 27 nb_backup 76470\n",
      "i 2676 j 28 nb_backup 76499\n",
      "i 2677 j 26 nb_backup 76526\n",
      "i 2678 j 15 nb_backup 76542\n",
      "i 2679 j 15 nb_backup 76558\n",
      "i 2680 j 28 nb_backup 76587\n",
      "i 2681 j 46 nb_backup 76634\n",
      "i 2682 j 35 nb_backup 76670\n",
      "i 2683 j 23 nb_backup 76694\n",
      "i 2684 j 27 nb_backup 76722\n",
      "i 2685 j 24 nb_backup 76747\n",
      "i 2686 j 20 nb_backup 76768\n",
      "i 2687 j 19 nb_backup 76788\n",
      "i 2688 j 16 nb_backup 76805\n",
      "i 2689 j 16 nb_backup 76822\n",
      "i 2690 j 22 nb_backup 76845\n",
      "i 2691 j 19 nb_backup 76865\n",
      "i 2692 j 23 nb_backup 76889\n",
      "i 2693 j 22 nb_backup 76912\n",
      "i 2694 j 37 nb_backup 76950\n",
      "i 2695 j 20 nb_backup 76971\n",
      "i 2696 j 40 nb_backup 77012\n",
      "i 2697 j 22 nb_backup 77035\n",
      "i 2698 j 36 nb_backup 77072\n",
      "i 2699 j 22 nb_backup 77095\n",
      "i 2700 j 23 nb_backup 77119\n",
      "i 2701 j 19 nb_backup 77139\n",
      "i 2702 j 39 nb_backup 77179\n",
      "i 2703 j 26 nb_backup 77206\n",
      "i 2704 j 21 nb_backup 77228\n",
      "i 2705 j 25 nb_backup 77254\n",
      "i 2706 j 24 nb_backup 77279\n",
      "i 2707 j 23 nb_backup 77303\n",
      "i 2708 j 34 nb_backup 77338\n",
      "i 2709 j 16 nb_backup 77355\n",
      "i 2710 j 30 nb_backup 77386\n",
      "i 2711 j 50 nb_backup 77437\n",
      "i 2712 j 30 nb_backup 77468\n",
      "i 2713 j 16 nb_backup 77485\n",
      "i 2714 j 29 nb_backup 77515\n",
      "i 2715 j 22 nb_backup 77538\n",
      "i 2716 j 24 nb_backup 77563\n",
      "i 2717 j 23 nb_backup 77587\n",
      "i 2718 j 25 nb_backup 77613\n",
      "i 2719 j 37 nb_backup 77651\n",
      "i 2720 j 33 nb_backup 77685\n",
      "i 2721 j 18 nb_backup 77704\n",
      "i 2722 j 29 nb_backup 77734\n",
      "i 2723 j 22 nb_backup 77757\n",
      "i 2724 j 24 nb_backup 77782\n",
      "i 2725 j 24 nb_backup 77807\n",
      "i 2726 j 34 nb_backup 77842\n",
      "i 2727 j 24 nb_backup 77867\n",
      "i 2728 j 21 nb_backup 77889\n",
      "i 2729 j 57 nb_backup 77947\n",
      "i 2730 j 30 nb_backup 77978\n",
      "i 2731 j 19 nb_backup 77998\n",
      "i 2732 j 22 nb_backup 78021\n",
      "i 2733 j 39 nb_backup 78061\n",
      "i 2734 j 15 nb_backup 78077\n",
      "i 2735 j 33 nb_backup 78111\n",
      "i 2736 j 18 nb_backup 78130\n",
      "i 2737 j 29 nb_backup 78160\n",
      "i 2738 j 23 nb_backup 78184\n",
      "i 2739 j 28 nb_backup 78213\n",
      "i 2740 j 43 nb_backup 78257\n",
      "i 2741 j 37 nb_backup 78295\n",
      "i 2742 j 14 nb_backup 78310\n",
      "i 2743 j 18 nb_backup 78329\n",
      "i 2744 j 24 nb_backup 78354\n",
      "i 2745 j 35 nb_backup 78390\n",
      "i 2746 j 28 nb_backup 78419\n",
      "i 2747 j 18 nb_backup 78438\n",
      "i 2748 j 22 nb_backup 78461\n",
      "i 2749 j 25 nb_backup 78487\n",
      "i 2750 j 23 nb_backup 78511\n",
      "i 2751 j 20 nb_backup 78532\n",
      "i 2752 j 30 nb_backup 78563\n",
      "i 2753 j 26 nb_backup 78590\n",
      "i 2754 j 25 nb_backup 78616\n",
      "i 2755 j 26 nb_backup 78643\n",
      "i 2756 j 21 nb_backup 78665\n",
      "i 2757 j 34 nb_backup 78700\n",
      "i 2758 j 27 nb_backup 78728\n",
      "i 2759 j 29 nb_backup 78758\n",
      "i 2760 j 13 nb_backup 78772\n",
      "i 2761 j 47 nb_backup 78820\n",
      "i 2762 j 53 nb_backup 78874\n",
      "i 2763 j 25 nb_backup 78900\n",
      "i 2764 j 34 nb_backup 78935\n",
      "i 2765 j 31 nb_backup 78967\n",
      "i 2766 j 47 nb_backup 79015\n",
      "i 2767 j 13 nb_backup 79029\n",
      "i 2768 j 28 nb_backup 79058\n",
      "i 2769 j 13 nb_backup 79072\n",
      "i 2770 j 26 nb_backup 79099\n",
      "i 2771 j 20 nb_backup 79120\n",
      "i 2772 j 37 nb_backup 79158\n",
      "i 2773 j 18 nb_backup 79177\n",
      "i 2774 j 15 nb_backup 79193\n",
      "i 2775 j 27 nb_backup 79221\n",
      "i 2776 j 21 nb_backup 79243\n",
      "i 2777 j 23 nb_backup 79267\n",
      "i 2778 j 34 nb_backup 79302\n",
      "i 2779 j 30 nb_backup 79333\n",
      "i 2780 j 25 nb_backup 79359\n",
      "i 2781 j 20 nb_backup 79380\n",
      "i 2782 j 25 nb_backup 79406\n",
      "i 2783 j 23 nb_backup 79430\n",
      "i 2784 j 31 nb_backup 79462\n",
      "i 2785 j 20 nb_backup 79483\n",
      "i 2786 j 20 nb_backup 79504\n",
      "i 2787 j 24 nb_backup 79529\n",
      "i 2788 j 24 nb_backup 79554\n",
      "i 2789 j 19 nb_backup 79574\n",
      "i 2790 j 29 nb_backup 79604\n",
      "i 2791 j 14 nb_backup 79619\n",
      "i 2792 j 17 nb_backup 79637\n",
      "i 2793 j 33 nb_backup 79671\n",
      "i 2794 j 30 nb_backup 79702\n",
      "i 2795 j 20 nb_backup 79723\n",
      "i 2796 j 24 nb_backup 79748\n",
      "i 2797 j 21 nb_backup 79770\n",
      "i 2798 j 28 nb_backup 79799\n",
      "i 2799 j 26 nb_backup 79826\n",
      "i 2800 j 22 nb_backup 79849\n",
      "i 2801 j 21 nb_backup 79871\n",
      "i 2802 j 23 nb_backup 79895\n",
      "i 2803 j 17 nb_backup 79913\n",
      "i 2804 j 47 nb_backup 79961\n",
      "i 2805 j 22 nb_backup 79984\n",
      "i 2806 j 17 nb_backup 80002\n",
      "i 2807 j 19 nb_backup 80022\n",
      "i 2808 j 27 nb_backup 80050\n",
      "i 2809 j 16 nb_backup 80067\n",
      "i 2810 j 22 nb_backup 80090\n",
      "i 2811 j 22 nb_backup 80113\n",
      "i 2812 j 19 nb_backup 80133\n",
      "i 2813 j 18 nb_backup 80152\n",
      "i 2814 j 22 nb_backup 80175\n",
      "i 2815 j 19 nb_backup 80195\n",
      "i 2816 j 37 nb_backup 80233\n",
      "i 2817 j 40 nb_backup 80274\n",
      "i 2818 j 21 nb_backup 80296\n",
      "i 2819 j 20 nb_backup 80317\n",
      "i 2820 j 21 nb_backup 80339\n",
      "i 2821 j 18 nb_backup 80358\n",
      "i 2822 j 20 nb_backup 80379\n",
      "i 2823 j 21 nb_backup 80401\n",
      "i 2824 j 31 nb_backup 80433\n",
      "i 2825 j 26 nb_backup 80460\n",
      "i 2826 j 23 nb_backup 80484\n",
      "i 2827 j 33 nb_backup 80518\n",
      "i 2828 j 35 nb_backup 80554\n",
      "i 2829 j 30 nb_backup 80585\n",
      "i 2830 j 41 nb_backup 80627\n",
      "i 2831 j 34 nb_backup 80662\n",
      "i 2832 j 17 nb_backup 80680\n",
      "i 2833 j 49 nb_backup 80730\n",
      "i 2834 j 29 nb_backup 80760\n",
      "i 2835 j 23 nb_backup 80784\n",
      "i 2836 j 16 nb_backup 80801\n",
      "i 2837 j 40 nb_backup 80842\n",
      "i 2838 j 30 nb_backup 80873\n",
      "i 2839 j 18 nb_backup 80892\n",
      "i 2840 j 18 nb_backup 80911\n",
      "i 2841 j 53 nb_backup 80965\n",
      "i 2842 j 24 nb_backup 80990\n",
      "i 2843 j 24 nb_backup 81015\n",
      "i 2844 j 37 nb_backup 81053\n",
      "i 2845 j 32 nb_backup 81086\n",
      "i 2846 j 49 nb_backup 81136\n",
      "i 2847 j 19 nb_backup 81156\n",
      "i 2848 j 16 nb_backup 81173\n",
      "i 2849 j 35 nb_backup 81209\n",
      "i 2850 j 18 nb_backup 81228\n",
      "i 2851 j 17 nb_backup 81246\n",
      "i 2852 j 23 nb_backup 81270\n",
      "i 2853 j 34 nb_backup 81305\n",
      "i 2854 j 18 nb_backup 81324\n",
      "i 2855 j 23 nb_backup 81348\n",
      "i 2856 j 41 nb_backup 81390\n",
      "i 2857 j 29 nb_backup 81420\n",
      "i 2858 j 31 nb_backup 81452\n",
      "i 2859 j 39 nb_backup 81492\n",
      "i 2860 j 22 nb_backup 81515\n",
      "i 2861 j 20 nb_backup 81536\n",
      "i 2862 j 19 nb_backup 81556\n",
      "i 2863 j 17 nb_backup 81574\n",
      "i 2864 j 43 nb_backup 81618\n",
      "i 2865 j 37 nb_backup 81656\n",
      "i 2866 j 24 nb_backup 81681\n",
      "i 2867 j 19 nb_backup 81701\n",
      "i 2868 j 21 nb_backup 81723\n",
      "i 2869 j 22 nb_backup 81746\n",
      "i 2870 j 18 nb_backup 81765\n",
      "i 2871 j 36 nb_backup 81802\n",
      "i 2872 j 62 nb_backup 81865\n",
      "i 2873 j 24 nb_backup 81890\n",
      "i 2874 j 27 nb_backup 81918\n",
      "i 2875 j 25 nb_backup 81944\n",
      "i 2876 j 25 nb_backup 81970\n",
      "i 2877 j 25 nb_backup 81996\n",
      "i 2878 j 15 nb_backup 82012\n",
      "i 2879 j 31 nb_backup 82044\n",
      "i 2880 j 27 nb_backup 82072\n",
      "i 2881 j 19 nb_backup 82092\n",
      "i 2882 j 26 nb_backup 82119\n",
      "i 2883 j 20 nb_backup 82140\n",
      "i 2884 j 39 nb_backup 82180\n",
      "i 2885 j 27 nb_backup 82208\n",
      "i 2886 j 20 nb_backup 82229\n",
      "i 2887 j 22 nb_backup 82252\n",
      "i 2888 j 40 nb_backup 82293\n",
      "i 2889 j 25 nb_backup 82319\n",
      "i 2890 j 26 nb_backup 82346\n",
      "i 2891 j 20 nb_backup 82367\n",
      "i 2892 j 26 nb_backup 82394\n",
      "i 2893 j 19 nb_backup 82414\n",
      "i 2894 j 29 nb_backup 82444\n",
      "i 2895 j 21 nb_backup 82466\n",
      "i 2896 j 27 nb_backup 82494\n",
      "i 2897 j 26 nb_backup 82521\n",
      "i 2898 j 23 nb_backup 82545\n",
      "i 2899 j 21 nb_backup 82567\n",
      "i 2900 j 16 nb_backup 82584\n",
      "i 2901 j 46 nb_backup 82631\n",
      "i 2902 j 32 nb_backup 82664\n",
      "i 2903 j 26 nb_backup 82691\n",
      "i 2904 j 38 nb_backup 82730\n",
      "i 2905 j 61 nb_backup 82792\n",
      "i 2906 j 19 nb_backup 82812\n",
      "i 2907 j 18 nb_backup 82831\n",
      "i 2908 j 30 nb_backup 82862\n",
      "i 2909 j 34 nb_backup 82897\n",
      "i 2910 j 38 nb_backup 82936\n",
      "i 2911 j 35 nb_backup 82972\n",
      "i 2912 j 21 nb_backup 82994\n",
      "i 2913 j 32 nb_backup 83027\n",
      "i 2914 j 57 nb_backup 83085\n",
      "i 2915 j 36 nb_backup 83122\n",
      "i 2916 j 30 nb_backup 83153\n",
      "i 2917 j 43 nb_backup 83197\n",
      "i 2918 j 24 nb_backup 83222\n",
      "i 2919 j 25 nb_backup 83248\n",
      "i 2920 j 18 nb_backup 83267\n",
      "i 2921 j 17 nb_backup 83285\n",
      "i 2922 j 28 nb_backup 83314\n",
      "i 2923 j 34 nb_backup 83349\n",
      "i 2924 j 51 nb_backup 83401\n",
      "i 2925 j 18 nb_backup 83420\n",
      "i 2926 j 39 nb_backup 83460\n",
      "i 2927 j 39 nb_backup 83500\n",
      "i 2928 j 33 nb_backup 83534\n",
      "i 2929 j 28 nb_backup 83563\n",
      "i 2930 j 23 nb_backup 83587\n",
      "i 2931 j 23 nb_backup 83611\n",
      "i 2932 j 22 nb_backup 83634\n",
      "i 2933 j 26 nb_backup 83661\n",
      "i 2934 j 30 nb_backup 83692\n",
      "i 2935 j 29 nb_backup 83722\n",
      "i 2936 j 25 nb_backup 83748\n",
      "i 2937 j 22 nb_backup 83771\n",
      "i 2938 j 26 nb_backup 83798\n",
      "i 2939 j 19 nb_backup 83818\n",
      "i 2940 j 35 nb_backup 83854\n",
      "i 2941 j 24 nb_backup 83879\n",
      "i 2942 j 26 nb_backup 83906\n",
      "i 2943 j 23 nb_backup 83930\n",
      "i 2944 j 25 nb_backup 83956\n",
      "i 2945 j 35 nb_backup 83992\n",
      "i 2946 j 23 nb_backup 84016\n",
      "i 2947 j 49 nb_backup 84066\n",
      "i 2948 j 41 nb_backup 84108\n",
      "i 2949 j 16 nb_backup 84125\n",
      "i 2950 j 25 nb_backup 84151\n",
      "i 2951 j 22 nb_backup 84174\n",
      "i 2952 j 21 nb_backup 84196\n",
      "i 2953 j 63 nb_backup 84260\n",
      "i 2954 j 28 nb_backup 84289\n",
      "i 2955 j 25 nb_backup 84315\n",
      "i 2956 j 33 nb_backup 84349\n",
      "i 2957 j 13 nb_backup 84363\n",
      "i 2958 j 26 nb_backup 84390\n",
      "i 2959 j 31 nb_backup 84422\n",
      "i 2960 j 27 nb_backup 84450\n",
      "i 2961 j 40 nb_backup 84491\n",
      "i 2962 j 32 nb_backup 84524\n",
      "i 2963 j 41 nb_backup 84566\n",
      "i 2964 j 17 nb_backup 84584\n",
      "i 2965 j 30 nb_backup 84615\n",
      "i 2966 j 19 nb_backup 84635\n",
      "i 2967 j 21 nb_backup 84657\n",
      "i 2968 j 34 nb_backup 84692\n",
      "i 2969 j 17 nb_backup 84710\n",
      "i 2970 j 20 nb_backup 84731\n",
      "i 2971 j 20 nb_backup 84752\n",
      "i 2972 j 30 nb_backup 84783\n",
      "i 2973 j 20 nb_backup 84804\n",
      "i 2974 j 31 nb_backup 84836\n",
      "i 2975 j 42 nb_backup 84879\n",
      "i 2976 j 16 nb_backup 84896\n",
      "i 2977 j 27 nb_backup 84924\n",
      "i 2978 j 23 nb_backup 84948\n",
      "i 2979 j 15 nb_backup 84964\n",
      "i 2980 j 24 nb_backup 84989\n",
      "i 2981 j 17 nb_backup 85007\n",
      "i 2982 j 15 nb_backup 85023\n",
      "i 2983 j 17 nb_backup 85041\n",
      "i 2984 j 28 nb_backup 85070\n",
      "i 2985 j 32 nb_backup 85103\n",
      "i 2986 j 19 nb_backup 85123\n",
      "i 2987 j 33 nb_backup 85157\n",
      "i 2988 j 26 nb_backup 85184\n",
      "i 2989 j 69 nb_backup 85254\n",
      "i 2990 j 22 nb_backup 85277\n",
      "i 2991 j 23 nb_backup 85301\n",
      "i 2992 j 17 nb_backup 85319\n",
      "i 2993 j 34 nb_backup 85354\n",
      "i 2994 j 16 nb_backup 85371\n",
      "i 2995 j 49 nb_backup 85421\n",
      "i 2996 j 37 nb_backup 85459\n",
      "i 2997 j 22 nb_backup 85482\n",
      "i 2998 j 23 nb_backup 85506\n",
      "i 2999 j 32 nb_backup 85539\n",
      "i 3000 j 26 nb_backup 85566\n",
      "i 3001 j 26 nb_backup 85593\n",
      "i 3002 j 26 nb_backup 85620\n",
      "i 3003 j 37 nb_backup 85658\n",
      "i 3004 j 26 nb_backup 85685\n",
      "i 3005 j 16 nb_backup 85702\n",
      "i 3006 j 24 nb_backup 85727\n",
      "i 3007 j 26 nb_backup 85754\n",
      "i 3008 j 48 nb_backup 85803\n",
      "i 3009 j 28 nb_backup 85832\n",
      "i 3010 j 24 nb_backup 85857\n",
      "i 3011 j 33 nb_backup 85891\n",
      "i 3012 j 33 nb_backup 85925\n",
      "i 3013 j 43 nb_backup 85969\n",
      "i 3014 j 27 nb_backup 85997\n",
      "i 3015 j 40 nb_backup 86038\n",
      "i 3016 j 33 nb_backup 86072\n",
      "i 3017 j 15 nb_backup 86088\n",
      "i 3018 j 15 nb_backup 86104\n",
      "i 3019 j 20 nb_backup 86125\n",
      "i 3020 j 24 nb_backup 86150\n",
      "i 3021 j 27 nb_backup 86178\n",
      "i 3022 j 19 nb_backup 86198\n",
      "i 3023 j 19 nb_backup 86218\n",
      "i 3024 j 19 nb_backup 86238\n",
      "i 3025 j 35 nb_backup 86274\n",
      "i 3026 j 23 nb_backup 86298\n",
      "i 3027 j 21 nb_backup 86320\n",
      "i 3028 j 33 nb_backup 86354\n",
      "i 3029 j 29 nb_backup 86384\n",
      "i 3030 j 14 nb_backup 86399\n",
      "i 3031 j 28 nb_backup 86428\n",
      "i 3032 j 53 nb_backup 86482\n",
      "i 3033 j 28 nb_backup 86511\n",
      "i 3034 j 20 nb_backup 86532\n",
      "i 3035 j 29 nb_backup 86562\n",
      "i 3036 j 33 nb_backup 86596\n",
      "i 3037 j 24 nb_backup 86621\n",
      "i 3038 j 27 nb_backup 86649\n",
      "i 3039 j 18 nb_backup 86668\n",
      "i 3040 j 22 nb_backup 86691\n",
      "i 3041 j 27 nb_backup 86719\n",
      "i 3042 j 39 nb_backup 86759\n",
      "i 3043 j 16 nb_backup 86776\n",
      "i 3044 j 20 nb_backup 86797\n",
      "i 3045 j 50 nb_backup 86848\n",
      "i 3046 j 37 nb_backup 86886\n",
      "i 3047 j 38 nb_backup 86925\n",
      "i 3048 j 24 nb_backup 86950\n",
      "i 3049 j 25 nb_backup 86976\n",
      "i 3050 j 22 nb_backup 86999\n",
      "i 3051 j 29 nb_backup 87029\n",
      "i 3052 j 26 nb_backup 87056\n",
      "i 3053 j 22 nb_backup 87079\n",
      "i 3054 j 21 nb_backup 87101\n",
      "i 3055 j 25 nb_backup 87127\n",
      "i 3056 j 26 nb_backup 87154\n",
      "i 3057 j 36 nb_backup 87191\n",
      "i 3058 j 19 nb_backup 87211\n",
      "i 3059 j 27 nb_backup 87239\n",
      "i 3060 j 21 nb_backup 87261\n",
      "i 3061 j 19 nb_backup 87281\n",
      "i 3062 j 20 nb_backup 87302\n",
      "i 3063 j 45 nb_backup 87348\n",
      "i 3064 j 34 nb_backup 87383\n",
      "i 3065 j 60 nb_backup 87444\n",
      "i 3066 j 30 nb_backup 87475\n",
      "i 3067 j 22 nb_backup 87498\n",
      "i 3068 j 14 nb_backup 87513\n",
      "i 3069 j 33 nb_backup 87547\n",
      "i 3070 j 15 nb_backup 87563\n",
      "i 3071 j 25 nb_backup 87589\n",
      "i 3072 j 26 nb_backup 87616\n",
      "i 3073 j 33 nb_backup 87650\n",
      "i 3074 j 29 nb_backup 87680\n",
      "i 3075 j 30 nb_backup 87711\n",
      "i 3076 j 52 nb_backup 87764\n",
      "i 3077 j 22 nb_backup 87787\n",
      "i 3078 j 26 nb_backup 87814\n",
      "i 3079 j 17 nb_backup 87832\n",
      "i 3080 j 16 nb_backup 87849\n",
      "i 3081 j 33 nb_backup 87883\n",
      "i 3082 j 30 nb_backup 87914\n",
      "i 3083 j 28 nb_backup 87943\n",
      "i 3084 j 25 nb_backup 87969\n",
      "i 3085 j 17 nb_backup 87987\n",
      "i 3086 j 20 nb_backup 88008\n",
      "i 3087 j 28 nb_backup 88037\n",
      "i 3088 j 29 nb_backup 88067\n",
      "i 3089 j 25 nb_backup 88093\n",
      "i 3090 j 40 nb_backup 88134\n",
      "i 3091 j 41 nb_backup 88176\n",
      "i 3092 j 28 nb_backup 88205\n",
      "i 3093 j 20 nb_backup 88226\n",
      "i 3094 j 19 nb_backup 88246\n",
      "i 3095 j 26 nb_backup 88273\n",
      "i 3096 j 34 nb_backup 88308\n",
      "i 3097 j 19 nb_backup 88328\n",
      "i 3098 j 22 nb_backup 88351\n",
      "i 3099 j 44 nb_backup 88396\n",
      "i 3100 j 20 nb_backup 88417\n",
      "i 3101 j 32 nb_backup 88450\n",
      "i 3102 j 24 nb_backup 88475\n",
      "i 3103 j 21 nb_backup 88497\n",
      "i 3104 j 34 nb_backup 88532\n",
      "i 3105 j 30 nb_backup 88563\n",
      "i 3106 j 32 nb_backup 88596\n",
      "i 3107 j 26 nb_backup 88623\n",
      "i 3108 j 25 nb_backup 88649\n",
      "i 3109 j 38 nb_backup 88688\n",
      "i 3110 j 20 nb_backup 88709\n",
      "i 3111 j 15 nb_backup 88725\n",
      "i 3112 j 27 nb_backup 88753\n",
      "i 3113 j 20 nb_backup 88774\n",
      "i 3114 j 41 nb_backup 88816\n",
      "i 3115 j 25 nb_backup 88842\n",
      "i 3116 j 18 nb_backup 88861\n",
      "i 3117 j 23 nb_backup 88885\n",
      "i 3118 j 29 nb_backup 88915\n",
      "i 3119 j 23 nb_backup 88939\n",
      "i 3120 j 26 nb_backup 88966\n",
      "i 3121 j 28 nb_backup 88995\n",
      "i 3122 j 19 nb_backup 89015\n",
      "i 3123 j 16 nb_backup 89032\n",
      "i 3124 j 34 nb_backup 89067\n",
      "i 3125 j 25 nb_backup 89093\n",
      "i 3126 j 36 nb_backup 89130\n",
      "i 3127 j 21 nb_backup 89152\n",
      "i 3128 j 32 nb_backup 89185\n",
      "i 3129 j 39 nb_backup 89225\n",
      "i 3130 j 23 nb_backup 89249\n",
      "i 3131 j 26 nb_backup 89276\n",
      "i 3132 j 31 nb_backup 89308\n",
      "i 3133 j 26 nb_backup 89335\n",
      "i 3134 j 19 nb_backup 89355\n",
      "i 3135 j 36 nb_backup 89392\n",
      "i 3136 j 17 nb_backup 89410\n",
      "i 3137 j 30 nb_backup 89441\n",
      "i 3138 j 28 nb_backup 89470\n",
      "i 3139 j 30 nb_backup 89501\n",
      "i 3140 j 32 nb_backup 89534\n",
      "i 3141 j 19 nb_backup 89554\n",
      "i 3142 j 32 nb_backup 89587\n",
      "i 3143 j 23 nb_backup 89611\n",
      "i 3144 j 21 nb_backup 89633\n",
      "i 3145 j 45 nb_backup 89679\n",
      "i 3146 j 26 nb_backup 89706\n",
      "i 3147 j 17 nb_backup 89724\n",
      "i 3148 j 23 nb_backup 89748\n",
      "i 3149 j 25 nb_backup 89774\n",
      "i 3150 j 23 nb_backup 89798\n",
      "i 3151 j 40 nb_backup 89839\n",
      "i 3152 j 36 nb_backup 89876\n",
      "i 3153 j 22 nb_backup 89899\n",
      "i 3154 j 42 nb_backup 89942\n",
      "i 3155 j 22 nb_backup 89965\n",
      "i 3156 j 26 nb_backup 89992\n",
      "i 3157 j 25 nb_backup 90018\n",
      "i 3158 j 27 nb_backup 90046\n",
      "i 3159 j 21 nb_backup 90068\n",
      "i 3160 j 16 nb_backup 90085\n",
      "i 3161 j 21 nb_backup 90107\n",
      "i 3162 j 18 nb_backup 90126\n",
      "i 3163 j 25 nb_backup 90152\n",
      "i 3164 j 24 nb_backup 90177\n",
      "i 3165 j 27 nb_backup 90205\n",
      "i 3166 j 23 nb_backup 90229\n",
      "i 3167 j 26 nb_backup 90256\n",
      "i 3168 j 27 nb_backup 90284\n",
      "i 3169 j 33 nb_backup 90318\n",
      "i 3170 j 21 nb_backup 90340\n",
      "i 3171 j 31 nb_backup 90372\n",
      "i 3172 j 17 nb_backup 90390\n",
      "i 3173 j 36 nb_backup 90427\n",
      "i 3174 j 36 nb_backup 90464\n",
      "i 3175 j 21 nb_backup 90486\n",
      "i 3176 j 32 nb_backup 90519\n",
      "i 3177 j 29 nb_backup 90549\n",
      "i 3178 j 29 nb_backup 90579\n",
      "i 3179 j 18 nb_backup 90598\n",
      "i 3180 j 18 nb_backup 90617\n",
      "i 3181 j 33 nb_backup 90651\n",
      "i 3182 j 28 nb_backup 90680\n",
      "i 3183 j 31 nb_backup 90712\n",
      "i 3184 j 28 nb_backup 90741\n",
      "i 3185 j 19 nb_backup 90761\n",
      "i 3186 j 22 nb_backup 90784\n",
      "i 3187 j 21 nb_backup 90806\n",
      "i 3188 j 41 nb_backup 90848\n",
      "i 3189 j 23 nb_backup 90872\n",
      "i 3190 j 33 nb_backup 90906\n",
      "i 3191 j 33 nb_backup 90940\n",
      "i 3192 j 27 nb_backup 90968\n",
      "i 3193 j 26 nb_backup 90995\n",
      "i 3194 j 16 nb_backup 91012\n",
      "i 3195 j 31 nb_backup 91044\n",
      "i 3196 j 18 nb_backup 91063\n",
      "i 3197 j 22 nb_backup 91086\n",
      "i 3198 j 14 nb_backup 91101\n",
      "i 3199 j 27 nb_backup 91129\n",
      "i 3200 j 22 nb_backup 91152\n",
      "i 3201 j 31 nb_backup 91184\n",
      "i 3202 j 20 nb_backup 91205\n",
      "i 3203 j 20 nb_backup 91226\n",
      "i 3204 j 28 nb_backup 91255\n",
      "i 3205 j 28 nb_backup 91284\n",
      "i 3206 j 29 nb_backup 91314\n",
      "i 3207 j 22 nb_backup 91337\n",
      "i 3208 j 40 nb_backup 91378\n",
      "i 3209 j 35 nb_backup 91414\n",
      "i 3210 j 22 nb_backup 91437\n",
      "i 3211 j 22 nb_backup 91460\n",
      "i 3212 j 20 nb_backup 91481\n",
      "i 3213 j 20 nb_backup 91502\n",
      "i 3214 j 33 nb_backup 91536\n",
      "i 3215 j 25 nb_backup 91562\n",
      "i 3216 j 31 nb_backup 91594\n",
      "i 3217 j 18 nb_backup 91613\n",
      "i 3218 j 24 nb_backup 91638\n",
      "i 3219 j 44 nb_backup 91683\n",
      "i 3220 j 19 nb_backup 91703\n",
      "i 3221 j 30 nb_backup 91734\n",
      "i 3222 j 34 nb_backup 91769\n",
      "i 3223 j 21 nb_backup 91791\n",
      "i 3224 j 36 nb_backup 91828\n",
      "i 3225 j 29 nb_backup 91858\n",
      "i 3226 j 20 nb_backup 91879\n",
      "i 3227 j 30 nb_backup 91910\n",
      "i 3228 j 28 nb_backup 91939\n",
      "i 3229 j 14 nb_backup 91954\n",
      "i 3230 j 21 nb_backup 91976\n",
      "i 3231 j 34 nb_backup 92011\n",
      "i 3232 j 27 nb_backup 92039\n",
      "i 3233 j 22 nb_backup 92062\n",
      "i 3234 j 21 nb_backup 92084\n",
      "i 3235 j 32 nb_backup 92117\n",
      "i 3236 j 28 nb_backup 92146\n",
      "i 3237 j 27 nb_backup 92174\n",
      "i 3238 j 43 nb_backup 92218\n",
      "i 3239 j 27 nb_backup 92246\n",
      "i 3240 j 40 nb_backup 92287\n",
      "i 3241 j 46 nb_backup 92334\n",
      "i 3242 j 22 nb_backup 92357\n",
      "i 3243 j 15 nb_backup 92373\n",
      "i 3244 j 28 nb_backup 92402\n",
      "i 3245 j 28 nb_backup 92431\n",
      "i 3246 j 36 nb_backup 92468\n",
      "i 3247 j 14 nb_backup 92483\n",
      "i 3248 j 27 nb_backup 92511\n",
      "i 3249 j 21 nb_backup 92533\n",
      "i 3250 j 19 nb_backup 92553\n",
      "i 3251 j 29 nb_backup 92583\n",
      "i 3252 j 18 nb_backup 92602\n",
      "i 3253 j 19 nb_backup 92622\n",
      "i 3254 j 24 nb_backup 92647\n",
      "i 3255 j 17 nb_backup 92665\n",
      "i 3256 j 29 nb_backup 92695\n",
      "i 3257 j 35 nb_backup 92731\n",
      "i 3258 j 32 nb_backup 92764\n",
      "i 3259 j 28 nb_backup 92793\n",
      "i 3260 j 17 nb_backup 92811\n",
      "i 3261 j 25 nb_backup 92837\n",
      "i 3262 j 27 nb_backup 92865\n",
      "i 3263 j 29 nb_backup 92895\n",
      "i 3264 j 24 nb_backup 92920\n",
      "i 3265 j 23 nb_backup 92944\n",
      "i 3266 j 46 nb_backup 92991\n",
      "i 3267 j 27 nb_backup 93019\n",
      "i 3268 j 20 nb_backup 93040\n",
      "i 3269 j 17 nb_backup 93058\n",
      "i 3270 j 28 nb_backup 93087\n",
      "i 3271 j 28 nb_backup 93116\n",
      "i 3272 j 31 nb_backup 93148\n",
      "i 3273 j 26 nb_backup 93175\n",
      "i 3274 j 15 nb_backup 93191\n",
      "i 3275 j 21 nb_backup 93213\n",
      "i 3276 j 15 nb_backup 93229\n",
      "i 3277 j 36 nb_backup 93266\n",
      "i 3278 j 33 nb_backup 93300\n",
      "i 3279 j 29 nb_backup 93330\n",
      "i 3280 j 35 nb_backup 93366\n",
      "i 3281 j 28 nb_backup 93395\n",
      "i 3282 j 15 nb_backup 93411\n",
      "i 3283 j 18 nb_backup 93430\n",
      "i 3284 j 19 nb_backup 93450\n",
      "i 3285 j 36 nb_backup 93487\n",
      "i 3286 j 23 nb_backup 93511\n",
      "i 3287 j 26 nb_backup 93538\n",
      "i 3288 j 25 nb_backup 93564\n",
      "i 3289 j 17 nb_backup 93582\n",
      "i 3290 j 19 nb_backup 93602\n",
      "i 3291 j 30 nb_backup 93633\n",
      "i 3292 j 36 nb_backup 93670\n",
      "i 3293 j 20 nb_backup 93691\n",
      "i 3294 j 30 nb_backup 93722\n",
      "i 3295 j 26 nb_backup 93749\n",
      "i 3296 j 30 nb_backup 93780\n",
      "i 3297 j 31 nb_backup 93812\n",
      "i 3298 j 25 nb_backup 93838\n",
      "i 3299 j 18 nb_backup 93857\n",
      "i 3300 j 19 nb_backup 93877\n",
      "i 3301 j 39 nb_backup 93917\n",
      "i 3302 j 24 nb_backup 93942\n",
      "i 3303 j 29 nb_backup 93972\n",
      "i 3304 j 28 nb_backup 94001\n",
      "i 3305 j 37 nb_backup 94039\n",
      "i 3306 j 16 nb_backup 94056\n",
      "i 3307 j 23 nb_backup 94080\n",
      "i 3308 j 23 nb_backup 94104\n",
      "i 3309 j 21 nb_backup 94126\n",
      "i 3310 j 30 nb_backup 94157\n",
      "i 3311 j 24 nb_backup 94182\n",
      "i 3312 j 20 nb_backup 94203\n",
      "i 3313 j 16 nb_backup 94220\n",
      "i 3314 j 36 nb_backup 94257\n",
      "i 3315 j 25 nb_backup 94283\n",
      "i 3316 j 20 nb_backup 94304\n",
      "i 3317 j 26 nb_backup 94331\n",
      "i 3318 j 30 nb_backup 94362\n",
      "i 3319 j 29 nb_backup 94392\n",
      "i 3320 j 24 nb_backup 94417\n",
      "i 3321 j 24 nb_backup 94442\n",
      "i 3322 j 24 nb_backup 94467\n",
      "i 3323 j 25 nb_backup 94493\n",
      "i 3324 j 27 nb_backup 94521\n",
      "i 3325 j 18 nb_backup 94540\n",
      "i 3326 j 21 nb_backup 94562\n",
      "i 3327 j 23 nb_backup 94586\n",
      "i 3328 j 15 nb_backup 94602\n",
      "i 3329 j 56 nb_backup 94659\n",
      "i 3330 j 36 nb_backup 94696\n",
      "i 3331 j 33 nb_backup 94730\n",
      "i 3332 j 26 nb_backup 94757\n",
      "i 3333 j 21 nb_backup 94779\n",
      "i 3334 j 17 nb_backup 94797\n",
      "i 3335 j 28 nb_backup 94826\n",
      "i 3336 j 20 nb_backup 94847\n",
      "i 3337 j 16 nb_backup 94864\n",
      "i 3338 j 43 nb_backup 94908\n",
      "i 3339 j 22 nb_backup 94931\n",
      "i 3340 j 25 nb_backup 94957\n",
      "i 3341 j 30 nb_backup 94988\n",
      "i 3342 j 28 nb_backup 95017\n",
      "i 3343 j 32 nb_backup 95050\n",
      "i 3344 j 33 nb_backup 95084\n",
      "i 3345 j 32 nb_backup 95117\n",
      "i 3346 j 19 nb_backup 95137\n",
      "i 3347 j 32 nb_backup 95170\n",
      "i 3348 j 25 nb_backup 95196\n",
      "i 3349 j 22 nb_backup 95219\n",
      "i 3350 j 22 nb_backup 95242\n",
      "i 3351 j 17 nb_backup 95260\n",
      "i 3352 j 23 nb_backup 95284\n",
      "i 3353 j 17 nb_backup 95302\n",
      "i 3354 j 46 nb_backup 95349\n",
      "i 3355 j 15 nb_backup 95365\n",
      "i 3356 j 22 nb_backup 95388\n",
      "i 3357 j 22 nb_backup 95411\n",
      "i 3358 j 20 nb_backup 95432\n",
      "i 3359 j 18 nb_backup 95451\n",
      "i 3360 j 17 nb_backup 95469\n",
      "i 3361 j 17 nb_backup 95487\n",
      "i 3362 j 28 nb_backup 95516\n",
      "i 3363 j 29 nb_backup 95546\n",
      "i 3364 j 29 nb_backup 95576\n",
      "i 3365 j 25 nb_backup 95602\n",
      "i 3366 j 21 nb_backup 95624\n",
      "i 3367 j 22 nb_backup 95647\n",
      "i 3368 j 23 nb_backup 95671\n",
      "i 3369 j 18 nb_backup 95690\n",
      "i 3370 j 20 nb_backup 95711\n",
      "i 3371 j 25 nb_backup 95737\n",
      "i 3372 j 26 nb_backup 95764\n",
      "i 3373 j 23 nb_backup 95788\n",
      "i 3374 j 21 nb_backup 95810\n",
      "i 3375 j 19 nb_backup 95830\n",
      "i 3376 j 22 nb_backup 95853\n",
      "i 3377 j 28 nb_backup 95882\n",
      "i 3378 j 31 nb_backup 95914\n",
      "i 3379 j 21 nb_backup 95936\n",
      "i 3380 j 29 nb_backup 95966\n",
      "i 3381 j 49 nb_backup 96016\n",
      "i 3382 j 21 nb_backup 96038\n",
      "i 3383 j 23 nb_backup 96062\n",
      "i 3384 j 32 nb_backup 96095\n",
      "i 3385 j 21 nb_backup 96117\n",
      "i 3386 j 15 nb_backup 96133\n",
      "i 3387 j 30 nb_backup 96164\n",
      "i 3388 j 15 nb_backup 96180\n",
      "i 3389 j 24 nb_backup 96205\n",
      "i 3390 j 28 nb_backup 96234\n",
      "i 3391 j 19 nb_backup 96254\n",
      "i 3392 j 33 nb_backup 96288\n",
      "i 3393 j 16 nb_backup 96305\n",
      "i 3394 j 29 nb_backup 96335\n",
      "i 3395 j 21 nb_backup 96357\n",
      "i 3396 j 22 nb_backup 96380\n",
      "i 3397 j 33 nb_backup 96414\n",
      "i 3398 j 24 nb_backup 96439\n",
      "i 3399 j 15 nb_backup 96455\n",
      "i 3400 j 17 nb_backup 96473\n",
      "i 3401 j 20 nb_backup 96494\n",
      "i 3402 j 25 nb_backup 96520\n",
      "i 3403 j 32 nb_backup 96553\n",
      "i 3404 j 15 nb_backup 96569\n",
      "i 3405 j 13 nb_backup 96583\n",
      "i 3406 j 30 nb_backup 96614\n",
      "i 3407 j 19 nb_backup 96634\n",
      "i 3408 j 15 nb_backup 96650\n",
      "i 3409 j 31 nb_backup 96682\n",
      "i 3410 j 19 nb_backup 96702\n",
      "i 3411 j 23 nb_backup 96726\n",
      "i 3412 j 19 nb_backup 96746\n",
      "i 3413 j 32 nb_backup 96779\n",
      "i 3414 j 14 nb_backup 96794\n",
      "i 3415 j 27 nb_backup 96822\n",
      "i 3416 j 36 nb_backup 96859\n",
      "i 3417 j 31 nb_backup 96891\n",
      "i 3418 j 32 nb_backup 96924\n",
      "i 3419 j 25 nb_backup 96950\n",
      "i 3420 j 38 nb_backup 96989\n",
      "i 3421 j 35 nb_backup 97025\n",
      "i 3422 j 31 nb_backup 97057\n",
      "i 3423 j 19 nb_backup 97077\n",
      "i 3424 j 31 nb_backup 97109\n",
      "i 3425 j 24 nb_backup 97134\n",
      "i 3426 j 29 nb_backup 97164\n",
      "i 3427 j 14 nb_backup 97179\n",
      "i 3428 j 40 nb_backup 97220\n",
      "i 3429 j 24 nb_backup 97245\n",
      "i 3430 j 35 nb_backup 97281\n",
      "i 3431 j 24 nb_backup 97306\n",
      "i 3432 j 40 nb_backup 97347\n",
      "i 3433 j 29 nb_backup 97377\n",
      "i 3434 j 24 nb_backup 97402\n",
      "i 3435 j 24 nb_backup 97427\n",
      "i 3436 j 17 nb_backup 97445\n",
      "i 3437 j 23 nb_backup 97469\n",
      "i 3438 j 13 nb_backup 97483\n",
      "i 3439 j 31 nb_backup 97515\n",
      "i 3440 j 21 nb_backup 97537\n",
      "i 3441 j 18 nb_backup 97556\n",
      "i 3442 j 19 nb_backup 97576\n",
      "i 3443 j 52 nb_backup 97629\n",
      "i 3444 j 29 nb_backup 97659\n",
      "i 3445 j 16 nb_backup 97676\n",
      "i 3446 j 17 nb_backup 97694\n",
      "i 3447 j 34 nb_backup 97729\n",
      "i 3448 j 40 nb_backup 97770\n",
      "i 3449 j 19 nb_backup 97790\n",
      "i 3450 j 18 nb_backup 97809\n",
      "i 3451 j 22 nb_backup 97832\n",
      "i 3452 j 15 nb_backup 97848\n",
      "i 3453 j 32 nb_backup 97881\n",
      "i 3454 j 28 nb_backup 97910\n",
      "i 3455 j 22 nb_backup 97933\n",
      "i 3456 j 19 nb_backup 97953\n",
      "i 3457 j 26 nb_backup 97980\n",
      "i 3458 j 29 nb_backup 98010\n",
      "i 3459 j 24 nb_backup 98035\n",
      "i 3460 j 14 nb_backup 98050\n",
      "i 3461 j 20 nb_backup 98071\n",
      "i 3462 j 24 nb_backup 98096\n",
      "i 3463 j 23 nb_backup 98120\n",
      "i 3464 j 19 nb_backup 98140\n",
      "i 3465 j 24 nb_backup 98165\n",
      "i 3466 j 34 nb_backup 98200\n",
      "i 3467 j 21 nb_backup 98222\n",
      "i 3468 j 32 nb_backup 98255\n",
      "i 3469 j 24 nb_backup 98280\n",
      "i 3470 j 16 nb_backup 98297\n",
      "i 3471 j 31 nb_backup 98329\n",
      "i 3472 j 39 nb_backup 98369\n",
      "i 3473 j 42 nb_backup 98412\n",
      "i 3474 j 30 nb_backup 98443\n",
      "i 3475 j 26 nb_backup 98470\n",
      "i 3476 j 23 nb_backup 98494\n",
      "i 3477 j 27 nb_backup 98522\n",
      "i 3478 j 26 nb_backup 98549\n",
      "i 3479 j 37 nb_backup 98587\n",
      "i 3480 j 22 nb_backup 98610\n",
      "i 3481 j 25 nb_backup 98636\n",
      "i 3482 j 19 nb_backup 98656\n",
      "i 3483 j 23 nb_backup 98680\n",
      "i 3484 j 16 nb_backup 98697\n",
      "i 3485 j 43 nb_backup 98741\n",
      "i 3486 j 21 nb_backup 98763\n",
      "i 3487 j 20 nb_backup 98784\n",
      "i 3488 j 22 nb_backup 98807\n",
      "i 3489 j 32 nb_backup 98840\n",
      "i 3490 j 19 nb_backup 98860\n",
      "i 3491 j 27 nb_backup 98888\n",
      "i 3492 j 23 nb_backup 98912\n",
      "i 3493 j 13 nb_backup 98926\n",
      "i 3494 j 23 nb_backup 98950\n",
      "i 3495 j 39 nb_backup 98990\n",
      "i 3496 j 22 nb_backup 99013\n",
      "i 3497 j 22 nb_backup 99036\n",
      "i 3498 j 31 nb_backup 99068\n",
      "i 3499 j 23 nb_backup 99092\n",
      "i 3500 j 14 nb_backup 99107\n",
      "i 3501 j 16 nb_backup 99124\n",
      "i 3502 j 35 nb_backup 99160\n",
      "i 3503 j 24 nb_backup 99185\n",
      "i 3504 j 20 nb_backup 99206\n",
      "i 3505 j 19 nb_backup 99226\n",
      "i 3506 j 18 nb_backup 99245\n",
      "i 3507 j 34 nb_backup 99280\n",
      "i 3508 j 30 nb_backup 99311\n",
      "i 3509 j 20 nb_backup 99332\n",
      "i 3510 j 54 nb_backup 99387\n",
      "i 3511 j 38 nb_backup 99426\n",
      "i 3512 j 24 nb_backup 99451\n",
      "i 3513 j 25 nb_backup 99477\n",
      "i 3514 j 20 nb_backup 99498\n",
      "i 3515 j 16 nb_backup 99515\n",
      "i 3516 j 31 nb_backup 99547\n",
      "i 3517 j 22 nb_backup 99570\n",
      "i 3518 j 37 nb_backup 99608\n",
      "i 3519 j 21 nb_backup 99630\n",
      "i 3520 j 37 nb_backup 99668\n",
      "i 3521 j 28 nb_backup 99697\n",
      "i 3522 j 48 nb_backup 99746\n",
      "i 3523 j 31 nb_backup 99778\n",
      "i 3524 j 17 nb_backup 99796\n",
      "i 3525 j 27 nb_backup 99824\n",
      "i 3526 j 32 nb_backup 99857\n",
      "i 3527 j 28 nb_backup 99886\n",
      "i 3528 j 17 nb_backup 99904\n",
      "i 3529 j 24 nb_backup 99929\n",
      "i 3530 j 29 nb_backup 99959\n",
      "i 3531 j 36 nb_backup 99996\n",
      "i 3532 j 18 nb_backup 100015\n",
      "i 3533 j 19 nb_backup 100035\n",
      "i 3534 j 27 nb_backup 100063\n",
      "i 3535 j 24 nb_backup 100088\n",
      "i 3536 j 25 nb_backup 100114\n",
      "i 3537 j 30 nb_backup 100145\n",
      "i 3538 j 26 nb_backup 100172\n",
      "i 3539 j 26 nb_backup 100199\n",
      "i 3540 j 18 nb_backup 100218\n",
      "i 3541 j 16 nb_backup 100235\n",
      "i 3542 j 26 nb_backup 100262\n",
      "i 3543 j 21 nb_backup 100284\n",
      "i 3544 j 23 nb_backup 100308\n",
      "i 3545 j 32 nb_backup 100341\n",
      "i 3546 j 27 nb_backup 100369\n",
      "i 3547 j 44 nb_backup 100414\n",
      "i 3548 j 16 nb_backup 100431\n",
      "i 3549 j 43 nb_backup 100475\n",
      "i 3550 j 19 nb_backup 100495\n",
      "i 3551 j 22 nb_backup 100518\n",
      "i 3552 j 28 nb_backup 100547\n",
      "i 3553 j 18 nb_backup 100566\n",
      "i 3554 j 39 nb_backup 100606\n",
      "i 3555 j 29 nb_backup 100636\n",
      "i 3556 j 26 nb_backup 100663\n",
      "i 3557 j 47 nb_backup 100711\n",
      "i 3558 j 28 nb_backup 100740\n",
      "i 3559 j 28 nb_backup 100769\n",
      "i 3560 j 17 nb_backup 100787\n",
      "i 3561 j 27 nb_backup 100815\n",
      "i 3562 j 34 nb_backup 100850\n",
      "i 3563 j 36 nb_backup 100887\n",
      "i 3564 j 14 nb_backup 100902\n",
      "i 3565 j 19 nb_backup 100922\n",
      "i 3566 j 22 nb_backup 100945\n",
      "i 3567 j 21 nb_backup 100967\n",
      "i 3568 j 22 nb_backup 100990\n",
      "i 3569 j 19 nb_backup 101010\n",
      "i 3570 j 25 nb_backup 101036\n",
      "i 3571 j 16 nb_backup 101053\n",
      "i 3572 j 18 nb_backup 101072\n",
      "i 3573 j 25 nb_backup 101098\n",
      "i 3574 j 27 nb_backup 101126\n",
      "i 3575 j 21 nb_backup 101148\n",
      "i 3576 j 29 nb_backup 101178\n",
      "i 3577 j 26 nb_backup 101205\n",
      "i 3578 j 37 nb_backup 101243\n",
      "i 3579 j 28 nb_backup 101272\n",
      "i 3580 j 44 nb_backup 101317\n",
      "i 3581 j 26 nb_backup 101344\n",
      "i 3582 j 33 nb_backup 101378\n",
      "i 3583 j 20 nb_backup 101399\n",
      "i 3584 j 32 nb_backup 101432\n",
      "i 3585 j 27 nb_backup 101460\n",
      "i 3586 j 18 nb_backup 101479\n",
      "i 3587 j 24 nb_backup 101504\n",
      "i 3588 j 27 nb_backup 101532\n",
      "i 3589 j 20 nb_backup 101553\n",
      "i 3590 j 23 nb_backup 101577\n",
      "i 3591 j 47 nb_backup 101625\n",
      "i 3592 j 25 nb_backup 101651\n",
      "i 3593 j 20 nb_backup 101672\n",
      "i 3594 j 27 nb_backup 101700\n",
      "i 3595 j 29 nb_backup 101730\n",
      "i 3596 j 32 nb_backup 101763\n",
      "i 3597 j 23 nb_backup 101787\n",
      "i 3598 j 47 nb_backup 101835\n",
      "i 3599 j 26 nb_backup 101862\n",
      "i 3600 j 29 nb_backup 101892\n",
      "i 3601 j 29 nb_backup 101922\n",
      "i 3602 j 33 nb_backup 101956\n",
      "i 3603 j 17 nb_backup 101974\n",
      "i 3604 j 47 nb_backup 102022\n",
      "i 3605 j 40 nb_backup 102063\n",
      "i 3606 j 32 nb_backup 102096\n",
      "i 3607 j 30 nb_backup 102127\n",
      "i 3608 j 36 nb_backup 102164\n",
      "i 3609 j 21 nb_backup 102186\n",
      "i 3610 j 23 nb_backup 102210\n",
      "i 3611 j 35 nb_backup 102246\n",
      "i 3612 j 16 nb_backup 102263\n",
      "i 3613 j 21 nb_backup 102285\n",
      "i 3614 j 24 nb_backup 102310\n",
      "i 3615 j 17 nb_backup 102328\n",
      "i 3616 j 26 nb_backup 102355\n",
      "i 3617 j 30 nb_backup 102386\n",
      "i 3618 j 20 nb_backup 102407\n",
      "i 3619 j 28 nb_backup 102436\n",
      "i 3620 j 32 nb_backup 102469\n",
      "i 3621 j 40 nb_backup 102510\n",
      "i 3622 j 25 nb_backup 102536\n",
      "i 3623 j 27 nb_backup 102564\n",
      "i 3624 j 27 nb_backup 102592\n",
      "i 3625 j 18 nb_backup 102611\n",
      "i 3626 j 27 nb_backup 102639\n",
      "i 3627 j 22 nb_backup 102662\n",
      "i 3628 j 28 nb_backup 102691\n",
      "i 3629 j 17 nb_backup 102709\n",
      "i 3630 j 28 nb_backup 102738\n",
      "i 3631 j 36 nb_backup 102775\n",
      "i 3632 j 19 nb_backup 102795\n",
      "i 3633 j 39 nb_backup 102835\n",
      "i 3634 j 53 nb_backup 102889\n",
      "i 3635 j 27 nb_backup 102917\n",
      "i 3636 j 17 nb_backup 102935\n",
      "i 3637 j 40 nb_backup 102976\n",
      "i 3638 j 31 nb_backup 103008\n",
      "i 3639 j 24 nb_backup 103033\n",
      "i 3640 j 31 nb_backup 103065\n",
      "i 3641 j 35 nb_backup 103101\n",
      "i 3642 j 24 nb_backup 103126\n",
      "i 3643 j 25 nb_backup 103152\n",
      "i 3644 j 13 nb_backup 103166\n",
      "i 3645 j 24 nb_backup 103191\n",
      "i 3646 j 22 nb_backup 103214\n",
      "i 3647 j 20 nb_backup 103235\n",
      "i 3648 j 24 nb_backup 103260\n",
      "i 3649 j 29 nb_backup 103290\n",
      "i 3650 j 18 nb_backup 103309\n",
      "i 3651 j 30 nb_backup 103340\n",
      "i 3652 j 42 nb_backup 103383\n",
      "i 3653 j 37 nb_backup 103421\n",
      "i 3654 j 34 nb_backup 103456\n",
      "i 3655 j 38 nb_backup 103495\n",
      "i 3656 j 20 nb_backup 103516\n",
      "i 3657 j 23 nb_backup 103540\n",
      "i 3658 j 33 nb_backup 103574\n",
      "i 3659 j 26 nb_backup 103601\n",
      "i 3660 j 24 nb_backup 103626\n",
      "i 3661 j 38 nb_backup 103665\n",
      "i 3662 j 42 nb_backup 103708\n",
      "i 3663 j 28 nb_backup 103737\n",
      "i 3664 j 22 nb_backup 103760\n",
      "i 3665 j 21 nb_backup 103782\n",
      "i 3666 j 20 nb_backup 103803\n",
      "i 3667 j 29 nb_backup 103833\n",
      "i 3668 j 31 nb_backup 103865\n",
      "i 3669 j 28 nb_backup 103894\n",
      "i 3670 j 22 nb_backup 103917\n",
      "i 3671 j 28 nb_backup 103946\n",
      "i 3672 j 19 nb_backup 103966\n",
      "i 3673 j 13 nb_backup 103980\n",
      "i 3674 j 43 nb_backup 104024\n",
      "i 3675 j 30 nb_backup 104055\n",
      "i 3676 j 32 nb_backup 104088\n",
      "i 3677 j 24 nb_backup 104113\n",
      "i 3678 j 27 nb_backup 104141\n",
      "i 3679 j 22 nb_backup 104164\n",
      "i 3680 j 22 nb_backup 104187\n",
      "i 3681 j 30 nb_backup 104218\n",
      "i 3682 j 33 nb_backup 104252\n",
      "i 3683 j 18 nb_backup 104271\n",
      "i 3684 j 19 nb_backup 104291\n",
      "i 3685 j 30 nb_backup 104322\n",
      "i 3686 j 31 nb_backup 104354\n",
      "i 3687 j 44 nb_backup 104399\n",
      "i 3688 j 27 nb_backup 104427\n",
      "i 3689 j 19 nb_backup 104447\n",
      "i 3690 j 14 nb_backup 104462\n",
      "i 3691 j 30 nb_backup 104493\n",
      "i 3692 j 27 nb_backup 104521\n",
      "i 3693 j 39 nb_backup 104561\n",
      "i 3694 j 46 nb_backup 104608\n",
      "i 3695 j 35 nb_backup 104644\n",
      "i 3696 j 16 nb_backup 104661\n",
      "i 3697 j 24 nb_backup 104686\n",
      "i 3698 j 20 nb_backup 104707\n",
      "i 3699 j 22 nb_backup 104730\n",
      "i 3700 j 21 nb_backup 104752\n",
      "i 3701 j 20 nb_backup 104773\n",
      "i 3702 j 26 nb_backup 104800\n",
      "i 3703 j 19 nb_backup 104820\n",
      "i 3704 j 17 nb_backup 104838\n",
      "i 3705 j 20 nb_backup 104859\n",
      "i 3706 j 22 nb_backup 104882\n",
      "i 3707 j 17 nb_backup 104900\n",
      "i 3708 j 26 nb_backup 104927\n",
      "i 3709 j 38 nb_backup 104966\n",
      "i 3710 j 23 nb_backup 104990\n",
      "i 3711 j 25 nb_backup 105016\n",
      "i 3712 j 29 nb_backup 105046\n",
      "i 3713 j 19 nb_backup 105066\n",
      "i 3714 j 20 nb_backup 105087\n",
      "i 3715 j 27 nb_backup 105115\n",
      "i 3716 j 20 nb_backup 105136\n",
      "i 3717 j 23 nb_backup 105160\n",
      "i 3718 j 42 nb_backup 105203\n",
      "i 3719 j 37 nb_backup 105241\n",
      "i 3720 j 15 nb_backup 105257\n",
      "i 3721 j 25 nb_backup 105283\n",
      "i 3722 j 34 nb_backup 105318\n",
      "i 3723 j 38 nb_backup 105357\n",
      "i 3724 j 20 nb_backup 105378\n",
      "i 3725 j 20 nb_backup 105399\n",
      "i 3726 j 27 nb_backup 105427\n",
      "i 3727 j 22 nb_backup 105450\n",
      "i 3728 j 31 nb_backup 105482\n",
      "i 3729 j 23 nb_backup 105506\n",
      "i 3730 j 32 nb_backup 105539\n",
      "i 3731 j 15 nb_backup 105555\n",
      "i 3732 j 34 nb_backup 105590\n",
      "i 3733 j 16 nb_backup 105607\n",
      "i 3734 j 28 nb_backup 105636\n",
      "i 3735 j 24 nb_backup 105661\n",
      "i 3736 j 25 nb_backup 105687\n",
      "i 3737 j 22 nb_backup 105710\n",
      "i 3738 j 19 nb_backup 105730\n",
      "i 3739 j 18 nb_backup 105749\n",
      "i 3740 j 36 nb_backup 105786\n",
      "i 3741 j 33 nb_backup 105820\n",
      "i 3742 j 33 nb_backup 105854\n",
      "i 3743 j 29 nb_backup 105884\n",
      "i 3744 j 28 nb_backup 105913\n",
      "i 3745 j 22 nb_backup 105936\n",
      "i 3746 j 21 nb_backup 105958\n",
      "i 3747 j 13 nb_backup 105972\n",
      "i 3748 j 36 nb_backup 106009\n",
      "i 3749 j 29 nb_backup 106039\n",
      "i 3750 j 23 nb_backup 106063\n",
      "i 3751 j 16 nb_backup 106080\n",
      "i 3752 j 18 nb_backup 106099\n",
      "i 3753 j 18 nb_backup 106118\n",
      "i 3754 j 33 nb_backup 106152\n",
      "i 3755 j 21 nb_backup 106174\n",
      "i 3756 j 25 nb_backup 106200\n",
      "i 3757 j 13 nb_backup 106214\n",
      "i 3758 j 21 nb_backup 106236\n",
      "i 3759 j 40 nb_backup 106277\n",
      "i 3760 j 17 nb_backup 106295\n",
      "i 3761 j 52 nb_backup 106348\n",
      "i 3762 j 18 nb_backup 106367\n",
      "i 3763 j 20 nb_backup 106388\n",
      "i 3764 j 20 nb_backup 106409\n",
      "i 3765 j 19 nb_backup 106429\n",
      "i 3766 j 32 nb_backup 106462\n",
      "i 3767 j 19 nb_backup 106482\n",
      "i 3768 j 16 nb_backup 106499\n",
      "i 3769 j 34 nb_backup 106534\n",
      "i 3770 j 25 nb_backup 106560\n",
      "i 3771 j 30 nb_backup 106591\n",
      "i 3772 j 21 nb_backup 106613\n",
      "i 3773 j 24 nb_backup 106638\n",
      "i 3774 j 47 nb_backup 106686\n",
      "i 3775 j 27 nb_backup 106714\n",
      "i 3776 j 33 nb_backup 106748\n",
      "i 3777 j 14 nb_backup 106763\n",
      "i 3778 j 23 nb_backup 106787\n",
      "i 3779 j 26 nb_backup 106814\n",
      "i 3780 j 49 nb_backup 106864\n",
      "i 3781 j 29 nb_backup 106894\n",
      "i 3782 j 21 nb_backup 106916\n",
      "i 3783 j 19 nb_backup 106936\n",
      "i 3784 j 28 nb_backup 106965\n",
      "i 3785 j 38 nb_backup 107004\n",
      "i 3786 j 22 nb_backup 107027\n",
      "i 3787 j 19 nb_backup 107047\n",
      "i 3788 j 39 nb_backup 107087\n",
      "i 3789 j 21 nb_backup 107109\n",
      "i 3790 j 28 nb_backup 107138\n",
      "i 3791 j 24 nb_backup 107163\n",
      "i 3792 j 24 nb_backup 107188\n",
      "i 3793 j 35 nb_backup 107224\n",
      "i 3794 j 40 nb_backup 107265\n",
      "i 3795 j 33 nb_backup 107299\n",
      "i 3796 j 39 nb_backup 107339\n",
      "i 3797 j 19 nb_backup 107359\n",
      "i 3798 j 21 nb_backup 107381\n",
      "i 3799 j 25 nb_backup 107407\n",
      "i 3800 j 28 nb_backup 107436\n",
      "i 3801 j 26 nb_backup 107463\n",
      "i 3802 j 35 nb_backup 107499\n",
      "i 3803 j 17 nb_backup 107517\n",
      "i 3804 j 29 nb_backup 107547\n",
      "i 3805 j 33 nb_backup 107581\n",
      "i 3806 j 62 nb_backup 107644\n",
      "i 3807 j 19 nb_backup 107664\n",
      "i 3808 j 23 nb_backup 107688\n",
      "i 3809 j 29 nb_backup 107718\n",
      "i 3810 j 21 nb_backup 107740\n",
      "i 3811 j 24 nb_backup 107765\n",
      "i 3812 j 39 nb_backup 107805\n",
      "i 3813 j 23 nb_backup 107829\n",
      "i 3814 j 19 nb_backup 107849\n",
      "i 3815 j 22 nb_backup 107872\n",
      "i 3816 j 26 nb_backup 107899\n",
      "i 3817 j 34 nb_backup 107934\n",
      "i 3818 j 30 nb_backup 107965\n",
      "i 3819 j 21 nb_backup 107987\n",
      "i 3820 j 16 nb_backup 108004\n",
      "i 3821 j 28 nb_backup 108033\n",
      "i 3822 j 32 nb_backup 108066\n",
      "i 3823 j 13 nb_backup 108080\n",
      "i 3824 j 34 nb_backup 108115\n",
      "i 3825 j 24 nb_backup 108140\n",
      "i 3826 j 45 nb_backup 108186\n",
      "i 3827 j 43 nb_backup 108230\n",
      "i 3828 j 30 nb_backup 108261\n",
      "i 3829 j 20 nb_backup 108282\n",
      "i 3830 j 22 nb_backup 108305\n",
      "i 3831 j 23 nb_backup 108329\n",
      "i 3832 j 19 nb_backup 108349\n",
      "i 3833 j 25 nb_backup 108375\n",
      "i 3834 j 25 nb_backup 108401\n",
      "i 3835 j 19 nb_backup 108421\n",
      "i 3836 j 27 nb_backup 108449\n",
      "i 3837 j 21 nb_backup 108471\n",
      "i 3838 j 15 nb_backup 108487\n",
      "i 3839 j 20 nb_backup 108508\n",
      "i 3840 j 24 nb_backup 108533\n",
      "i 3841 j 28 nb_backup 108562\n",
      "i 3842 j 34 nb_backup 108597\n",
      "i 3843 j 44 nb_backup 108642\n",
      "i 3844 j 28 nb_backup 108671\n",
      "i 3845 j 22 nb_backup 108694\n",
      "i 3846 j 49 nb_backup 108744\n",
      "i 3847 j 44 nb_backup 108789\n",
      "i 3848 j 29 nb_backup 108819\n",
      "i 3849 j 28 nb_backup 108848\n",
      "i 3850 j 21 nb_backup 108870\n",
      "i 3851 j 18 nb_backup 108889\n",
      "i 3852 j 25 nb_backup 108915\n",
      "i 3853 j 23 nb_backup 108939\n",
      "i 3854 j 26 nb_backup 108966\n",
      "i 3855 j 36 nb_backup 109003\n",
      "i 3856 j 27 nb_backup 109031\n",
      "i 3857 j 18 nb_backup 109050\n",
      "i 3858 j 37 nb_backup 109088\n",
      "i 3859 j 20 nb_backup 109109\n",
      "i 3860 j 20 nb_backup 109130\n",
      "i 3861 j 30 nb_backup 109161\n",
      "i 3862 j 26 nb_backup 109188\n",
      "i 3863 j 34 nb_backup 109223\n",
      "i 3864 j 26 nb_backup 109250\n",
      "i 3865 j 21 nb_backup 109272\n",
      "i 3866 j 15 nb_backup 109288\n",
      "i 3867 j 26 nb_backup 109315\n",
      "i 3868 j 19 nb_backup 109335\n",
      "i 3869 j 17 nb_backup 109353\n",
      "i 3870 j 33 nb_backup 109387\n",
      "i 3871 j 20 nb_backup 109408\n",
      "i 3872 j 19 nb_backup 109428\n",
      "i 3873 j 35 nb_backup 109464\n",
      "i 3874 j 34 nb_backup 109499\n",
      "i 3875 j 25 nb_backup 109525\n",
      "i 3876 j 31 nb_backup 109557\n",
      "i 3877 j 35 nb_backup 109593\n",
      "i 3878 j 16 nb_backup 109610\n",
      "i 3879 j 30 nb_backup 109641\n",
      "i 3880 j 14 nb_backup 109656\n",
      "i 3881 j 30 nb_backup 109687\n",
      "i 3882 j 29 nb_backup 109717\n",
      "i 3883 j 32 nb_backup 109750\n",
      "i 3884 j 30 nb_backup 109781\n",
      "i 3885 j 18 nb_backup 109800\n",
      "i 3886 j 24 nb_backup 109825\n",
      "i 3887 j 29 nb_backup 109855\n",
      "i 3888 j 35 nb_backup 109891\n",
      "i 3889 j 21 nb_backup 109913\n",
      "i 3890 j 33 nb_backup 109947\n",
      "i 3891 j 26 nb_backup 109974\n",
      "i 3892 j 27 nb_backup 110002\n",
      "i 3893 j 47 nb_backup 110050\n",
      "i 3894 j 31 nb_backup 110082\n",
      "i 3895 j 14 nb_backup 110097\n",
      "i 3896 j 39 nb_backup 110137\n",
      "i 3897 j 29 nb_backup 110167\n",
      "i 3898 j 27 nb_backup 110195\n",
      "i 3899 j 31 nb_backup 110227\n",
      "i 3900 j 35 nb_backup 110263\n",
      "i 3901 j 28 nb_backup 110292\n",
      "i 3902 j 51 nb_backup 110344\n",
      "i 3903 j 27 nb_backup 110372\n",
      "i 3904 j 32 nb_backup 110405\n",
      "i 3905 j 42 nb_backup 110448\n",
      "i 3906 j 27 nb_backup 110476\n",
      "i 3907 j 32 nb_backup 110509\n",
      "i 3908 j 39 nb_backup 110549\n",
      "i 3909 j 38 nb_backup 110588\n",
      "i 3910 j 20 nb_backup 110609\n",
      "i 3911 j 33 nb_backup 110643\n",
      "i 3912 j 28 nb_backup 110672\n",
      "i 3913 j 17 nb_backup 110690\n",
      "i 3914 j 28 nb_backup 110719\n",
      "i 3915 j 29 nb_backup 110749\n",
      "i 3916 j 18 nb_backup 110768\n",
      "i 3917 j 26 nb_backup 110795\n",
      "i 3918 j 40 nb_backup 110836\n",
      "i 3919 j 23 nb_backup 110860\n",
      "i 3920 j 19 nb_backup 110880\n",
      "i 3921 j 36 nb_backup 110917\n",
      "i 3922 j 29 nb_backup 110947\n",
      "i 3923 j 23 nb_backup 110971\n",
      "i 3924 j 39 nb_backup 111011\n",
      "i 3925 j 30 nb_backup 111042\n",
      "i 3926 j 29 nb_backup 111072\n",
      "i 3927 j 18 nb_backup 111091\n",
      "i 3928 j 28 nb_backup 111120\n",
      "i 3929 j 20 nb_backup 111141\n",
      "i 3930 j 25 nb_backup 111167\n",
      "i 3931 j 19 nb_backup 111187\n",
      "i 3932 j 33 nb_backup 111221\n",
      "i 3933 j 26 nb_backup 111248\n",
      "i 3934 j 28 nb_backup 111277\n",
      "i 3935 j 18 nb_backup 111296\n",
      "i 3936 j 39 nb_backup 111336\n",
      "i 3937 j 20 nb_backup 111357\n",
      "i 3938 j 26 nb_backup 111384\n",
      "i 3939 j 29 nb_backup 111414\n",
      "i 3940 j 20 nb_backup 111435\n",
      "i 3941 j 22 nb_backup 111458\n",
      "i 3942 j 18 nb_backup 111477\n",
      "i 3943 j 39 nb_backup 111517\n",
      "i 3944 j 30 nb_backup 111548\n",
      "i 3945 j 30 nb_backup 111579\n",
      "i 3946 j 26 nb_backup 111606\n",
      "i 3947 j 22 nb_backup 111629\n",
      "i 3948 j 21 nb_backup 111651\n",
      "i 3949 j 24 nb_backup 111676\n",
      "i 3950 j 28 nb_backup 111705\n",
      "i 3951 j 25 nb_backup 111731\n",
      "i 3952 j 14 nb_backup 111746\n",
      "i 3953 j 23 nb_backup 111770\n",
      "i 3954 j 13 nb_backup 111784\n",
      "i 3955 j 17 nb_backup 111802\n",
      "i 3956 j 24 nb_backup 111827\n",
      "i 3957 j 23 nb_backup 111851\n",
      "i 3958 j 17 nb_backup 111869\n",
      "i 3959 j 28 nb_backup 111898\n",
      "i 3960 j 18 nb_backup 111917\n",
      "i 3961 j 32 nb_backup 111950\n",
      "i 3962 j 23 nb_backup 111974\n",
      "i 3963 j 32 nb_backup 112007\n",
      "i 3964 j 37 nb_backup 112045\n",
      "i 3965 j 27 nb_backup 112073\n",
      "i 3966 j 25 nb_backup 112099\n",
      "i 3967 j 20 nb_backup 112120\n",
      "i 3968 j 29 nb_backup 112150\n",
      "i 3969 j 24 nb_backup 112175\n",
      "i 3970 j 25 nb_backup 112201\n",
      "i 3971 j 38 nb_backup 112240\n",
      "i 3972 j 26 nb_backup 112267\n",
      "i 3973 j 21 nb_backup 112289\n",
      "i 3974 j 34 nb_backup 112324\n",
      "i 3975 j 22 nb_backup 112347\n",
      "i 3976 j 18 nb_backup 112366\n",
      "i 3977 j 19 nb_backup 112386\n",
      "i 3978 j 23 nb_backup 112410\n",
      "i 3979 j 37 nb_backup 112448\n",
      "i 3980 j 27 nb_backup 112476\n",
      "i 3981 j 30 nb_backup 112507\n",
      "i 3982 j 44 nb_backup 112552\n",
      "i 3983 j 19 nb_backup 112572\n",
      "i 3984 j 17 nb_backup 112590\n",
      "i 3985 j 20 nb_backup 112611\n",
      "i 3986 j 27 nb_backup 112639\n",
      "i 3987 j 22 nb_backup 112662\n",
      "i 3988 j 25 nb_backup 112688\n",
      "i 3989 j 16 nb_backup 112705\n",
      "i 3990 j 27 nb_backup 112733\n",
      "i 3991 j 21 nb_backup 112755\n",
      "i 3992 j 34 nb_backup 112790\n",
      "i 3993 j 40 nb_backup 112831\n",
      "i 3994 j 32 nb_backup 112864\n",
      "i 3995 j 29 nb_backup 112894\n",
      "i 3996 j 23 nb_backup 112918\n",
      "i 3997 j 28 nb_backup 112947\n",
      "i 3998 j 38 nb_backup 112986\n",
      "i 3999 j 26 nb_backup 113013\n",
      "i 4000 j 14 nb_backup 113028\n",
      "i 4001 j 24 nb_backup 113053\n",
      "i 4002 j 30 nb_backup 113084\n",
      "i 4003 j 21 nb_backup 113106\n",
      "i 4004 j 22 nb_backup 113129\n",
      "i 4005 j 36 nb_backup 113166\n",
      "i 4006 j 15 nb_backup 113182\n",
      "i 4007 j 47 nb_backup 113230\n",
      "i 4008 j 14 nb_backup 113245\n",
      "i 4009 j 39 nb_backup 113285\n",
      "i 4010 j 15 nb_backup 113301\n",
      "i 4011 j 32 nb_backup 113334\n",
      "i 4012 j 31 nb_backup 113366\n",
      "i 4013 j 24 nb_backup 113391\n",
      "i 4014 j 25 nb_backup 113417\n",
      "i 4015 j 51 nb_backup 113469\n",
      "i 4016 j 22 nb_backup 113492\n",
      "i 4017 j 29 nb_backup 113522\n",
      "i 4018 j 26 nb_backup 113549\n",
      "i 4019 j 18 nb_backup 113568\n",
      "i 4020 j 23 nb_backup 113592\n",
      "i 4021 j 27 nb_backup 113620\n",
      "i 4022 j 13 nb_backup 113634\n",
      "i 4023 j 21 nb_backup 113656\n",
      "i 4024 j 30 nb_backup 113687\n",
      "i 4025 j 26 nb_backup 113714\n",
      "i 4026 j 20 nb_backup 113735\n",
      "i 4027 j 19 nb_backup 113755\n",
      "i 4028 j 27 nb_backup 113783\n",
      "i 4029 j 34 nb_backup 113818\n",
      "i 4030 j 24 nb_backup 113843\n",
      "i 4031 j 26 nb_backup 113870\n",
      "i 4032 j 30 nb_backup 113901\n",
      "i 4033 j 13 nb_backup 113915\n",
      "i 4034 j 41 nb_backup 113957\n",
      "i 4035 j 25 nb_backup 113983\n",
      "i 4036 j 20 nb_backup 114004\n",
      "i 4037 j 23 nb_backup 114028\n",
      "i 4038 j 29 nb_backup 114058\n",
      "i 4039 j 28 nb_backup 114087\n",
      "i 4040 j 42 nb_backup 114130\n",
      "i 4041 j 31 nb_backup 114162\n",
      "i 4042 j 18 nb_backup 114181\n",
      "i 4043 j 26 nb_backup 114208\n",
      "i 4044 j 48 nb_backup 114257\n",
      "i 4045 j 18 nb_backup 114276\n",
      "i 4046 j 34 nb_backup 114311\n",
      "i 4047 j 18 nb_backup 114330\n",
      "i 4048 j 20 nb_backup 114351\n",
      "i 4049 j 38 nb_backup 114390\n",
      "i 4050 j 14 nb_backup 114405\n",
      "i 4051 j 24 nb_backup 114430\n",
      "i 4052 j 26 nb_backup 114457\n",
      "i 4053 j 22 nb_backup 114480\n",
      "i 4054 j 15 nb_backup 114496\n",
      "i 4055 j 32 nb_backup 114529\n",
      "i 4056 j 21 nb_backup 114551\n",
      "i 4057 j 23 nb_backup 114575\n",
      "i 4058 j 20 nb_backup 114596\n",
      "i 4059 j 16 nb_backup 114613\n",
      "i 4060 j 28 nb_backup 114642\n",
      "i 4061 j 23 nb_backup 114666\n",
      "i 4062 j 48 nb_backup 114715\n",
      "i 4063 j 30 nb_backup 114746\n",
      "i 4064 j 20 nb_backup 114767\n",
      "i 4065 j 20 nb_backup 114788\n",
      "i 4066 j 36 nb_backup 114825\n",
      "i 4067 j 22 nb_backup 114848\n",
      "i 4068 j 17 nb_backup 114866\n",
      "i 4069 j 25 nb_backup 114892\n",
      "i 4070 j 61 nb_backup 114954\n",
      "i 4071 j 18 nb_backup 114973\n",
      "i 4072 j 21 nb_backup 114995\n",
      "i 4073 j 31 nb_backup 115027\n",
      "i 4074 j 34 nb_backup 115062\n",
      "i 4075 j 16 nb_backup 115079\n",
      "i 4076 j 16 nb_backup 115096\n",
      "i 4077 j 29 nb_backup 115126\n",
      "i 4078 j 26 nb_backup 115153\n",
      "i 4079 j 16 nb_backup 115170\n",
      "i 4080 j 24 nb_backup 115195\n",
      "i 4081 j 31 nb_backup 115227\n",
      "i 4082 j 26 nb_backup 115254\n",
      "i 4083 j 20 nb_backup 115275\n",
      "i 4084 j 41 nb_backup 115317\n",
      "i 4085 j 20 nb_backup 115338\n",
      "i 4086 j 37 nb_backup 115376\n",
      "i 4087 j 19 nb_backup 115396\n",
      "i 4088 j 47 nb_backup 115444\n",
      "i 4089 j 29 nb_backup 115474\n",
      "i 4090 j 22 nb_backup 115497\n",
      "i 4091 j 39 nb_backup 115537\n",
      "i 4092 j 16 nb_backup 115554\n",
      "i 4093 j 34 nb_backup 115589\n",
      "i 4094 j 30 nb_backup 115620\n",
      "i 4095 j 25 nb_backup 115646\n",
      "i 4096 j 22 nb_backup 115669\n",
      "i 4097 j 27 nb_backup 115697\n",
      "i 4098 j 22 nb_backup 115720\n",
      "i 4099 j 32 nb_backup 115753\n",
      "i 4100 j 24 nb_backup 115778\n",
      "i 4101 j 26 nb_backup 115805\n",
      "i 4102 j 36 nb_backup 115842\n",
      "i 4103 j 40 nb_backup 115883\n",
      "i 4104 j 19 nb_backup 115903\n",
      "i 4105 j 19 nb_backup 115923\n",
      "i 4106 j 20 nb_backup 115944\n",
      "i 4107 j 30 nb_backup 115975\n",
      "i 4108 j 21 nb_backup 115997\n",
      "i 4109 j 32 nb_backup 116030\n",
      "i 4110 j 23 nb_backup 116054\n",
      "i 4111 j 29 nb_backup 116084\n",
      "i 4112 j 20 nb_backup 116105\n",
      "i 4113 j 38 nb_backup 116144\n",
      "i 4114 j 26 nb_backup 116171\n",
      "i 4115 j 36 nb_backup 116208\n",
      "i 4116 j 38 nb_backup 116247\n",
      "i 4117 j 27 nb_backup 116275\n",
      "i 4118 j 31 nb_backup 116307\n",
      "i 4119 j 32 nb_backup 116340\n",
      "i 4120 j 42 nb_backup 116383\n",
      "i 4121 j 19 nb_backup 116403\n",
      "i 4122 j 20 nb_backup 116424\n",
      "i 4123 j 24 nb_backup 116449\n",
      "i 4124 j 26 nb_backup 116476\n",
      "i 4125 j 36 nb_backup 116513\n",
      "i 4126 j 36 nb_backup 116550\n",
      "i 4127 j 30 nb_backup 116581\n",
      "i 4128 j 30 nb_backup 116612\n",
      "i 4129 j 27 nb_backup 116640\n",
      "i 4130 j 40 nb_backup 116681\n",
      "i 4131 j 31 nb_backup 116713\n",
      "i 4132 j 18 nb_backup 116732\n",
      "i 4133 j 24 nb_backup 116757\n",
      "i 4134 j 14 nb_backup 116772\n",
      "i 4135 j 36 nb_backup 116809\n",
      "i 4136 j 29 nb_backup 116839\n",
      "i 4137 j 17 nb_backup 116857\n",
      "i 4138 j 26 nb_backup 116884\n",
      "i 4139 j 20 nb_backup 116905\n",
      "i 4140 j 32 nb_backup 116938\n",
      "i 4141 j 26 nb_backup 116965\n",
      "i 4142 j 38 nb_backup 117004\n",
      "i 4143 j 23 nb_backup 117028\n",
      "i 4144 j 36 nb_backup 117065\n",
      "i 4145 j 16 nb_backup 117082\n",
      "i 4146 j 32 nb_backup 117115\n",
      "i 4147 j 25 nb_backup 117141\n",
      "i 4148 j 25 nb_backup 117167\n",
      "i 4149 j 59 nb_backup 117227\n",
      "i 4150 j 17 nb_backup 117245\n",
      "i 4151 j 16 nb_backup 117262\n",
      "i 4152 j 43 nb_backup 117306\n",
      "i 4153 j 31 nb_backup 117338\n",
      "i 4154 j 30 nb_backup 117369\n",
      "i 4155 j 23 nb_backup 117393\n",
      "i 4156 j 34 nb_backup 117428\n",
      "i 4157 j 29 nb_backup 117458\n",
      "i 4158 j 23 nb_backup 117482\n",
      "i 4159 j 29 nb_backup 117512\n",
      "i 4160 j 21 nb_backup 117534\n",
      "i 4161 j 26 nb_backup 117561\n",
      "i 4162 j 17 nb_backup 117579\n",
      "i 4163 j 26 nb_backup 117606\n",
      "i 4164 j 22 nb_backup 117629\n",
      "i 4165 j 34 nb_backup 117664\n",
      "i 4166 j 32 nb_backup 117697\n",
      "i 4167 j 19 nb_backup 117717\n",
      "i 4168 j 39 nb_backup 117757\n",
      "i 4169 j 22 nb_backup 117780\n",
      "i 4170 j 28 nb_backup 117809\n",
      "i 4171 j 22 nb_backup 117832\n",
      "i 4172 j 37 nb_backup 117870\n",
      "i 4173 j 38 nb_backup 117909\n",
      "i 4174 j 33 nb_backup 117943\n",
      "i 4175 j 28 nb_backup 117972\n",
      "i 4176 j 19 nb_backup 117992\n",
      "i 4177 j 37 nb_backup 118030\n",
      "i 4178 j 25 nb_backup 118056\n",
      "i 4179 j 50 nb_backup 118107\n",
      "i 4180 j 31 nb_backup 118139\n",
      "i 4181 j 33 nb_backup 118173\n",
      "i 4182 j 19 nb_backup 118193\n",
      "i 4183 j 23 nb_backup 118217\n",
      "i 4184 j 46 nb_backup 118264\n",
      "i 4185 j 21 nb_backup 118286\n",
      "i 4186 j 33 nb_backup 118320\n",
      "i 4187 j 19 nb_backup 118340\n",
      "i 4188 j 20 nb_backup 118361\n",
      "i 4189 j 25 nb_backup 118387\n",
      "i 4190 j 28 nb_backup 118416\n",
      "i 4191 j 26 nb_backup 118443\n",
      "i 4192 j 20 nb_backup 118464\n",
      "i 4193 j 35 nb_backup 118500\n",
      "i 4194 j 35 nb_backup 118536\n",
      "i 4195 j 29 nb_backup 118566\n",
      "i 4196 j 42 nb_backup 118609\n",
      "i 4197 j 37 nb_backup 118647\n",
      "i 4198 j 22 nb_backup 118670\n",
      "i 4199 j 14 nb_backup 118685\n",
      "i 4200 j 18 nb_backup 118704\n",
      "i 4201 j 25 nb_backup 118730\n",
      "i 4202 j 29 nb_backup 118760\n",
      "i 4203 j 18 nb_backup 118779\n",
      "i 4204 j 27 nb_backup 118807\n",
      "i 4205 j 28 nb_backup 118836\n",
      "i 4206 j 24 nb_backup 118861\n",
      "i 4207 j 21 nb_backup 118883\n",
      "i 4208 j 28 nb_backup 118912\n",
      "i 4209 j 20 nb_backup 118933\n",
      "i 4210 j 16 nb_backup 118950\n",
      "i 4211 j 25 nb_backup 118976\n",
      "i 4212 j 26 nb_backup 119003\n",
      "i 4213 j 20 nb_backup 119024\n",
      "i 4214 j 20 nb_backup 119045\n",
      "i 4215 j 31 nb_backup 119077\n",
      "i 4216 j 32 nb_backup 119110\n",
      "i 4217 j 28 nb_backup 119139\n",
      "i 4218 j 23 nb_backup 119163\n",
      "i 4219 j 26 nb_backup 119190\n",
      "i 4220 j 30 nb_backup 119221\n",
      "i 4221 j 30 nb_backup 119252\n",
      "i 4222 j 35 nb_backup 119288\n",
      "i 4223 j 23 nb_backup 119312\n",
      "i 4224 j 24 nb_backup 119337\n",
      "i 4225 j 26 nb_backup 119364\n",
      "i 4226 j 20 nb_backup 119385\n",
      "i 4227 j 23 nb_backup 119409\n",
      "i 4228 j 23 nb_backup 119433\n",
      "i 4229 j 27 nb_backup 119461\n",
      "i 4230 j 25 nb_backup 119487\n",
      "i 4231 j 32 nb_backup 119520\n",
      "i 4232 j 31 nb_backup 119552\n",
      "i 4233 j 20 nb_backup 119573\n",
      "i 4234 j 21 nb_backup 119595\n",
      "i 4235 j 30 nb_backup 119626\n",
      "i 4236 j 20 nb_backup 119647\n",
      "i 4237 j 18 nb_backup 119666\n",
      "i 4238 j 25 nb_backup 119692\n",
      "i 4239 j 19 nb_backup 119712\n",
      "i 4240 j 59 nb_backup 119772\n",
      "i 4241 j 17 nb_backup 119790\n",
      "i 4242 j 28 nb_backup 119819\n",
      "i 4243 j 25 nb_backup 119845\n",
      "i 4244 j 19 nb_backup 119865\n",
      "i 4245 j 41 nb_backup 119907\n",
      "i 4246 j 44 nb_backup 119952\n",
      "i 4247 j 20 nb_backup 119973\n",
      "i 4248 j 36 nb_backup 120010\n",
      "i 4249 j 28 nb_backup 120039\n",
      "i 4250 j 18 nb_backup 120058\n",
      "i 4251 j 15 nb_backup 120074\n",
      "i 4252 j 30 nb_backup 120105\n",
      "i 4253 j 20 nb_backup 120126\n",
      "i 4254 j 27 nb_backup 120154\n",
      "i 4255 j 29 nb_backup 120184\n",
      "i 4256 j 32 nb_backup 120217\n",
      "i 4257 j 23 nb_backup 120241\n",
      "i 4258 j 35 nb_backup 120277\n",
      "i 4259 j 23 nb_backup 120301\n",
      "i 4260 j 28 nb_backup 120330\n",
      "i 4261 j 24 nb_backup 120355\n",
      "i 4262 j 27 nb_backup 120383\n",
      "i 4263 j 28 nb_backup 120412\n",
      "i 4264 j 22 nb_backup 120435\n",
      "i 4265 j 17 nb_backup 120453\n",
      "i 4266 j 22 nb_backup 120476\n",
      "i 4267 j 16 nb_backup 120493\n",
      "i 4268 j 25 nb_backup 120519\n",
      "i 4269 j 22 nb_backup 120542\n",
      "i 4270 j 27 nb_backup 120570\n",
      "i 4271 j 28 nb_backup 120599\n",
      "i 4272 j 39 nb_backup 120639\n",
      "i 4273 j 22 nb_backup 120662\n",
      "i 4274 j 19 nb_backup 120682\n",
      "i 4275 j 20 nb_backup 120703\n",
      "i 4276 j 24 nb_backup 120728\n",
      "i 4277 j 29 nb_backup 120758\n",
      "i 4278 j 31 nb_backup 120790\n",
      "i 4279 j 23 nb_backup 120814\n",
      "i 4280 j 25 nb_backup 120840\n",
      "i 4281 j 31 nb_backup 120872\n",
      "i 4282 j 38 nb_backup 120911\n",
      "i 4283 j 32 nb_backup 120944\n",
      "i 4284 j 30 nb_backup 120975\n",
      "i 4285 j 33 nb_backup 121009\n",
      "i 4286 j 28 nb_backup 121038\n",
      "i 4287 j 29 nb_backup 121068\n",
      "i 4288 j 34 nb_backup 121103\n",
      "i 4289 j 24 nb_backup 121128\n",
      "i 4290 j 36 nb_backup 121165\n",
      "i 4291 j 17 nb_backup 121183\n",
      "i 4292 j 31 nb_backup 121215\n",
      "i 4293 j 27 nb_backup 121243\n",
      "i 4294 j 18 nb_backup 121262\n",
      "i 4295 j 30 nb_backup 121293\n",
      "i 4296 j 27 nb_backup 121321\n",
      "i 4297 j 29 nb_backup 121351\n",
      "i 4298 j 18 nb_backup 121370\n",
      "i 4299 j 26 nb_backup 121397\n",
      "i 4300 j 30 nb_backup 121428\n",
      "i 4301 j 25 nb_backup 121454\n",
      "i 4302 j 21 nb_backup 121476\n",
      "i 4303 j 29 nb_backup 121506\n",
      "i 4304 j 25 nb_backup 121532\n",
      "i 4305 j 35 nb_backup 121568\n",
      "i 4306 j 16 nb_backup 121585\n",
      "i 4307 j 22 nb_backup 121608\n",
      "i 4308 j 31 nb_backup 121640\n",
      "i 4309 j 32 nb_backup 121673\n",
      "i 4310 j 28 nb_backup 121702\n",
      "i 4311 j 27 nb_backup 121730\n",
      "i 4312 j 25 nb_backup 121756\n",
      "i 4313 j 33 nb_backup 121790\n",
      "i 4314 j 19 nb_backup 121810\n",
      "i 4315 j 31 nb_backup 121842\n",
      "i 4316 j 23 nb_backup 121866\n",
      "i 4317 j 32 nb_backup 121899\n",
      "i 4318 j 18 nb_backup 121918\n",
      "i 4319 j 49 nb_backup 121968\n",
      "i 4320 j 32 nb_backup 122001\n",
      "i 4321 j 27 nb_backup 122029\n",
      "i 4322 j 29 nb_backup 122059\n",
      "i 4323 j 19 nb_backup 122079\n",
      "i 4324 j 35 nb_backup 122115\n",
      "i 4325 j 24 nb_backup 122140\n",
      "i 4326 j 22 nb_backup 122163\n",
      "i 4327 j 22 nb_backup 122186\n",
      "i 4328 j 38 nb_backup 122225\n",
      "i 4329 j 32 nb_backup 122258\n",
      "i 4330 j 39 nb_backup 122298\n",
      "i 4331 j 27 nb_backup 122326\n",
      "i 4332 j 37 nb_backup 122364\n",
      "i 4333 j 31 nb_backup 122396\n",
      "i 4334 j 23 nb_backup 122420\n",
      "i 4335 j 26 nb_backup 122447\n",
      "i 4336 j 22 nb_backup 122470\n",
      "i 4337 j 23 nb_backup 122494\n",
      "i 4338 j 28 nb_backup 122523\n",
      "i 4339 j 18 nb_backup 122542\n",
      "i 4340 j 26 nb_backup 122569\n",
      "i 4341 j 18 nb_backup 122588\n",
      "i 4342 j 25 nb_backup 122614\n",
      "i 4343 j 29 nb_backup 122644\n",
      "i 4344 j 18 nb_backup 122663\n",
      "i 4345 j 21 nb_backup 122685\n",
      "i 4346 j 36 nb_backup 122722\n",
      "i 4347 j 32 nb_backup 122755\n",
      "i 4348 j 23 nb_backup 122779\n",
      "i 4349 j 20 nb_backup 122800\n",
      "i 4350 j 36 nb_backup 122837\n",
      "i 4351 j 33 nb_backup 122871\n",
      "i 4352 j 43 nb_backup 122915\n",
      "i 4353 j 24 nb_backup 122940\n",
      "i 4354 j 19 nb_backup 122960\n",
      "i 4355 j 27 nb_backup 122988\n",
      "i 4356 j 19 nb_backup 123008\n",
      "i 4357 j 31 nb_backup 123040\n",
      "i 4358 j 24 nb_backup 123065\n",
      "i 4359 j 32 nb_backup 123098\n",
      "i 4360 j 19 nb_backup 123118\n",
      "i 4361 j 54 nb_backup 123173\n",
      "i 4362 j 28 nb_backup 123202\n",
      "i 4363 j 29 nb_backup 123232\n",
      "i 4364 j 25 nb_backup 123258\n",
      "i 4365 j 28 nb_backup 123287\n",
      "i 4366 j 25 nb_backup 123313\n",
      "i 4367 j 36 nb_backup 123350\n",
      "i 4368 j 16 nb_backup 123367\n",
      "i 4369 j 28 nb_backup 123396\n",
      "i 4370 j 29 nb_backup 123426\n",
      "i 4371 j 29 nb_backup 123456\n",
      "i 4372 j 33 nb_backup 123490\n",
      "i 4373 j 23 nb_backup 123514\n",
      "i 4374 j 37 nb_backup 123552\n",
      "i 4375 j 37 nb_backup 123590\n",
      "i 4376 j 29 nb_backup 123620\n",
      "i 4377 j 25 nb_backup 123646\n",
      "i 4378 j 26 nb_backup 123673\n",
      "i 4379 j 17 nb_backup 123691\n",
      "i 4380 j 40 nb_backup 123732\n",
      "i 4381 j 33 nb_backup 123766\n",
      "i 4382 j 36 nb_backup 123803\n",
      "i 4383 j 44 nb_backup 123848\n",
      "i 4384 j 40 nb_backup 123889\n",
      "i 4385 j 22 nb_backup 123912\n",
      "i 4386 j 18 nb_backup 123931\n",
      "i 4387 j 29 nb_backup 123961\n",
      "i 4388 j 39 nb_backup 124001\n",
      "i 4389 j 20 nb_backup 124022\n",
      "i 4390 j 50 nb_backup 124073\n",
      "i 4391 j 27 nb_backup 124101\n",
      "i 4392 j 70 nb_backup 124172\n",
      "i 4393 j 31 nb_backup 124204\n",
      "i 4394 j 24 nb_backup 124229\n",
      "i 4395 j 26 nb_backup 124256\n",
      "i 4396 j 19 nb_backup 124276\n",
      "i 4397 j 17 nb_backup 124294\n",
      "i 4398 j 20 nb_backup 124315\n",
      "i 4399 j 27 nb_backup 124343\n",
      "i 4400 j 17 nb_backup 124361\n",
      "i 4401 j 17 nb_backup 124379\n",
      "i 4402 j 27 nb_backup 124407\n",
      "i 4403 j 29 nb_backup 124437\n",
      "i 4404 j 21 nb_backup 124459\n",
      "i 4405 j 18 nb_backup 124478\n",
      "i 4406 j 24 nb_backup 124503\n",
      "i 4407 j 35 nb_backup 124539\n",
      "i 4408 j 28 nb_backup 124568\n",
      "i 4409 j 16 nb_backup 124585\n",
      "i 4410 j 38 nb_backup 124624\n",
      "i 4411 j 25 nb_backup 124650\n",
      "i 4412 j 25 nb_backup 124676\n",
      "i 4413 j 33 nb_backup 124710\n",
      "i 4414 j 24 nb_backup 124735\n",
      "i 4415 j 27 nb_backup 124763\n",
      "i 4416 j 48 nb_backup 124812\n",
      "i 4417 j 31 nb_backup 124844\n",
      "i 4418 j 19 nb_backup 124864\n",
      "i 4419 j 30 nb_backup 124895\n",
      "i 4420 j 21 nb_backup 124917\n",
      "i 4421 j 23 nb_backup 124941\n",
      "i 4422 j 34 nb_backup 124976\n",
      "i 4423 j 37 nb_backup 125014\n",
      "i 4424 j 32 nb_backup 125047\n",
      "i 4425 j 22 nb_backup 125070\n",
      "i 4426 j 30 nb_backup 125101\n",
      "i 4427 j 27 nb_backup 125129\n",
      "i 4428 j 13 nb_backup 125143\n",
      "i 4429 j 22 nb_backup 125166\n",
      "i 4430 j 13 nb_backup 125180\n",
      "i 4431 j 31 nb_backup 125212\n",
      "i 4432 j 28 nb_backup 125241\n",
      "i 4433 j 32 nb_backup 125274\n",
      "i 4434 j 19 nb_backup 125294\n",
      "i 4435 j 17 nb_backup 125312\n",
      "i 4436 j 17 nb_backup 125330\n",
      "i 4437 j 21 nb_backup 125352\n",
      "i 4438 j 18 nb_backup 125371\n",
      "i 4439 j 25 nb_backup 125397\n",
      "i 4440 j 29 nb_backup 125427\n",
      "i 4441 j 13 nb_backup 125441\n",
      "i 4442 j 49 nb_backup 125491\n",
      "i 4443 j 18 nb_backup 125510\n",
      "i 4444 j 25 nb_backup 125536\n",
      "i 4445 j 32 nb_backup 125569\n",
      "i 4446 j 27 nb_backup 125597\n",
      "i 4447 j 28 nb_backup 125626\n",
      "i 4448 j 38 nb_backup 125665\n",
      "i 4449 j 28 nb_backup 125694\n",
      "i 4450 j 32 nb_backup 125727\n",
      "i 4451 j 31 nb_backup 125759\n",
      "i 4452 j 35 nb_backup 125795\n",
      "i 4453 j 28 nb_backup 125824\n",
      "i 4454 j 29 nb_backup 125854\n",
      "i 4455 j 57 nb_backup 125912\n",
      "i 4456 j 18 nb_backup 125931\n",
      "i 4457 j 17 nb_backup 125949\n",
      "i 4458 j 63 nb_backup 126013\n",
      "i 4459 j 19 nb_backup 126033\n",
      "i 4460 j 32 nb_backup 126066\n",
      "i 4461 j 27 nb_backup 126094\n",
      "i 4462 j 40 nb_backup 126135\n",
      "i 4463 j 25 nb_backup 126161\n",
      "i 4464 j 22 nb_backup 126184\n",
      "i 4465 j 27 nb_backup 126212\n",
      "i 4466 j 25 nb_backup 126238\n",
      "i 4467 j 30 nb_backup 126269\n",
      "i 4468 j 30 nb_backup 126300\n",
      "i 4469 j 21 nb_backup 126322\n",
      "i 4470 j 17 nb_backup 126340\n",
      "i 4471 j 29 nb_backup 126370\n",
      "i 4472 j 24 nb_backup 126395\n",
      "i 4473 j 38 nb_backup 126434\n",
      "i 4474 j 22 nb_backup 126457\n",
      "i 4475 j 30 nb_backup 126488\n",
      "i 4476 j 16 nb_backup 126505\n",
      "i 4477 j 34 nb_backup 126540\n",
      "i 4478 j 16 nb_backup 126557\n",
      "i 4479 j 25 nb_backup 126583\n",
      "i 4480 j 23 nb_backup 126607\n",
      "i 4481 j 23 nb_backup 126631\n",
      "i 4482 j 24 nb_backup 126656\n",
      "i 4483 j 24 nb_backup 126681\n",
      "i 4484 j 20 nb_backup 126702\n",
      "i 4485 j 23 nb_backup 126726\n",
      "i 4486 j 32 nb_backup 126759\n",
      "i 4487 j 25 nb_backup 126785\n",
      "i 4488 j 32 nb_backup 126818\n",
      "i 4489 j 35 nb_backup 126854\n",
      "i 4490 j 19 nb_backup 126874\n",
      "i 4491 j 32 nb_backup 126907\n",
      "i 4492 j 31 nb_backup 126939\n",
      "i 4493 j 31 nb_backup 126971\n",
      "i 4494 j 17 nb_backup 126989\n",
      "i 4495 j 40 nb_backup 127030\n",
      "i 4496 j 15 nb_backup 127046\n",
      "i 4497 j 32 nb_backup 127079\n",
      "i 4498 j 34 nb_backup 127114\n",
      "i 4499 j 33 nb_backup 127148\n",
      "i 4500 j 14 nb_backup 127163\n",
      "i 4501 j 26 nb_backup 127190\n",
      "i 4502 j 15 nb_backup 127206\n",
      "i 4503 j 17 nb_backup 127224\n",
      "i 4504 j 35 nb_backup 127260\n",
      "i 4505 j 38 nb_backup 127299\n",
      "i 4506 j 29 nb_backup 127329\n",
      "i 4507 j 24 nb_backup 127354\n",
      "i 4508 j 21 nb_backup 127376\n",
      "i 4509 j 24 nb_backup 127401\n",
      "i 4510 j 21 nb_backup 127423\n",
      "i 4511 j 22 nb_backup 127446\n",
      "i 4512 j 18 nb_backup 127465\n",
      "i 4513 j 24 nb_backup 127490\n",
      "i 4514 j 25 nb_backup 127516\n",
      "i 4515 j 30 nb_backup 127547\n",
      "i 4516 j 24 nb_backup 127572\n",
      "i 4517 j 20 nb_backup 127593\n",
      "i 4518 j 32 nb_backup 127626\n",
      "i 4519 j 31 nb_backup 127658\n",
      "i 4520 j 34 nb_backup 127693\n",
      "i 4521 j 57 nb_backup 127751\n",
      "i 4522 j 20 nb_backup 127772\n",
      "i 4523 j 38 nb_backup 127811\n",
      "i 4524 j 33 nb_backup 127845\n",
      "i 4525 j 30 nb_backup 127876\n",
      "i 4526 j 22 nb_backup 127899\n",
      "i 4527 j 28 nb_backup 127928\n",
      "i 4528 j 23 nb_backup 127952\n",
      "i 4529 j 19 nb_backup 127972\n",
      "i 4530 j 29 nb_backup 128002\n",
      "i 4531 j 25 nb_backup 128028\n",
      "i 4532 j 27 nb_backup 128056\n",
      "i 4533 j 22 nb_backup 128079\n",
      "i 4534 j 35 nb_backup 128115\n",
      "i 4535 j 19 nb_backup 128135\n",
      "i 4536 j 31 nb_backup 128167\n",
      "i 4537 j 27 nb_backup 128195\n",
      "i 4538 j 17 nb_backup 128213\n",
      "i 4539 j 37 nb_backup 128251\n",
      "i 4540 j 22 nb_backup 128274\n",
      "i 4541 j 29 nb_backup 128304\n",
      "i 4542 j 32 nb_backup 128337\n",
      "i 4543 j 18 nb_backup 128356\n",
      "i 4544 j 30 nb_backup 128387\n",
      "i 4545 j 31 nb_backup 128419\n",
      "i 4546 j 33 nb_backup 128453\n",
      "i 4547 j 19 nb_backup 128473\n",
      "i 4548 j 45 nb_backup 128519\n",
      "i 4549 j 36 nb_backup 128556\n",
      "i 4550 j 20 nb_backup 128577\n",
      "i 4551 j 36 nb_backup 128614\n",
      "i 4552 j 34 nb_backup 128649\n",
      "i 4553 j 37 nb_backup 128687\n",
      "i 4554 j 17 nb_backup 128705\n",
      "i 4555 j 45 nb_backup 128751\n",
      "i 4556 j 22 nb_backup 128774\n",
      "i 4557 j 21 nb_backup 128796\n",
      "i 4558 j 20 nb_backup 128817\n",
      "i 4559 j 17 nb_backup 128835\n",
      "i 4560 j 17 nb_backup 128853\n",
      "i 4561 j 26 nb_backup 128880\n",
      "i 4562 j 18 nb_backup 128899\n",
      "i 4563 j 32 nb_backup 128932\n",
      "i 4564 j 31 nb_backup 128964\n",
      "i 4565 j 33 nb_backup 128998\n",
      "i 4566 j 17 nb_backup 129016\n",
      "i 4567 j 27 nb_backup 129044\n",
      "i 4568 j 21 nb_backup 129066\n",
      "i 4569 j 16 nb_backup 129083\n",
      "i 4570 j 43 nb_backup 129127\n",
      "i 4571 j 30 nb_backup 129158\n",
      "i 4572 j 32 nb_backup 129191\n",
      "i 4573 j 19 nb_backup 129211\n",
      "i 4574 j 27 nb_backup 129239\n",
      "i 4575 j 24 nb_backup 129264\n",
      "i 4576 j 29 nb_backup 129294\n",
      "i 4577 j 30 nb_backup 129325\n",
      "i 4578 j 18 nb_backup 129344\n",
      "i 4579 j 41 nb_backup 129386\n",
      "i 4580 j 32 nb_backup 129419\n",
      "i 4581 j 20 nb_backup 129440\n",
      "i 4582 j 39 nb_backup 129480\n",
      "i 4583 j 32 nb_backup 129513\n",
      "i 4584 j 25 nb_backup 129539\n",
      "i 4585 j 21 nb_backup 129561\n",
      "i 4586 j 26 nb_backup 129588\n",
      "i 4587 j 16 nb_backup 129605\n",
      "i 4588 j 20 nb_backup 129626\n",
      "i 4589 j 21 nb_backup 129648\n",
      "i 4590 j 27 nb_backup 129676\n",
      "i 4591 j 16 nb_backup 129693\n",
      "i 4592 j 37 nb_backup 129731\n",
      "i 4593 j 22 nb_backup 129754\n",
      "i 4594 j 39 nb_backup 129794\n",
      "i 4595 j 15 nb_backup 129810\n",
      "i 4596 j 20 nb_backup 129831\n",
      "i 4597 j 29 nb_backup 129861\n",
      "i 4598 j 30 nb_backup 129892\n",
      "i 4599 j 20 nb_backup 129913\n",
      "i 4600 j 28 nb_backup 129942\n",
      "i 4601 j 19 nb_backup 129962\n",
      "i 4602 j 20 nb_backup 129983\n",
      "i 4603 j 34 nb_backup 130018\n",
      "i 4604 j 43 nb_backup 130062\n",
      "i 4605 j 24 nb_backup 130087\n",
      "i 4606 j 30 nb_backup 130118\n",
      "i 4607 j 38 nb_backup 130157\n",
      "i 4608 j 28 nb_backup 130186\n",
      "i 4609 j 25 nb_backup 130212\n",
      "i 4610 j 22 nb_backup 130235\n",
      "i 4611 j 25 nb_backup 130261\n",
      "i 4612 j 33 nb_backup 130295\n",
      "i 4613 j 27 nb_backup 130323\n",
      "i 4614 j 21 nb_backup 130345\n",
      "i 4615 j 19 nb_backup 130365\n",
      "i 4616 j 41 nb_backup 130407\n",
      "i 4617 j 32 nb_backup 130440\n",
      "i 4618 j 25 nb_backup 130466\n",
      "i 4619 j 25 nb_backup 130492\n",
      "i 4620 j 20 nb_backup 130513\n",
      "i 4621 j 26 nb_backup 130540\n",
      "i 4622 j 24 nb_backup 130565\n",
      "i 4623 j 20 nb_backup 130586\n",
      "i 4624 j 27 nb_backup 130614\n",
      "i 4625 j 34 nb_backup 130649\n",
      "i 4626 j 21 nb_backup 130671\n",
      "i 4627 j 26 nb_backup 130698\n",
      "i 4628 j 45 nb_backup 130744\n",
      "i 4629 j 27 nb_backup 130772\n",
      "i 4630 j 29 nb_backup 130802\n",
      "i 4631 j 17 nb_backup 130820\n",
      "i 4632 j 25 nb_backup 130846\n",
      "i 4633 j 24 nb_backup 130871\n",
      "i 4634 j 19 nb_backup 130891\n",
      "i 4635 j 20 nb_backup 130912\n",
      "i 4636 j 33 nb_backup 130946\n",
      "i 4637 j 21 nb_backup 130968\n",
      "i 4638 j 37 nb_backup 131006\n",
      "i 4639 j 15 nb_backup 131022\n",
      "i 4640 j 23 nb_backup 131046\n",
      "i 4641 j 25 nb_backup 131072\n",
      "i 4642 j 21 nb_backup 131094\n",
      "i 4643 j 51 nb_backup 131146\n",
      "i 4644 j 13 nb_backup 131160\n",
      "i 4645 j 27 nb_backup 131188\n",
      "i 4646 j 22 nb_backup 131211\n",
      "i 4647 j 24 nb_backup 131236\n",
      "i 4648 j 15 nb_backup 131252\n",
      "i 4649 j 19 nb_backup 131272\n",
      "i 4650 j 25 nb_backup 131298\n",
      "i 4651 j 29 nb_backup 131328\n",
      "i 4652 j 20 nb_backup 131349\n",
      "i 4653 j 17 nb_backup 131367\n",
      "i 4654 j 16 nb_backup 131384\n",
      "i 4655 j 31 nb_backup 131416\n",
      "i 4656 j 28 nb_backup 131445\n",
      "i 4657 j 19 nb_backup 131465\n",
      "i 4658 j 20 nb_backup 131486\n",
      "i 4659 j 17 nb_backup 131504\n",
      "i 4660 j 35 nb_backup 131540\n",
      "i 4661 j 27 nb_backup 131568\n",
      "i 4662 j 38 nb_backup 131607\n",
      "i 4663 j 18 nb_backup 131626\n",
      "i 4664 j 29 nb_backup 131656\n",
      "i 4665 j 19 nb_backup 131676\n",
      "i 4666 j 26 nb_backup 131703\n",
      "i 4667 j 22 nb_backup 131726\n",
      "i 4668 j 26 nb_backup 131753\n",
      "i 4669 j 23 nb_backup 131777\n",
      "i 4670 j 22 nb_backup 131800\n",
      "i 4671 j 16 nb_backup 131817\n",
      "i 4672 j 35 nb_backup 131853\n",
      "i 4673 j 35 nb_backup 131889\n",
      "i 4674 j 29 nb_backup 131919\n",
      "i 4675 j 50 nb_backup 131970\n",
      "i 4676 j 20 nb_backup 131991\n",
      "i 4677 j 20 nb_backup 132012\n",
      "i 4678 j 20 nb_backup 132033\n",
      "i 4679 j 30 nb_backup 132064\n",
      "i 4680 j 42 nb_backup 132107\n",
      "i 4681 j 22 nb_backup 132130\n",
      "i 4682 j 19 nb_backup 132150\n",
      "i 4683 j 23 nb_backup 132174\n",
      "i 4684 j 41 nb_backup 132216\n",
      "i 4685 j 45 nb_backup 132262\n",
      "i 4686 j 27 nb_backup 132290\n",
      "i 4687 j 35 nb_backup 132326\n",
      "i 4688 j 23 nb_backup 132350\n",
      "i 4689 j 24 nb_backup 132375\n",
      "i 4690 j 24 nb_backup 132400\n",
      "i 4691 j 22 nb_backup 132423\n",
      "i 4692 j 23 nb_backup 132447\n",
      "i 4693 j 22 nb_backup 132470\n",
      "i 4694 j 26 nb_backup 132497\n",
      "i 4695 j 25 nb_backup 132523\n",
      "i 4696 j 33 nb_backup 132557\n",
      "i 4697 j 27 nb_backup 132585\n",
      "i 4698 j 26 nb_backup 132612\n",
      "i 4699 j 22 nb_backup 132635\n",
      "i 4700 j 17 nb_backup 132653\n",
      "i 4701 j 28 nb_backup 132682\n",
      "i 4702 j 20 nb_backup 132703\n",
      "i 4703 j 26 nb_backup 132730\n",
      "i 4704 j 22 nb_backup 132753\n",
      "i 4705 j 23 nb_backup 132777\n",
      "i 4706 j 24 nb_backup 132802\n",
      "i 4707 j 15 nb_backup 132818\n",
      "i 4708 j 27 nb_backup 132846\n",
      "i 4709 j 16 nb_backup 132863\n",
      "i 4710 j 32 nb_backup 132896\n",
      "i 4711 j 20 nb_backup 132917\n",
      "i 4712 j 31 nb_backup 132949\n",
      "i 4713 j 18 nb_backup 132968\n",
      "i 4714 j 50 nb_backup 133019\n",
      "i 4715 j 16 nb_backup 133036\n",
      "i 4716 j 19 nb_backup 133056\n",
      "i 4717 j 38 nb_backup 133095\n",
      "i 4718 j 29 nb_backup 133125\n",
      "i 4719 j 31 nb_backup 133157\n",
      "i 4720 j 20 nb_backup 133178\n",
      "i 4721 j 32 nb_backup 133211\n",
      "i 4722 j 19 nb_backup 133231\n",
      "i 4723 j 39 nb_backup 133271\n",
      "i 4724 j 27 nb_backup 133299\n",
      "i 4725 j 24 nb_backup 133324\n",
      "i 4726 j 25 nb_backup 133350\n",
      "i 4727 j 42 nb_backup 133393\n",
      "i 4728 j 18 nb_backup 133412\n",
      "i 4729 j 36 nb_backup 133449\n",
      "i 4730 j 30 nb_backup 133480\n",
      "i 4731 j 29 nb_backup 133510\n",
      "i 4732 j 20 nb_backup 133531\n",
      "i 4733 j 17 nb_backup 133549\n",
      "i 4734 j 21 nb_backup 133571\n",
      "i 4735 j 24 nb_backup 133596\n",
      "i 4736 j 23 nb_backup 133620\n",
      "i 4737 j 19 nb_backup 133640\n",
      "i 4738 j 24 nb_backup 133665\n",
      "i 4739 j 21 nb_backup 133687\n",
      "i 4740 j 41 nb_backup 133729\n",
      "i 4741 j 29 nb_backup 133759\n",
      "i 4742 j 15 nb_backup 133775\n",
      "i 4743 j 25 nb_backup 133801\n",
      "i 4744 j 26 nb_backup 133828\n",
      "i 4745 j 22 nb_backup 133851\n",
      "i 4746 j 20 nb_backup 133872\n",
      "i 4747 j 21 nb_backup 133894\n",
      "i 4748 j 26 nb_backup 133921\n",
      "i 4749 j 22 nb_backup 133944\n",
      "i 4750 j 28 nb_backup 133973\n",
      "i 4751 j 35 nb_backup 134009\n",
      "i 4752 j 22 nb_backup 134032\n",
      "i 4753 j 33 nb_backup 134066\n",
      "i 4754 j 33 nb_backup 134100\n",
      "i 4755 j 33 nb_backup 134134\n",
      "i 4756 j 24 nb_backup 134159\n",
      "i 4757 j 26 nb_backup 134186\n",
      "i 4758 j 40 nb_backup 134227\n",
      "i 4759 j 22 nb_backup 134250\n",
      "i 4760 j 46 nb_backup 134297\n",
      "i 4761 j 37 nb_backup 134335\n",
      "i 4762 j 19 nb_backup 134355\n",
      "i 4763 j 36 nb_backup 134392\n",
      "i 4764 j 17 nb_backup 134410\n",
      "i 4765 j 32 nb_backup 134443\n",
      "i 4766 j 20 nb_backup 134464\n",
      "i 4767 j 32 nb_backup 134497\n",
      "i 4768 j 47 nb_backup 134545\n",
      "i 4769 j 18 nb_backup 134564\n",
      "i 4770 j 19 nb_backup 134584\n",
      "i 4771 j 27 nb_backup 134612\n",
      "i 4772 j 37 nb_backup 134650\n",
      "i 4773 j 21 nb_backup 134672\n",
      "i 4774 j 39 nb_backup 134712\n",
      "i 4775 j 46 nb_backup 134759\n",
      "i 4776 j 13 nb_backup 134773\n",
      "i 4777 j 29 nb_backup 134803\n",
      "i 4778 j 23 nb_backup 134827\n",
      "i 4779 j 35 nb_backup 134863\n",
      "i 4780 j 31 nb_backup 134895\n",
      "i 4781 j 22 nb_backup 134918\n",
      "i 4782 j 22 nb_backup 134941\n",
      "i 4783 j 52 nb_backup 134994\n",
      "i 4784 j 31 nb_backup 135026\n",
      "i 4785 j 49 nb_backup 135076\n",
      "i 4786 j 19 nb_backup 135096\n",
      "i 4787 j 16 nb_backup 135113\n",
      "i 4788 j 24 nb_backup 135138\n",
      "i 4789 j 24 nb_backup 135163\n",
      "i 4790 j 28 nb_backup 135192\n",
      "i 4791 j 20 nb_backup 135213\n",
      "i 4792 j 29 nb_backup 135243\n",
      "i 4793 j 33 nb_backup 135277\n",
      "i 4794 j 13 nb_backup 135291\n",
      "i 4795 j 41 nb_backup 135333\n",
      "i 4796 j 20 nb_backup 135354\n",
      "i 4797 j 31 nb_backup 135386\n",
      "i 4798 j 28 nb_backup 135415\n",
      "i 4799 j 48 nb_backup 135464\n",
      "i 4800 j 21 nb_backup 135486\n",
      "i 4801 j 32 nb_backup 135519\n",
      "i 4802 j 34 nb_backup 135554\n",
      "i 4803 j 18 nb_backup 135573\n",
      "i 4804 j 26 nb_backup 135600\n",
      "i 4805 j 38 nb_backup 135639\n",
      "i 4806 j 18 nb_backup 135658\n",
      "i 4807 j 39 nb_backup 135698\n",
      "i 4808 j 29 nb_backup 135728\n",
      "i 4809 j 18 nb_backup 135747\n",
      "i 4810 j 21 nb_backup 135769\n",
      "i 4811 j 22 nb_backup 135792\n",
      "i 4812 j 35 nb_backup 135828\n",
      "i 4813 j 40 nb_backup 135869\n",
      "i 4814 j 18 nb_backup 135888\n",
      "i 4815 j 13 nb_backup 135902\n",
      "i 4816 j 25 nb_backup 135928\n",
      "i 4817 j 18 nb_backup 135947\n",
      "i 4818 j 43 nb_backup 135991\n",
      "i 4819 j 33 nb_backup 136025\n",
      "i 4820 j 34 nb_backup 136060\n",
      "i 4821 j 47 nb_backup 136108\n",
      "i 4822 j 29 nb_backup 136138\n",
      "i 4823 j 22 nb_backup 136161\n",
      "i 4824 j 38 nb_backup 136200\n",
      "i 4825 j 26 nb_backup 136227\n",
      "i 4826 j 38 nb_backup 136266\n",
      "i 4827 j 24 nb_backup 136291\n",
      "i 4828 j 21 nb_backup 136313\n",
      "i 4829 j 20 nb_backup 136334\n",
      "i 4830 j 20 nb_backup 136355\n",
      "i 4831 j 16 nb_backup 136372\n",
      "i 4832 j 16 nb_backup 136389\n",
      "i 4833 j 24 nb_backup 136414\n",
      "i 4834 j 34 nb_backup 136449\n",
      "i 4835 j 22 nb_backup 136472\n",
      "i 4836 j 28 nb_backup 136501\n",
      "i 4837 j 45 nb_backup 136547\n",
      "i 4838 j 42 nb_backup 136590\n",
      "i 4839 j 26 nb_backup 136617\n",
      "i 4840 j 30 nb_backup 136648\n",
      "i 4841 j 16 nb_backup 136665\n",
      "i 4842 j 42 nb_backup 136708\n",
      "i 4843 j 32 nb_backup 136741\n",
      "i 4844 j 21 nb_backup 136763\n",
      "i 4845 j 29 nb_backup 136793\n",
      "i 4846 j 34 nb_backup 136828\n",
      "i 4847 j 24 nb_backup 136853\n",
      "i 4848 j 30 nb_backup 136884\n",
      "i 4849 j 31 nb_backup 136916\n",
      "i 4850 j 23 nb_backup 136940\n",
      "i 4851 j 23 nb_backup 136964\n",
      "i 4852 j 20 nb_backup 136985\n",
      "i 4853 j 21 nb_backup 137007\n",
      "i 4854 j 23 nb_backup 137031\n",
      "i 4855 j 26 nb_backup 137058\n",
      "i 4856 j 14 nb_backup 137073\n",
      "i 4857 j 23 nb_backup 137097\n",
      "i 4858 j 26 nb_backup 137124\n",
      "i 4859 j 17 nb_backup 137142\n",
      "i 4860 j 27 nb_backup 137170\n",
      "i 4861 j 19 nb_backup 137190\n",
      "i 4862 j 22 nb_backup 137213\n",
      "i 4863 j 42 nb_backup 137256\n",
      "i 4864 j 22 nb_backup 137279\n",
      "i 4865 j 31 nb_backup 137311\n",
      "i 4866 j 38 nb_backup 137350\n",
      "i 4867 j 17 nb_backup 137368\n",
      "i 4868 j 30 nb_backup 137399\n",
      "i 4869 j 19 nb_backup 137419\n",
      "i 4870 j 24 nb_backup 137444\n",
      "i 4871 j 26 nb_backup 137471\n",
      "i 4872 j 18 nb_backup 137490\n",
      "i 4873 j 18 nb_backup 137509\n",
      "i 4874 j 26 nb_backup 137536\n",
      "i 4875 j 34 nb_backup 137571\n",
      "i 4876 j 20 nb_backup 137592\n",
      "i 4877 j 34 nb_backup 137627\n",
      "i 4878 j 44 nb_backup 137672\n",
      "i 4879 j 31 nb_backup 137704\n",
      "i 4880 j 13 nb_backup 137718\n",
      "i 4881 j 24 nb_backup 137743\n",
      "i 4882 j 32 nb_backup 137776\n",
      "i 4883 j 19 nb_backup 137796\n",
      "i 4884 j 27 nb_backup 137824\n",
      "i 4885 j 42 nb_backup 137867\n",
      "i 4886 j 16 nb_backup 137884\n",
      "i 4887 j 32 nb_backup 137917\n",
      "i 4888 j 47 nb_backup 137965\n",
      "i 4889 j 28 nb_backup 137994\n",
      "i 4890 j 24 nb_backup 138019\n",
      "i 4891 j 19 nb_backup 138039\n",
      "i 4892 j 28 nb_backup 138068\n",
      "i 4893 j 22 nb_backup 138091\n",
      "i 4894 j 24 nb_backup 138116\n",
      "i 4895 j 37 nb_backup 138154\n",
      "i 4896 j 34 nb_backup 138189\n",
      "i 4897 j 24 nb_backup 138214\n",
      "i 4898 j 35 nb_backup 138250\n",
      "i 4899 j 29 nb_backup 138280\n",
      "i 4900 j 41 nb_backup 138322\n",
      "i 4901 j 20 nb_backup 138343\n",
      "i 4902 j 19 nb_backup 138363\n",
      "i 4903 j 21 nb_backup 138385\n",
      "i 4904 j 28 nb_backup 138414\n",
      "i 4905 j 39 nb_backup 138454\n",
      "i 4906 j 23 nb_backup 138478\n",
      "i 4907 j 18 nb_backup 138497\n",
      "i 4908 j 31 nb_backup 138529\n",
      "i 4909 j 21 nb_backup 138551\n",
      "i 4910 j 23 nb_backup 138575\n",
      "i 4911 j 18 nb_backup 138594\n",
      "i 4912 j 37 nb_backup 138632\n",
      "i 4913 j 23 nb_backup 138656\n",
      "i 4914 j 30 nb_backup 138687\n",
      "i 4915 j 28 nb_backup 138716\n",
      "i 4916 j 37 nb_backup 138754\n",
      "i 4917 j 43 nb_backup 138798\n",
      "i 4918 j 25 nb_backup 138824\n",
      "i 4919 j 31 nb_backup 138856\n",
      "i 4920 j 24 nb_backup 138881\n",
      "i 4921 j 20 nb_backup 138902\n",
      "i 4922 j 26 nb_backup 138929\n",
      "i 4923 j 30 nb_backup 138960\n",
      "i 4924 j 25 nb_backup 138986\n",
      "i 4925 j 35 nb_backup 139022\n",
      "i 4926 j 31 nb_backup 139054\n",
      "i 4927 j 17 nb_backup 139072\n",
      "i 4928 j 24 nb_backup 139097\n",
      "i 4929 j 27 nb_backup 139125\n",
      "i 4930 j 17 nb_backup 139143\n",
      "i 4931 j 37 nb_backup 139181\n",
      "i 4932 j 27 nb_backup 139209\n",
      "i 4933 j 34 nb_backup 139244\n",
      "i 4934 j 44 nb_backup 139289\n",
      "i 4935 j 21 nb_backup 139311\n",
      "i 4936 j 24 nb_backup 139336\n",
      "i 4937 j 26 nb_backup 139363\n",
      "i 4938 j 36 nb_backup 139400\n",
      "i 4939 j 19 nb_backup 139420\n",
      "i 4940 j 35 nb_backup 139456\n",
      "i 4941 j 35 nb_backup 139492\n",
      "i 4942 j 28 nb_backup 139521\n",
      "i 4943 j 37 nb_backup 139559\n",
      "i 4944 j 20 nb_backup 139580\n",
      "i 4945 j 17 nb_backup 139598\n",
      "i 4946 j 20 nb_backup 139619\n",
      "i 4947 j 51 nb_backup 139671\n",
      "i 4948 j 34 nb_backup 139706\n",
      "i 4949 j 31 nb_backup 139738\n",
      "i 4950 j 33 nb_backup 139772\n",
      "i 4951 j 23 nb_backup 139796\n",
      "i 4952 j 15 nb_backup 139812\n",
      "i 4953 j 25 nb_backup 139838\n",
      "i 4954 j 33 nb_backup 139872\n",
      "i 4955 j 23 nb_backup 139896\n",
      "i 4956 j 17 nb_backup 139914\n",
      "i 4957 j 23 nb_backup 139938\n",
      "i 4958 j 22 nb_backup 139961\n",
      "i 4959 j 17 nb_backup 139979\n",
      "i 4960 j 40 nb_backup 140020\n",
      "i 4961 j 21 nb_backup 140042\n",
      "i 4962 j 24 nb_backup 140067\n",
      "i 4963 j 29 nb_backup 140097\n",
      "i 4964 j 30 nb_backup 140128\n",
      "i 4965 j 15 nb_backup 140144\n",
      "i 4966 j 19 nb_backup 140164\n",
      "i 4967 j 18 nb_backup 140183\n",
      "i 4968 j 18 nb_backup 140202\n",
      "i 4969 j 32 nb_backup 140235\n",
      "i 4970 j 30 nb_backup 140266\n",
      "i 4971 j 20 nb_backup 140287\n",
      "i 4972 j 29 nb_backup 140317\n",
      "i 4973 j 20 nb_backup 140338\n",
      "i 4974 j 28 nb_backup 140367\n",
      "i 4975 j 32 nb_backup 140400\n",
      "i 4976 j 20 nb_backup 140421\n",
      "i 4977 j 25 nb_backup 140447\n",
      "i 4978 j 15 nb_backup 140463\n",
      "i 4979 j 15 nb_backup 140479\n",
      "i 4980 j 23 nb_backup 140503\n",
      "i 4981 j 35 nb_backup 140539\n",
      "i 4982 j 17 nb_backup 140557\n",
      "i 4983 j 29 nb_backup 140587\n",
      "i 4984 j 39 nb_backup 140627\n",
      "i 4985 j 22 nb_backup 140650\n",
      "i 4986 j 27 nb_backup 140678\n",
      "i 4987 j 28 nb_backup 140707\n",
      "i 4988 j 18 nb_backup 140726\n",
      "i 4989 j 22 nb_backup 140749\n",
      "i 4990 j 28 nb_backup 140778\n",
      "i 4991 j 40 nb_backup 140819\n",
      "i 4992 j 31 nb_backup 140851\n",
      "i 4993 j 38 nb_backup 140890\n",
      "i 4994 j 38 nb_backup 140929\n",
      "i 4995 j 28 nb_backup 140958\n",
      "i 4996 j 58 nb_backup 141017\n",
      "i 4997 j 28 nb_backup 141046\n",
      "i 4998 j 27 nb_backup 141074\n",
      "i 4999 j 23 nb_backup 141098\n",
      "i 5000 j 20 nb_backup 141119\n",
      "i 5001 j 18 nb_backup 141138\n",
      "i 5002 j 49 nb_backup 141188\n",
      "i 5003 j 19 nb_backup 141208\n",
      "i 5004 j 36 nb_backup 141245\n",
      "i 5005 j 36 nb_backup 141282\n",
      "i 5006 j 26 nb_backup 141309\n",
      "i 5007 j 23 nb_backup 141333\n",
      "i 5008 j 48 nb_backup 141382\n",
      "i 5009 j 19 nb_backup 141402\n",
      "i 5010 j 29 nb_backup 141432\n",
      "i 5011 j 24 nb_backup 141457\n",
      "i 5012 j 24 nb_backup 141482\n",
      "i 5013 j 26 nb_backup 141509\n",
      "i 5014 j 31 nb_backup 141541\n",
      "i 5015 j 35 nb_backup 141577\n",
      "i 5016 j 15 nb_backup 141593\n",
      "i 5017 j 20 nb_backup 141614\n",
      "i 5018 j 24 nb_backup 141639\n",
      "i 5019 j 44 nb_backup 141684\n",
      "i 5020 j 28 nb_backup 141713\n",
      "i 5021 j 24 nb_backup 141738\n",
      "i 5022 j 17 nb_backup 141756\n",
      "i 5023 j 18 nb_backup 141775\n",
      "i 5024 j 32 nb_backup 141808\n",
      "i 5025 j 25 nb_backup 141834\n",
      "i 5026 j 32 nb_backup 141867\n",
      "i 5027 j 22 nb_backup 141890\n",
      "i 5028 j 35 nb_backup 141926\n",
      "i 5029 j 28 nb_backup 141955\n",
      "i 5030 j 25 nb_backup 141981\n",
      "i 5031 j 17 nb_backup 141999\n",
      "i 5032 j 25 nb_backup 142025\n",
      "i 5033 j 23 nb_backup 142049\n",
      "i 5034 j 29 nb_backup 142079\n",
      "i 5035 j 29 nb_backup 142109\n",
      "i 5036 j 17 nb_backup 142127\n",
      "i 5037 j 29 nb_backup 142157\n",
      "i 5038 j 26 nb_backup 142184\n",
      "i 5039 j 20 nb_backup 142205\n",
      "i 5040 j 29 nb_backup 142235\n",
      "i 5041 j 31 nb_backup 142267\n",
      "i 5042 j 31 nb_backup 142299\n",
      "i 5043 j 36 nb_backup 142336\n",
      "i 5044 j 18 nb_backup 142355\n",
      "i 5045 j 22 nb_backup 142378\n",
      "i 5046 j 23 nb_backup 142402\n",
      "i 5047 j 26 nb_backup 142429\n",
      "i 5048 j 27 nb_backup 142457\n",
      "i 5049 j 28 nb_backup 142486\n",
      "i 5050 j 38 nb_backup 142525\n",
      "i 5051 j 31 nb_backup 142557\n",
      "i 5052 j 19 nb_backup 142577\n",
      "i 5053 j 22 nb_backup 142600\n",
      "i 5054 j 25 nb_backup 142626\n",
      "i 5055 j 19 nb_backup 142646\n",
      "i 5056 j 31 nb_backup 142678\n",
      "i 5057 j 36 nb_backup 142715\n",
      "i 5058 j 16 nb_backup 142732\n",
      "i 5059 j 16 nb_backup 142749\n",
      "i 5060 j 25 nb_backup 142775\n",
      "i 5061 j 22 nb_backup 142798\n",
      "i 5062 j 26 nb_backup 142825\n",
      "i 5063 j 27 nb_backup 142853\n",
      "i 5064 j 28 nb_backup 142882\n",
      "i 5065 j 36 nb_backup 142919\n",
      "i 5066 j 36 nb_backup 142956\n",
      "i 5067 j 15 nb_backup 142972\n",
      "i 5068 j 18 nb_backup 142991\n",
      "i 5069 j 19 nb_backup 143011\n",
      "i 5070 j 27 nb_backup 143039\n",
      "i 5071 j 33 nb_backup 143073\n",
      "i 5072 j 28 nb_backup 143102\n",
      "i 5073 j 23 nb_backup 143126\n",
      "i 5074 j 22 nb_backup 143149\n",
      "i 5075 j 23 nb_backup 143173\n",
      "i 5076 j 17 nb_backup 143191\n",
      "i 5077 j 23 nb_backup 143215\n",
      "i 5078 j 21 nb_backup 143237\n",
      "i 5079 j 28 nb_backup 143266\n",
      "i 5080 j 18 nb_backup 143285\n",
      "i 5081 j 25 nb_backup 143311\n",
      "i 5082 j 32 nb_backup 143344\n",
      "i 5083 j 18 nb_backup 143363\n",
      "i 5084 j 20 nb_backup 143384\n",
      "i 5085 j 19 nb_backup 143404\n",
      "i 5086 j 39 nb_backup 143444\n",
      "i 5087 j 33 nb_backup 143478\n",
      "i 5088 j 22 nb_backup 143501\n",
      "i 5089 j 29 nb_backup 143531\n",
      "i 5090 j 23 nb_backup 143555\n",
      "i 5091 j 20 nb_backup 143576\n",
      "i 5092 j 16 nb_backup 143593\n",
      "i 5093 j 36 nb_backup 143630\n",
      "i 5094 j 15 nb_backup 143646\n",
      "i 5095 j 20 nb_backup 143667\n",
      "i 5096 j 25 nb_backup 143693\n",
      "i 5097 j 19 nb_backup 143713\n",
      "i 5098 j 30 nb_backup 143744\n",
      "i 5099 j 18 nb_backup 143763\n",
      "i 5100 j 29 nb_backup 143793\n",
      "i 5101 j 23 nb_backup 143817\n",
      "i 5102 j 44 nb_backup 143862\n",
      "i 5103 j 18 nb_backup 143881\n",
      "i 5104 j 28 nb_backup 143910\n",
      "i 5105 j 28 nb_backup 143939\n",
      "i 5106 j 25 nb_backup 143965\n",
      "i 5107 j 22 nb_backup 143988\n",
      "i 5108 j 22 nb_backup 144011\n",
      "i 5109 j 24 nb_backup 144036\n",
      "i 5110 j 26 nb_backup 144063\n",
      "i 5111 j 19 nb_backup 144083\n",
      "i 5112 j 26 nb_backup 144110\n",
      "i 5113 j 28 nb_backup 144139\n",
      "i 5114 j 26 nb_backup 144166\n",
      "i 5115 j 21 nb_backup 144188\n",
      "i 5116 j 18 nb_backup 144207\n",
      "i 5117 j 25 nb_backup 144233\n",
      "i 5118 j 29 nb_backup 144263\n",
      "i 5119 j 34 nb_backup 144298\n",
      "i 5120 j 25 nb_backup 144324\n",
      "i 5121 j 26 nb_backup 144351\n",
      "i 5122 j 36 nb_backup 144388\n",
      "i 5123 j 20 nb_backup 144409\n",
      "i 5124 j 26 nb_backup 144436\n",
      "i 5125 j 18 nb_backup 144455\n",
      "i 5126 j 21 nb_backup 144477\n",
      "i 5127 j 45 nb_backup 144523\n",
      "i 5128 j 33 nb_backup 144557\n",
      "i 5129 j 24 nb_backup 144582\n",
      "i 5130 j 36 nb_backup 144619\n",
      "i 5131 j 19 nb_backup 144639\n",
      "i 5132 j 21 nb_backup 144661\n",
      "i 5133 j 34 nb_backup 144696\n",
      "i 5134 j 26 nb_backup 144723\n",
      "i 5135 j 18 nb_backup 144742\n",
      "i 5136 j 17 nb_backup 144760\n",
      "i 5137 j 16 nb_backup 144777\n",
      "i 5138 j 29 nb_backup 144807\n",
      "i 5139 j 30 nb_backup 144838\n",
      "i 5140 j 41 nb_backup 144880\n",
      "i 5141 j 30 nb_backup 144911\n",
      "i 5142 j 24 nb_backup 144936\n",
      "i 5143 j 26 nb_backup 144963\n",
      "i 5144 j 35 nb_backup 144999\n",
      "i 5145 j 36 nb_backup 145036\n",
      "i 5146 j 34 nb_backup 145071\n",
      "i 5147 j 31 nb_backup 145103\n",
      "i 5148 j 25 nb_backup 145129\n",
      "i 5149 j 15 nb_backup 145145\n",
      "i 5150 j 37 nb_backup 145183\n",
      "i 5151 j 31 nb_backup 145215\n",
      "i 5152 j 17 nb_backup 145233\n",
      "i 5153 j 18 nb_backup 145252\n",
      "i 5154 j 24 nb_backup 145277\n",
      "i 5155 j 20 nb_backup 145298\n",
      "i 5156 j 28 nb_backup 145327\n",
      "i 5157 j 28 nb_backup 145356\n",
      "i 5158 j 25 nb_backup 145382\n",
      "i 5159 j 15 nb_backup 145398\n",
      "i 5160 j 15 nb_backup 145414\n",
      "i 5161 j 36 nb_backup 145451\n",
      "i 5162 j 37 nb_backup 145489\n",
      "i 5163 j 28 nb_backup 145518\n",
      "i 5164 j 21 nb_backup 145540\n",
      "i 5165 j 24 nb_backup 145565\n",
      "i 5166 j 36 nb_backup 145602\n",
      "i 5167 j 24 nb_backup 145627\n",
      "i 5168 j 27 nb_backup 145655\n",
      "i 5169 j 31 nb_backup 145687\n",
      "i 5170 j 37 nb_backup 145725\n",
      "i 5171 j 29 nb_backup 145755\n",
      "i 5172 j 22 nb_backup 145778\n",
      "i 5173 j 19 nb_backup 145798\n",
      "i 5174 j 18 nb_backup 145817\n",
      "i 5175 j 24 nb_backup 145842\n",
      "i 5176 j 35 nb_backup 145878\n",
      "i 5177 j 25 nb_backup 145904\n",
      "i 5178 j 33 nb_backup 145938\n",
      "i 5179 j 25 nb_backup 145964\n",
      "i 5180 j 30 nb_backup 145995\n",
      "i 5181 j 16 nb_backup 146012\n",
      "i 5182 j 32 nb_backup 146045\n",
      "i 5183 j 14 nb_backup 146060\n",
      "i 5184 j 35 nb_backup 146096\n",
      "i 5185 j 13 nb_backup 146110\n",
      "i 5186 j 28 nb_backup 146139\n",
      "i 5187 j 18 nb_backup 146158\n",
      "i 5188 j 28 nb_backup 146187\n",
      "i 5189 j 28 nb_backup 146216\n",
      "i 5190 j 45 nb_backup 146262\n",
      "i 5191 j 22 nb_backup 146285\n",
      "i 5192 j 33 nb_backup 146319\n",
      "i 5193 j 29 nb_backup 146349\n",
      "i 5194 j 19 nb_backup 146369\n",
      "i 5195 j 30 nb_backup 146400\n",
      "i 5196 j 22 nb_backup 146423\n",
      "i 5197 j 25 nb_backup 146449\n",
      "i 5198 j 39 nb_backup 146489\n",
      "i 5199 j 19 nb_backup 146509\n",
      "i 5200 j 24 nb_backup 146534\n",
      "i 5201 j 28 nb_backup 146563\n",
      "i 5202 j 20 nb_backup 146584\n",
      "i 5203 j 28 nb_backup 146613\n",
      "i 5204 j 20 nb_backup 146634\n",
      "i 5205 j 25 nb_backup 146660\n",
      "i 5206 j 49 nb_backup 146710\n",
      "i 5207 j 22 nb_backup 146733\n",
      "i 5208 j 17 nb_backup 146751\n",
      "i 5209 j 15 nb_backup 146767\n",
      "i 5210 j 22 nb_backup 146790\n",
      "i 5211 j 18 nb_backup 146809\n",
      "i 5212 j 23 nb_backup 146833\n",
      "i 5213 j 27 nb_backup 146861\n",
      "i 5214 j 34 nb_backup 146896\n",
      "i 5215 j 26 nb_backup 146923\n",
      "i 5216 j 22 nb_backup 146946\n",
      "i 5217 j 21 nb_backup 146968\n",
      "i 5218 j 33 nb_backup 147002\n",
      "i 5219 j 28 nb_backup 147031\n",
      "i 5220 j 19 nb_backup 147051\n",
      "i 5221 j 19 nb_backup 147071\n",
      "i 5222 j 19 nb_backup 147091\n",
      "i 5223 j 26 nb_backup 147118\n",
      "i 5224 j 31 nb_backup 147150\n",
      "i 5225 j 39 nb_backup 147190\n",
      "i 5226 j 43 nb_backup 147234\n",
      "i 5227 j 21 nb_backup 147256\n",
      "i 5228 j 29 nb_backup 147286\n",
      "i 5229 j 31 nb_backup 147318\n",
      "i 5230 j 23 nb_backup 147342\n",
      "i 5231 j 25 nb_backup 147368\n",
      "i 5232 j 36 nb_backup 147405\n",
      "i 5233 j 47 nb_backup 147453\n",
      "i 5234 j 44 nb_backup 147498\n",
      "i 5235 j 15 nb_backup 147514\n",
      "i 5236 j 18 nb_backup 147533\n",
      "i 5237 j 20 nb_backup 147554\n",
      "i 5238 j 20 nb_backup 147575\n",
      "i 5239 j 23 nb_backup 147599\n",
      "i 5240 j 38 nb_backup 147638\n",
      "i 5241 j 22 nb_backup 147661\n",
      "i 5242 j 18 nb_backup 147680\n",
      "i 5243 j 22 nb_backup 147703\n",
      "i 5244 j 57 nb_backup 147761\n",
      "i 5245 j 29 nb_backup 147791\n",
      "i 5246 j 19 nb_backup 147811\n",
      "i 5247 j 27 nb_backup 147839\n",
      "i 5248 j 32 nb_backup 147872\n",
      "i 5249 j 21 nb_backup 147894\n",
      "i 5250 j 22 nb_backup 147917\n",
      "i 5251 j 20 nb_backup 147938\n",
      "i 5252 j 35 nb_backup 147974\n",
      "i 5253 j 25 nb_backup 148000\n",
      "i 5254 j 17 nb_backup 148018\n",
      "i 5255 j 23 nb_backup 148042\n",
      "i 5256 j 28 nb_backup 148071\n",
      "i 5257 j 15 nb_backup 148087\n",
      "i 5258 j 23 nb_backup 148111\n",
      "i 5259 j 33 nb_backup 148145\n",
      "i 5260 j 17 nb_backup 148163\n",
      "i 5261 j 18 nb_backup 148182\n",
      "i 5262 j 15 nb_backup 148198\n",
      "i 5263 j 17 nb_backup 148216\n",
      "i 5264 j 23 nb_backup 148240\n",
      "i 5265 j 20 nb_backup 148261\n",
      "i 5266 j 24 nb_backup 148286\n",
      "i 5267 j 25 nb_backup 148312\n",
      "i 5268 j 23 nb_backup 148336\n",
      "i 5269 j 41 nb_backup 148378\n",
      "i 5270 j 25 nb_backup 148404\n",
      "i 5271 j 22 nb_backup 148427\n",
      "i 5272 j 32 nb_backup 148460\n",
      "i 5273 j 23 nb_backup 148484\n",
      "i 5274 j 24 nb_backup 148509\n",
      "i 5275 j 21 nb_backup 148531\n",
      "i 5276 j 42 nb_backup 148574\n",
      "i 5277 j 25 nb_backup 148600\n",
      "i 5278 j 73 nb_backup 148674\n",
      "i 5279 j 21 nb_backup 148696\n",
      "i 5280 j 32 nb_backup 148729\n",
      "i 5281 j 23 nb_backup 148753\n",
      "i 5282 j 30 nb_backup 148784\n",
      "i 5283 j 30 nb_backup 148815\n",
      "i 5284 j 24 nb_backup 148840\n",
      "i 5285 j 36 nb_backup 148877\n",
      "i 5286 j 19 nb_backup 148897\n",
      "i 5287 j 17 nb_backup 148915\n",
      "i 5288 j 33 nb_backup 148949\n",
      "i 5289 j 27 nb_backup 148977\n",
      "i 5290 j 30 nb_backup 149008\n",
      "i 5291 j 20 nb_backup 149029\n",
      "i 5292 j 39 nb_backup 149069\n",
      "i 5293 j 24 nb_backup 149094\n",
      "i 5294 j 30 nb_backup 149125\n",
      "i 5295 j 25 nb_backup 149151\n",
      "i 5296 j 30 nb_backup 149182\n",
      "i 5297 j 30 nb_backup 149213\n",
      "i 5298 j 63 nb_backup 149277\n",
      "i 5299 j 22 nb_backup 149300\n",
      "i 5300 j 15 nb_backup 149316\n",
      "i 5301 j 34 nb_backup 149351\n",
      "i 5302 j 19 nb_backup 149371\n",
      "i 5303 j 19 nb_backup 149391\n",
      "i 5304 j 20 nb_backup 149412\n",
      "i 5305 j 48 nb_backup 149461\n",
      "i 5306 j 14 nb_backup 149476\n",
      "i 5307 j 20 nb_backup 149497\n",
      "i 5308 j 24 nb_backup 149522\n",
      "i 5309 j 25 nb_backup 149548\n",
      "i 5310 j 41 nb_backup 149590\n",
      "i 5311 j 24 nb_backup 149615\n",
      "i 5312 j 16 nb_backup 149632\n",
      "i 5313 j 19 nb_backup 149652\n",
      "i 5314 j 24 nb_backup 149677\n",
      "i 5315 j 28 nb_backup 149706\n",
      "i 5316 j 27 nb_backup 149734\n",
      "i 5317 j 21 nb_backup 149756\n",
      "i 5318 j 38 nb_backup 149795\n",
      "i 5319 j 21 nb_backup 149817\n",
      "i 5320 j 21 nb_backup 149839\n",
      "i 5321 j 25 nb_backup 149865\n",
      "i 5322 j 37 nb_backup 149903\n",
      "i 5323 j 23 nb_backup 149927\n",
      "i 5324 j 18 nb_backup 149946\n",
      "i 5325 j 46 nb_backup 149993\n",
      "i 5326 j 23 nb_backup 150017\n",
      "i 5327 j 16 nb_backup 150034\n",
      "i 5328 j 20 nb_backup 150055\n",
      "i 5329 j 21 nb_backup 150077\n",
      "i 5330 j 22 nb_backup 150100\n",
      "i 5331 j 40 nb_backup 150141\n",
      "i 5332 j 65 nb_backup 150207\n",
      "i 5333 j 23 nb_backup 150231\n",
      "i 5334 j 21 nb_backup 150253\n",
      "i 5335 j 35 nb_backup 150289\n",
      "i 5336 j 24 nb_backup 150314\n",
      "i 5337 j 18 nb_backup 150333\n",
      "i 5338 j 22 nb_backup 150356\n",
      "i 5339 j 24 nb_backup 150381\n",
      "i 5340 j 16 nb_backup 150398\n",
      "i 5341 j 44 nb_backup 150443\n",
      "i 5342 j 32 nb_backup 150476\n",
      "i 5343 j 27 nb_backup 150504\n",
      "i 5344 j 26 nb_backup 150531\n",
      "i 5345 j 16 nb_backup 150548\n",
      "i 5346 j 31 nb_backup 150580\n",
      "i 5347 j 30 nb_backup 150611\n",
      "i 5348 j 27 nb_backup 150639\n",
      "i 5349 j 35 nb_backup 150675\n",
      "i 5350 j 20 nb_backup 150696\n",
      "i 5351 j 34 nb_backup 150731\n",
      "i 5352 j 35 nb_backup 150767\n",
      "i 5353 j 25 nb_backup 150793\n",
      "i 5354 j 25 nb_backup 150819\n",
      "i 5355 j 38 nb_backup 150858\n",
      "i 5356 j 25 nb_backup 150884\n",
      "i 5357 j 27 nb_backup 150912\n",
      "i 5358 j 18 nb_backup 150931\n",
      "i 5359 j 30 nb_backup 150962\n",
      "i 5360 j 21 nb_backup 150984\n",
      "i 5361 j 31 nb_backup 151016\n",
      "i 5362 j 24 nb_backup 151041\n",
      "i 5363 j 31 nb_backup 151073\n",
      "i 5364 j 16 nb_backup 151090\n",
      "i 5365 j 25 nb_backup 151116\n",
      "i 5366 j 31 nb_backup 151148\n",
      "i 5367 j 26 nb_backup 151175\n",
      "i 5368 j 31 nb_backup 151207\n",
      "i 5369 j 18 nb_backup 151226\n",
      "i 5370 j 27 nb_backup 151254\n",
      "i 5371 j 34 nb_backup 151289\n",
      "i 5372 j 14 nb_backup 151304\n",
      "i 5373 j 20 nb_backup 151325\n",
      "i 5374 j 22 nb_backup 151348\n",
      "i 5375 j 29 nb_backup 151378\n",
      "i 5376 j 16 nb_backup 151395\n",
      "i 5377 j 21 nb_backup 151417\n",
      "i 5378 j 20 nb_backup 151438\n",
      "i 5379 j 33 nb_backup 151472\n",
      "i 5380 j 16 nb_backup 151489\n",
      "i 5381 j 38 nb_backup 151528\n",
      "i 5382 j 26 nb_backup 151555\n",
      "i 5383 j 27 nb_backup 151583\n",
      "i 5384 j 25 nb_backup 151609\n",
      "i 5385 j 30 nb_backup 151640\n",
      "i 5386 j 24 nb_backup 151665\n",
      "i 5387 j 42 nb_backup 151708\n",
      "i 5388 j 24 nb_backup 151733\n",
      "i 5389 j 37 nb_backup 151771\n",
      "i 5390 j 27 nb_backup 151799\n",
      "i 5391 j 35 nb_backup 151835\n",
      "i 5392 j 35 nb_backup 151871\n",
      "i 5393 j 20 nb_backup 151892\n",
      "i 5394 j 26 nb_backup 151919\n",
      "i 5395 j 59 nb_backup 151979\n",
      "i 5396 j 42 nb_backup 152022\n",
      "i 5397 j 43 nb_backup 152066\n",
      "i 5398 j 43 nb_backup 152110\n",
      "i 5399 j 31 nb_backup 152142\n",
      "i 5400 j 25 nb_backup 152168\n",
      "i 5401 j 18 nb_backup 152187\n",
      "i 5402 j 31 nb_backup 152219\n",
      "i 5403 j 36 nb_backup 152256\n",
      "i 5404 j 20 nb_backup 152277\n",
      "i 5405 j 22 nb_backup 152300\n",
      "i 5406 j 17 nb_backup 152318\n",
      "i 5407 j 23 nb_backup 152342\n",
      "i 5408 j 19 nb_backup 152362\n",
      "i 5409 j 24 nb_backup 152387\n",
      "i 5410 j 31 nb_backup 152419\n",
      "i 5411 j 25 nb_backup 152445\n",
      "i 5412 j 29 nb_backup 152475\n",
      "i 5413 j 27 nb_backup 152503\n",
      "i 5414 j 21 nb_backup 152525\n",
      "i 5415 j 22 nb_backup 152548\n",
      "i 5416 j 55 nb_backup 152604\n",
      "i 5417 j 18 nb_backup 152623\n",
      "i 5418 j 28 nb_backup 152652\n",
      "i 5419 j 35 nb_backup 152688\n",
      "i 5420 j 50 nb_backup 152739\n",
      "i 5421 j 25 nb_backup 152765\n",
      "i 5422 j 25 nb_backup 152791\n",
      "i 5423 j 34 nb_backup 152826\n",
      "i 5424 j 24 nb_backup 152851\n",
      "i 5425 j 19 nb_backup 152871\n",
      "i 5426 j 49 nb_backup 152921\n",
      "i 5427 j 14 nb_backup 152936\n",
      "i 5428 j 32 nb_backup 152969\n",
      "i 5429 j 30 nb_backup 153000\n",
      "i 5430 j 26 nb_backup 153027\n",
      "i 5431 j 38 nb_backup 153066\n",
      "i 5432 j 21 nb_backup 153088\n",
      "i 5433 j 25 nb_backup 153114\n",
      "i 5434 j 18 nb_backup 153133\n",
      "i 5435 j 24 nb_backup 153158\n",
      "i 5436 j 20 nb_backup 153179\n",
      "i 5437 j 16 nb_backup 153196\n",
      "i 5438 j 26 nb_backup 153223\n",
      "i 5439 j 34 nb_backup 153258\n",
      "i 5440 j 24 nb_backup 153283\n",
      "i 5441 j 29 nb_backup 153313\n",
      "i 5442 j 25 nb_backup 153339\n",
      "i 5443 j 55 nb_backup 153395\n",
      "i 5444 j 32 nb_backup 153428\n",
      "i 5445 j 19 nb_backup 153448\n",
      "i 5446 j 27 nb_backup 153476\n",
      "i 5447 j 30 nb_backup 153507\n",
      "i 5448 j 38 nb_backup 153546\n",
      "i 5449 j 22 nb_backup 153569\n",
      "i 5450 j 25 nb_backup 153595\n",
      "i 5451 j 24 nb_backup 153620\n",
      "i 5452 j 14 nb_backup 153635\n",
      "i 5453 j 26 nb_backup 153662\n",
      "i 5454 j 32 nb_backup 153695\n",
      "i 5455 j 37 nb_backup 153733\n",
      "i 5456 j 30 nb_backup 153764\n",
      "i 5457 j 22 nb_backup 153787\n",
      "i 5458 j 37 nb_backup 153825\n",
      "i 5459 j 30 nb_backup 153856\n",
      "i 5460 j 33 nb_backup 153890\n",
      "i 5461 j 22 nb_backup 153913\n",
      "i 5462 j 39 nb_backup 153953\n",
      "i 5463 j 22 nb_backup 153976\n",
      "i 5464 j 20 nb_backup 153997\n",
      "i 5465 j 18 nb_backup 154016\n",
      "i 5466 j 20 nb_backup 154037\n",
      "i 5467 j 37 nb_backup 154075\n",
      "i 5468 j 28 nb_backup 154104\n",
      "i 5469 j 19 nb_backup 154124\n",
      "i 5470 j 30 nb_backup 154155\n",
      "i 5471 j 17 nb_backup 154173\n",
      "i 5472 j 21 nb_backup 154195\n",
      "i 5473 j 29 nb_backup 154225\n",
      "i 5474 j 27 nb_backup 154253\n",
      "i 5475 j 27 nb_backup 154281\n",
      "i 5476 j 26 nb_backup 154308\n",
      "i 5477 j 35 nb_backup 154344\n",
      "i 5478 j 29 nb_backup 154374\n",
      "i 5479 j 40 nb_backup 154415\n",
      "i 5480 j 18 nb_backup 154434\n",
      "i 5481 j 32 nb_backup 154467\n",
      "i 5482 j 23 nb_backup 154491\n",
      "i 5483 j 30 nb_backup 154522\n",
      "i 5484 j 25 nb_backup 154548\n",
      "i 5485 j 25 nb_backup 154574\n",
      "i 5486 j 52 nb_backup 154627\n",
      "i 5487 j 23 nb_backup 154651\n",
      "i 5488 j 37 nb_backup 154689\n",
      "i 5489 j 22 nb_backup 154712\n",
      "i 5490 j 31 nb_backup 154744\n",
      "i 5491 j 28 nb_backup 154773\n",
      "i 5492 j 25 nb_backup 154799\n",
      "i 5493 j 25 nb_backup 154825\n",
      "i 5494 j 22 nb_backup 154848\n",
      "i 5495 j 19 nb_backup 154868\n",
      "i 5496 j 31 nb_backup 154900\n",
      "i 5497 j 33 nb_backup 154934\n",
      "i 5498 j 34 nb_backup 154969\n",
      "i 5499 j 24 nb_backup 154994\n",
      "i 5500 j 18 nb_backup 155013\n",
      "i 5501 j 24 nb_backup 155038\n",
      "i 5502 j 18 nb_backup 155057\n",
      "i 5503 j 28 nb_backup 155086\n",
      "i 5504 j 30 nb_backup 155117\n",
      "i 5505 j 16 nb_backup 155134\n",
      "i 5506 j 29 nb_backup 155164\n",
      "i 5507 j 26 nb_backup 155191\n",
      "i 5508 j 20 nb_backup 155212\n",
      "i 5509 j 23 nb_backup 155236\n",
      "i 5510 j 18 nb_backup 155255\n",
      "i 5511 j 34 nb_backup 155290\n",
      "i 5512 j 16 nb_backup 155307\n",
      "i 5513 j 50 nb_backup 155358\n",
      "i 5514 j 30 nb_backup 155389\n",
      "i 5515 j 28 nb_backup 155418\n",
      "i 5516 j 31 nb_backup 155450\n",
      "i 5517 j 42 nb_backup 155493\n",
      "i 5518 j 24 nb_backup 155518\n",
      "i 5519 j 23 nb_backup 155542\n",
      "i 5520 j 20 nb_backup 155563\n",
      "i 5521 j 24 nb_backup 155588\n",
      "i 5522 j 16 nb_backup 155605\n",
      "i 5523 j 20 nb_backup 155626\n",
      "i 5524 j 19 nb_backup 155646\n",
      "i 5525 j 30 nb_backup 155677\n",
      "i 5526 j 31 nb_backup 155709\n",
      "i 5527 j 39 nb_backup 155749\n",
      "i 5528 j 44 nb_backup 155794\n",
      "i 5529 j 24 nb_backup 155819\n",
      "i 5530 j 21 nb_backup 155841\n",
      "i 5531 j 24 nb_backup 155866\n",
      "i 5532 j 32 nb_backup 155899\n",
      "i 5533 j 23 nb_backup 155923\n",
      "i 5534 j 17 nb_backup 155941\n",
      "i 5535 j 25 nb_backup 155967\n",
      "i 5536 j 20 nb_backup 155988\n",
      "i 5537 j 34 nb_backup 156023\n",
      "i 5538 j 30 nb_backup 156054\n",
      "i 5539 j 43 nb_backup 156098\n",
      "i 5540 j 18 nb_backup 156117\n",
      "i 5541 j 19 nb_backup 156137\n",
      "i 5542 j 44 nb_backup 156182\n",
      "i 5543 j 28 nb_backup 156211\n",
      "i 5544 j 19 nb_backup 156231\n",
      "i 5545 j 31 nb_backup 156263\n",
      "i 5546 j 29 nb_backup 156293\n",
      "i 5547 j 28 nb_backup 156322\n",
      "i 5548 j 35 nb_backup 156358\n",
      "i 5549 j 28 nb_backup 156387\n",
      "i 5550 j 24 nb_backup 156412\n",
      "i 5551 j 31 nb_backup 156444\n",
      "i 5552 j 28 nb_backup 156473\n",
      "i 5553 j 51 nb_backup 156525\n",
      "i 5554 j 23 nb_backup 156549\n",
      "i 5555 j 19 nb_backup 156569\n",
      "i 5556 j 40 nb_backup 156610\n",
      "i 5557 j 47 nb_backup 156658\n",
      "i 5558 j 24 nb_backup 156683\n",
      "i 5559 j 30 nb_backup 156714\n",
      "i 5560 j 29 nb_backup 156744\n",
      "i 5561 j 31 nb_backup 156776\n",
      "i 5562 j 21 nb_backup 156798\n",
      "i 5563 j 26 nb_backup 156825\n",
      "i 5564 j 38 nb_backup 156864\n",
      "i 5565 j 21 nb_backup 156886\n",
      "i 5566 j 30 nb_backup 156917\n",
      "i 5567 j 24 nb_backup 156942\n",
      "i 5568 j 50 nb_backup 156993\n",
      "i 5569 j 25 nb_backup 157019\n",
      "i 5570 j 13 nb_backup 157033\n",
      "i 5571 j 19 nb_backup 157053\n",
      "i 5572 j 29 nb_backup 157083\n",
      "i 5573 j 42 nb_backup 157126\n",
      "i 5574 j 50 nb_backup 157177\n",
      "i 5575 j 17 nb_backup 157195\n",
      "i 5576 j 20 nb_backup 157216\n",
      "i 5577 j 30 nb_backup 157247\n",
      "i 5578 j 35 nb_backup 157283\n",
      "i 5579 j 26 nb_backup 157310\n",
      "i 5580 j 26 nb_backup 157337\n",
      "i 5581 j 25 nb_backup 157363\n",
      "i 5582 j 18 nb_backup 157382\n",
      "i 5583 j 30 nb_backup 157413\n",
      "i 5584 j 27 nb_backup 157441\n",
      "i 5585 j 34 nb_backup 157476\n",
      "i 5586 j 22 nb_backup 157499\n",
      "i 5587 j 33 nb_backup 157533\n",
      "i 5588 j 27 nb_backup 157561\n",
      "i 5589 j 26 nb_backup 157588\n",
      "i 5590 j 34 nb_backup 157623\n",
      "i 5591 j 21 nb_backup 157645\n",
      "i 5592 j 38 nb_backup 157684\n",
      "i 5593 j 17 nb_backup 157702\n",
      "i 5594 j 21 nb_backup 157724\n",
      "i 5595 j 27 nb_backup 157752\n",
      "i 5596 j 24 nb_backup 157777\n",
      "i 5597 j 47 nb_backup 157825\n",
      "i 5598 j 18 nb_backup 157844\n",
      "i 5599 j 29 nb_backup 157874\n",
      "i 5600 j 28 nb_backup 157903\n",
      "i 5601 j 57 nb_backup 157961\n",
      "i 5602 j 27 nb_backup 157989\n",
      "i 5603 j 37 nb_backup 158027\n",
      "i 5604 j 23 nb_backup 158051\n",
      "i 5605 j 29 nb_backup 158081\n",
      "i 5606 j 36 nb_backup 158118\n",
      "i 5607 j 20 nb_backup 158139\n",
      "i 5608 j 15 nb_backup 158155\n",
      "i 5609 j 24 nb_backup 158180\n",
      "i 5610 j 28 nb_backup 158209\n",
      "i 5611 j 40 nb_backup 158250\n",
      "i 5612 j 22 nb_backup 158273\n",
      "i 5613 j 24 nb_backup 158298\n",
      "i 5614 j 29 nb_backup 158328\n",
      "i 5615 j 27 nb_backup 158356\n",
      "i 5616 j 33 nb_backup 158390\n",
      "i 5617 j 20 nb_backup 158411\n",
      "i 5618 j 16 nb_backup 158428\n",
      "i 5619 j 27 nb_backup 158456\n",
      "i 5620 j 20 nb_backup 158477\n",
      "i 5621 j 25 nb_backup 158503\n",
      "i 5622 j 23 nb_backup 158527\n",
      "i 5623 j 36 nb_backup 158564\n",
      "i 5624 j 22 nb_backup 158587\n",
      "i 5625 j 25 nb_backup 158613\n",
      "i 5626 j 28 nb_backup 158642\n",
      "i 5627 j 22 nb_backup 158665\n",
      "i 5628 j 23 nb_backup 158689\n",
      "i 5629 j 22 nb_backup 158712\n",
      "i 5630 j 17 nb_backup 158730\n",
      "i 5631 j 21 nb_backup 158752\n",
      "i 5632 j 22 nb_backup 158775\n",
      "i 5633 j 18 nb_backup 158794\n",
      "i 5634 j 17 nb_backup 158812\n",
      "i 5635 j 16 nb_backup 158829\n",
      "i 5636 j 15 nb_backup 158845\n",
      "i 5637 j 30 nb_backup 158876\n",
      "i 5638 j 32 nb_backup 158909\n",
      "i 5639 j 33 nb_backup 158943\n",
      "i 5640 j 33 nb_backup 158977\n",
      "i 5641 j 27 nb_backup 159005\n",
      "i 5642 j 23 nb_backup 159029\n",
      "i 5643 j 24 nb_backup 159054\n",
      "i 5644 j 32 nb_backup 159087\n",
      "i 5645 j 16 nb_backup 159104\n",
      "i 5646 j 19 nb_backup 159124\n",
      "i 5647 j 21 nb_backup 159146\n",
      "i 5648 j 22 nb_backup 159169\n",
      "i 5649 j 28 nb_backup 159198\n",
      "i 5650 j 35 nb_backup 159234\n",
      "i 5651 j 39 nb_backup 159274\n",
      "i 5652 j 32 nb_backup 159307\n",
      "i 5653 j 39 nb_backup 159347\n",
      "i 5654 j 24 nb_backup 159372\n",
      "i 5655 j 31 nb_backup 159404\n",
      "i 5656 j 32 nb_backup 159437\n",
      "i 5657 j 16 nb_backup 159454\n",
      "i 5658 j 19 nb_backup 159474\n",
      "i 5659 j 44 nb_backup 159519\n",
      "i 5660 j 26 nb_backup 159546\n",
      "i 5661 j 22 nb_backup 159569\n",
      "i 5662 j 31 nb_backup 159601\n",
      "i 5663 j 33 nb_backup 159635\n",
      "i 5664 j 46 nb_backup 159682\n",
      "i 5665 j 18 nb_backup 159701\n",
      "i 5666 j 38 nb_backup 159740\n",
      "i 5667 j 15 nb_backup 159756\n",
      "i 5668 j 34 nb_backup 159791\n",
      "i 5669 j 38 nb_backup 159830\n",
      "i 5670 j 23 nb_backup 159854\n",
      "i 5671 j 16 nb_backup 159871\n",
      "i 5672 j 34 nb_backup 159906\n",
      "i 5673 j 27 nb_backup 159934\n",
      "i 5674 j 29 nb_backup 159964\n",
      "i 5675 j 20 nb_backup 159985\n",
      "i 5676 j 24 nb_backup 160010\n",
      "i 5677 j 18 nb_backup 160029\n",
      "i 5678 j 27 nb_backup 160057\n",
      "i 5679 j 18 nb_backup 160076\n",
      "i 5680 j 19 nb_backup 160096\n",
      "i 5681 j 42 nb_backup 160139\n",
      "i 5682 j 25 nb_backup 160165\n",
      "i 5683 j 19 nb_backup 160185\n",
      "i 5684 j 14 nb_backup 160200\n",
      "i 5685 j 19 nb_backup 160220\n",
      "i 5686 j 21 nb_backup 160242\n",
      "i 5687 j 20 nb_backup 160263\n",
      "i 5688 j 18 nb_backup 160282\n",
      "i 5689 j 20 nb_backup 160303\n",
      "i 5690 j 20 nb_backup 160324\n",
      "i 5691 j 17 nb_backup 160342\n",
      "i 5692 j 20 nb_backup 160363\n",
      "i 5693 j 18 nb_backup 160382\n",
      "i 5694 j 19 nb_backup 160402\n",
      "i 5695 j 19 nb_backup 160422\n",
      "i 5696 j 24 nb_backup 160447\n",
      "i 5697 j 14 nb_backup 160462\n",
      "i 5698 j 44 nb_backup 160507\n",
      "i 5699 j 15 nb_backup 160523\n",
      "i 5700 j 40 nb_backup 160564\n",
      "i 5701 j 16 nb_backup 160581\n",
      "i 5702 j 29 nb_backup 160611\n",
      "i 5703 j 29 nb_backup 160641\n",
      "i 5704 j 19 nb_backup 160661\n",
      "i 5705 j 23 nb_backup 160685\n",
      "i 5706 j 42 nb_backup 160728\n",
      "i 5707 j 15 nb_backup 160744\n",
      "i 5708 j 22 nb_backup 160767\n",
      "i 5709 j 25 nb_backup 160793\n",
      "i 5710 j 23 nb_backup 160817\n",
      "i 5711 j 22 nb_backup 160840\n",
      "i 5712 j 20 nb_backup 160861\n",
      "i 5713 j 15 nb_backup 160877\n",
      "i 5714 j 19 nb_backup 160897\n",
      "i 5715 j 34 nb_backup 160932\n",
      "i 5716 j 24 nb_backup 160957\n",
      "i 5717 j 30 nb_backup 160988\n",
      "i 5718 j 23 nb_backup 161012\n",
      "i 5719 j 27 nb_backup 161040\n",
      "i 5720 j 42 nb_backup 161083\n",
      "i 5721 j 22 nb_backup 161106\n",
      "i 5722 j 32 nb_backup 161139\n",
      "i 5723 j 37 nb_backup 161177\n",
      "i 5724 j 20 nb_backup 161198\n",
      "i 5725 j 51 nb_backup 161250\n",
      "i 5726 j 20 nb_backup 161271\n",
      "i 5727 j 18 nb_backup 161290\n",
      "i 5728 j 24 nb_backup 161315\n",
      "i 5729 j 21 nb_backup 161337\n",
      "i 5730 j 36 nb_backup 161374\n",
      "i 5731 j 23 nb_backup 161398\n",
      "i 5732 j 32 nb_backup 161431\n",
      "i 5733 j 30 nb_backup 161462\n",
      "i 5734 j 22 nb_backup 161485\n",
      "i 5735 j 25 nb_backup 161511\n",
      "i 5736 j 36 nb_backup 161548\n",
      "i 5737 j 23 nb_backup 161572\n",
      "i 5738 j 40 nb_backup 161613\n",
      "i 5739 j 17 nb_backup 161631\n",
      "i 5740 j 28 nb_backup 161660\n",
      "i 5741 j 14 nb_backup 161675\n",
      "i 5742 j 19 nb_backup 161695\n",
      "i 5743 j 20 nb_backup 161716\n",
      "i 5744 j 28 nb_backup 161745\n",
      "i 5745 j 27 nb_backup 161773\n",
      "i 5746 j 35 nb_backup 161809\n",
      "i 5747 j 26 nb_backup 161836\n",
      "i 5748 j 33 nb_backup 161870\n",
      "i 5749 j 22 nb_backup 161893\n",
      "i 5750 j 28 nb_backup 161922\n",
      "i 5751 j 21 nb_backup 161944\n",
      "i 5752 j 20 nb_backup 161965\n",
      "i 5753 j 24 nb_backup 161990\n",
      "i 5754 j 20 nb_backup 162011\n",
      "i 5755 j 19 nb_backup 162031\n",
      "i 5756 j 24 nb_backup 162056\n",
      "i 5757 j 14 nb_backup 162071\n",
      "i 5758 j 26 nb_backup 162098\n",
      "i 5759 j 20 nb_backup 162119\n",
      "i 5760 j 21 nb_backup 162141\n",
      "i 5761 j 36 nb_backup 162178\n",
      "i 5762 j 35 nb_backup 162214\n",
      "i 5763 j 17 nb_backup 162232\n",
      "i 5764 j 36 nb_backup 162269\n",
      "i 5765 j 20 nb_backup 162290\n",
      "i 5766 j 20 nb_backup 162311\n",
      "i 5767 j 25 nb_backup 162337\n",
      "i 5768 j 32 nb_backup 162370\n",
      "i 5769 j 18 nb_backup 162389\n",
      "i 5770 j 15 nb_backup 162405\n",
      "i 5771 j 36 nb_backup 162442\n",
      "i 5772 j 21 nb_backup 162464\n",
      "i 5773 j 20 nb_backup 162485\n",
      "i 5774 j 19 nb_backup 162505\n",
      "i 5775 j 30 nb_backup 162536\n",
      "i 5776 j 26 nb_backup 162563\n",
      "i 5777 j 17 nb_backup 162581\n",
      "i 5778 j 20 nb_backup 162602\n",
      "i 5779 j 31 nb_backup 162634\n",
      "i 5780 j 25 nb_backup 162660\n",
      "i 5781 j 31 nb_backup 162692\n",
      "i 5782 j 37 nb_backup 162730\n",
      "i 5783 j 22 nb_backup 162753\n",
      "i 5784 j 25 nb_backup 162779\n",
      "i 5785 j 22 nb_backup 162802\n",
      "i 5786 j 17 nb_backup 162820\n",
      "i 5787 j 38 nb_backup 162859\n",
      "i 5788 j 25 nb_backup 162885\n",
      "i 5789 j 13 nb_backup 162899\n",
      "i 5790 j 28 nb_backup 162928\n",
      "i 5791 j 22 nb_backup 162951\n",
      "i 5792 j 24 nb_backup 162976\n",
      "i 5793 j 31 nb_backup 163008\n",
      "i 5794 j 24 nb_backup 163033\n",
      "i 5795 j 28 nb_backup 163062\n",
      "i 5796 j 37 nb_backup 163100\n",
      "i 5797 j 39 nb_backup 163140\n",
      "i 5798 j 28 nb_backup 163169\n",
      "i 5799 j 22 nb_backup 163192\n",
      "i 5800 j 52 nb_backup 163245\n",
      "i 5801 j 28 nb_backup 163274\n",
      "i 5802 j 33 nb_backup 163308\n",
      "i 5803 j 34 nb_backup 163343\n",
      "i 5804 j 27 nb_backup 163371\n",
      "i 5805 j 29 nb_backup 163401\n",
      "i 5806 j 29 nb_backup 163431\n",
      "i 5807 j 26 nb_backup 163458\n",
      "i 5808 j 35 nb_backup 163494\n",
      "i 5809 j 33 nb_backup 163528\n",
      "i 5810 j 35 nb_backup 163564\n",
      "i 5811 j 41 nb_backup 163606\n",
      "i 5812 j 23 nb_backup 163630\n",
      "i 5813 j 19 nb_backup 163650\n",
      "i 5814 j 26 nb_backup 163677\n",
      "i 5815 j 23 nb_backup 163701\n",
      "i 5816 j 17 nb_backup 163719\n",
      "i 5817 j 38 nb_backup 163758\n",
      "i 5818 j 38 nb_backup 163797\n",
      "i 5819 j 28 nb_backup 163826\n",
      "i 5820 j 30 nb_backup 163857\n",
      "i 5821 j 19 nb_backup 163877\n",
      "i 5822 j 27 nb_backup 163905\n",
      "i 5823 j 23 nb_backup 163929\n",
      "i 5824 j 23 nb_backup 163953\n",
      "i 5825 j 17 nb_backup 163971\n",
      "i 5826 j 17 nb_backup 163989\n",
      "i 5827 j 17 nb_backup 164007\n",
      "i 5828 j 44 nb_backup 164052\n",
      "i 5829 j 28 nb_backup 164081\n",
      "i 5830 j 25 nb_backup 164107\n",
      "i 5831 j 24 nb_backup 164132\n",
      "i 5832 j 31 nb_backup 164164\n",
      "i 5833 j 38 nb_backup 164203\n",
      "i 5834 j 15 nb_backup 164219\n",
      "i 5835 j 19 nb_backup 164239\n",
      "i 5836 j 24 nb_backup 164264\n",
      "i 5837 j 30 nb_backup 164295\n",
      "i 5838 j 17 nb_backup 164313\n",
      "i 5839 j 15 nb_backup 164329\n",
      "i 5840 j 31 nb_backup 164361\n",
      "i 5841 j 36 nb_backup 164398\n",
      "i 5842 j 18 nb_backup 164417\n",
      "i 5843 j 30 nb_backup 164448\n",
      "i 5844 j 40 nb_backup 164489\n",
      "i 5845 j 17 nb_backup 164507\n",
      "i 5846 j 22 nb_backup 164530\n",
      "i 5847 j 23 nb_backup 164554\n",
      "i 5848 j 26 nb_backup 164581\n",
      "i 5849 j 26 nb_backup 164608\n",
      "i 5850 j 19 nb_backup 164628\n",
      "i 5851 j 27 nb_backup 164656\n",
      "i 5852 j 55 nb_backup 164712\n",
      "i 5853 j 24 nb_backup 164737\n",
      "i 5854 j 18 nb_backup 164756\n",
      "i 5855 j 25 nb_backup 164782\n",
      "i 5856 j 18 nb_backup 164801\n",
      "i 5857 j 36 nb_backup 164838\n",
      "i 5858 j 15 nb_backup 164854\n",
      "i 5859 j 37 nb_backup 164892\n",
      "i 5860 j 26 nb_backup 164919\n",
      "i 5861 j 17 nb_backup 164937\n",
      "i 5862 j 14 nb_backup 164952\n",
      "i 5863 j 15 nb_backup 164968\n",
      "i 5864 j 28 nb_backup 164997\n",
      "i 5865 j 22 nb_backup 165020\n",
      "i 5866 j 18 nb_backup 165039\n",
      "i 5867 j 34 nb_backup 165074\n",
      "i 5868 j 20 nb_backup 165095\n",
      "i 5869 j 41 nb_backup 165137\n",
      "i 5870 j 37 nb_backup 165175\n",
      "i 5871 j 36 nb_backup 165212\n",
      "i 5872 j 31 nb_backup 165244\n",
      "i 5873 j 55 nb_backup 165300\n",
      "i 5874 j 36 nb_backup 165337\n",
      "i 5875 j 15 nb_backup 165353\n",
      "i 5876 j 26 nb_backup 165380\n",
      "i 5877 j 22 nb_backup 165403\n",
      "i 5878 j 28 nb_backup 165432\n",
      "i 5879 j 25 nb_backup 165458\n",
      "i 5880 j 25 nb_backup 165484\n",
      "i 5881 j 16 nb_backup 165501\n",
      "i 5882 j 22 nb_backup 165524\n",
      "i 5883 j 22 nb_backup 165547\n",
      "i 5884 j 32 nb_backup 165580\n",
      "i 5885 j 25 nb_backup 165606\n",
      "i 5886 j 34 nb_backup 165641\n",
      "i 5887 j 26 nb_backup 165668\n",
      "i 5888 j 24 nb_backup 165693\n",
      "i 5889 j 32 nb_backup 165726\n",
      "i 5890 j 31 nb_backup 165758\n",
      "i 5891 j 32 nb_backup 165791\n",
      "i 5892 j 39 nb_backup 165831\n",
      "i 5893 j 22 nb_backup 165854\n",
      "i 5894 j 14 nb_backup 165869\n",
      "i 5895 j 26 nb_backup 165896\n",
      "i 5896 j 29 nb_backup 165926\n",
      "i 5897 j 21 nb_backup 165948\n",
      "i 5898 j 32 nb_backup 165981\n",
      "i 5899 j 33 nb_backup 166015\n",
      "i 5900 j 56 nb_backup 166072\n",
      "i 5901 j 23 nb_backup 166096\n",
      "i 5902 j 25 nb_backup 166122\n",
      "i 5903 j 37 nb_backup 166160\n",
      "i 5904 j 28 nb_backup 166189\n",
      "i 5905 j 36 nb_backup 166226\n",
      "i 5906 j 33 nb_backup 166260\n",
      "i 5907 j 20 nb_backup 166281\n",
      "i 5908 j 23 nb_backup 166305\n",
      "i 5909 j 17 nb_backup 166323\n",
      "i 5910 j 36 nb_backup 166360\n",
      "i 5911 j 18 nb_backup 166379\n",
      "i 5912 j 19 nb_backup 166399\n",
      "i 5913 j 31 nb_backup 166431\n",
      "i 5914 j 30 nb_backup 166462\n",
      "i 5915 j 31 nb_backup 166494\n",
      "i 5916 j 20 nb_backup 166515\n",
      "i 5917 j 52 nb_backup 166568\n",
      "i 5918 j 19 nb_backup 166588\n",
      "i 5919 j 19 nb_backup 166608\n",
      "i 5920 j 25 nb_backup 166634\n",
      "i 5921 j 24 nb_backup 166659\n",
      "i 5922 j 33 nb_backup 166693\n",
      "i 5923 j 22 nb_backup 166716\n",
      "i 5924 j 23 nb_backup 166740\n",
      "i 5925 j 49 nb_backup 166790\n",
      "i 5926 j 21 nb_backup 166812\n",
      "i 5927 j 35 nb_backup 166848\n",
      "i 5928 j 22 nb_backup 166871\n",
      "i 5929 j 35 nb_backup 166907\n",
      "i 5930 j 27 nb_backup 166935\n",
      "i 5931 j 31 nb_backup 166967\n",
      "i 5932 j 18 nb_backup 166986\n",
      "i 5933 j 24 nb_backup 167011\n",
      "i 5934 j 54 nb_backup 167066\n",
      "i 5935 j 32 nb_backup 167099\n",
      "i 5936 j 24 nb_backup 167124\n",
      "i 5937 j 27 nb_backup 167152\n",
      "i 5938 j 18 nb_backup 167171\n",
      "i 5939 j 33 nb_backup 167205\n",
      "i 5940 j 30 nb_backup 167236\n",
      "i 5941 j 49 nb_backup 167286\n",
      "i 5942 j 35 nb_backup 167322\n",
      "i 5943 j 17 nb_backup 167340\n",
      "i 5944 j 33 nb_backup 167374\n",
      "i 5945 j 37 nb_backup 167412\n",
      "i 5946 j 31 nb_backup 167444\n",
      "i 5947 j 20 nb_backup 167465\n",
      "i 5948 j 44 nb_backup 167510\n",
      "i 5949 j 26 nb_backup 167537\n",
      "i 5950 j 23 nb_backup 167561\n",
      "i 5951 j 15 nb_backup 167577\n",
      "i 5952 j 26 nb_backup 167604\n",
      "i 5953 j 25 nb_backup 167630\n",
      "i 5954 j 49 nb_backup 167680\n",
      "i 5955 j 20 nb_backup 167701\n",
      "i 5956 j 29 nb_backup 167731\n",
      "i 5957 j 23 nb_backup 167755\n",
      "i 5958 j 19 nb_backup 167775\n",
      "i 5959 j 21 nb_backup 167797\n",
      "i 5960 j 24 nb_backup 167822\n",
      "i 5961 j 20 nb_backup 167843\n",
      "i 5962 j 21 nb_backup 167865\n",
      "i 5963 j 44 nb_backup 167910\n",
      "i 5964 j 30 nb_backup 167941\n",
      "i 5965 j 30 nb_backup 167972\n",
      "i 5966 j 20 nb_backup 167993\n",
      "i 5967 j 16 nb_backup 168010\n",
      "i 5968 j 21 nb_backup 168032\n",
      "i 5969 j 26 nb_backup 168059\n",
      "i 5970 j 19 nb_backup 168079\n",
      "i 5971 j 23 nb_backup 168103\n",
      "i 5972 j 22 nb_backup 168126\n",
      "i 5973 j 25 nb_backup 168152\n",
      "i 5974 j 32 nb_backup 168185\n",
      "i 5975 j 38 nb_backup 168224\n",
      "i 5976 j 24 nb_backup 168249\n",
      "i 5977 j 18 nb_backup 168268\n",
      "i 5978 j 28 nb_backup 168297\n",
      "i 5979 j 17 nb_backup 168315\n",
      "i 5980 j 25 nb_backup 168341\n",
      "i 5981 j 23 nb_backup 168365\n",
      "i 5982 j 17 nb_backup 168383\n",
      "i 5983 j 30 nb_backup 168414\n",
      "i 5984 j 24 nb_backup 168439\n",
      "i 5985 j 28 nb_backup 168468\n",
      "i 5986 j 22 nb_backup 168491\n",
      "i 5987 j 53 nb_backup 168545\n",
      "i 5988 j 27 nb_backup 168573\n",
      "i 5989 j 20 nb_backup 168594\n",
      "i 5990 j 21 nb_backup 168616\n",
      "i 5991 j 24 nb_backup 168641\n",
      "i 5992 j 21 nb_backup 168663\n",
      "i 5993 j 23 nb_backup 168687\n",
      "i 5994 j 35 nb_backup 168723\n",
      "i 5995 j 32 nb_backup 168756\n",
      "i 5996 j 18 nb_backup 168775\n",
      "i 5997 j 28 nb_backup 168804\n",
      "i 5998 j 45 nb_backup 168850\n",
      "i 5999 j 35 nb_backup 168886\n",
      "i 6000 j 25 nb_backup 168912\n",
      "i 6001 j 27 nb_backup 168940\n",
      "i 6002 j 38 nb_backup 168979\n",
      "i 6003 j 19 nb_backup 168999\n",
      "i 6004 j 29 nb_backup 169029\n",
      "i 6005 j 26 nb_backup 169056\n",
      "i 6006 j 43 nb_backup 169100\n",
      "i 6007 j 38 nb_backup 169139\n",
      "i 6008 j 21 nb_backup 169161\n",
      "i 6009 j 27 nb_backup 169189\n",
      "i 6010 j 17 nb_backup 169207\n",
      "i 6011 j 29 nb_backup 169237\n",
      "i 6012 j 18 nb_backup 169256\n",
      "i 6013 j 14 nb_backup 169271\n",
      "i 6014 j 22 nb_backup 169294\n",
      "i 6015 j 24 nb_backup 169319\n",
      "i 6016 j 43 nb_backup 169363\n",
      "i 6017 j 13 nb_backup 169377\n",
      "i 6018 j 19 nb_backup 169397\n",
      "i 6019 j 35 nb_backup 169433\n",
      "i 6020 j 21 nb_backup 169455\n",
      "i 6021 j 21 nb_backup 169477\n",
      "i 6022 j 22 nb_backup 169500\n",
      "i 6023 j 22 nb_backup 169523\n",
      "i 6024 j 23 nb_backup 169547\n",
      "i 6025 j 14 nb_backup 169562\n",
      "i 6026 j 23 nb_backup 169586\n",
      "i 6027 j 29 nb_backup 169616\n",
      "i 6028 j 38 nb_backup 169655\n",
      "i 6029 j 32 nb_backup 169688\n",
      "i 6030 j 18 nb_backup 169707\n",
      "i 6031 j 21 nb_backup 169729\n",
      "i 6032 j 22 nb_backup 169752\n",
      "i 6033 j 37 nb_backup 169790\n",
      "i 6034 j 19 nb_backup 169810\n",
      "i 6035 j 32 nb_backup 169843\n",
      "i 6036 j 32 nb_backup 169876\n",
      "i 6037 j 20 nb_backup 169897\n",
      "i 6038 j 26 nb_backup 169924\n",
      "i 6039 j 25 nb_backup 169950\n",
      "i 6040 j 29 nb_backup 169980\n",
      "i 6041 j 42 nb_backup 170023\n",
      "i 6042 j 27 nb_backup 170051\n",
      "i 6043 j 36 nb_backup 170088\n",
      "i 6044 j 22 nb_backup 170111\n",
      "i 6045 j 20 nb_backup 170132\n",
      "i 6046 j 27 nb_backup 170160\n",
      "i 6047 j 29 nb_backup 170190\n",
      "i 6048 j 30 nb_backup 170221\n",
      "i 6049 j 39 nb_backup 170261\n",
      "i 6050 j 18 nb_backup 170280\n",
      "i 6051 j 20 nb_backup 170301\n",
      "i 6052 j 27 nb_backup 170329\n",
      "i 6053 j 15 nb_backup 170345\n",
      "i 6054 j 38 nb_backup 170384\n",
      "i 6055 j 29 nb_backup 170414\n",
      "i 6056 j 19 nb_backup 170434\n",
      "i 6057 j 21 nb_backup 170456\n",
      "i 6058 j 17 nb_backup 170474\n",
      "i 6059 j 16 nb_backup 170491\n",
      "i 6060 j 15 nb_backup 170507\n",
      "i 6061 j 21 nb_backup 170529\n",
      "i 6062 j 35 nb_backup 170565\n",
      "i 6063 j 27 nb_backup 170593\n",
      "i 6064 j 28 nb_backup 170622\n",
      "i 6065 j 19 nb_backup 170642\n",
      "i 6066 j 24 nb_backup 170667\n",
      "i 6067 j 33 nb_backup 170701\n",
      "i 6068 j 26 nb_backup 170728\n",
      "i 6069 j 19 nb_backup 170748\n",
      "i 6070 j 27 nb_backup 170776\n",
      "i 6071 j 17 nb_backup 170794\n",
      "i 6072 j 21 nb_backup 170816\n",
      "i 6073 j 22 nb_backup 170839\n",
      "i 6074 j 30 nb_backup 170870\n",
      "i 6075 j 33 nb_backup 170904\n",
      "i 6076 j 37 nb_backup 170942\n",
      "i 6077 j 33 nb_backup 170976\n",
      "i 6078 j 14 nb_backup 170991\n",
      "i 6079 j 39 nb_backup 171031\n",
      "i 6080 j 24 nb_backup 171056\n",
      "i 6081 j 25 nb_backup 171082\n",
      "i 6082 j 19 nb_backup 171102\n",
      "i 6083 j 33 nb_backup 171136\n",
      "i 6084 j 24 nb_backup 171161\n",
      "i 6085 j 26 nb_backup 171188\n",
      "i 6086 j 34 nb_backup 171223\n",
      "i 6087 j 24 nb_backup 171248\n",
      "i 6088 j 34 nb_backup 171283\n",
      "i 6089 j 21 nb_backup 171305\n",
      "i 6090 j 19 nb_backup 171325\n",
      "i 6091 j 31 nb_backup 171357\n",
      "i 6092 j 13 nb_backup 171371\n",
      "i 6093 j 29 nb_backup 171401\n",
      "i 6094 j 20 nb_backup 171422\n",
      "i 6095 j 20 nb_backup 171443\n",
      "i 6096 j 20 nb_backup 171464\n",
      "i 6097 j 18 nb_backup 171483\n",
      "i 6098 j 21 nb_backup 171505\n",
      "i 6099 j 35 nb_backup 171541\n",
      "i 6100 j 21 nb_backup 171563\n",
      "i 6101 j 30 nb_backup 171594\n",
      "i 6102 j 17 nb_backup 171612\n",
      "i 6103 j 46 nb_backup 171659\n",
      "i 6104 j 22 nb_backup 171682\n",
      "i 6105 j 19 nb_backup 171702\n",
      "i 6106 j 25 nb_backup 171728\n",
      "i 6107 j 35 nb_backup 171764\n",
      "i 6108 j 33 nb_backup 171798\n",
      "i 6109 j 24 nb_backup 171823\n",
      "i 6110 j 16 nb_backup 171840\n",
      "i 6111 j 32 nb_backup 171873\n",
      "i 6112 j 14 nb_backup 171888\n",
      "i 6113 j 27 nb_backup 171916\n",
      "i 6114 j 49 nb_backup 171966\n",
      "i 6115 j 22 nb_backup 171989\n",
      "i 6116 j 23 nb_backup 172013\n",
      "i 6117 j 22 nb_backup 172036\n",
      "i 6118 j 19 nb_backup 172056\n",
      "i 6119 j 18 nb_backup 172075\n",
      "i 6120 j 29 nb_backup 172105\n",
      "i 6121 j 20 nb_backup 172126\n",
      "i 6122 j 30 nb_backup 172157\n",
      "i 6123 j 24 nb_backup 172182\n",
      "i 6124 j 19 nb_backup 172202\n",
      "i 6125 j 25 nb_backup 172228\n",
      "i 6126 j 24 nb_backup 172253\n",
      "i 6127 j 26 nb_backup 172280\n",
      "i 6128 j 22 nb_backup 172303\n",
      "i 6129 j 17 nb_backup 172321\n",
      "i 6130 j 13 nb_backup 172335\n",
      "i 6131 j 21 nb_backup 172357\n",
      "i 6132 j 25 nb_backup 172383\n",
      "i 6133 j 45 nb_backup 172429\n",
      "i 6134 j 35 nb_backup 172465\n",
      "i 6135 j 23 nb_backup 172489\n",
      "i 6136 j 24 nb_backup 172514\n",
      "i 6137 j 26 nb_backup 172541\n",
      "i 6138 j 21 nb_backup 172563\n",
      "i 6139 j 39 nb_backup 172603\n",
      "i 6140 j 42 nb_backup 172646\n",
      "i 6141 j 44 nb_backup 172691\n",
      "i 6142 j 32 nb_backup 172724\n",
      "i 6143 j 35 nb_backup 172760\n",
      "i 6144 j 23 nb_backup 172784\n",
      "i 6145 j 20 nb_backup 172805\n",
      "i 6146 j 18 nb_backup 172824\n",
      "i 6147 j 47 nb_backup 172872\n",
      "i 6148 j 25 nb_backup 172898\n",
      "i 6149 j 19 nb_backup 172918\n",
      "i 6150 j 19 nb_backup 172938\n",
      "i 6151 j 41 nb_backup 172980\n",
      "i 6152 j 15 nb_backup 172996\n",
      "i 6153 j 23 nb_backup 173020\n",
      "i 6154 j 39 nb_backup 173060\n",
      "i 6155 j 39 nb_backup 173100\n",
      "i 6156 j 22 nb_backup 173123\n",
      "i 6157 j 22 nb_backup 173146\n",
      "i 6158 j 25 nb_backup 173172\n",
      "i 6159 j 25 nb_backup 173198\n",
      "i 6160 j 21 nb_backup 173220\n",
      "i 6161 j 24 nb_backup 173245\n",
      "i 6162 j 21 nb_backup 173267\n",
      "i 6163 j 21 nb_backup 173289\n",
      "i 6164 j 42 nb_backup 173332\n",
      "i 6165 j 39 nb_backup 173372\n",
      "i 6166 j 20 nb_backup 173393\n",
      "i 6167 j 17 nb_backup 173411\n",
      "i 6168 j 17 nb_backup 173429\n",
      "i 6169 j 37 nb_backup 173467\n",
      "i 6170 j 21 nb_backup 173489\n",
      "i 6171 j 43 nb_backup 173533\n",
      "i 6172 j 28 nb_backup 173562\n",
      "i 6173 j 41 nb_backup 173604\n",
      "i 6174 j 28 nb_backup 173633\n",
      "i 6175 j 33 nb_backup 173667\n",
      "i 6176 j 22 nb_backup 173690\n",
      "i 6177 j 25 nb_backup 173716\n",
      "i 6178 j 15 nb_backup 173732\n",
      "i 6179 j 37 nb_backup 173770\n",
      "i 6180 j 36 nb_backup 173807\n",
      "i 6181 j 24 nb_backup 173832\n",
      "i 6182 j 41 nb_backup 173874\n",
      "i 6183 j 22 nb_backup 173897\n",
      "i 6184 j 24 nb_backup 173922\n",
      "i 6185 j 22 nb_backup 173945\n",
      "i 6186 j 18 nb_backup 173964\n",
      "i 6187 j 21 nb_backup 173986\n",
      "i 6188 j 29 nb_backup 174016\n",
      "i 6189 j 24 nb_backup 174041\n",
      "i 6190 j 37 nb_backup 174079\n",
      "i 6191 j 20 nb_backup 174100\n",
      "i 6192 j 25 nb_backup 174126\n",
      "i 6193 j 39 nb_backup 174166\n",
      "i 6194 j 26 nb_backup 174193\n",
      "i 6195 j 21 nb_backup 174215\n",
      "i 6196 j 17 nb_backup 174233\n",
      "i 6197 j 29 nb_backup 174263\n",
      "i 6198 j 17 nb_backup 174281\n",
      "i 6199 j 15 nb_backup 174297\n",
      "i 6200 j 40 nb_backup 174338\n",
      "i 6201 j 28 nb_backup 174367\n",
      "i 6202 j 24 nb_backup 174392\n",
      "i 6203 j 23 nb_backup 174416\n",
      "i 6204 j 14 nb_backup 174431\n",
      "i 6205 j 23 nb_backup 174455\n",
      "i 6206 j 24 nb_backup 174480\n",
      "i 6207 j 28 nb_backup 174509\n",
      "i 6208 j 32 nb_backup 174542\n",
      "i 6209 j 27 nb_backup 174570\n",
      "i 6210 j 22 nb_backup 174593\n",
      "i 6211 j 26 nb_backup 174620\n",
      "i 6212 j 29 nb_backup 174650\n",
      "i 6213 j 36 nb_backup 174687\n",
      "i 6214 j 32 nb_backup 174720\n",
      "i 6215 j 43 nb_backup 174764\n",
      "i 6216 j 42 nb_backup 174807\n",
      "i 6217 j 30 nb_backup 174838\n",
      "i 6218 j 39 nb_backup 174878\n",
      "i 6219 j 29 nb_backup 174908\n",
      "i 6220 j 46 nb_backup 174955\n",
      "i 6221 j 27 nb_backup 174983\n",
      "i 6222 j 62 nb_backup 175046\n",
      "i 6223 j 37 nb_backup 175084\n",
      "i 6224 j 24 nb_backup 175109\n",
      "i 6225 j 20 nb_backup 175130\n",
      "i 6226 j 23 nb_backup 175154\n",
      "i 6227 j 16 nb_backup 175171\n",
      "i 6228 j 15 nb_backup 175187\n",
      "i 6229 j 22 nb_backup 175210\n",
      "i 6230 j 27 nb_backup 175238\n",
      "i 6231 j 25 nb_backup 175264\n",
      "i 6232 j 31 nb_backup 175296\n",
      "i 6233 j 21 nb_backup 175318\n",
      "i 6234 j 23 nb_backup 175342\n",
      "i 6235 j 23 nb_backup 175366\n",
      "i 6236 j 22 nb_backup 175389\n",
      "i 6237 j 37 nb_backup 175427\n",
      "i 6238 j 27 nb_backup 175455\n",
      "i 6239 j 19 nb_backup 175475\n",
      "i 6240 j 19 nb_backup 175495\n",
      "i 6241 j 47 nb_backup 175543\n",
      "i 6242 j 23 nb_backup 175567\n",
      "i 6243 j 23 nb_backup 175591\n",
      "i 6244 j 29 nb_backup 175621\n",
      "i 6245 j 28 nb_backup 175650\n",
      "i 6246 j 34 nb_backup 175685\n",
      "i 6247 j 15 nb_backup 175701\n",
      "i 6248 j 18 nb_backup 175720\n",
      "i 6249 j 20 nb_backup 175741\n",
      "i 6250 j 22 nb_backup 175764\n",
      "i 6251 j 38 nb_backup 175803\n",
      "i 6252 j 17 nb_backup 175821\n",
      "i 6253 j 34 nb_backup 175856\n",
      "i 6254 j 22 nb_backup 175879\n",
      "i 6255 j 31 nb_backup 175911\n",
      "i 6256 j 25 nb_backup 175937\n",
      "i 6257 j 23 nb_backup 175961\n",
      "i 6258 j 43 nb_backup 176005\n",
      "i 6259 j 44 nb_backup 176050\n",
      "i 6260 j 23 nb_backup 176074\n",
      "i 6261 j 44 nb_backup 176119\n",
      "i 6262 j 19 nb_backup 176139\n",
      "i 6263 j 18 nb_backup 176158\n",
      "i 6264 j 19 nb_backup 176178\n",
      "i 6265 j 34 nb_backup 176213\n",
      "i 6266 j 32 nb_backup 176246\n",
      "i 6267 j 27 nb_backup 176274\n",
      "i 6268 j 31 nb_backup 176306\n",
      "i 6269 j 22 nb_backup 176329\n",
      "i 6270 j 36 nb_backup 176366\n",
      "i 6271 j 19 nb_backup 176386\n",
      "i 6272 j 23 nb_backup 176410\n",
      "i 6273 j 22 nb_backup 176433\n",
      "i 6274 j 24 nb_backup 176458\n",
      "i 6275 j 24 nb_backup 176483\n",
      "i 6276 j 28 nb_backup 176512\n",
      "i 6277 j 23 nb_backup 176536\n",
      "i 6278 j 35 nb_backup 176572\n",
      "i 6279 j 34 nb_backup 176607\n",
      "i 6280 j 24 nb_backup 176632\n",
      "i 6281 j 22 nb_backup 176655\n",
      "i 6282 j 24 nb_backup 176680\n",
      "i 6283 j 19 nb_backup 176700\n",
      "i 6284 j 17 nb_backup 176718\n",
      "i 6285 j 31 nb_backup 176750\n",
      "i 6286 j 22 nb_backup 176773\n",
      "i 6287 j 23 nb_backup 176797\n",
      "i 6288 j 38 nb_backup 176836\n",
      "i 6289 j 18 nb_backup 176855\n",
      "i 6290 j 39 nb_backup 176895\n",
      "i 6291 j 26 nb_backup 176922\n",
      "i 6292 j 20 nb_backup 176943\n",
      "i 6293 j 32 nb_backup 176976\n",
      "i 6294 j 34 nb_backup 177011\n",
      "i 6295 j 25 nb_backup 177037\n",
      "i 6296 j 21 nb_backup 177059\n",
      "i 6297 j 24 nb_backup 177084\n",
      "i 6298 j 17 nb_backup 177102\n",
      "i 6299 j 18 nb_backup 177121\n",
      "i 6300 j 30 nb_backup 177152\n",
      "i 6301 j 40 nb_backup 177193\n",
      "i 6302 j 25 nb_backup 177219\n",
      "i 6303 j 31 nb_backup 177251\n",
      "i 6304 j 27 nb_backup 177279\n",
      "i 6305 j 29 nb_backup 177309\n",
      "i 6306 j 31 nb_backup 177341\n",
      "i 6307 j 22 nb_backup 177364\n",
      "i 6308 j 21 nb_backup 177386\n",
      "i 6309 j 15 nb_backup 177402\n",
      "i 6310 j 23 nb_backup 177426\n",
      "i 6311 j 37 nb_backup 177464\n",
      "i 6312 j 31 nb_backup 177496\n",
      "i 6313 j 30 nb_backup 177527\n",
      "i 6314 j 27 nb_backup 177555\n",
      "i 6315 j 26 nb_backup 177582\n",
      "i 6316 j 20 nb_backup 177603\n",
      "i 6317 j 26 nb_backup 177630\n",
      "i 6318 j 30 nb_backup 177661\n",
      "i 6319 j 26 nb_backup 177688\n",
      "i 6320 j 33 nb_backup 177722\n",
      "i 6321 j 50 nb_backup 177773\n",
      "i 6322 j 23 nb_backup 177797\n",
      "i 6323 j 32 nb_backup 177830\n",
      "i 6324 j 25 nb_backup 177856\n",
      "i 6325 j 15 nb_backup 177872\n",
      "i 6326 j 28 nb_backup 177901\n",
      "i 6327 j 34 nb_backup 177936\n",
      "i 6328 j 26 nb_backup 177963\n",
      "i 6329 j 30 nb_backup 177994\n",
      "i 6330 j 32 nb_backup 178027\n",
      "i 6331 j 22 nb_backup 178050\n",
      "i 6332 j 22 nb_backup 178073\n",
      "i 6333 j 21 nb_backup 178095\n",
      "i 6334 j 51 nb_backup 178147\n",
      "i 6335 j 29 nb_backup 178177\n",
      "i 6336 j 27 nb_backup 178205\n",
      "i 6337 j 30 nb_backup 178236\n",
      "i 6338 j 20 nb_backup 178257\n",
      "i 6339 j 22 nb_backup 178280\n",
      "i 6340 j 23 nb_backup 178304\n",
      "i 6341 j 23 nb_backup 178328\n",
      "i 6342 j 49 nb_backup 178378\n",
      "i 6343 j 21 nb_backup 178400\n",
      "i 6344 j 14 nb_backup 178415\n",
      "i 6345 j 25 nb_backup 178441\n",
      "i 6346 j 37 nb_backup 178479\n",
      "i 6347 j 16 nb_backup 178496\n",
      "i 6348 j 32 nb_backup 178529\n",
      "i 6349 j 29 nb_backup 178559\n",
      "i 6350 j 45 nb_backup 178605\n",
      "i 6351 j 21 nb_backup 178627\n",
      "i 6352 j 23 nb_backup 178651\n",
      "i 6353 j 40 nb_backup 178692\n",
      "i 6354 j 31 nb_backup 178724\n",
      "i 6355 j 26 nb_backup 178751\n",
      "i 6356 j 30 nb_backup 178782\n",
      "i 6357 j 41 nb_backup 178824\n",
      "i 6358 j 30 nb_backup 178855\n",
      "i 6359 j 35 nb_backup 178891\n",
      "i 6360 j 18 nb_backup 178910\n",
      "i 6361 j 21 nb_backup 178932\n",
      "i 6362 j 27 nb_backup 178960\n",
      "i 6363 j 21 nb_backup 178982\n",
      "i 6364 j 38 nb_backup 179021\n",
      "i 6365 j 14 nb_backup 179036\n",
      "i 6366 j 32 nb_backup 179069\n",
      "i 6367 j 25 nb_backup 179095\n",
      "i 6368 j 16 nb_backup 179112\n",
      "i 6369 j 29 nb_backup 179142\n",
      "i 6370 j 27 nb_backup 179170\n",
      "i 6371 j 26 nb_backup 179197\n",
      "i 6372 j 29 nb_backup 179227\n",
      "i 6373 j 25 nb_backup 179253\n",
      "i 6374 j 42 nb_backup 179296\n",
      "i 6375 j 30 nb_backup 179327\n",
      "i 6376 j 30 nb_backup 179358\n",
      "i 6377 j 17 nb_backup 179376\n",
      "i 6378 j 28 nb_backup 179405\n",
      "i 6379 j 27 nb_backup 179433\n",
      "i 6380 j 31 nb_backup 179465\n",
      "i 6381 j 34 nb_backup 179500\n",
      "i 6382 j 21 nb_backup 179522\n",
      "i 6383 j 27 nb_backup 179550\n",
      "i 6384 j 25 nb_backup 179576\n",
      "i 6385 j 31 nb_backup 179608\n",
      "i 6386 j 29 nb_backup 179638\n",
      "i 6387 j 29 nb_backup 179668\n",
      "i 6388 j 17 nb_backup 179686\n",
      "i 6389 j 37 nb_backup 179724\n",
      "i 6390 j 23 nb_backup 179748\n",
      "i 6391 j 14 nb_backup 179763\n",
      "i 6392 j 23 nb_backup 179787\n",
      "i 6393 j 20 nb_backup 179808\n",
      "i 6394 j 24 nb_backup 179833\n",
      "i 6395 j 25 nb_backup 179859\n",
      "i 6396 j 24 nb_backup 179884\n",
      "i 6397 j 31 nb_backup 179916\n",
      "i 6398 j 18 nb_backup 179935\n",
      "i 6399 j 60 nb_backup 179996\n",
      "i 6400 j 19 nb_backup 180016\n",
      "i 6401 j 29 nb_backup 180046\n",
      "i 6402 j 29 nb_backup 180076\n",
      "i 6403 j 22 nb_backup 180099\n",
      "i 6404 j 31 nb_backup 180131\n",
      "i 6405 j 41 nb_backup 180173\n",
      "i 6406 j 22 nb_backup 180196\n",
      "i 6407 j 29 nb_backup 180226\n",
      "i 6408 j 20 nb_backup 180247\n",
      "i 6409 j 15 nb_backup 180263\n",
      "i 6410 j 27 nb_backup 180291\n",
      "i 6411 j 33 nb_backup 180325\n",
      "i 6412 j 36 nb_backup 180362\n",
      "i 6413 j 42 nb_backup 180405\n",
      "i 6414 j 33 nb_backup 180439\n",
      "i 6415 j 21 nb_backup 180461\n",
      "i 6416 j 20 nb_backup 180482\n",
      "i 6417 j 30 nb_backup 180513\n",
      "i 6418 j 20 nb_backup 180534\n",
      "i 6419 j 17 nb_backup 180552\n",
      "i 6420 j 22 nb_backup 180575\n",
      "i 6421 j 32 nb_backup 180608\n",
      "i 6422 j 23 nb_backup 180632\n",
      "i 6423 j 28 nb_backup 180661\n",
      "i 6424 j 31 nb_backup 180693\n",
      "i 6425 j 23 nb_backup 180717\n",
      "i 6426 j 30 nb_backup 180748\n",
      "i 6427 j 22 nb_backup 180771\n",
      "i 6428 j 21 nb_backup 180793\n",
      "i 6429 j 29 nb_backup 180823\n",
      "i 6430 j 41 nb_backup 180865\n",
      "i 6431 j 24 nb_backup 180890\n",
      "i 6432 j 28 nb_backup 180919\n",
      "i 6433 j 18 nb_backup 180938\n",
      "i 6434 j 19 nb_backup 180958\n",
      "i 6435 j 35 nb_backup 180994\n",
      "i 6436 j 36 nb_backup 181031\n",
      "i 6437 j 28 nb_backup 181060\n",
      "i 6438 j 31 nb_backup 181092\n",
      "i 6439 j 33 nb_backup 181126\n",
      "i 6440 j 34 nb_backup 181161\n",
      "i 6441 j 56 nb_backup 181218\n",
      "i 6442 j 28 nb_backup 181247\n",
      "i 6443 j 21 nb_backup 181269\n",
      "i 6444 j 19 nb_backup 181289\n",
      "i 6445 j 18 nb_backup 181308\n",
      "i 6446 j 31 nb_backup 181340\n",
      "i 6447 j 17 nb_backup 181358\n",
      "i 6448 j 24 nb_backup 181383\n",
      "i 6449 j 30 nb_backup 181414\n",
      "i 6450 j 19 nb_backup 181434\n",
      "i 6451 j 22 nb_backup 181457\n",
      "i 6452 j 25 nb_backup 181483\n",
      "i 6453 j 21 nb_backup 181505\n",
      "i 6454 j 17 nb_backup 181523\n",
      "i 6455 j 29 nb_backup 181553\n",
      "i 6456 j 21 nb_backup 181575\n",
      "i 6457 j 22 nb_backup 181598\n",
      "i 6458 j 27 nb_backup 181626\n",
      "i 6459 j 27 nb_backup 181654\n",
      "i 6460 j 32 nb_backup 181687\n",
      "i 6461 j 21 nb_backup 181709\n",
      "i 6462 j 29 nb_backup 181739\n",
      "i 6463 j 26 nb_backup 181766\n",
      "i 6464 j 36 nb_backup 181803\n",
      "i 6465 j 17 nb_backup 181821\n",
      "i 6466 j 33 nb_backup 181855\n",
      "i 6467 j 27 nb_backup 181883\n",
      "i 6468 j 22 nb_backup 181906\n",
      "i 6469 j 30 nb_backup 181937\n",
      "i 6470 j 21 nb_backup 181959\n",
      "i 6471 j 25 nb_backup 181985\n",
      "i 6472 j 18 nb_backup 182004\n",
      "i 6473 j 18 nb_backup 182023\n",
      "i 6474 j 22 nb_backup 182046\n",
      "i 6475 j 26 nb_backup 182073\n",
      "i 6476 j 36 nb_backup 182110\n",
      "i 6477 j 20 nb_backup 182131\n",
      "i 6478 j 29 nb_backup 182161\n",
      "i 6479 j 20 nb_backup 182182\n",
      "i 6480 j 23 nb_backup 182206\n",
      "i 6481 j 44 nb_backup 182251\n",
      "i 6482 j 17 nb_backup 182269\n",
      "i 6483 j 32 nb_backup 182302\n",
      "i 6484 j 18 nb_backup 182321\n",
      "i 6485 j 21 nb_backup 182343\n",
      "i 6486 j 19 nb_backup 182363\n",
      "i 6487 j 20 nb_backup 182384\n",
      "i 6488 j 37 nb_backup 182422\n",
      "i 6489 j 24 nb_backup 182447\n",
      "i 6490 j 21 nb_backup 182469\n",
      "i 6491 j 14 nb_backup 182484\n",
      "i 6492 j 13 nb_backup 182498\n",
      "i 6493 j 24 nb_backup 182523\n",
      "i 6494 j 15 nb_backup 182539\n",
      "i 6495 j 17 nb_backup 182557\n",
      "i 6496 j 34 nb_backup 182592\n",
      "i 6497 j 25 nb_backup 182618\n",
      "i 6498 j 24 nb_backup 182643\n",
      "i 6499 j 26 nb_backup 182670\n",
      "i 6500 j 43 nb_backup 182714\n",
      "i 6501 j 30 nb_backup 182745\n",
      "i 6502 j 17 nb_backup 182763\n",
      "i 6503 j 14 nb_backup 182778\n",
      "i 6504 j 15 nb_backup 182794\n",
      "i 6505 j 21 nb_backup 182816\n",
      "i 6506 j 21 nb_backup 182838\n",
      "i 6507 j 35 nb_backup 182874\n",
      "i 6508 j 26 nb_backup 182901\n",
      "i 6509 j 23 nb_backup 182925\n",
      "i 6510 j 27 nb_backup 182953\n",
      "i 6511 j 23 nb_backup 182977\n",
      "i 6512 j 30 nb_backup 183008\n",
      "i 6513 j 24 nb_backup 183033\n",
      "i 6514 j 24 nb_backup 183058\n",
      "i 6515 j 25 nb_backup 183084\n",
      "i 6516 j 36 nb_backup 183121\n",
      "i 6517 j 26 nb_backup 183148\n",
      "i 6518 j 21 nb_backup 183170\n",
      "i 6519 j 23 nb_backup 183194\n",
      "i 6520 j 19 nb_backup 183214\n",
      "i 6521 j 22 nb_backup 183237\n",
      "i 6522 j 20 nb_backup 183258\n",
      "i 6523 j 23 nb_backup 183282\n",
      "i 6524 j 29 nb_backup 183312\n",
      "i 6525 j 21 nb_backup 183334\n",
      "i 6526 j 31 nb_backup 183366\n",
      "i 6527 j 25 nb_backup 183392\n",
      "i 6528 j 34 nb_backup 183427\n",
      "i 6529 j 31 nb_backup 183459\n",
      "i 6530 j 30 nb_backup 183490\n",
      "i 6531 j 26 nb_backup 183517\n",
      "i 6532 j 27 nb_backup 183545\n",
      "i 6533 j 30 nb_backup 183576\n",
      "i 6534 j 23 nb_backup 183600\n",
      "i 6535 j 25 nb_backup 183626\n",
      "i 6536 j 24 nb_backup 183651\n",
      "i 6537 j 25 nb_backup 183677\n",
      "i 6538 j 21 nb_backup 183699\n",
      "i 6539 j 40 nb_backup 183740\n",
      "i 6540 j 23 nb_backup 183764\n",
      "i 6541 j 20 nb_backup 183785\n",
      "i 6542 j 27 nb_backup 183813\n",
      "i 6543 j 19 nb_backup 183833\n",
      "i 6544 j 44 nb_backup 183878\n",
      "i 6545 j 26 nb_backup 183905\n",
      "i 6546 j 17 nb_backup 183923\n",
      "i 6547 j 33 nb_backup 183957\n",
      "i 6548 j 28 nb_backup 183986\n",
      "i 6549 j 32 nb_backup 184019\n",
      "i 6550 j 16 nb_backup 184036\n",
      "i 6551 j 16 nb_backup 184053\n",
      "i 6552 j 34 nb_backup 184088\n",
      "i 6553 j 25 nb_backup 184114\n",
      "i 6554 j 32 nb_backup 184147\n",
      "i 6555 j 22 nb_backup 184170\n",
      "i 6556 j 48 nb_backup 184219\n",
      "i 6557 j 16 nb_backup 184236\n",
      "i 6558 j 23 nb_backup 184260\n",
      "i 6559 j 24 nb_backup 184285\n",
      "i 6560 j 29 nb_backup 184315\n",
      "i 6561 j 34 nb_backup 184350\n",
      "i 6562 j 26 nb_backup 184377\n",
      "i 6563 j 59 nb_backup 184437\n",
      "i 6564 j 42 nb_backup 184480\n",
      "i 6565 j 24 nb_backup 184505\n",
      "i 6566 j 33 nb_backup 184539\n",
      "i 6567 j 28 nb_backup 184568\n",
      "i 6568 j 24 nb_backup 184593\n",
      "i 6569 j 34 nb_backup 184628\n",
      "i 6570 j 45 nb_backup 184674\n",
      "i 6571 j 37 nb_backup 184712\n",
      "i 6572 j 27 nb_backup 184740\n",
      "i 6573 j 25 nb_backup 184766\n",
      "i 6574 j 26 nb_backup 184793\n",
      "i 6575 j 24 nb_backup 184818\n",
      "i 6576 j 22 nb_backup 184841\n",
      "i 6577 j 26 nb_backup 184868\n",
      "i 6578 j 17 nb_backup 184886\n",
      "i 6579 j 21 nb_backup 184908\n",
      "i 6580 j 21 nb_backup 184930\n",
      "i 6581 j 25 nb_backup 184956\n",
      "i 6582 j 53 nb_backup 185010\n",
      "i 6583 j 31 nb_backup 185042\n",
      "i 6584 j 30 nb_backup 185073\n",
      "i 6585 j 16 nb_backup 185090\n",
      "i 6586 j 21 nb_backup 185112\n",
      "i 6587 j 32 nb_backup 185145\n",
      "i 6588 j 24 nb_backup 185170\n",
      "i 6589 j 16 nb_backup 185187\n",
      "i 6590 j 40 nb_backup 185228\n",
      "i 6591 j 24 nb_backup 185253\n",
      "i 6592 j 30 nb_backup 185284\n",
      "i 6593 j 28 nb_backup 185313\n",
      "i 6594 j 23 nb_backup 185337\n",
      "i 6595 j 19 nb_backup 185357\n",
      "i 6596 j 25 nb_backup 185383\n",
      "i 6597 j 43 nb_backup 185427\n",
      "i 6598 j 33 nb_backup 185461\n",
      "i 6599 j 18 nb_backup 185480\n",
      "i 6600 j 20 nb_backup 185501\n",
      "i 6601 j 30 nb_backup 185532\n",
      "i 6602 j 23 nb_backup 185556\n",
      "i 6603 j 20 nb_backup 185577\n",
      "i 6604 j 18 nb_backup 185596\n",
      "i 6605 j 29 nb_backup 185626\n",
      "i 6606 j 38 nb_backup 185665\n",
      "i 6607 j 27 nb_backup 185693\n",
      "i 6608 j 35 nb_backup 185729\n",
      "i 6609 j 28 nb_backup 185758\n",
      "i 6610 j 24 nb_backup 185783\n",
      "i 6611 j 20 nb_backup 185804\n",
      "i 6612 j 19 nb_backup 185824\n",
      "i 6613 j 17 nb_backup 185842\n",
      "i 6614 j 25 nb_backup 185868\n",
      "i 6615 j 20 nb_backup 185889\n",
      "i 6616 j 21 nb_backup 185911\n",
      "i 6617 j 28 nb_backup 185940\n",
      "i 6618 j 20 nb_backup 185961\n",
      "i 6619 j 30 nb_backup 185992\n",
      "i 6620 j 37 nb_backup 186030\n",
      "i 6621 j 33 nb_backup 186064\n",
      "i 6622 j 16 nb_backup 186081\n",
      "i 6623 j 39 nb_backup 186121\n",
      "i 6624 j 27 nb_backup 186149\n",
      "i 6625 j 21 nb_backup 186171\n",
      "i 6626 j 17 nb_backup 186189\n",
      "i 6627 j 13 nb_backup 186203\n",
      "i 6628 j 19 nb_backup 186223\n",
      "i 6629 j 16 nb_backup 186240\n",
      "i 6630 j 27 nb_backup 186268\n",
      "i 6631 j 20 nb_backup 186289\n",
      "i 6632 j 26 nb_backup 186316\n",
      "i 6633 j 24 nb_backup 186341\n",
      "i 6634 j 24 nb_backup 186366\n",
      "i 6635 j 20 nb_backup 186387\n",
      "i 6636 j 24 nb_backup 186412\n",
      "i 6637 j 15 nb_backup 186428\n",
      "i 6638 j 37 nb_backup 186466\n",
      "i 6639 j 19 nb_backup 186486\n",
      "i 6640 j 21 nb_backup 186508\n",
      "i 6641 j 22 nb_backup 186531\n",
      "i 6642 j 32 nb_backup 186564\n",
      "i 6643 j 22 nb_backup 186587\n",
      "i 6644 j 23 nb_backup 186611\n",
      "i 6645 j 25 nb_backup 186637\n",
      "i 6646 j 18 nb_backup 186656\n",
      "i 6647 j 26 nb_backup 186683\n",
      "i 6648 j 32 nb_backup 186716\n",
      "i 6649 j 26 nb_backup 186743\n",
      "i 6650 j 23 nb_backup 186767\n",
      "i 6651 j 17 nb_backup 186785\n",
      "i 6652 j 39 nb_backup 186825\n",
      "i 6653 j 16 nb_backup 186842\n",
      "i 6654 j 15 nb_backup 186858\n",
      "i 6655 j 21 nb_backup 186880\n",
      "i 6656 j 29 nb_backup 186910\n",
      "i 6657 j 26 nb_backup 186937\n",
      "i 6658 j 34 nb_backup 186972\n",
      "i 6659 j 37 nb_backup 187010\n",
      "i 6660 j 23 nb_backup 187034\n",
      "i 6661 j 16 nb_backup 187051\n",
      "i 6662 j 21 nb_backup 187073\n",
      "i 6663 j 25 nb_backup 187099\n",
      "i 6664 j 27 nb_backup 187127\n",
      "i 6665 j 36 nb_backup 187164\n",
      "i 6666 j 26 nb_backup 187191\n",
      "i 6667 j 31 nb_backup 187223\n",
      "i 6668 j 32 nb_backup 187256\n",
      "i 6669 j 28 nb_backup 187285\n",
      "i 6670 j 21 nb_backup 187307\n",
      "i 6671 j 19 nb_backup 187327\n",
      "i 6672 j 25 nb_backup 187353\n",
      "i 6673 j 22 nb_backup 187376\n",
      "i 6674 j 20 nb_backup 187397\n",
      "i 6675 j 27 nb_backup 187425\n",
      "i 6676 j 21 nb_backup 187447\n",
      "i 6677 j 40 nb_backup 187488\n",
      "i 6678 j 38 nb_backup 187527\n",
      "i 6679 j 46 nb_backup 187574\n",
      "i 6680 j 25 nb_backup 187600\n",
      "i 6681 j 23 nb_backup 187624\n",
      "i 6682 j 21 nb_backup 187646\n",
      "i 6683 j 17 nb_backup 187664\n",
      "i 6684 j 23 nb_backup 187688\n",
      "i 6685 j 23 nb_backup 187712\n",
      "i 6686 j 18 nb_backup 187731\n",
      "i 6687 j 30 nb_backup 187762\n",
      "i 6688 j 38 nb_backup 187801\n",
      "i 6689 j 28 nb_backup 187830\n",
      "i 6690 j 38 nb_backup 187869\n",
      "i 6691 j 24 nb_backup 187894\n",
      "i 6692 j 23 nb_backup 187918\n",
      "i 6693 j 26 nb_backup 187945\n",
      "i 6694 j 30 nb_backup 187976\n",
      "i 6695 j 41 nb_backup 188018\n",
      "i 6696 j 19 nb_backup 188038\n",
      "i 6697 j 25 nb_backup 188064\n",
      "i 6698 j 19 nb_backup 188084\n",
      "i 6699 j 36 nb_backup 188121\n",
      "i 6700 j 19 nb_backup 188141\n",
      "i 6701 j 40 nb_backup 188182\n",
      "i 6702 j 33 nb_backup 188216\n",
      "i 6703 j 18 nb_backup 188235\n",
      "i 6704 j 27 nb_backup 188263\n",
      "i 6705 j 24 nb_backup 188288\n",
      "i 6706 j 27 nb_backup 188316\n",
      "i 6707 j 34 nb_backup 188351\n",
      "i 6708 j 33 nb_backup 188385\n",
      "i 6709 j 25 nb_backup 188411\n",
      "i 6710 j 26 nb_backup 188438\n",
      "i 6711 j 32 nb_backup 188471\n",
      "i 6712 j 32 nb_backup 188504\n",
      "i 6713 j 36 nb_backup 188541\n",
      "i 6714 j 33 nb_backup 188575\n",
      "i 6715 j 28 nb_backup 188604\n",
      "i 6716 j 18 nb_backup 188623\n",
      "i 6717 j 19 nb_backup 188643\n",
      "i 6718 j 27 nb_backup 188671\n",
      "i 6719 j 18 nb_backup 188690\n",
      "i 6720 j 23 nb_backup 188714\n",
      "i 6721 j 36 nb_backup 188751\n",
      "i 6722 j 29 nb_backup 188781\n",
      "i 6723 j 20 nb_backup 188802\n",
      "i 6724 j 33 nb_backup 188836\n",
      "i 6725 j 25 nb_backup 188862\n",
      "i 6726 j 25 nb_backup 188888\n",
      "i 6727 j 32 nb_backup 188921\n",
      "i 6728 j 25 nb_backup 188947\n",
      "i 6729 j 28 nb_backup 188976\n",
      "i 6730 j 23 nb_backup 189000\n",
      "i 6731 j 17 nb_backup 189018\n",
      "i 6732 j 39 nb_backup 189058\n",
      "i 6733 j 21 nb_backup 189080\n",
      "i 6734 j 36 nb_backup 189117\n",
      "i 6735 j 20 nb_backup 189138\n",
      "i 6736 j 37 nb_backup 189176\n",
      "i 6737 j 20 nb_backup 189197\n",
      "i 6738 j 37 nb_backup 189235\n",
      "i 6739 j 37 nb_backup 189273\n",
      "i 6740 j 25 nb_backup 189299\n",
      "i 6741 j 24 nb_backup 189324\n",
      "i 6742 j 37 nb_backup 189362\n",
      "i 6743 j 24 nb_backup 189387\n",
      "i 6744 j 23 nb_backup 189411\n",
      "i 6745 j 27 nb_backup 189439\n",
      "i 6746 j 16 nb_backup 189456\n",
      "i 6747 j 33 nb_backup 189490\n",
      "i 6748 j 26 nb_backup 189517\n",
      "i 6749 j 32 nb_backup 189550\n",
      "i 6750 j 37 nb_backup 189588\n",
      "i 6751 j 22 nb_backup 189611\n",
      "i 6752 j 37 nb_backup 189649\n",
      "i 6753 j 37 nb_backup 189687\n",
      "i 6754 j 27 nb_backup 189715\n",
      "i 6755 j 17 nb_backup 189733\n",
      "i 6756 j 22 nb_backup 189756\n",
      "i 6757 j 27 nb_backup 189784\n",
      "i 6758 j 48 nb_backup 189833\n",
      "i 6759 j 16 nb_backup 189850\n",
      "i 6760 j 27 nb_backup 189878\n",
      "i 6761 j 17 nb_backup 189896\n",
      "i 6762 j 16 nb_backup 189913\n",
      "i 6763 j 20 nb_backup 189934\n",
      "i 6764 j 30 nb_backup 189965\n",
      "i 6765 j 38 nb_backup 190004\n",
      "i 6766 j 25 nb_backup 190030\n",
      "i 6767 j 33 nb_backup 190064\n",
      "i 6768 j 30 nb_backup 190095\n",
      "i 6769 j 33 nb_backup 190129\n",
      "i 6770 j 19 nb_backup 190149\n",
      "i 6771 j 34 nb_backup 190184\n",
      "i 6772 j 29 nb_backup 190214\n",
      "i 6773 j 44 nb_backup 190259\n",
      "i 6774 j 19 nb_backup 190279\n",
      "i 6775 j 34 nb_backup 190314\n",
      "i 6776 j 29 nb_backup 190344\n",
      "i 6777 j 31 nb_backup 190376\n",
      "i 6778 j 15 nb_backup 190392\n",
      "i 6779 j 20 nb_backup 190413\n",
      "i 6780 j 19 nb_backup 190433\n",
      "i 6781 j 17 nb_backup 190451\n",
      "i 6782 j 28 nb_backup 190480\n",
      "i 6783 j 17 nb_backup 190498\n",
      "i 6784 j 33 nb_backup 190532\n",
      "i 6785 j 29 nb_backup 190562\n",
      "i 6786 j 26 nb_backup 190589\n",
      "i 6787 j 41 nb_backup 190631\n",
      "i 6788 j 30 nb_backup 190662\n",
      "i 6789 j 29 nb_backup 190692\n",
      "i 6790 j 40 nb_backup 190733\n",
      "i 6791 j 17 nb_backup 190751\n",
      "i 6792 j 23 nb_backup 190775\n",
      "i 6793 j 23 nb_backup 190799\n",
      "i 6794 j 27 nb_backup 190827\n",
      "i 6795 j 46 nb_backup 190874\n",
      "i 6796 j 27 nb_backup 190902\n",
      "i 6797 j 32 nb_backup 190935\n",
      "i 6798 j 30 nb_backup 190966\n",
      "i 6799 j 18 nb_backup 190985\n",
      "i 6800 j 19 nb_backup 191005\n",
      "i 6801 j 28 nb_backup 191034\n",
      "i 6802 j 18 nb_backup 191053\n",
      "i 6803 j 25 nb_backup 191079\n",
      "i 6804 j 38 nb_backup 191118\n",
      "i 6805 j 23 nb_backup 191142\n",
      "i 6806 j 20 nb_backup 191163\n",
      "i 6807 j 22 nb_backup 191186\n",
      "i 6808 j 21 nb_backup 191208\n",
      "i 6809 j 17 nb_backup 191226\n",
      "i 6810 j 22 nb_backup 191249\n",
      "i 6811 j 24 nb_backup 191274\n",
      "i 6812 j 23 nb_backup 191298\n",
      "i 6813 j 25 nb_backup 191324\n",
      "i 6814 j 35 nb_backup 191360\n",
      "i 6815 j 16 nb_backup 191377\n",
      "i 6816 j 20 nb_backup 191398\n",
      "i 6817 j 23 nb_backup 191422\n",
      "i 6818 j 22 nb_backup 191445\n",
      "i 6819 j 40 nb_backup 191486\n",
      "i 6820 j 30 nb_backup 191517\n",
      "i 6821 j 25 nb_backup 191543\n",
      "i 6822 j 15 nb_backup 191559\n",
      "i 6823 j 13 nb_backup 191573\n",
      "i 6824 j 38 nb_backup 191612\n",
      "i 6825 j 24 nb_backup 191637\n",
      "i 6826 j 35 nb_backup 191673\n",
      "i 6827 j 25 nb_backup 191699\n",
      "i 6828 j 45 nb_backup 191745\n",
      "i 6829 j 21 nb_backup 191767\n",
      "i 6830 j 26 nb_backup 191794\n",
      "i 6831 j 23 nb_backup 191818\n",
      "i 6832 j 22 nb_backup 191841\n",
      "i 6833 j 19 nb_backup 191861\n",
      "i 6834 j 21 nb_backup 191883\n",
      "i 6835 j 31 nb_backup 191915\n",
      "i 6836 j 22 nb_backup 191938\n",
      "i 6837 j 21 nb_backup 191960\n",
      "i 6838 j 23 nb_backup 191984\n",
      "i 6839 j 33 nb_backup 192018\n",
      "i 6840 j 23 nb_backup 192042\n",
      "i 6841 j 31 nb_backup 192074\n",
      "i 6842 j 20 nb_backup 192095\n",
      "i 6843 j 32 nb_backup 192128\n",
      "i 6844 j 33 nb_backup 192162\n",
      "i 6845 j 17 nb_backup 192180\n",
      "i 6846 j 25 nb_backup 192206\n",
      "i 6847 j 18 nb_backup 192225\n",
      "i 6848 j 24 nb_backup 192250\n",
      "i 6849 j 20 nb_backup 192271\n",
      "i 6850 j 23 nb_backup 192295\n",
      "i 6851 j 30 nb_backup 192326\n",
      "i 6852 j 19 nb_backup 192346\n",
      "i 6853 j 32 nb_backup 192379\n",
      "i 6854 j 17 nb_backup 192397\n",
      "i 6855 j 30 nb_backup 192428\n",
      "i 6856 j 35 nb_backup 192464\n",
      "i 6857 j 29 nb_backup 192494\n",
      "i 6858 j 34 nb_backup 192529\n",
      "i 6859 j 26 nb_backup 192556\n",
      "i 6860 j 31 nb_backup 192588\n",
      "i 6861 j 38 nb_backup 192627\n",
      "i 6862 j 15 nb_backup 192643\n",
      "i 6863 j 35 nb_backup 192679\n",
      "i 6864 j 15 nb_backup 192695\n",
      "i 6865 j 37 nb_backup 192733\n",
      "i 6866 j 19 nb_backup 192753\n",
      "i 6867 j 38 nb_backup 192792\n",
      "i 6868 j 25 nb_backup 192818\n",
      "i 6869 j 25 nb_backup 192844\n",
      "i 6870 j 33 nb_backup 192878\n",
      "i 6871 j 25 nb_backup 192904\n",
      "i 6872 j 18 nb_backup 192923\n",
      "i 6873 j 27 nb_backup 192951\n",
      "i 6874 j 32 nb_backup 192984\n",
      "i 6875 j 34 nb_backup 193019\n",
      "i 6876 j 22 nb_backup 193042\n",
      "i 6877 j 28 nb_backup 193071\n",
      "i 6878 j 40 nb_backup 193112\n",
      "i 6879 j 29 nb_backup 193142\n",
      "i 6880 j 38 nb_backup 193181\n",
      "i 6881 j 42 nb_backup 193224\n",
      "i 6882 j 22 nb_backup 193247\n",
      "i 6883 j 13 nb_backup 193261\n",
      "i 6884 j 27 nb_backup 193289\n",
      "i 6885 j 25 nb_backup 193315\n",
      "i 6886 j 38 nb_backup 193354\n",
      "i 6887 j 40 nb_backup 193395\n",
      "i 6888 j 34 nb_backup 193430\n",
      "i 6889 j 26 nb_backup 193457\n",
      "i 6890 j 19 nb_backup 193477\n",
      "i 6891 j 30 nb_backup 193508\n",
      "i 6892 j 21 nb_backup 193530\n",
      "i 6893 j 24 nb_backup 193555\n",
      "i 6894 j 21 nb_backup 193577\n",
      "i 6895 j 21 nb_backup 193599\n",
      "i 6896 j 27 nb_backup 193627\n",
      "i 6897 j 24 nb_backup 193652\n",
      "i 6898 j 25 nb_backup 193678\n",
      "i 6899 j 19 nb_backup 193698\n",
      "i 6900 j 21 nb_backup 193720\n",
      "i 6901 j 31 nb_backup 193752\n",
      "i 6902 j 20 nb_backup 193773\n",
      "i 6903 j 22 nb_backup 193796\n",
      "i 6904 j 32 nb_backup 193829\n",
      "i 6905 j 35 nb_backup 193865\n",
      "i 6906 j 43 nb_backup 193909\n",
      "i 6907 j 32 nb_backup 193942\n",
      "i 6908 j 30 nb_backup 193973\n",
      "i 6909 j 38 nb_backup 194012\n",
      "i 6910 j 23 nb_backup 194036\n",
      "i 6911 j 24 nb_backup 194061\n",
      "i 6912 j 21 nb_backup 194083\n",
      "i 6913 j 21 nb_backup 194105\n",
      "i 6914 j 21 nb_backup 194127\n",
      "i 6915 j 28 nb_backup 194156\n",
      "i 6916 j 25 nb_backup 194182\n",
      "i 6917 j 21 nb_backup 194204\n",
      "i 6918 j 39 nb_backup 194244\n",
      "i 6919 j 31 nb_backup 194276\n",
      "i 6920 j 19 nb_backup 194296\n",
      "i 6921 j 25 nb_backup 194322\n",
      "i 6922 j 35 nb_backup 194358\n",
      "i 6923 j 33 nb_backup 194392\n",
      "i 6924 j 19 nb_backup 194412\n",
      "i 6925 j 25 nb_backup 194438\n",
      "i 6926 j 24 nb_backup 194463\n",
      "i 6927 j 48 nb_backup 194512\n",
      "i 6928 j 40 nb_backup 194553\n",
      "i 6929 j 22 nb_backup 194576\n",
      "i 6930 j 15 nb_backup 194592\n",
      "i 6931 j 20 nb_backup 194613\n",
      "i 6932 j 21 nb_backup 194635\n",
      "i 6933 j 32 nb_backup 194668\n",
      "i 6934 j 22 nb_backup 194691\n",
      "i 6935 j 23 nb_backup 194715\n",
      "i 6936 j 31 nb_backup 194747\n",
      "i 6937 j 30 nb_backup 194778\n",
      "i 6938 j 32 nb_backup 194811\n",
      "i 6939 j 36 nb_backup 194848\n",
      "i 6940 j 21 nb_backup 194870\n",
      "i 6941 j 39 nb_backup 194910\n",
      "i 6942 j 17 nb_backup 194928\n",
      "i 6943 j 22 nb_backup 194951\n",
      "i 6944 j 20 nb_backup 194972\n",
      "i 6945 j 23 nb_backup 194996\n",
      "i 6946 j 33 nb_backup 195030\n",
      "i 6947 j 27 nb_backup 195058\n",
      "i 6948 j 29 nb_backup 195088\n",
      "i 6949 j 13 nb_backup 195102\n",
      "i 6950 j 26 nb_backup 195129\n",
      "i 6951 j 28 nb_backup 195158\n",
      "i 6952 j 26 nb_backup 195185\n",
      "i 6953 j 44 nb_backup 195230\n",
      "i 6954 j 32 nb_backup 195263\n",
      "i 6955 j 32 nb_backup 195296\n",
      "i 6956 j 47 nb_backup 195344\n",
      "i 6957 j 33 nb_backup 195378\n",
      "i 6958 j 16 nb_backup 195395\n",
      "i 6959 j 23 nb_backup 195419\n",
      "i 6960 j 14 nb_backup 195434\n",
      "i 6961 j 22 nb_backup 195457\n",
      "i 6962 j 43 nb_backup 195501\n",
      "i 6963 j 27 nb_backup 195529\n",
      "i 6964 j 23 nb_backup 195553\n",
      "i 6965 j 30 nb_backup 195584\n",
      "i 6966 j 38 nb_backup 195623\n",
      "i 6967 j 18 nb_backup 195642\n",
      "i 6968 j 30 nb_backup 195673\n",
      "i 6969 j 24 nb_backup 195698\n",
      "i 6970 j 16 nb_backup 195715\n",
      "i 6971 j 36 nb_backup 195752\n",
      "i 6972 j 41 nb_backup 195794\n",
      "i 6973 j 31 nb_backup 195826\n",
      "i 6974 j 21 nb_backup 195848\n",
      "i 6975 j 29 nb_backup 195878\n",
      "i 6976 j 13 nb_backup 195892\n",
      "i 6977 j 22 nb_backup 195915\n",
      "i 6978 j 15 nb_backup 195931\n",
      "i 6979 j 46 nb_backup 195978\n",
      "i 6980 j 27 nb_backup 196006\n",
      "i 6981 j 20 nb_backup 196027\n",
      "i 6982 j 24 nb_backup 196052\n",
      "i 6983 j 17 nb_backup 196070\n",
      "i 6984 j 27 nb_backup 196098\n",
      "i 6985 j 28 nb_backup 196127\n",
      "i 6986 j 25 nb_backup 196153\n",
      "i 6987 j 21 nb_backup 196175\n",
      "i 6988 j 20 nb_backup 196196\n",
      "i 6989 j 32 nb_backup 196229\n",
      "i 6990 j 18 nb_backup 196248\n",
      "i 6991 j 35 nb_backup 196284\n",
      "i 6992 j 24 nb_backup 196309\n",
      "i 6993 j 22 nb_backup 196332\n",
      "i 6994 j 30 nb_backup 196363\n",
      "i 6995 j 27 nb_backup 196391\n",
      "i 6996 j 17 nb_backup 196409\n",
      "i 6997 j 30 nb_backup 196440\n",
      "i 6998 j 25 nb_backup 196466\n",
      "i 6999 j 44 nb_backup 196511\n",
      "i 7000 j 31 nb_backup 196543\n",
      "i 7001 j 20 nb_backup 196564\n",
      "i 7002 j 30 nb_backup 196595\n",
      "i 7003 j 27 nb_backup 196623\n",
      "i 7004 j 14 nb_backup 196638\n",
      "i 7005 j 20 nb_backup 196659\n",
      "i 7006 j 22 nb_backup 196682\n",
      "i 7007 j 19 nb_backup 196702\n",
      "i 7008 j 16 nb_backup 196719\n",
      "i 7009 j 41 nb_backup 196761\n",
      "i 7010 j 19 nb_backup 196781\n",
      "i 7011 j 30 nb_backup 196812\n",
      "i 7012 j 27 nb_backup 196840\n",
      "i 7013 j 26 nb_backup 196867\n",
      "i 7014 j 21 nb_backup 196889\n",
      "i 7015 j 18 nb_backup 196908\n",
      "i 7016 j 23 nb_backup 196932\n",
      "i 7017 j 34 nb_backup 196967\n",
      "i 7018 j 19 nb_backup 196987\n",
      "i 7019 j 30 nb_backup 197018\n",
      "i 7020 j 27 nb_backup 197046\n",
      "i 7021 j 47 nb_backup 197094\n",
      "i 7022 j 37 nb_backup 197132\n",
      "i 7023 j 18 nb_backup 197151\n",
      "i 7024 j 23 nb_backup 197175\n",
      "i 7025 j 26 nb_backup 197202\n",
      "i 7026 j 24 nb_backup 197227\n",
      "i 7027 j 28 nb_backup 197256\n",
      "i 7028 j 20 nb_backup 197277\n",
      "i 7029 j 27 nb_backup 197305\n",
      "i 7030 j 31 nb_backup 197337\n",
      "i 7031 j 38 nb_backup 197376\n",
      "i 7032 j 36 nb_backup 197413\n",
      "i 7033 j 23 nb_backup 197437\n",
      "i 7034 j 18 nb_backup 197456\n",
      "i 7035 j 24 nb_backup 197481\n",
      "i 7036 j 23 nb_backup 197505\n",
      "i 7037 j 24 nb_backup 197530\n",
      "i 7038 j 17 nb_backup 197548\n",
      "i 7039 j 18 nb_backup 197567\n",
      "i 7040 j 22 nb_backup 197590\n",
      "i 7041 j 36 nb_backup 197627\n",
      "i 7042 j 25 nb_backup 197653\n",
      "i 7043 j 42 nb_backup 197696\n",
      "i 7044 j 21 nb_backup 197718\n",
      "i 7045 j 17 nb_backup 197736\n",
      "i 7046 j 16 nb_backup 197753\n",
      "i 7047 j 35 nb_backup 197789\n",
      "i 7048 j 30 nb_backup 197820\n",
      "i 7049 j 28 nb_backup 197849\n",
      "i 7050 j 28 nb_backup 197878\n",
      "i 7051 j 26 nb_backup 197905\n",
      "i 7052 j 15 nb_backup 197921\n",
      "i 7053 j 44 nb_backup 197966\n",
      "i 7054 j 34 nb_backup 198001\n",
      "i 7055 j 23 nb_backup 198025\n",
      "i 7056 j 26 nb_backup 198052\n",
      "i 7057 j 19 nb_backup 198072\n",
      "i 7058 j 24 nb_backup 198097\n",
      "i 7059 j 20 nb_backup 198118\n",
      "i 7060 j 28 nb_backup 198147\n",
      "i 7061 j 28 nb_backup 198176\n",
      "i 7062 j 24 nb_backup 198201\n",
      "i 7063 j 35 nb_backup 198237\n",
      "i 7064 j 25 nb_backup 198263\n",
      "i 7065 j 24 nb_backup 198288\n",
      "i 7066 j 16 nb_backup 198305\n",
      "i 7067 j 14 nb_backup 198320\n",
      "i 7068 j 23 nb_backup 198344\n",
      "i 7069 j 17 nb_backup 198362\n",
      "i 7070 j 20 nb_backup 198383\n",
      "i 7071 j 30 nb_backup 198414\n",
      "i 7072 j 54 nb_backup 198469\n",
      "i 7073 j 19 nb_backup 198489\n",
      "i 7074 j 40 nb_backup 198530\n",
      "i 7075 j 22 nb_backup 198553\n",
      "i 7076 j 28 nb_backup 198582\n",
      "i 7077 j 21 nb_backup 198604\n",
      "i 7078 j 25 nb_backup 198630\n",
      "i 7079 j 30 nb_backup 198661\n",
      "i 7080 j 29 nb_backup 198691\n",
      "i 7081 j 22 nb_backup 198714\n",
      "i 7082 j 18 nb_backup 198733\n",
      "i 7083 j 30 nb_backup 198764\n",
      "i 7084 j 21 nb_backup 198786\n",
      "i 7085 j 19 nb_backup 198806\n",
      "i 7086 j 27 nb_backup 198834\n",
      "i 7087 j 21 nb_backup 198856\n",
      "i 7088 j 27 nb_backup 198884\n",
      "i 7089 j 19 nb_backup 198904\n",
      "i 7090 j 17 nb_backup 198922\n",
      "i 7091 j 40 nb_backup 198963\n",
      "i 7092 j 20 nb_backup 198984\n",
      "i 7093 j 17 nb_backup 199002\n",
      "i 7094 j 16 nb_backup 199019\n",
      "i 7095 j 23 nb_backup 199043\n",
      "i 7096 j 30 nb_backup 199074\n",
      "i 7097 j 21 nb_backup 199096\n",
      "i 7098 j 38 nb_backup 199135\n",
      "i 7099 j 24 nb_backup 199160\n",
      "i 7100 j 21 nb_backup 199182\n",
      "i 7101 j 28 nb_backup 199211\n",
      "i 7102 j 22 nb_backup 199234\n",
      "i 7103 j 18 nb_backup 199253\n",
      "i 7104 j 26 nb_backup 199280\n",
      "i 7105 j 34 nb_backup 199315\n",
      "i 7106 j 35 nb_backup 199351\n",
      "i 7107 j 24 nb_backup 199376\n",
      "i 7108 j 19 nb_backup 199396\n",
      "i 7109 j 15 nb_backup 199412\n",
      "i 7110 j 23 nb_backup 199436\n",
      "i 7111 j 26 nb_backup 199463\n",
      "i 7112 j 29 nb_backup 199493\n",
      "i 7113 j 22 nb_backup 199516\n",
      "i 7114 j 25 nb_backup 199542\n",
      "i 7115 j 27 nb_backup 199570\n",
      "i 7116 j 24 nb_backup 199595\n",
      "i 7117 j 30 nb_backup 199626\n",
      "i 7118 j 37 nb_backup 199664\n",
      "i 7119 j 25 nb_backup 199690\n",
      "i 7120 j 18 nb_backup 199709\n",
      "i 7121 j 28 nb_backup 199738\n",
      "i 7122 j 24 nb_backup 199763\n",
      "i 7123 j 38 nb_backup 199802\n",
      "i 7124 j 30 nb_backup 199833\n",
      "i 7125 j 24 nb_backup 199858\n",
      "i 7126 j 27 nb_backup 199886\n",
      "i 7127 j 20 nb_backup 199907\n",
      "i 7128 j 26 nb_backup 199934\n",
      "i 7129 j 26 nb_backup 199961\n",
      "i 7130 j 32 nb_backup 199994\n",
      "i 7131 j 23 nb_backup 200018\n",
      "i 7132 j 34 nb_backup 200053\n",
      "i 7133 j 21 nb_backup 200075\n",
      "i 7134 j 30 nb_backup 200106\n",
      "i 7135 j 17 nb_backup 200124\n",
      "i 7136 j 25 nb_backup 200150\n",
      "i 7137 j 24 nb_backup 200175\n",
      "i 7138 j 23 nb_backup 200199\n",
      "i 7139 j 24 nb_backup 200224\n",
      "i 7140 j 55 nb_backup 200280\n",
      "i 7141 j 19 nb_backup 200300\n",
      "i 7142 j 55 nb_backup 200356\n",
      "i 7143 j 16 nb_backup 200373\n",
      "i 7144 j 27 nb_backup 200401\n",
      "i 7145 j 22 nb_backup 200424\n",
      "i 7146 j 24 nb_backup 200449\n",
      "i 7147 j 17 nb_backup 200467\n",
      "i 7148 j 19 nb_backup 200487\n",
      "i 7149 j 30 nb_backup 200518\n",
      "i 7150 j 23 nb_backup 200542\n",
      "i 7151 j 17 nb_backup 200560\n",
      "i 7152 j 23 nb_backup 200584\n",
      "i 7153 j 19 nb_backup 200604\n",
      "i 7154 j 31 nb_backup 200636\n",
      "i 7155 j 30 nb_backup 200667\n",
      "i 7156 j 27 nb_backup 200695\n",
      "i 7157 j 28 nb_backup 200724\n",
      "i 7158 j 37 nb_backup 200762\n",
      "i 7159 j 42 nb_backup 200805\n",
      "i 7160 j 24 nb_backup 200830\n",
      "i 7161 j 28 nb_backup 200859\n",
      "i 7162 j 31 nb_backup 200891\n",
      "i 7163 j 24 nb_backup 200916\n",
      "i 7164 j 43 nb_backup 200960\n",
      "i 7165 j 19 nb_backup 200980\n",
      "i 7166 j 19 nb_backup 201000\n",
      "i 7167 j 27 nb_backup 201028\n",
      "i 7168 j 16 nb_backup 201045\n",
      "i 7169 j 15 nb_backup 201061\n",
      "i 7170 j 35 nb_backup 201097\n",
      "i 7171 j 29 nb_backup 201127\n",
      "i 7172 j 28 nb_backup 201156\n",
      "i 7173 j 34 nb_backup 201191\n",
      "i 7174 j 19 nb_backup 201211\n",
      "i 7175 j 30 nb_backup 201242\n",
      "i 7176 j 34 nb_backup 201277\n",
      "i 7177 j 26 nb_backup 201304\n",
      "i 7178 j 39 nb_backup 201344\n",
      "i 7179 j 27 nb_backup 201372\n",
      "i 7180 j 44 nb_backup 201417\n",
      "i 7181 j 25 nb_backup 201443\n",
      "i 7182 j 34 nb_backup 201478\n",
      "i 7183 j 30 nb_backup 201509\n",
      "i 7184 j 15 nb_backup 201525\n",
      "i 7185 j 15 nb_backup 201541\n",
      "i 7186 j 27 nb_backup 201569\n",
      "i 7187 j 22 nb_backup 201592\n",
      "i 7188 j 26 nb_backup 201619\n",
      "i 7189 j 27 nb_backup 201647\n",
      "i 7190 j 19 nb_backup 201667\n",
      "i 7191 j 17 nb_backup 201685\n",
      "i 7192 j 36 nb_backup 201722\n",
      "i 7193 j 26 nb_backup 201749\n",
      "i 7194 j 29 nb_backup 201779\n",
      "i 7195 j 29 nb_backup 201809\n",
      "i 7196 j 27 nb_backup 201837\n",
      "i 7197 j 30 nb_backup 201868\n",
      "i 7198 j 22 nb_backup 201891\n",
      "i 7199 j 26 nb_backup 201918\n",
      "i 7200 j 38 nb_backup 201957\n",
      "i 7201 j 20 nb_backup 201978\n",
      "i 7202 j 43 nb_backup 202022\n",
      "i 7203 j 21 nb_backup 202044\n",
      "i 7204 j 17 nb_backup 202062\n",
      "i 7205 j 32 nb_backup 202095\n",
      "i 7206 j 35 nb_backup 202131\n",
      "i 7207 j 55 nb_backup 202187\n",
      "i 7208 j 27 nb_backup 202215\n",
      "i 7209 j 13 nb_backup 202229\n",
      "i 7210 j 32 nb_backup 202262\n",
      "i 7211 j 29 nb_backup 202292\n",
      "i 7212 j 13 nb_backup 202306\n",
      "i 7213 j 32 nb_backup 202339\n",
      "i 7214 j 31 nb_backup 202371\n",
      "i 7215 j 20 nb_backup 202392\n",
      "i 7216 j 29 nb_backup 202422\n",
      "i 7217 j 22 nb_backup 202445\n",
      "i 7218 j 18 nb_backup 202464\n",
      "i 7219 j 35 nb_backup 202500\n",
      "i 7220 j 25 nb_backup 202526\n",
      "i 7221 j 29 nb_backup 202556\n",
      "i 7222 j 20 nb_backup 202577\n",
      "i 7223 j 27 nb_backup 202605\n",
      "i 7224 j 20 nb_backup 202626\n",
      "i 7225 j 21 nb_backup 202648\n",
      "i 7226 j 28 nb_backup 202677\n",
      "i 7227 j 51 nb_backup 202729\n",
      "i 7228 j 15 nb_backup 202745\n",
      "i 7229 j 36 nb_backup 202782\n",
      "i 7230 j 17 nb_backup 202800\n",
      "i 7231 j 32 nb_backup 202833\n",
      "i 7232 j 38 nb_backup 202872\n",
      "i 7233 j 17 nb_backup 202890\n",
      "i 7234 j 16 nb_backup 202907\n",
      "i 7235 j 29 nb_backup 202937\n",
      "i 7236 j 26 nb_backup 202964\n",
      "i 7237 j 26 nb_backup 202991\n",
      "i 7238 j 25 nb_backup 203017\n",
      "i 7239 j 23 nb_backup 203041\n",
      "i 7240 j 25 nb_backup 203067\n",
      "i 7241 j 30 nb_backup 203098\n",
      "i 7242 j 39 nb_backup 203138\n",
      "i 7243 j 22 nb_backup 203161\n",
      "i 7244 j 24 nb_backup 203186\n",
      "i 7245 j 32 nb_backup 203219\n",
      "i 7246 j 18 nb_backup 203238\n",
      "i 7247 j 29 nb_backup 203268\n",
      "i 7248 j 26 nb_backup 203295\n",
      "i 7249 j 17 nb_backup 203313\n",
      "i 7250 j 21 nb_backup 203335\n",
      "i 7251 j 49 nb_backup 203385\n",
      "i 7252 j 21 nb_backup 203407\n",
      "i 7253 j 42 nb_backup 203450\n",
      "i 7254 j 27 nb_backup 203478\n",
      "i 7255 j 43 nb_backup 203522\n",
      "i 7256 j 22 nb_backup 203545\n",
      "i 7257 j 24 nb_backup 203570\n",
      "i 7258 j 17 nb_backup 203588\n",
      "i 7259 j 33 nb_backup 203622\n",
      "i 7260 j 22 nb_backup 203645\n",
      "i 7261 j 25 nb_backup 203671\n",
      "i 7262 j 40 nb_backup 203712\n",
      "i 7263 j 20 nb_backup 203733\n",
      "i 7264 j 27 nb_backup 203761\n",
      "i 7265 j 29 nb_backup 203791\n",
      "i 7266 j 28 nb_backup 203820\n",
      "i 7267 j 19 nb_backup 203840\n",
      "i 7268 j 26 nb_backup 203867\n",
      "i 7269 j 36 nb_backup 203904\n",
      "i 7270 j 29 nb_backup 203934\n",
      "i 7271 j 30 nb_backup 203965\n",
      "i 7272 j 39 nb_backup 204005\n",
      "i 7273 j 22 nb_backup 204028\n",
      "i 7274 j 15 nb_backup 204044\n",
      "i 7275 j 17 nb_backup 204062\n",
      "i 7276 j 15 nb_backup 204078\n",
      "i 7277 j 64 nb_backup 204143\n",
      "i 7278 j 20 nb_backup 204164\n",
      "i 7279 j 22 nb_backup 204187\n",
      "i 7280 j 35 nb_backup 204223\n",
      "i 7281 j 15 nb_backup 204239\n",
      "i 7282 j 27 nb_backup 204267\n",
      "i 7283 j 22 nb_backup 204290\n",
      "i 7284 j 25 nb_backup 204316\n",
      "i 7285 j 18 nb_backup 204335\n",
      "i 7286 j 29 nb_backup 204365\n",
      "i 7287 j 28 nb_backup 204394\n",
      "i 7288 j 19 nb_backup 204414\n",
      "i 7289 j 24 nb_backup 204439\n",
      "i 7290 j 45 nb_backup 204485\n",
      "i 7291 j 28 nb_backup 204514\n",
      "i 7292 j 33 nb_backup 204548\n",
      "i 7293 j 38 nb_backup 204587\n",
      "i 7294 j 61 nb_backup 204649\n",
      "i 7295 j 27 nb_backup 204677\n",
      "i 7296 j 55 nb_backup 204733\n",
      "i 7297 j 16 nb_backup 204750\n",
      "i 7298 j 33 nb_backup 204784\n",
      "i 7299 j 25 nb_backup 204810\n",
      "i 7300 j 23 nb_backup 204834\n",
      "i 7301 j 19 nb_backup 204854\n",
      "i 7302 j 32 nb_backup 204887\n",
      "i 7303 j 24 nb_backup 204912\n",
      "i 7304 j 21 nb_backup 204934\n",
      "i 7305 j 44 nb_backup 204979\n",
      "i 7306 j 17 nb_backup 204997\n",
      "i 7307 j 27 nb_backup 205025\n",
      "i 7308 j 23 nb_backup 205049\n",
      "i 7309 j 18 nb_backup 205068\n",
      "i 7310 j 23 nb_backup 205092\n",
      "i 7311 j 28 nb_backup 205121\n",
      "i 7312 j 20 nb_backup 205142\n",
      "i 7313 j 40 nb_backup 205183\n",
      "i 7314 j 31 nb_backup 205215\n",
      "i 7315 j 23 nb_backup 205239\n",
      "i 7316 j 24 nb_backup 205264\n",
      "i 7317 j 22 nb_backup 205287\n",
      "i 7318 j 16 nb_backup 205304\n",
      "i 7319 j 27 nb_backup 205332\n",
      "i 7320 j 27 nb_backup 205360\n",
      "i 7321 j 41 nb_backup 205402\n",
      "i 7322 j 39 nb_backup 205442\n",
      "i 7323 j 23 nb_backup 205466\n",
      "i 7324 j 23 nb_backup 205490\n",
      "i 7325 j 34 nb_backup 205525\n",
      "i 7326 j 20 nb_backup 205546\n",
      "i 7327 j 23 nb_backup 205570\n",
      "i 7328 j 21 nb_backup 205592\n",
      "i 7329 j 25 nb_backup 205618\n",
      "i 7330 j 25 nb_backup 205644\n",
      "i 7331 j 41 nb_backup 205686\n",
      "i 7332 j 43 nb_backup 205730\n",
      "i 7333 j 22 nb_backup 205753\n",
      "i 7334 j 30 nb_backup 205784\n",
      "i 7335 j 35 nb_backup 205820\n",
      "i 7336 j 31 nb_backup 205852\n",
      "i 7337 j 15 nb_backup 205868\n",
      "i 7338 j 19 nb_backup 205888\n",
      "i 7339 j 23 nb_backup 205912\n",
      "i 7340 j 21 nb_backup 205934\n",
      "i 7341 j 15 nb_backup 205950\n",
      "i 7342 j 29 nb_backup 205980\n",
      "i 7343 j 24 nb_backup 206005\n",
      "i 7344 j 21 nb_backup 206027\n",
      "i 7345 j 27 nb_backup 206055\n",
      "i 7346 j 27 nb_backup 206083\n",
      "i 7347 j 30 nb_backup 206114\n",
      "i 7348 j 26 nb_backup 206141\n",
      "i 7349 j 41 nb_backup 206183\n",
      "i 7350 j 20 nb_backup 206204\n",
      "i 7351 j 30 nb_backup 206235\n",
      "i 7352 j 33 nb_backup 206269\n",
      "i 7353 j 54 nb_backup 206324\n",
      "i 7354 j 20 nb_backup 206345\n",
      "i 7355 j 36 nb_backup 206382\n",
      "i 7356 j 30 nb_backup 206413\n",
      "i 7357 j 18 nb_backup 206432\n",
      "i 7358 j 20 nb_backup 206453\n",
      "i 7359 j 29 nb_backup 206483\n",
      "i 7360 j 25 nb_backup 206509\n",
      "i 7361 j 15 nb_backup 206525\n",
      "i 7362 j 22 nb_backup 206548\n",
      "i 7363 j 20 nb_backup 206569\n",
      "i 7364 j 22 nb_backup 206592\n",
      "i 7365 j 25 nb_backup 206618\n",
      "i 7366 j 16 nb_backup 206635\n",
      "i 7367 j 19 nb_backup 206655\n",
      "i 7368 j 49 nb_backup 206705\n",
      "i 7369 j 25 nb_backup 206731\n",
      "i 7370 j 20 nb_backup 206752\n",
      "i 7371 j 43 nb_backup 206796\n",
      "i 7372 j 35 nb_backup 206832\n",
      "i 7373 j 33 nb_backup 206866\n",
      "i 7374 j 30 nb_backup 206897\n",
      "i 7375 j 23 nb_backup 206921\n",
      "i 7376 j 23 nb_backup 206945\n",
      "i 7377 j 24 nb_backup 206970\n",
      "i 7378 j 33 nb_backup 207004\n",
      "i 7379 j 20 nb_backup 207025\n",
      "i 7380 j 39 nb_backup 207065\n",
      "i 7381 j 32 nb_backup 207098\n",
      "i 7382 j 17 nb_backup 207116\n",
      "i 7383 j 18 nb_backup 207135\n",
      "i 7384 j 22 nb_backup 207158\n",
      "i 7385 j 15 nb_backup 207174\n",
      "i 7386 j 24 nb_backup 207199\n",
      "i 7387 j 19 nb_backup 207219\n",
      "i 7388 j 31 nb_backup 207251\n",
      "i 7389 j 23 nb_backup 207275\n",
      "i 7390 j 33 nb_backup 207309\n",
      "i 7391 j 22 nb_backup 207332\n",
      "i 7392 j 18 nb_backup 207351\n",
      "i 7393 j 39 nb_backup 207391\n",
      "i 7394 j 25 nb_backup 207417\n",
      "i 7395 j 25 nb_backup 207443\n",
      "i 7396 j 32 nb_backup 207476\n",
      "i 7397 j 27 nb_backup 207504\n",
      "i 7398 j 35 nb_backup 207540\n",
      "i 7399 j 27 nb_backup 207568\n",
      "i 7400 j 26 nb_backup 207595\n",
      "i 7401 j 28 nb_backup 207624\n",
      "i 7402 j 50 nb_backup 207675\n",
      "i 7403 j 25 nb_backup 207701\n",
      "i 7404 j 23 nb_backup 207725\n",
      "i 7405 j 29 nb_backup 207755\n",
      "i 7406 j 23 nb_backup 207779\n",
      "i 7407 j 18 nb_backup 207798\n",
      "i 7408 j 35 nb_backup 207834\n",
      "i 7409 j 23 nb_backup 207858\n",
      "i 7410 j 20 nb_backup 207879\n",
      "i 7411 j 25 nb_backup 207905\n",
      "i 7412 j 48 nb_backup 207954\n",
      "i 7413 j 25 nb_backup 207980\n",
      "i 7414 j 33 nb_backup 208014\n",
      "i 7415 j 27 nb_backup 208042\n",
      "i 7416 j 22 nb_backup 208065\n",
      "i 7417 j 29 nb_backup 208095\n",
      "i 7418 j 34 nb_backup 208130\n",
      "i 7419 j 43 nb_backup 208174\n",
      "i 7420 j 26 nb_backup 208201\n",
      "i 7421 j 24 nb_backup 208226\n",
      "i 7422 j 32 nb_backup 208259\n",
      "i 7423 j 42 nb_backup 208302\n",
      "i 7424 j 24 nb_backup 208327\n",
      "i 7425 j 22 nb_backup 208350\n",
      "i 7426 j 27 nb_backup 208378\n",
      "i 7427 j 25 nb_backup 208404\n",
      "i 7428 j 36 nb_backup 208441\n",
      "i 7429 j 29 nb_backup 208471\n",
      "i 7430 j 42 nb_backup 208514\n",
      "i 7431 j 16 nb_backup 208531\n",
      "i 7432 j 38 nb_backup 208570\n",
      "i 7433 j 21 nb_backup 208592\n",
      "i 7434 j 21 nb_backup 208614\n",
      "i 7435 j 19 nb_backup 208634\n",
      "i 7436 j 34 nb_backup 208669\n",
      "i 7437 j 19 nb_backup 208689\n",
      "i 7438 j 45 nb_backup 208735\n",
      "i 7439 j 50 nb_backup 208786\n",
      "i 7440 j 26 nb_backup 208813\n",
      "i 7441 j 49 nb_backup 208863\n",
      "i 7442 j 29 nb_backup 208893\n",
      "i 7443 j 19 nb_backup 208913\n",
      "i 7444 j 26 nb_backup 208940\n",
      "i 7445 j 25 nb_backup 208966\n",
      "i 7446 j 24 nb_backup 208991\n",
      "i 7447 j 14 nb_backup 209006\n",
      "i 7448 j 20 nb_backup 209027\n",
      "i 7449 j 18 nb_backup 209046\n",
      "i 7450 j 18 nb_backup 209065\n",
      "i 7451 j 27 nb_backup 209093\n",
      "i 7452 j 18 nb_backup 209112\n",
      "i 7453 j 24 nb_backup 209137\n",
      "i 7454 j 27 nb_backup 209165\n",
      "i 7455 j 23 nb_backup 209189\n",
      "i 7456 j 49 nb_backup 209239\n",
      "i 7457 j 46 nb_backup 209286\n",
      "i 7458 j 43 nb_backup 209330\n",
      "i 7459 j 34 nb_backup 209365\n",
      "i 7460 j 17 nb_backup 209383\n",
      "i 7461 j 27 nb_backup 209411\n",
      "i 7462 j 23 nb_backup 209435\n",
      "i 7463 j 33 nb_backup 209469\n",
      "i 7464 j 27 nb_backup 209497\n",
      "i 7465 j 32 nb_backup 209530\n",
      "i 7466 j 23 nb_backup 209554\n",
      "i 7467 j 20 nb_backup 209575\n",
      "i 7468 j 22 nb_backup 209598\n",
      "i 7469 j 16 nb_backup 209615\n",
      "i 7470 j 35 nb_backup 209651\n",
      "i 7471 j 31 nb_backup 209683\n",
      "i 7472 j 20 nb_backup 209704\n",
      "i 7473 j 34 nb_backup 209739\n",
      "i 7474 j 28 nb_backup 209768\n",
      "i 7475 j 26 nb_backup 209795\n",
      "i 7476 j 21 nb_backup 209817\n",
      "i 7477 j 28 nb_backup 209846\n",
      "i 7478 j 17 nb_backup 209864\n",
      "i 7479 j 23 nb_backup 209888\n",
      "i 7480 j 25 nb_backup 209914\n",
      "i 7481 j 17 nb_backup 209932\n",
      "i 7482 j 56 nb_backup 209989\n",
      "i 7483 j 19 nb_backup 210009\n",
      "i 7484 j 27 nb_backup 210037\n",
      "i 7485 j 26 nb_backup 210064\n",
      "i 7486 j 18 nb_backup 210083\n",
      "i 7487 j 32 nb_backup 210116\n",
      "i 7488 j 26 nb_backup 210143\n",
      "i 7489 j 37 nb_backup 210181\n",
      "i 7490 j 47 nb_backup 210229\n",
      "i 7491 j 28 nb_backup 210258\n",
      "i 7492 j 20 nb_backup 210279\n",
      "i 7493 j 34 nb_backup 210314\n",
      "i 7494 j 21 nb_backup 210336\n",
      "i 7495 j 19 nb_backup 210356\n",
      "i 7496 j 26 nb_backup 210383\n",
      "i 7497 j 16 nb_backup 210400\n",
      "i 7498 j 16 nb_backup 210417\n",
      "i 7499 j 28 nb_backup 210446\n",
      "i 7500 j 24 nb_backup 210471\n",
      "i 7501 j 23 nb_backup 210495\n",
      "i 7502 j 28 nb_backup 210524\n",
      "i 7503 j 41 nb_backup 210566\n",
      "i 7504 j 27 nb_backup 210594\n",
      "i 7505 j 35 nb_backup 210630\n",
      "i 7506 j 18 nb_backup 210649\n",
      "i 7507 j 24 nb_backup 210674\n",
      "i 7508 j 20 nb_backup 210695\n",
      "i 7509 j 38 nb_backup 210734\n",
      "i 7510 j 22 nb_backup 210757\n",
      "i 7511 j 20 nb_backup 210778\n",
      "i 7512 j 53 nb_backup 210832\n",
      "i 7513 j 29 nb_backup 210862\n",
      "i 7514 j 22 nb_backup 210885\n",
      "i 7515 j 48 nb_backup 210934\n",
      "i 7516 j 19 nb_backup 210954\n",
      "i 7517 j 30 nb_backup 210985\n",
      "i 7518 j 35 nb_backup 211021\n",
      "i 7519 j 33 nb_backup 211055\n",
      "i 7520 j 25 nb_backup 211081\n",
      "i 7521 j 26 nb_backup 211108\n",
      "i 7522 j 30 nb_backup 211139\n",
      "i 7523 j 37 nb_backup 211177\n",
      "i 7524 j 29 nb_backup 211207\n",
      "i 7525 j 27 nb_backup 211235\n",
      "i 7526 j 23 nb_backup 211259\n",
      "i 7527 j 31 nb_backup 211291\n",
      "i 7528 j 24 nb_backup 211316\n",
      "i 7529 j 33 nb_backup 211350\n",
      "i 7530 j 34 nb_backup 211385\n",
      "i 7531 j 45 nb_backup 211431\n",
      "i 7532 j 23 nb_backup 211455\n",
      "i 7533 j 45 nb_backup 211501\n",
      "i 7534 j 36 nb_backup 211538\n",
      "i 7535 j 31 nb_backup 211570\n",
      "i 7536 j 29 nb_backup 211600\n",
      "i 7537 j 27 nb_backup 211628\n",
      "i 7538 j 35 nb_backup 211664\n",
      "i 7539 j 29 nb_backup 211694\n",
      "i 7540 j 47 nb_backup 211742\n",
      "i 7541 j 18 nb_backup 211761\n",
      "i 7542 j 32 nb_backup 211794\n",
      "i 7543 j 32 nb_backup 211827\n",
      "i 7544 j 21 nb_backup 211849\n",
      "i 7545 j 40 nb_backup 211890\n",
      "i 7546 j 45 nb_backup 211936\n",
      "i 7547 j 18 nb_backup 211955\n",
      "i 7548 j 20 nb_backup 211976\n",
      "i 7549 j 19 nb_backup 211996\n",
      "i 7550 j 16 nb_backup 212013\n",
      "i 7551 j 21 nb_backup 212035\n",
      "i 7552 j 27 nb_backup 212063\n",
      "i 7553 j 23 nb_backup 212087\n",
      "i 7554 j 15 nb_backup 212103\n",
      "i 7555 j 23 nb_backup 212127\n",
      "i 7556 j 29 nb_backup 212157\n",
      "i 7557 j 19 nb_backup 212177\n",
      "i 7558 j 41 nb_backup 212219\n",
      "i 7559 j 25 nb_backup 212245\n",
      "i 7560 j 24 nb_backup 212270\n",
      "i 7561 j 21 nb_backup 212292\n",
      "i 7562 j 15 nb_backup 212308\n",
      "i 7563 j 27 nb_backup 212336\n",
      "i 7564 j 25 nb_backup 212362\n",
      "i 7565 j 39 nb_backup 212402\n",
      "i 7566 j 21 nb_backup 212424\n",
      "i 7567 j 18 nb_backup 212443\n",
      "i 7568 j 26 nb_backup 212470\n",
      "i 7569 j 48 nb_backup 212519\n",
      "i 7570 j 17 nb_backup 212537\n",
      "i 7571 j 20 nb_backup 212558\n",
      "i 7572 j 28 nb_backup 212587\n",
      "i 7573 j 29 nb_backup 212617\n",
      "i 7574 j 29 nb_backup 212647\n",
      "i 7575 j 23 nb_backup 212671\n",
      "i 7576 j 29 nb_backup 212701\n",
      "i 7577 j 17 nb_backup 212719\n",
      "i 7578 j 21 nb_backup 212741\n",
      "i 7579 j 35 nb_backup 212777\n",
      "i 7580 j 22 nb_backup 212800\n",
      "i 7581 j 33 nb_backup 212834\n",
      "i 7582 j 35 nb_backup 212870\n",
      "i 7583 j 26 nb_backup 212897\n",
      "i 7584 j 26 nb_backup 212924\n",
      "i 7585 j 16 nb_backup 212941\n",
      "i 7586 j 26 nb_backup 212968\n",
      "i 7587 j 27 nb_backup 212996\n",
      "i 7588 j 30 nb_backup 213027\n",
      "i 7589 j 23 nb_backup 213051\n",
      "i 7590 j 38 nb_backup 213090\n",
      "i 7591 j 20 nb_backup 213111\n",
      "i 7592 j 42 nb_backup 213154\n",
      "i 7593 j 28 nb_backup 213183\n",
      "i 7594 j 36 nb_backup 213220\n",
      "i 7595 j 33 nb_backup 213254\n",
      "i 7596 j 31 nb_backup 213286\n",
      "i 7597 j 31 nb_backup 213318\n",
      "i 7598 j 22 nb_backup 213341\n",
      "i 7599 j 15 nb_backup 213357\n",
      "i 7600 j 16 nb_backup 213374\n",
      "i 7601 j 31 nb_backup 213406\n",
      "i 7602 j 32 nb_backup 213439\n",
      "i 7603 j 15 nb_backup 213455\n",
      "i 7604 j 39 nb_backup 213495\n",
      "i 7605 j 29 nb_backup 213525\n",
      "i 7606 j 25 nb_backup 213551\n",
      "i 7607 j 27 nb_backup 213579\n",
      "i 7608 j 18 nb_backup 213598\n",
      "i 7609 j 15 nb_backup 213614\n",
      "i 7610 j 31 nb_backup 213646\n",
      "i 7611 j 27 nb_backup 213674\n",
      "i 7612 j 13 nb_backup 213688\n",
      "i 7613 j 38 nb_backup 213727\n",
      "i 7614 j 16 nb_backup 213744\n",
      "i 7615 j 18 nb_backup 213763\n",
      "i 7616 j 33 nb_backup 213797\n",
      "i 7617 j 20 nb_backup 213818\n",
      "i 7618 j 29 nb_backup 213848\n",
      "i 7619 j 18 nb_backup 213867\n",
      "i 7620 j 33 nb_backup 213901\n",
      "i 7621 j 16 nb_backup 213918\n",
      "i 7622 j 32 nb_backup 213951\n",
      "i 7623 j 20 nb_backup 213972\n",
      "i 7624 j 49 nb_backup 214022\n",
      "i 7625 j 37 nb_backup 214060\n",
      "i 7626 j 31 nb_backup 214092\n",
      "i 7627 j 23 nb_backup 214116\n",
      "i 7628 j 23 nb_backup 214140\n",
      "i 7629 j 14 nb_backup 214155\n",
      "i 7630 j 33 nb_backup 214189\n",
      "i 7631 j 31 nb_backup 214221\n",
      "i 7632 j 22 nb_backup 214244\n",
      "i 7633 j 26 nb_backup 214271\n",
      "i 7634 j 25 nb_backup 214297\n",
      "i 7635 j 26 nb_backup 214324\n",
      "i 7636 j 39 nb_backup 214364\n",
      "i 7637 j 23 nb_backup 214388\n",
      "i 7638 j 39 nb_backup 214428\n",
      "i 7639 j 24 nb_backup 214453\n",
      "i 7640 j 18 nb_backup 214472\n",
      "i 7641 j 20 nb_backup 214493\n",
      "i 7642 j 16 nb_backup 214510\n",
      "i 7643 j 20 nb_backup 214531\n",
      "i 7644 j 25 nb_backup 214557\n",
      "i 7645 j 23 nb_backup 214581\n",
      "i 7646 j 28 nb_backup 214610\n",
      "i 7647 j 26 nb_backup 214637\n",
      "i 7648 j 18 nb_backup 214656\n",
      "i 7649 j 23 nb_backup 214680\n",
      "i 7650 j 17 nb_backup 214698\n",
      "i 7651 j 23 nb_backup 214722\n",
      "i 7652 j 20 nb_backup 214743\n",
      "i 7653 j 31 nb_backup 214775\n",
      "i 7654 j 30 nb_backup 214806\n",
      "i 7655 j 42 nb_backup 214849\n",
      "i 7656 j 47 nb_backup 214897\n",
      "i 7657 j 19 nb_backup 214917\n",
      "i 7658 j 35 nb_backup 214953\n",
      "i 7659 j 31 nb_backup 214985\n",
      "i 7660 j 22 nb_backup 215008\n",
      "i 7661 j 20 nb_backup 215029\n",
      "i 7662 j 26 nb_backup 215056\n",
      "i 7663 j 18 nb_backup 215075\n",
      "i 7664 j 28 nb_backup 215104\n",
      "i 7665 j 17 nb_backup 215122\n",
      "i 7666 j 38 nb_backup 215161\n",
      "i 7667 j 35 nb_backup 215197\n",
      "i 7668 j 27 nb_backup 215225\n",
      "i 7669 j 18 nb_backup 215244\n",
      "i 7670 j 24 nb_backup 215269\n",
      "i 7671 j 23 nb_backup 215293\n",
      "i 7672 j 43 nb_backup 215337\n",
      "i 7673 j 28 nb_backup 215366\n",
      "i 7674 j 34 nb_backup 215401\n",
      "i 7675 j 27 nb_backup 215429\n",
      "i 7676 j 24 nb_backup 215454\n",
      "i 7677 j 36 nb_backup 215491\n",
      "i 7678 j 22 nb_backup 215514\n",
      "i 7679 j 15 nb_backup 215530\n",
      "i 7680 j 26 nb_backup 215557\n",
      "i 7681 j 25 nb_backup 215583\n",
      "i 7682 j 31 nb_backup 215615\n",
      "i 7683 j 30 nb_backup 215646\n",
      "i 7684 j 30 nb_backup 215677\n",
      "i 7685 j 21 nb_backup 215699\n",
      "i 7686 j 17 nb_backup 215717\n",
      "i 7687 j 14 nb_backup 215732\n",
      "i 7688 j 26 nb_backup 215759\n",
      "i 7689 j 15 nb_backup 215775\n",
      "i 7690 j 27 nb_backup 215803\n",
      "i 7691 j 31 nb_backup 215835\n",
      "i 7692 j 17 nb_backup 215853\n",
      "i 7693 j 29 nb_backup 215883\n",
      "i 7694 j 33 nb_backup 215917\n",
      "i 7695 j 19 nb_backup 215937\n",
      "i 7696 j 34 nb_backup 215972\n",
      "i 7697 j 20 nb_backup 215993\n",
      "i 7698 j 25 nb_backup 216019\n",
      "i 7699 j 30 nb_backup 216050\n",
      "i 7700 j 25 nb_backup 216076\n",
      "i 7701 j 16 nb_backup 216093\n",
      "i 7702 j 18 nb_backup 216112\n",
      "i 7703 j 28 nb_backup 216141\n",
      "i 7704 j 17 nb_backup 216159\n",
      "i 7705 j 22 nb_backup 216182\n",
      "i 7706 j 33 nb_backup 216216\n",
      "i 7707 j 27 nb_backup 216244\n",
      "i 7708 j 17 nb_backup 216262\n",
      "i 7709 j 24 nb_backup 216287\n",
      "i 7710 j 28 nb_backup 216316\n",
      "i 7711 j 26 nb_backup 216343\n",
      "i 7712 j 25 nb_backup 216369\n",
      "i 7713 j 13 nb_backup 216383\n",
      "i 7714 j 27 nb_backup 216411\n",
      "i 7715 j 20 nb_backup 216432\n",
      "i 7716 j 33 nb_backup 216466\n",
      "i 7717 j 19 nb_backup 216486\n",
      "i 7718 j 34 nb_backup 216521\n",
      "i 7719 j 29 nb_backup 216551\n",
      "i 7720 j 41 nb_backup 216593\n",
      "i 7721 j 20 nb_backup 216614\n",
      "i 7722 j 34 nb_backup 216649\n",
      "i 7723 j 21 nb_backup 216671\n",
      "i 7724 j 22 nb_backup 216694\n",
      "i 7725 j 29 nb_backup 216724\n",
      "i 7726 j 20 nb_backup 216745\n",
      "i 7727 j 32 nb_backup 216778\n",
      "i 7728 j 29 nb_backup 216808\n",
      "i 7729 j 24 nb_backup 216833\n",
      "i 7730 j 23 nb_backup 216857\n",
      "i 7731 j 31 nb_backup 216889\n",
      "i 7732 j 20 nb_backup 216910\n",
      "i 7733 j 37 nb_backup 216948\n",
      "i 7734 j 16 nb_backup 216965\n",
      "i 7735 j 23 nb_backup 216989\n",
      "i 7736 j 23 nb_backup 217013\n",
      "i 7737 j 16 nb_backup 217030\n",
      "i 7738 j 20 nb_backup 217051\n",
      "i 7739 j 46 nb_backup 217098\n",
      "i 7740 j 21 nb_backup 217120\n",
      "i 7741 j 16 nb_backup 217137\n",
      "i 7742 j 27 nb_backup 217165\n",
      "i 7743 j 24 nb_backup 217190\n",
      "i 7744 j 20 nb_backup 217211\n",
      "i 7745 j 41 nb_backup 217253\n",
      "i 7746 j 28 nb_backup 217282\n",
      "i 7747 j 19 nb_backup 217302\n",
      "i 7748 j 38 nb_backup 217341\n",
      "i 7749 j 20 nb_backup 217362\n",
      "i 7750 j 35 nb_backup 217398\n",
      "i 7751 j 20 nb_backup 217419\n",
      "i 7752 j 21 nb_backup 217441\n",
      "i 7753 j 17 nb_backup 217459\n",
      "i 7754 j 24 nb_backup 217484\n",
      "i 7755 j 22 nb_backup 217507\n",
      "i 7756 j 39 nb_backup 217547\n",
      "i 7757 j 32 nb_backup 217580\n",
      "i 7758 j 22 nb_backup 217603\n",
      "i 7759 j 25 nb_backup 217629\n",
      "i 7760 j 31 nb_backup 217661\n",
      "i 7761 j 21 nb_backup 217683\n",
      "i 7762 j 26 nb_backup 217710\n",
      "i 7763 j 26 nb_backup 217737\n",
      "i 7764 j 49 nb_backup 217787\n",
      "i 7765 j 22 nb_backup 217810\n",
      "i 7766 j 22 nb_backup 217833\n",
      "i 7767 j 31 nb_backup 217865\n",
      "i 7768 j 32 nb_backup 217898\n",
      "i 7769 j 32 nb_backup 217931\n",
      "i 7770 j 44 nb_backup 217976\n",
      "i 7771 j 28 nb_backup 218005\n",
      "i 7772 j 32 nb_backup 218038\n",
      "i 7773 j 25 nb_backup 218064\n",
      "i 7774 j 48 nb_backup 218113\n",
      "i 7775 j 39 nb_backup 218153\n",
      "i 7776 j 23 nb_backup 218177\n",
      "i 7777 j 21 nb_backup 218199\n",
      "i 7778 j 14 nb_backup 218214\n",
      "i 7779 j 14 nb_backup 218229\n",
      "i 7780 j 24 nb_backup 218254\n",
      "i 7781 j 25 nb_backup 218280\n",
      "i 7782 j 27 nb_backup 218308\n",
      "i 7783 j 26 nb_backup 218335\n",
      "i 7784 j 22 nb_backup 218358\n",
      "i 7785 j 43 nb_backup 218402\n",
      "i 7786 j 33 nb_backup 218436\n",
      "i 7787 j 37 nb_backup 218474\n",
      "i 7788 j 25 nb_backup 218500\n",
      "i 7789 j 18 nb_backup 218519\n",
      "i 7790 j 23 nb_backup 218543\n",
      "i 7791 j 37 nb_backup 218581\n",
      "i 7792 j 24 nb_backup 218606\n",
      "i 7793 j 20 nb_backup 218627\n",
      "i 7794 j 25 nb_backup 218653\n",
      "i 7795 j 18 nb_backup 218672\n",
      "i 7796 j 26 nb_backup 218699\n",
      "i 7797 j 24 nb_backup 218724\n",
      "i 7798 j 45 nb_backup 218770\n",
      "i 7799 j 35 nb_backup 218806\n",
      "i 7800 j 33 nb_backup 218840\n",
      "i 7801 j 24 nb_backup 218865\n",
      "i 7802 j 27 nb_backup 218893\n",
      "i 7803 j 21 nb_backup 218915\n",
      "i 7804 j 26 nb_backup 218942\n",
      "i 7805 j 15 nb_backup 218958\n",
      "i 7806 j 35 nb_backup 218994\n",
      "i 7807 j 25 nb_backup 219020\n",
      "i 7808 j 25 nb_backup 219046\n",
      "i 7809 j 26 nb_backup 219073\n",
      "i 7810 j 21 nb_backup 219095\n",
      "i 7811 j 52 nb_backup 219148\n",
      "i 7812 j 15 nb_backup 219164\n",
      "i 7813 j 52 nb_backup 219217\n",
      "i 7814 j 21 nb_backup 219239\n",
      "i 7815 j 23 nb_backup 219263\n",
      "i 7816 j 19 nb_backup 219283\n",
      "i 7817 j 51 nb_backup 219335\n",
      "i 7818 j 29 nb_backup 219365\n",
      "i 7819 j 21 nb_backup 219387\n",
      "i 7820 j 27 nb_backup 219415\n",
      "i 7821 j 18 nb_backup 219434\n",
      "i 7822 j 21 nb_backup 219456\n",
      "i 7823 j 23 nb_backup 219480\n",
      "i 7824 j 36 nb_backup 219517\n",
      "i 7825 j 38 nb_backup 219556\n",
      "i 7826 j 29 nb_backup 219586\n",
      "i 7827 j 27 nb_backup 219614\n",
      "i 7828 j 25 nb_backup 219640\n",
      "i 7829 j 29 nb_backup 219670\n",
      "i 7830 j 21 nb_backup 219692\n",
      "i 7831 j 23 nb_backup 219716\n",
      "i 7832 j 22 nb_backup 219739\n",
      "i 7833 j 20 nb_backup 219760\n",
      "i 7834 j 25 nb_backup 219786\n",
      "i 7835 j 24 nb_backup 219811\n",
      "i 7836 j 22 nb_backup 219834\n",
      "i 7837 j 41 nb_backup 219876\n",
      "i 7838 j 23 nb_backup 219900\n",
      "i 7839 j 18 nb_backup 219919\n",
      "i 7840 j 32 nb_backup 219952\n",
      "i 7841 j 40 nb_backup 219993\n",
      "i 7842 j 22 nb_backup 220016\n",
      "i 7843 j 17 nb_backup 220034\n",
      "i 7844 j 20 nb_backup 220055\n",
      "i 7845 j 23 nb_backup 220079\n",
      "i 7846 j 29 nb_backup 220109\n",
      "i 7847 j 29 nb_backup 220139\n",
      "i 7848 j 21 nb_backup 220161\n",
      "i 7849 j 35 nb_backup 220197\n",
      "i 7850 j 18 nb_backup 220216\n",
      "i 7851 j 32 nb_backup 220249\n",
      "i 7852 j 51 nb_backup 220301\n",
      "i 7853 j 52 nb_backup 220354\n",
      "i 7854 j 63 nb_backup 220418\n",
      "i 7855 j 24 nb_backup 220443\n",
      "i 7856 j 18 nb_backup 220462\n",
      "i 7857 j 32 nb_backup 220495\n",
      "i 7858 j 19 nb_backup 220515\n",
      "i 7859 j 23 nb_backup 220539\n",
      "i 7860 j 26 nb_backup 220566\n",
      "i 7861 j 20 nb_backup 220587\n",
      "i 7862 j 25 nb_backup 220613\n",
      "i 7863 j 31 nb_backup 220645\n",
      "i 7864 j 23 nb_backup 220669\n",
      "i 7865 j 15 nb_backup 220685\n",
      "i 7866 j 25 nb_backup 220711\n",
      "i 7867 j 22 nb_backup 220734\n",
      "i 7868 j 27 nb_backup 220762\n",
      "i 7869 j 33 nb_backup 220796\n",
      "i 7870 j 20 nb_backup 220817\n",
      "i 7871 j 30 nb_backup 220848\n",
      "i 7872 j 26 nb_backup 220875\n",
      "i 7873 j 18 nb_backup 220894\n",
      "i 7874 j 22 nb_backup 220917\n",
      "i 7875 j 27 nb_backup 220945\n",
      "i 7876 j 22 nb_backup 220968\n",
      "i 7877 j 44 nb_backup 221013\n",
      "i 7878 j 25 nb_backup 221039\n",
      "i 7879 j 34 nb_backup 221074\n",
      "i 7880 j 44 nb_backup 221119\n",
      "i 7881 j 25 nb_backup 221145\n",
      "i 7882 j 34 nb_backup 221180\n",
      "i 7883 j 15 nb_backup 221196\n",
      "i 7884 j 21 nb_backup 221218\n",
      "i 7885 j 19 nb_backup 221238\n",
      "i 7886 j 39 nb_backup 221278\n",
      "i 7887 j 27 nb_backup 221306\n",
      "i 7888 j 25 nb_backup 221332\n",
      "i 7889 j 21 nb_backup 221354\n",
      "i 7890 j 44 nb_backup 221399\n",
      "i 7891 j 50 nb_backup 221450\n",
      "i 7892 j 30 nb_backup 221481\n",
      "i 7893 j 30 nb_backup 221512\n",
      "i 7894 j 25 nb_backup 221538\n",
      "i 7895 j 21 nb_backup 221560\n",
      "i 7896 j 31 nb_backup 221592\n",
      "i 7897 j 21 nb_backup 221614\n",
      "i 7898 j 30 nb_backup 221645\n",
      "i 7899 j 22 nb_backup 221668\n",
      "i 7900 j 17 nb_backup 221686\n",
      "i 7901 j 23 nb_backup 221710\n",
      "i 7902 j 15 nb_backup 221726\n",
      "i 7903 j 24 nb_backup 221751\n",
      "i 7904 j 36 nb_backup 221788\n",
      "i 7905 j 46 nb_backup 221835\n",
      "i 7906 j 26 nb_backup 221862\n",
      "i 7907 j 19 nb_backup 221882\n",
      "i 7908 j 29 nb_backup 221912\n",
      "i 7909 j 24 nb_backup 221937\n",
      "i 7910 j 19 nb_backup 221957\n",
      "i 7911 j 21 nb_backup 221979\n",
      "i 7912 j 29 nb_backup 222009\n",
      "i 7913 j 19 nb_backup 222029\n",
      "i 7914 j 21 nb_backup 222051\n",
      "i 7915 j 22 nb_backup 222074\n",
      "i 7916 j 21 nb_backup 222096\n",
      "i 7917 j 19 nb_backup 222116\n",
      "i 7918 j 28 nb_backup 222145\n",
      "i 7919 j 37 nb_backup 222183\n",
      "i 7920 j 33 nb_backup 222217\n",
      "i 7921 j 18 nb_backup 222236\n",
      "i 7922 j 21 nb_backup 222258\n",
      "i 7923 j 17 nb_backup 222276\n",
      "i 7924 j 26 nb_backup 222303\n",
      "i 7925 j 27 nb_backup 222331\n",
      "i 7926 j 24 nb_backup 222356\n",
      "i 7927 j 35 nb_backup 222392\n",
      "i 7928 j 19 nb_backup 222412\n",
      "i 7929 j 31 nb_backup 222444\n",
      "i 7930 j 21 nb_backup 222466\n",
      "i 7931 j 19 nb_backup 222486\n",
      "i 7932 j 17 nb_backup 222504\n",
      "i 7933 j 26 nb_backup 222531\n",
      "i 7934 j 32 nb_backup 222564\n",
      "i 7935 j 27 nb_backup 222592\n",
      "i 7936 j 20 nb_backup 222613\n",
      "i 7937 j 22 nb_backup 222636\n",
      "i 7938 j 16 nb_backup 222653\n",
      "i 7939 j 28 nb_backup 222682\n",
      "i 7940 j 30 nb_backup 222713\n",
      "i 7941 j 22 nb_backup 222736\n",
      "i 7942 j 23 nb_backup 222760\n",
      "i 7943 j 23 nb_backup 222784\n",
      "i 7944 j 24 nb_backup 222809\n",
      "i 7945 j 33 nb_backup 222843\n",
      "i 7946 j 23 nb_backup 222867\n",
      "i 7947 j 31 nb_backup 222899\n",
      "i 7948 j 36 nb_backup 222936\n",
      "i 7949 j 25 nb_backup 222962\n",
      "i 7950 j 32 nb_backup 222995\n",
      "i 7951 j 35 nb_backup 223031\n",
      "i 7952 j 36 nb_backup 223068\n",
      "i 7953 j 19 nb_backup 223088\n",
      "i 7954 j 19 nb_backup 223108\n",
      "i 7955 j 23 nb_backup 223132\n",
      "i 7956 j 50 nb_backup 223183\n",
      "i 7957 j 21 nb_backup 223205\n",
      "i 7958 j 29 nb_backup 223235\n",
      "i 7959 j 32 nb_backup 223268\n",
      "i 7960 j 25 nb_backup 223294\n",
      "i 7961 j 21 nb_backup 223316\n",
      "i 7962 j 17 nb_backup 223334\n",
      "i 7963 j 23 nb_backup 223358\n",
      "i 7964 j 21 nb_backup 223380\n",
      "i 7965 j 38 nb_backup 223419\n",
      "i 7966 j 27 nb_backup 223447\n",
      "i 7967 j 22 nb_backup 223470\n",
      "i 7968 j 20 nb_backup 223491\n",
      "i 7969 j 21 nb_backup 223513\n",
      "i 7970 j 26 nb_backup 223540\n",
      "i 7971 j 22 nb_backup 223563\n",
      "i 7972 j 17 nb_backup 223581\n",
      "i 7973 j 23 nb_backup 223605\n",
      "i 7974 j 16 nb_backup 223622\n",
      "i 7975 j 21 nb_backup 223644\n",
      "i 7976 j 49 nb_backup 223694\n",
      "i 7977 j 35 nb_backup 223730\n",
      "i 7978 j 26 nb_backup 223757\n",
      "i 7979 j 35 nb_backup 223793\n",
      "i 7980 j 20 nb_backup 223814\n",
      "i 7981 j 19 nb_backup 223834\n",
      "i 7982 j 21 nb_backup 223856\n",
      "i 7983 j 24 nb_backup 223881\n",
      "i 7984 j 45 nb_backup 223927\n",
      "i 7985 j 24 nb_backup 223952\n",
      "i 7986 j 45 nb_backup 223998\n",
      "i 7987 j 24 nb_backup 224023\n",
      "i 7988 j 26 nb_backup 224050\n",
      "i 7989 j 14 nb_backup 224065\n",
      "i 7990 j 23 nb_backup 224089\n",
      "i 7991 j 22 nb_backup 224112\n",
      "i 7992 j 27 nb_backup 224140\n",
      "i 7993 j 34 nb_backup 224175\n",
      "i 7994 j 35 nb_backup 224211\n",
      "i 7995 j 40 nb_backup 224252\n",
      "i 7996 j 29 nb_backup 224282\n",
      "i 7997 j 18 nb_backup 224301\n",
      "i 7998 j 24 nb_backup 224326\n",
      "i 7999 j 22 nb_backup 224349\n",
      "i 8000 j 24 nb_backup 224374\n",
      "i 8001 j 28 nb_backup 224403\n",
      "i 8002 j 19 nb_backup 224423\n",
      "i 8003 j 26 nb_backup 224450\n",
      "i 8004 j 43 nb_backup 224494\n",
      "i 8005 j 33 nb_backup 224528\n",
      "i 8006 j 36 nb_backup 224565\n",
      "i 8007 j 28 nb_backup 224594\n",
      "i 8008 j 28 nb_backup 224623\n",
      "i 8009 j 30 nb_backup 224654\n",
      "i 8010 j 45 nb_backup 224700\n",
      "i 8011 j 19 nb_backup 224720\n",
      "i 8012 j 40 nb_backup 224761\n",
      "i 8013 j 17 nb_backup 224779\n",
      "i 8014 j 28 nb_backup 224808\n",
      "i 8015 j 32 nb_backup 224841\n",
      "i 8016 j 25 nb_backup 224867\n",
      "i 8017 j 15 nb_backup 224883\n",
      "i 8018 j 23 nb_backup 224907\n",
      "i 8019 j 26 nb_backup 224934\n",
      "i 8020 j 28 nb_backup 224963\n",
      "i 8021 j 27 nb_backup 224991\n",
      "i 8022 j 31 nb_backup 225023\n",
      "i 8023 j 24 nb_backup 225048\n",
      "i 8024 j 23 nb_backup 225072\n",
      "i 8025 j 45 nb_backup 225118\n",
      "i 8026 j 27 nb_backup 225146\n",
      "i 8027 j 18 nb_backup 225165\n",
      "i 8028 j 34 nb_backup 225200\n",
      "i 8029 j 21 nb_backup 225222\n",
      "i 8030 j 14 nb_backup 225237\n",
      "i 8031 j 25 nb_backup 225263\n",
      "i 8032 j 16 nb_backup 225280\n",
      "i 8033 j 53 nb_backup 225334\n",
      "i 8034 j 33 nb_backup 225368\n",
      "i 8035 j 20 nb_backup 225389\n",
      "i 8036 j 31 nb_backup 225421\n",
      "i 8037 j 24 nb_backup 225446\n",
      "i 8038 j 40 nb_backup 225487\n",
      "i 8039 j 19 nb_backup 225507\n",
      "i 8040 j 17 nb_backup 225525\n",
      "i 8041 j 31 nb_backup 225557\n",
      "i 8042 j 35 nb_backup 225593\n",
      "i 8043 j 40 nb_backup 225634\n",
      "i 8044 j 29 nb_backup 225664\n",
      "i 8045 j 34 nb_backup 225699\n",
      "i 8046 j 30 nb_backup 225730\n",
      "i 8047 j 31 nb_backup 225762\n",
      "i 8048 j 26 nb_backup 225789\n",
      "i 8049 j 21 nb_backup 225811\n",
      "i 8050 j 29 nb_backup 225841\n",
      "i 8051 j 38 nb_backup 225880\n",
      "i 8052 j 34 nb_backup 225915\n",
      "i 8053 j 20 nb_backup 225936\n",
      "i 8054 j 37 nb_backup 225974\n",
      "i 8055 j 25 nb_backup 226000\n",
      "i 8056 j 34 nb_backup 226035\n",
      "i 8057 j 40 nb_backup 226076\n",
      "i 8058 j 40 nb_backup 226117\n",
      "i 8059 j 44 nb_backup 226162\n",
      "i 8060 j 19 nb_backup 226182\n",
      "i 8061 j 17 nb_backup 226200\n",
      "i 8062 j 32 nb_backup 226233\n",
      "i 8063 j 22 nb_backup 226256\n",
      "i 8064 j 17 nb_backup 226274\n",
      "i 8065 j 16 nb_backup 226291\n",
      "i 8066 j 22 nb_backup 226314\n",
      "i 8067 j 25 nb_backup 226340\n",
      "i 8068 j 22 nb_backup 226363\n",
      "i 8069 j 16 nb_backup 226380\n",
      "i 8070 j 37 nb_backup 226418\n",
      "i 8071 j 23 nb_backup 226442\n",
      "i 8072 j 25 nb_backup 226468\n",
      "i 8073 j 20 nb_backup 226489\n",
      "i 8074 j 21 nb_backup 226511\n",
      "i 8075 j 25 nb_backup 226537\n",
      "i 8076 j 21 nb_backup 226559\n",
      "i 8077 j 27 nb_backup 226587\n",
      "i 8078 j 26 nb_backup 226614\n",
      "i 8079 j 28 nb_backup 226643\n",
      "i 8080 j 19 nb_backup 226663\n",
      "i 8081 j 28 nb_backup 226692\n",
      "i 8082 j 34 nb_backup 226727\n",
      "i 8083 j 29 nb_backup 226757\n",
      "i 8084 j 28 nb_backup 226786\n",
      "i 8085 j 23 nb_backup 226810\n",
      "i 8086 j 22 nb_backup 226833\n",
      "i 8087 j 43 nb_backup 226877\n",
      "i 8088 j 37 nb_backup 226915\n",
      "i 8089 j 19 nb_backup 226935\n",
      "i 8090 j 22 nb_backup 226958\n",
      "i 8091 j 21 nb_backup 226980\n",
      "i 8092 j 15 nb_backup 226996\n",
      "i 8093 j 30 nb_backup 227027\n",
      "i 8094 j 30 nb_backup 227058\n",
      "i 8095 j 37 nb_backup 227096\n",
      "i 8096 j 22 nb_backup 227119\n",
      "i 8097 j 19 nb_backup 227139\n",
      "i 8098 j 46 nb_backup 227186\n",
      "i 8099 j 14 nb_backup 227201\n",
      "i 8100 j 30 nb_backup 227232\n",
      "i 8101 j 28 nb_backup 227261\n",
      "i 8102 j 17 nb_backup 227279\n",
      "i 8103 j 14 nb_backup 227294\n",
      "i 8104 j 19 nb_backup 227314\n",
      "i 8105 j 47 nb_backup 227362\n",
      "i 8106 j 40 nb_backup 227403\n",
      "i 8107 j 42 nb_backup 227446\n",
      "i 8108 j 25 nb_backup 227472\n",
      "i 8109 j 32 nb_backup 227505\n",
      "i 8110 j 22 nb_backup 227528\n",
      "i 8111 j 27 nb_backup 227556\n",
      "i 8112 j 34 nb_backup 227591\n",
      "i 8113 j 26 nb_backup 227618\n",
      "i 8114 j 25 nb_backup 227644\n",
      "i 8115 j 20 nb_backup 227665\n",
      "i 8116 j 18 nb_backup 227684\n",
      "i 8117 j 48 nb_backup 227733\n",
      "i 8118 j 39 nb_backup 227773\n",
      "i 8119 j 51 nb_backup 227825\n",
      "i 8120 j 25 nb_backup 227851\n",
      "i 8121 j 30 nb_backup 227882\n",
      "i 8122 j 33 nb_backup 227916\n",
      "i 8123 j 21 nb_backup 227938\n",
      "i 8124 j 34 nb_backup 227973\n",
      "i 8125 j 20 nb_backup 227994\n",
      "i 8126 j 22 nb_backup 228017\n",
      "i 8127 j 18 nb_backup 228036\n",
      "i 8128 j 25 nb_backup 228062\n",
      "i 8129 j 22 nb_backup 228085\n",
      "i 8130 j 29 nb_backup 228115\n",
      "i 8131 j 26 nb_backup 228142\n",
      "i 8132 j 25 nb_backup 228168\n",
      "i 8133 j 20 nb_backup 228189\n",
      "i 8134 j 28 nb_backup 228218\n",
      "i 8135 j 20 nb_backup 228239\n",
      "i 8136 j 20 nb_backup 228260\n",
      "i 8137 j 35 nb_backup 228296\n",
      "i 8138 j 27 nb_backup 228324\n",
      "i 8139 j 22 nb_backup 228347\n",
      "i 8140 j 24 nb_backup 228372\n",
      "i 8141 j 35 nb_backup 228408\n",
      "i 8142 j 17 nb_backup 228426\n",
      "i 8143 j 20 nb_backup 228447\n",
      "i 8144 j 25 nb_backup 228473\n",
      "i 8145 j 28 nb_backup 228502\n",
      "i 8146 j 40 nb_backup 228543\n",
      "i 8147 j 28 nb_backup 228572\n",
      "i 8148 j 26 nb_backup 228599\n",
      "i 8149 j 18 nb_backup 228618\n",
      "i 8150 j 24 nb_backup 228643\n",
      "i 8151 j 24 nb_backup 228668\n",
      "i 8152 j 20 nb_backup 228689\n",
      "i 8153 j 46 nb_backup 228736\n",
      "i 8154 j 20 nb_backup 228757\n",
      "i 8155 j 30 nb_backup 228788\n",
      "i 8156 j 26 nb_backup 228815\n",
      "i 8157 j 21 nb_backup 228837\n",
      "i 8158 j 20 nb_backup 228858\n",
      "i 8159 j 18 nb_backup 228877\n",
      "i 8160 j 20 nb_backup 228898\n",
      "i 8161 j 25 nb_backup 228924\n",
      "i 8162 j 28 nb_backup 228953\n",
      "i 8163 j 22 nb_backup 228976\n",
      "i 8164 j 23 nb_backup 229000\n",
      "i 8165 j 23 nb_backup 229024\n",
      "i 8166 j 20 nb_backup 229045\n",
      "i 8167 j 25 nb_backup 229071\n",
      "i 8168 j 26 nb_backup 229098\n",
      "i 8169 j 20 nb_backup 229119\n",
      "i 8170 j 29 nb_backup 229149\n",
      "i 8171 j 19 nb_backup 229169\n",
      "i 8172 j 29 nb_backup 229199\n",
      "i 8173 j 31 nb_backup 229231\n",
      "i 8174 j 15 nb_backup 229247\n",
      "i 8175 j 41 nb_backup 229289\n",
      "i 8176 j 21 nb_backup 229311\n",
      "i 8177 j 27 nb_backup 229339\n",
      "i 8178 j 20 nb_backup 229360\n",
      "i 8179 j 33 nb_backup 229394\n",
      "i 8180 j 29 nb_backup 229424\n",
      "i 8181 j 30 nb_backup 229455\n",
      "i 8182 j 20 nb_backup 229476\n",
      "i 8183 j 27 nb_backup 229504\n",
      "i 8184 j 22 nb_backup 229527\n",
      "i 8185 j 34 nb_backup 229562\n",
      "i 8186 j 30 nb_backup 229593\n",
      "i 8187 j 23 nb_backup 229617\n",
      "i 8188 j 24 nb_backup 229642\n",
      "i 8189 j 20 nb_backup 229663\n",
      "i 8190 j 38 nb_backup 229702\n",
      "i 8191 j 24 nb_backup 229727\n",
      "i 8192 j 25 nb_backup 229753\n",
      "i 8193 j 18 nb_backup 229772\n",
      "i 8194 j 29 nb_backup 229802\n",
      "i 8195 j 28 nb_backup 229831\n",
      "i 8196 j 24 nb_backup 229856\n",
      "i 8197 j 16 nb_backup 229873\n",
      "i 8198 j 37 nb_backup 229911\n",
      "i 8199 j 27 nb_backup 229939\n",
      "i 8200 j 27 nb_backup 229967\n",
      "i 8201 j 22 nb_backup 229990\n",
      "i 8202 j 19 nb_backup 230010\n",
      "i 8203 j 37 nb_backup 230048\n",
      "i 8204 j 51 nb_backup 230100\n",
      "i 8205 j 22 nb_backup 230123\n",
      "i 8206 j 25 nb_backup 230149\n",
      "i 8207 j 14 nb_backup 230164\n",
      "i 8208 j 54 nb_backup 230219\n",
      "i 8209 j 33 nb_backup 230253\n",
      "i 8210 j 37 nb_backup 230291\n",
      "i 8211 j 25 nb_backup 230317\n",
      "i 8212 j 30 nb_backup 230348\n",
      "i 8213 j 22 nb_backup 230371\n",
      "i 8214 j 41 nb_backup 230413\n",
      "i 8215 j 25 nb_backup 230439\n",
      "i 8216 j 22 nb_backup 230462\n",
      "i 8217 j 27 nb_backup 230490\n",
      "i 8218 j 28 nb_backup 230519\n",
      "i 8219 j 22 nb_backup 230542\n",
      "i 8220 j 20 nb_backup 230563\n",
      "i 8221 j 22 nb_backup 230586\n",
      "i 8222 j 26 nb_backup 230613\n",
      "i 8223 j 21 nb_backup 230635\n",
      "i 8224 j 29 nb_backup 230665\n",
      "i 8225 j 41 nb_backup 230707\n",
      "i 8226 j 24 nb_backup 230732\n",
      "i 8227 j 25 nb_backup 230758\n",
      "i 8228 j 21 nb_backup 230780\n",
      "i 8229 j 29 nb_backup 230810\n",
      "i 8230 j 18 nb_backup 230829\n",
      "i 8231 j 25 nb_backup 230855\n",
      "i 8232 j 28 nb_backup 230884\n",
      "i 8233 j 20 nb_backup 230905\n",
      "i 8234 j 28 nb_backup 230934\n",
      "i 8235 j 30 nb_backup 230965\n",
      "i 8236 j 25 nb_backup 230991\n",
      "i 8237 j 27 nb_backup 231019\n",
      "i 8238 j 21 nb_backup 231041\n",
      "i 8239 j 23 nb_backup 231065\n",
      "i 8240 j 29 nb_backup 231095\n",
      "i 8241 j 14 nb_backup 231110\n",
      "i 8242 j 27 nb_backup 231138\n",
      "i 8243 j 26 nb_backup 231165\n",
      "i 8244 j 20 nb_backup 231186\n",
      "i 8245 j 46 nb_backup 231233\n",
      "i 8246 j 28 nb_backup 231262\n",
      "i 8247 j 56 nb_backup 231319\n",
      "i 8248 j 42 nb_backup 231362\n",
      "i 8249 j 20 nb_backup 231383\n",
      "i 8250 j 32 nb_backup 231416\n",
      "i 8251 j 26 nb_backup 231443\n",
      "i 8252 j 22 nb_backup 231466\n",
      "i 8253 j 35 nb_backup 231502\n",
      "i 8254 j 18 nb_backup 231521\n",
      "i 8255 j 22 nb_backup 231544\n",
      "i 8256 j 41 nb_backup 231586\n",
      "i 8257 j 29 nb_backup 231616\n",
      "i 8258 j 28 nb_backup 231645\n",
      "i 8259 j 31 nb_backup 231677\n",
      "i 8260 j 33 nb_backup 231711\n",
      "i 8261 j 30 nb_backup 231742\n",
      "i 8262 j 43 nb_backup 231786\n",
      "i 8263 j 31 nb_backup 231818\n",
      "i 8264 j 39 nb_backup 231858\n",
      "i 8265 j 29 nb_backup 231888\n",
      "i 8266 j 28 nb_backup 231917\n",
      "i 8267 j 33 nb_backup 231951\n",
      "i 8268 j 23 nb_backup 231975\n",
      "i 8269 j 25 nb_backup 232001\n",
      "i 8270 j 19 nb_backup 232021\n",
      "i 8271 j 17 nb_backup 232039\n",
      "i 8272 j 23 nb_backup 232063\n",
      "i 8273 j 27 nb_backup 232091\n",
      "i 8274 j 20 nb_backup 232112\n",
      "i 8275 j 27 nb_backup 232140\n",
      "i 8276 j 50 nb_backup 232191\n",
      "i 8277 j 44 nb_backup 232236\n",
      "i 8278 j 41 nb_backup 232278\n",
      "i 8279 j 21 nb_backup 232300\n",
      "i 8280 j 24 nb_backup 232325\n",
      "i 8281 j 37 nb_backup 232363\n",
      "i 8282 j 30 nb_backup 232394\n",
      "i 8283 j 19 nb_backup 232414\n",
      "i 8284 j 21 nb_backup 232436\n",
      "i 8285 j 16 nb_backup 232453\n",
      "i 8286 j 21 nb_backup 232475\n",
      "i 8287 j 20 nb_backup 232496\n",
      "i 8288 j 30 nb_backup 232527\n",
      "i 8289 j 15 nb_backup 232543\n",
      "i 8290 j 19 nb_backup 232563\n",
      "i 8291 j 21 nb_backup 232585\n",
      "i 8292 j 43 nb_backup 232629\n",
      "i 8293 j 21 nb_backup 232651\n",
      "i 8294 j 20 nb_backup 232672\n",
      "i 8295 j 21 nb_backup 232694\n",
      "i 8296 j 33 nb_backup 232728\n",
      "i 8297 j 24 nb_backup 232753\n",
      "i 8298 j 22 nb_backup 232776\n",
      "i 8299 j 27 nb_backup 232804\n",
      "i 8300 j 20 nb_backup 232825\n",
      "i 8301 j 46 nb_backup 232872\n",
      "i 8302 j 14 nb_backup 232887\n",
      "i 8303 j 24 nb_backup 232912\n",
      "i 8304 j 22 nb_backup 232935\n",
      "i 8305 j 30 nb_backup 232966\n",
      "i 8306 j 28 nb_backup 232995\n",
      "i 8307 j 17 nb_backup 233013\n",
      "i 8308 j 20 nb_backup 233034\n",
      "i 8309 j 20 nb_backup 233055\n",
      "i 8310 j 18 nb_backup 233074\n",
      "i 8311 j 17 nb_backup 233092\n",
      "i 8312 j 46 nb_backup 233139\n",
      "i 8313 j 40 nb_backup 233180\n",
      "i 8314 j 24 nb_backup 233205\n",
      "i 8315 j 22 nb_backup 233228\n",
      "i 8316 j 45 nb_backup 233274\n",
      "i 8317 j 16 nb_backup 233291\n",
      "i 8318 j 15 nb_backup 233307\n",
      "i 8319 j 25 nb_backup 233333\n",
      "i 8320 j 26 nb_backup 233360\n",
      "i 8321 j 13 nb_backup 233374\n",
      "i 8322 j 23 nb_backup 233398\n",
      "i 8323 j 16 nb_backup 233415\n",
      "i 8324 j 35 nb_backup 233451\n",
      "i 8325 j 19 nb_backup 233471\n",
      "i 8326 j 30 nb_backup 233502\n",
      "i 8327 j 29 nb_backup 233532\n",
      "i 8328 j 19 nb_backup 233552\n",
      "i 8329 j 26 nb_backup 233579\n",
      "i 8330 j 27 nb_backup 233607\n",
      "i 8331 j 29 nb_backup 233637\n",
      "i 8332 j 18 nb_backup 233656\n",
      "i 8333 j 23 nb_backup 233680\n",
      "i 8334 j 19 nb_backup 233700\n",
      "i 8335 j 29 nb_backup 233730\n",
      "i 8336 j 55 nb_backup 233786\n",
      "i 8337 j 27 nb_backup 233814\n",
      "i 8338 j 27 nb_backup 233842\n",
      "i 8339 j 23 nb_backup 233866\n",
      "i 8340 j 41 nb_backup 233908\n",
      "i 8341 j 20 nb_backup 233929\n",
      "i 8342 j 33 nb_backup 233963\n",
      "i 8343 j 25 nb_backup 233989\n",
      "i 8344 j 28 nb_backup 234018\n",
      "i 8345 j 17 nb_backup 234036\n",
      "i 8346 j 32 nb_backup 234069\n",
      "i 8347 j 32 nb_backup 234102\n",
      "i 8348 j 30 nb_backup 234133\n",
      "i 8349 j 24 nb_backup 234158\n",
      "i 8350 j 22 nb_backup 234181\n",
      "i 8351 j 27 nb_backup 234209\n",
      "i 8352 j 19 nb_backup 234229\n",
      "i 8353 j 20 nb_backup 234250\n",
      "i 8354 j 16 nb_backup 234267\n",
      "i 8355 j 17 nb_backup 234285\n",
      "i 8356 j 20 nb_backup 234306\n",
      "i 8357 j 20 nb_backup 234327\n",
      "i 8358 j 45 nb_backup 234373\n",
      "i 8359 j 21 nb_backup 234395\n",
      "i 8360 j 43 nb_backup 234439\n",
      "i 8361 j 24 nb_backup 234464\n",
      "i 8362 j 27 nb_backup 234492\n",
      "i 8363 j 24 nb_backup 234517\n",
      "i 8364 j 17 nb_backup 234535\n",
      "i 8365 j 24 nb_backup 234560\n",
      "i 8366 j 24 nb_backup 234585\n",
      "i 8367 j 22 nb_backup 234608\n",
      "i 8368 j 34 nb_backup 234643\n",
      "i 8369 j 35 nb_backup 234679\n",
      "i 8370 j 33 nb_backup 234713\n",
      "i 8371 j 17 nb_backup 234731\n",
      "i 8372 j 25 nb_backup 234757\n",
      "i 8373 j 30 nb_backup 234788\n",
      "i 8374 j 31 nb_backup 234820\n",
      "i 8375 j 33 nb_backup 234854\n",
      "i 8376 j 26 nb_backup 234881\n",
      "i 8377 j 44 nb_backup 234926\n",
      "i 8378 j 19 nb_backup 234946\n",
      "i 8379 j 30 nb_backup 234977\n",
      "i 8380 j 18 nb_backup 234996\n",
      "i 8381 j 18 nb_backup 235015\n",
      "i 8382 j 33 nb_backup 235049\n",
      "i 8383 j 35 nb_backup 235085\n",
      "i 8384 j 23 nb_backup 235109\n",
      "i 8385 j 28 nb_backup 235138\n",
      "i 8386 j 37 nb_backup 235176\n",
      "i 8387 j 28 nb_backup 235205\n",
      "i 8388 j 23 nb_backup 235229\n",
      "i 8389 j 25 nb_backup 235255\n",
      "i 8390 j 34 nb_backup 235290\n",
      "i 8391 j 35 nb_backup 235326\n",
      "i 8392 j 31 nb_backup 235358\n",
      "i 8393 j 18 nb_backup 235377\n",
      "i 8394 j 24 nb_backup 235402\n",
      "i 8395 j 25 nb_backup 235428\n",
      "i 8396 j 16 nb_backup 235445\n",
      "i 8397 j 42 nb_backup 235488\n",
      "i 8398 j 20 nb_backup 235509\n",
      "i 8399 j 22 nb_backup 235532\n",
      "i 8400 j 28 nb_backup 235561\n",
      "i 8401 j 24 nb_backup 235586\n",
      "i 8402 j 24 nb_backup 235611\n",
      "i 8403 j 18 nb_backup 235630\n",
      "i 8404 j 22 nb_backup 235653\n",
      "i 8405 j 22 nb_backup 235676\n",
      "i 8406 j 21 nb_backup 235698\n",
      "i 8407 j 27 nb_backup 235726\n",
      "i 8408 j 16 nb_backup 235743\n",
      "i 8409 j 29 nb_backup 235773\n",
      "i 8410 j 24 nb_backup 235798\n",
      "i 8411 j 22 nb_backup 235821\n",
      "i 8412 j 19 nb_backup 235841\n",
      "i 8413 j 27 nb_backup 235869\n",
      "i 8414 j 27 nb_backup 235897\n",
      "i 8415 j 24 nb_backup 235922\n",
      "i 8416 j 29 nb_backup 235952\n",
      "i 8417 j 18 nb_backup 235971\n",
      "i 8418 j 26 nb_backup 235998\n",
      "i 8419 j 24 nb_backup 236023\n",
      "i 8420 j 19 nb_backup 236043\n",
      "i 8421 j 32 nb_backup 236076\n",
      "i 8422 j 25 nb_backup 236102\n",
      "i 8423 j 23 nb_backup 236126\n",
      "i 8424 j 22 nb_backup 236149\n",
      "i 8425 j 29 nb_backup 236179\n",
      "i 8426 j 20 nb_backup 236200\n",
      "i 8427 j 26 nb_backup 236227\n",
      "i 8428 j 25 nb_backup 236253\n",
      "i 8429 j 24 nb_backup 236278\n",
      "i 8430 j 22 nb_backup 236301\n",
      "i 8431 j 20 nb_backup 236322\n",
      "i 8432 j 17 nb_backup 236340\n",
      "i 8433 j 36 nb_backup 236377\n",
      "i 8434 j 22 nb_backup 236400\n",
      "i 8435 j 18 nb_backup 236419\n",
      "i 8436 j 21 nb_backup 236441\n",
      "i 8437 j 31 nb_backup 236473\n",
      "i 8438 j 48 nb_backup 236522\n",
      "i 8439 j 58 nb_backup 236581\n",
      "i 8440 j 43 nb_backup 236625\n",
      "i 8441 j 39 nb_backup 236665\n",
      "i 8442 j 18 nb_backup 236684\n",
      "i 8443 j 20 nb_backup 236705\n",
      "i 8444 j 17 nb_backup 236723\n",
      "i 8445 j 30 nb_backup 236754\n",
      "i 8446 j 14 nb_backup 236769\n",
      "i 8447 j 18 nb_backup 236788\n",
      "i 8448 j 20 nb_backup 236809\n",
      "i 8449 j 16 nb_backup 236826\n",
      "i 8450 j 20 nb_backup 236847\n",
      "i 8451 j 18 nb_backup 236866\n",
      "i 8452 j 34 nb_backup 236901\n",
      "i 8453 j 20 nb_backup 236922\n",
      "i 8454 j 19 nb_backup 236942\n",
      "i 8455 j 26 nb_backup 236969\n",
      "i 8456 j 22 nb_backup 236992\n",
      "i 8457 j 33 nb_backup 237026\n",
      "i 8458 j 27 nb_backup 237054\n",
      "i 8459 j 29 nb_backup 237084\n",
      "i 8460 j 33 nb_backup 237118\n",
      "i 8461 j 22 nb_backup 237141\n",
      "i 8462 j 24 nb_backup 237166\n",
      "i 8463 j 27 nb_backup 237194\n",
      "i 8464 j 21 nb_backup 237216\n",
      "i 8465 j 26 nb_backup 237243\n",
      "i 8466 j 30 nb_backup 237274\n",
      "i 8467 j 16 nb_backup 237291\n",
      "i 8468 j 21 nb_backup 237313\n",
      "i 8469 j 35 nb_backup 237349\n",
      "i 8470 j 17 nb_backup 237367\n",
      "i 8471 j 29 nb_backup 237397\n",
      "i 8472 j 21 nb_backup 237419\n",
      "i 8473 j 31 nb_backup 237451\n",
      "i 8474 j 22 nb_backup 237474\n",
      "i 8475 j 23 nb_backup 237498\n",
      "i 8476 j 32 nb_backup 237531\n",
      "i 8477 j 15 nb_backup 237547\n",
      "i 8478 j 26 nb_backup 237574\n",
      "i 8479 j 21 nb_backup 237596\n",
      "i 8480 j 36 nb_backup 237633\n",
      "i 8481 j 20 nb_backup 237654\n",
      "i 8482 j 19 nb_backup 237674\n",
      "i 8483 j 22 nb_backup 237697\n",
      "i 8484 j 15 nb_backup 237713\n",
      "i 8485 j 16 nb_backup 237730\n",
      "i 8486 j 30 nb_backup 237761\n",
      "i 8487 j 26 nb_backup 237788\n",
      "i 8488 j 18 nb_backup 237807\n",
      "i 8489 j 16 nb_backup 237824\n",
      "i 8490 j 19 nb_backup 237844\n",
      "i 8491 j 29 nb_backup 237874\n",
      "i 8492 j 28 nb_backup 237903\n",
      "i 8493 j 37 nb_backup 237941\n",
      "i 8494 j 31 nb_backup 237973\n",
      "i 8495 j 22 nb_backup 237996\n",
      "i 8496 j 18 nb_backup 238015\n",
      "i 8497 j 43 nb_backup 238059\n",
      "i 8498 j 32 nb_backup 238092\n",
      "i 8499 j 41 nb_backup 238134\n",
      "i 8500 j 49 nb_backup 238184\n",
      "i 8501 j 37 nb_backup 238222\n",
      "i 8502 j 23 nb_backup 238246\n",
      "i 8503 j 21 nb_backup 238268\n",
      "i 8504 j 36 nb_backup 238305\n",
      "i 8505 j 21 nb_backup 238327\n",
      "i 8506 j 19 nb_backup 238347\n",
      "i 8507 j 34 nb_backup 238382\n",
      "i 8508 j 50 nb_backup 238433\n",
      "i 8509 j 15 nb_backup 238449\n",
      "i 8510 j 19 nb_backup 238469\n",
      "i 8511 j 21 nb_backup 238491\n",
      "i 8512 j 29 nb_backup 238521\n",
      "i 8513 j 22 nb_backup 238544\n",
      "i 8514 j 21 nb_backup 238566\n",
      "i 8515 j 31 nb_backup 238598\n",
      "i 8516 j 27 nb_backup 238626\n",
      "i 8517 j 28 nb_backup 238655\n",
      "i 8518 j 38 nb_backup 238694\n",
      "i 8519 j 26 nb_backup 238721\n",
      "i 8520 j 30 nb_backup 238752\n",
      "i 8521 j 26 nb_backup 238779\n",
      "i 8522 j 32 nb_backup 238812\n",
      "i 8523 j 38 nb_backup 238851\n",
      "i 8524 j 18 nb_backup 238870\n",
      "i 8525 j 20 nb_backup 238891\n",
      "i 8526 j 30 nb_backup 238922\n",
      "i 8527 j 40 nb_backup 238963\n",
      "i 8528 j 31 nb_backup 238995\n",
      "i 8529 j 34 nb_backup 239030\n",
      "i 8530 j 21 nb_backup 239052\n",
      "i 8531 j 26 nb_backup 239079\n",
      "i 8532 j 20 nb_backup 239100\n",
      "i 8533 j 26 nb_backup 239127\n",
      "i 8534 j 25 nb_backup 239153\n",
      "i 8535 j 32 nb_backup 239186\n",
      "i 8536 j 42 nb_backup 239229\n",
      "i 8537 j 21 nb_backup 239251\n",
      "i 8538 j 21 nb_backup 239273\n",
      "i 8539 j 19 nb_backup 239293\n",
      "i 8540 j 19 nb_backup 239313\n",
      "i 8541 j 26 nb_backup 239340\n",
      "i 8542 j 32 nb_backup 239373\n",
      "i 8543 j 24 nb_backup 239398\n",
      "i 8544 j 39 nb_backup 239438\n",
      "i 8545 j 27 nb_backup 239466\n",
      "i 8546 j 25 nb_backup 239492\n",
      "i 8547 j 29 nb_backup 239522\n",
      "i 8548 j 30 nb_backup 239553\n",
      "i 8549 j 28 nb_backup 239582\n",
      "i 8550 j 24 nb_backup 239607\n",
      "i 8551 j 22 nb_backup 239630\n",
      "i 8552 j 26 nb_backup 239657\n",
      "i 8553 j 22 nb_backup 239680\n",
      "i 8554 j 38 nb_backup 239719\n",
      "i 8555 j 31 nb_backup 239751\n",
      "i 8556 j 23 nb_backup 239775\n",
      "i 8557 j 37 nb_backup 239813\n",
      "i 8558 j 17 nb_backup 239831\n",
      "i 8559 j 25 nb_backup 239857\n",
      "i 8560 j 39 nb_backup 239897\n",
      "i 8561 j 27 nb_backup 239925\n",
      "i 8562 j 46 nb_backup 239972\n",
      "i 8563 j 23 nb_backup 239996\n",
      "i 8564 j 16 nb_backup 240013\n",
      "i 8565 j 24 nb_backup 240038\n",
      "i 8566 j 23 nb_backup 240062\n",
      "i 8567 j 37 nb_backup 240100\n",
      "i 8568 j 22 nb_backup 240123\n",
      "i 8569 j 28 nb_backup 240152\n",
      "i 8570 j 30 nb_backup 240183\n",
      "i 8571 j 28 nb_backup 240212\n",
      "i 8572 j 29 nb_backup 240242\n",
      "i 8573 j 21 nb_backup 240264\n",
      "i 8574 j 29 nb_backup 240294\n",
      "i 8575 j 18 nb_backup 240313\n",
      "i 8576 j 24 nb_backup 240338\n",
      "i 8577 j 47 nb_backup 240386\n",
      "i 8578 j 23 nb_backup 240410\n",
      "i 8579 j 27 nb_backup 240438\n",
      "i 8580 j 19 nb_backup 240458\n",
      "i 8581 j 28 nb_backup 240487\n",
      "i 8582 j 27 nb_backup 240515\n",
      "i 8583 j 29 nb_backup 240545\n",
      "i 8584 j 44 nb_backup 240590\n",
      "i 8585 j 29 nb_backup 240620\n",
      "i 8586 j 24 nb_backup 240645\n",
      "i 8587 j 21 nb_backup 240667\n",
      "i 8588 j 27 nb_backup 240695\n",
      "i 8589 j 29 nb_backup 240725\n",
      "i 8590 j 20 nb_backup 240746\n",
      "i 8591 j 23 nb_backup 240770\n",
      "i 8592 j 15 nb_backup 240786\n",
      "i 8593 j 27 nb_backup 240814\n",
      "i 8594 j 24 nb_backup 240839\n",
      "i 8595 j 35 nb_backup 240875\n",
      "i 8596 j 13 nb_backup 240889\n",
      "i 8597 j 31 nb_backup 240921\n",
      "i 8598 j 60 nb_backup 240982\n",
      "i 8599 j 27 nb_backup 241010\n",
      "i 8600 j 33 nb_backup 241044\n",
      "i 8601 j 26 nb_backup 241071\n",
      "i 8602 j 18 nb_backup 241090\n",
      "i 8603 j 34 nb_backup 241125\n",
      "i 8604 j 27 nb_backup 241153\n",
      "i 8605 j 22 nb_backup 241176\n",
      "i 8606 j 20 nb_backup 241197\n",
      "i 8607 j 34 nb_backup 241232\n",
      "i 8608 j 18 nb_backup 241251\n",
      "i 8609 j 22 nb_backup 241274\n",
      "i 8610 j 21 nb_backup 241296\n",
      "i 8611 j 21 nb_backup 241318\n",
      "i 8612 j 19 nb_backup 241338\n",
      "i 8613 j 30 nb_backup 241369\n",
      "i 8614 j 21 nb_backup 241391\n",
      "i 8615 j 38 nb_backup 241430\n",
      "i 8616 j 36 nb_backup 241467\n",
      "i 8617 j 22 nb_backup 241490\n",
      "i 8618 j 38 nb_backup 241529\n",
      "i 8619 j 23 nb_backup 241553\n",
      "i 8620 j 21 nb_backup 241575\n",
      "i 8621 j 26 nb_backup 241602\n",
      "i 8622 j 39 nb_backup 241642\n",
      "i 8623 j 26 nb_backup 241669\n",
      "i 8624 j 31 nb_backup 241701\n",
      "i 8625 j 17 nb_backup 241719\n",
      "i 8626 j 41 nb_backup 241761\n",
      "i 8627 j 30 nb_backup 241792\n",
      "i 8628 j 17 nb_backup 241810\n",
      "i 8629 j 21 nb_backup 241832\n",
      "i 8630 j 33 nb_backup 241866\n",
      "i 8631 j 25 nb_backup 241892\n",
      "i 8632 j 25 nb_backup 241918\n",
      "i 8633 j 18 nb_backup 241937\n",
      "i 8634 j 19 nb_backup 241957\n",
      "i 8635 j 16 nb_backup 241974\n",
      "i 8636 j 20 nb_backup 241995\n",
      "i 8637 j 25 nb_backup 242021\n",
      "i 8638 j 32 nb_backup 242054\n",
      "i 8639 j 22 nb_backup 242077\n",
      "i 8640 j 52 nb_backup 242130\n",
      "i 8641 j 24 nb_backup 242155\n",
      "i 8642 j 39 nb_backup 242195\n",
      "i 8643 j 32 nb_backup 242228\n",
      "i 8644 j 28 nb_backup 242257\n",
      "i 8645 j 14 nb_backup 242272\n",
      "i 8646 j 18 nb_backup 242291\n",
      "i 8647 j 22 nb_backup 242314\n",
      "i 8648 j 32 nb_backup 242347\n",
      "i 8649 j 26 nb_backup 242374\n",
      "i 8650 j 30 nb_backup 242405\n",
      "i 8651 j 18 nb_backup 242424\n",
      "i 8652 j 19 nb_backup 242444\n",
      "i 8653 j 15 nb_backup 242460\n",
      "i 8654 j 22 nb_backup 242483\n",
      "i 8655 j 33 nb_backup 242517\n",
      "i 8656 j 32 nb_backup 242550\n",
      "i 8657 j 34 nb_backup 242585\n",
      "i 8658 j 21 nb_backup 242607\n",
      "i 8659 j 28 nb_backup 242636\n",
      "i 8660 j 36 nb_backup 242673\n",
      "i 8661 j 23 nb_backup 242697\n",
      "i 8662 j 21 nb_backup 242719\n",
      "i 8663 j 22 nb_backup 242742\n",
      "i 8664 j 15 nb_backup 242758\n",
      "i 8665 j 26 nb_backup 242785\n",
      "i 8666 j 20 nb_backup 242806\n",
      "i 8667 j 22 nb_backup 242829\n",
      "i 8668 j 31 nb_backup 242861\n",
      "i 8669 j 23 nb_backup 242885\n",
      "i 8670 j 26 nb_backup 242912\n",
      "i 8671 j 26 nb_backup 242939\n",
      "i 8672 j 31 nb_backup 242971\n",
      "i 8673 j 43 nb_backup 243015\n",
      "i 8674 j 29 nb_backup 243045\n",
      "i 8675 j 23 nb_backup 243069\n",
      "i 8676 j 27 nb_backup 243097\n",
      "i 8677 j 16 nb_backup 243114\n",
      "i 8678 j 26 nb_backup 243141\n",
      "i 8679 j 28 nb_backup 243170\n",
      "i 8680 j 25 nb_backup 243196\n",
      "i 8681 j 30 nb_backup 243227\n",
      "i 8682 j 33 nb_backup 243261\n",
      "i 8683 j 17 nb_backup 243279\n",
      "i 8684 j 40 nb_backup 243320\n",
      "i 8685 j 29 nb_backup 243350\n",
      "i 8686 j 46 nb_backup 243397\n",
      "i 8687 j 31 nb_backup 243429\n",
      "i 8688 j 33 nb_backup 243463\n",
      "i 8689 j 18 nb_backup 243482\n",
      "i 8690 j 19 nb_backup 243502\n",
      "i 8691 j 21 nb_backup 243524\n",
      "i 8692 j 22 nb_backup 243547\n",
      "i 8693 j 28 nb_backup 243576\n",
      "i 8694 j 24 nb_backup 243601\n",
      "i 8695 j 19 nb_backup 243621\n",
      "i 8696 j 19 nb_backup 243641\n",
      "i 8697 j 29 nb_backup 243671\n",
      "i 8698 j 19 nb_backup 243691\n",
      "i 8699 j 35 nb_backup 243727\n",
      "i 8700 j 20 nb_backup 243748\n",
      "i 8701 j 28 nb_backup 243777\n",
      "i 8702 j 21 nb_backup 243799\n",
      "i 8703 j 26 nb_backup 243826\n",
      "i 8704 j 29 nb_backup 243856\n",
      "i 8705 j 26 nb_backup 243883\n",
      "i 8706 j 21 nb_backup 243905\n",
      "i 8707 j 19 nb_backup 243925\n",
      "i 8708 j 36 nb_backup 243962\n",
      "i 8709 j 25 nb_backup 243988\n",
      "i 8710 j 25 nb_backup 244014\n",
      "i 8711 j 20 nb_backup 244035\n",
      "i 8712 j 24 nb_backup 244060\n",
      "i 8713 j 32 nb_backup 244093\n",
      "i 8714 j 21 nb_backup 244115\n",
      "i 8715 j 20 nb_backup 244136\n",
      "i 8716 j 37 nb_backup 244174\n",
      "i 8717 j 23 nb_backup 244198\n",
      "i 8718 j 32 nb_backup 244231\n",
      "i 8719 j 26 nb_backup 244258\n",
      "i 8720 j 25 nb_backup 244284\n",
      "i 8721 j 23 nb_backup 244308\n",
      "i 8722 j 16 nb_backup 244325\n",
      "i 8723 j 26 nb_backup 244352\n",
      "i 8724 j 35 nb_backup 244388\n",
      "i 8725 j 29 nb_backup 244418\n",
      "i 8726 j 42 nb_backup 244461\n",
      "i 8727 j 22 nb_backup 244484\n",
      "i 8728 j 18 nb_backup 244503\n",
      "i 8729 j 18 nb_backup 244522\n",
      "i 8730 j 15 nb_backup 244538\n",
      "i 8731 j 26 nb_backup 244565\n",
      "i 8732 j 27 nb_backup 244593\n",
      "i 8733 j 37 nb_backup 244631\n",
      "i 8734 j 19 nb_backup 244651\n",
      "i 8735 j 27 nb_backup 244679\n",
      "i 8736 j 32 nb_backup 244712\n",
      "i 8737 j 22 nb_backup 244735\n",
      "i 8738 j 22 nb_backup 244758\n",
      "i 8739 j 13 nb_backup 244772\n",
      "i 8740 j 31 nb_backup 244804\n",
      "i 8741 j 29 nb_backup 244834\n",
      "i 8742 j 21 nb_backup 244856\n",
      "i 8743 j 21 nb_backup 244878\n",
      "i 8744 j 22 nb_backup 244901\n",
      "i 8745 j 24 nb_backup 244926\n",
      "i 8746 j 15 nb_backup 244942\n",
      "i 8747 j 16 nb_backup 244959\n",
      "i 8748 j 62 nb_backup 245022\n",
      "i 8749 j 23 nb_backup 245046\n",
      "i 8750 j 18 nb_backup 245065\n",
      "i 8751 j 22 nb_backup 245088\n",
      "i 8752 j 33 nb_backup 245122\n",
      "i 8753 j 19 nb_backup 245142\n",
      "i 8754 j 22 nb_backup 245165\n",
      "i 8755 j 29 nb_backup 245195\n",
      "i 8756 j 18 nb_backup 245214\n",
      "i 8757 j 29 nb_backup 245244\n",
      "i 8758 j 25 nb_backup 245270\n",
      "i 8759 j 22 nb_backup 245293\n",
      "i 8760 j 39 nb_backup 245333\n",
      "i 8761 j 17 nb_backup 245351\n",
      "i 8762 j 23 nb_backup 245375\n",
      "i 8763 j 27 nb_backup 245403\n",
      "i 8764 j 28 nb_backup 245432\n",
      "i 8765 j 19 nb_backup 245452\n",
      "i 8766 j 42 nb_backup 245495\n",
      "i 8767 j 20 nb_backup 245516\n",
      "i 8768 j 38 nb_backup 245555\n",
      "i 8769 j 19 nb_backup 245575\n",
      "i 8770 j 27 nb_backup 245603\n",
      "i 8771 j 21 nb_backup 245625\n",
      "i 8772 j 29 nb_backup 245655\n",
      "i 8773 j 29 nb_backup 245685\n",
      "i 8774 j 21 nb_backup 245707\n",
      "i 8775 j 25 nb_backup 245733\n",
      "i 8776 j 25 nb_backup 245759\n",
      "i 8777 j 28 nb_backup 245788\n",
      "i 8778 j 18 nb_backup 245807\n",
      "i 8779 j 27 nb_backup 245835\n",
      "i 8780 j 17 nb_backup 245853\n",
      "i 8781 j 23 nb_backup 245877\n",
      "i 8782 j 32 nb_backup 245910\n",
      "i 8783 j 18 nb_backup 245929\n",
      "i 8784 j 23 nb_backup 245953\n",
      "i 8785 j 25 nb_backup 245979\n",
      "i 8786 j 38 nb_backup 246018\n",
      "i 8787 j 15 nb_backup 246034\n",
      "i 8788 j 34 nb_backup 246069\n",
      "i 8789 j 34 nb_backup 246104\n",
      "i 8790 j 19 nb_backup 246124\n",
      "i 8791 j 27 nb_backup 246152\n",
      "i 8792 j 18 nb_backup 246171\n",
      "i 8793 j 28 nb_backup 246200\n",
      "i 8794 j 19 nb_backup 246220\n",
      "i 8795 j 61 nb_backup 246282\n",
      "i 8796 j 29 nb_backup 246312\n",
      "i 8797 j 25 nb_backup 246338\n",
      "i 8798 j 19 nb_backup 246358\n",
      "i 8799 j 30 nb_backup 246389\n",
      "i 8800 j 34 nb_backup 246424\n",
      "i 8801 j 43 nb_backup 246468\n",
      "i 8802 j 13 nb_backup 246482\n",
      "i 8803 j 31 nb_backup 246514\n",
      "i 8804 j 28 nb_backup 246543\n",
      "i 8805 j 20 nb_backup 246564\n",
      "i 8806 j 38 nb_backup 246603\n",
      "i 8807 j 25 nb_backup 246629\n",
      "i 8808 j 27 nb_backup 246657\n",
      "i 8809 j 34 nb_backup 246692\n",
      "i 8810 j 30 nb_backup 246723\n",
      "i 8811 j 19 nb_backup 246743\n",
      "i 8812 j 20 nb_backup 246764\n",
      "i 8813 j 26 nb_backup 246791\n",
      "i 8814 j 20 nb_backup 246812\n",
      "i 8815 j 21 nb_backup 246834\n",
      "i 8816 j 25 nb_backup 246860\n",
      "i 8817 j 20 nb_backup 246881\n",
      "i 8818 j 35 nb_backup 246917\n",
      "i 8819 j 21 nb_backup 246939\n",
      "i 8820 j 20 nb_backup 246960\n",
      "i 8821 j 23 nb_backup 246984\n",
      "i 8822 j 22 nb_backup 247007\n",
      "i 8823 j 25 nb_backup 247033\n",
      "i 8824 j 34 nb_backup 247068\n",
      "i 8825 j 24 nb_backup 247093\n",
      "i 8826 j 27 nb_backup 247121\n",
      "i 8827 j 17 nb_backup 247139\n",
      "i 8828 j 28 nb_backup 247168\n",
      "i 8829 j 16 nb_backup 247185\n",
      "i 8830 j 29 nb_backup 247215\n",
      "i 8831 j 30 nb_backup 247246\n",
      "i 8832 j 50 nb_backup 247297\n",
      "i 8833 j 27 nb_backup 247325\n",
      "i 8834 j 25 nb_backup 247351\n",
      "i 8835 j 31 nb_backup 247383\n",
      "i 8836 j 27 nb_backup 247411\n",
      "i 8837 j 26 nb_backup 247438\n",
      "i 8838 j 18 nb_backup 247457\n",
      "i 8839 j 29 nb_backup 247487\n",
      "i 8840 j 34 nb_backup 247522\n",
      "i 8841 j 17 nb_backup 247540\n",
      "i 8842 j 18 nb_backup 247559\n",
      "i 8843 j 26 nb_backup 247586\n",
      "i 8844 j 28 nb_backup 247615\n",
      "i 8845 j 18 nb_backup 247634\n",
      "i 8846 j 16 nb_backup 247651\n",
      "i 8847 j 27 nb_backup 247679\n",
      "i 8848 j 30 nb_backup 247710\n",
      "i 8849 j 35 nb_backup 247746\n",
      "i 8850 j 24 nb_backup 247771\n",
      "i 8851 j 39 nb_backup 247811\n",
      "i 8852 j 28 nb_backup 247840\n",
      "i 8853 j 21 nb_backup 247862\n",
      "i 8854 j 31 nb_backup 247894\n",
      "i 8855 j 25 nb_backup 247920\n",
      "i 8856 j 29 nb_backup 247950\n",
      "i 8857 j 22 nb_backup 247973\n",
      "i 8858 j 25 nb_backup 247999\n",
      "i 8859 j 28 nb_backup 248028\n",
      "i 8860 j 37 nb_backup 248066\n",
      "i 8861 j 31 nb_backup 248098\n",
      "i 8862 j 34 nb_backup 248133\n",
      "i 8863 j 29 nb_backup 248163\n",
      "i 8864 j 23 nb_backup 248187\n",
      "i 8865 j 27 nb_backup 248215\n",
      "i 8866 j 27 nb_backup 248243\n",
      "i 8867 j 33 nb_backup 248277\n",
      "i 8868 j 21 nb_backup 248299\n",
      "i 8869 j 21 nb_backup 248321\n",
      "i 8870 j 18 nb_backup 248340\n",
      "i 8871 j 25 nb_backup 248366\n",
      "i 8872 j 28 nb_backup 248395\n",
      "i 8873 j 32 nb_backup 248428\n",
      "i 8874 j 16 nb_backup 248445\n",
      "i 8875 j 26 nb_backup 248472\n",
      "i 8876 j 28 nb_backup 248501\n",
      "i 8877 j 25 nb_backup 248527\n",
      "i 8878 j 29 nb_backup 248557\n",
      "i 8879 j 24 nb_backup 248582\n",
      "i 8880 j 59 nb_backup 248642\n",
      "i 8881 j 54 nb_backup 248697\n",
      "i 8882 j 22 nb_backup 248720\n",
      "i 8883 j 21 nb_backup 248742\n",
      "i 8884 j 24 nb_backup 248767\n",
      "i 8885 j 29 nb_backup 248797\n",
      "i 8886 j 21 nb_backup 248819\n",
      "i 8887 j 24 nb_backup 248844\n",
      "i 8888 j 44 nb_backup 248889\n",
      "i 8889 j 24 nb_backup 248914\n",
      "i 8890 j 30 nb_backup 248945\n",
      "i 8891 j 24 nb_backup 248970\n",
      "i 8892 j 18 nb_backup 248989\n",
      "i 8893 j 23 nb_backup 249013\n",
      "i 8894 j 35 nb_backup 249049\n",
      "i 8895 j 40 nb_backup 249090\n",
      "i 8896 j 17 nb_backup 249108\n",
      "i 8897 j 15 nb_backup 249124\n",
      "i 8898 j 22 nb_backup 249147\n",
      "i 8899 j 18 nb_backup 249166\n",
      "i 8900 j 15 nb_backup 249182\n",
      "i 8901 j 44 nb_backup 249227\n",
      "i 8902 j 21 nb_backup 249249\n",
      "i 8903 j 18 nb_backup 249268\n",
      "i 8904 j 23 nb_backup 249292\n",
      "i 8905 j 24 nb_backup 249317\n",
      "i 8906 j 22 nb_backup 249340\n",
      "i 8907 j 27 nb_backup 249368\n",
      "i 8908 j 39 nb_backup 249408\n",
      "i 8909 j 40 nb_backup 249449\n",
      "i 8910 j 20 nb_backup 249470\n",
      "i 8911 j 31 nb_backup 249502\n",
      "i 8912 j 23 nb_backup 249526\n",
      "i 8913 j 23 nb_backup 249550\n",
      "i 8914 j 42 nb_backup 249593\n",
      "i 8915 j 29 nb_backup 249623\n",
      "i 8916 j 26 nb_backup 249650\n",
      "i 8917 j 20 nb_backup 249671\n",
      "i 8918 j 26 nb_backup 249698\n",
      "i 8919 j 30 nb_backup 249729\n",
      "i 8920 j 19 nb_backup 249749\n",
      "i 8921 j 29 nb_backup 249779\n",
      "i 8922 j 28 nb_backup 249808\n",
      "i 8923 j 17 nb_backup 249826\n",
      "i 8924 j 37 nb_backup 249864\n",
      "i 8925 j 24 nb_backup 249889\n",
      "i 8926 j 20 nb_backup 249910\n",
      "i 8927 j 33 nb_backup 249944\n",
      "i 8928 j 34 nb_backup 249979\n",
      "i 8929 j 33 nb_backup 250013\n",
      "i 8930 j 31 nb_backup 250045\n",
      "i 8931 j 18 nb_backup 250064\n",
      "i 8932 j 59 nb_backup 250124\n",
      "i 8933 j 50 nb_backup 250175\n",
      "i 8934 j 24 nb_backup 250200\n",
      "i 8935 j 23 nb_backup 250224\n",
      "i 8936 j 24 nb_backup 250249\n",
      "i 8937 j 17 nb_backup 250267\n",
      "i 8938 j 30 nb_backup 250298\n",
      "i 8939 j 15 nb_backup 250314\n",
      "i 8940 j 28 nb_backup 250343\n",
      "i 8941 j 24 nb_backup 250368\n",
      "i 8942 j 16 nb_backup 250385\n",
      "i 8943 j 43 nb_backup 250429\n",
      "i 8944 j 18 nb_backup 250448\n",
      "i 8945 j 35 nb_backup 250484\n",
      "i 8946 j 22 nb_backup 250507\n",
      "i 8947 j 27 nb_backup 250535\n",
      "i 8948 j 26 nb_backup 250562\n",
      "i 8949 j 25 nb_backup 250588\n",
      "i 8950 j 22 nb_backup 250611\n",
      "i 8951 j 15 nb_backup 250627\n",
      "i 8952 j 26 nb_backup 250654\n",
      "i 8953 j 18 nb_backup 250673\n",
      "i 8954 j 22 nb_backup 250696\n",
      "i 8955 j 19 nb_backup 250716\n",
      "i 8956 j 38 nb_backup 250755\n",
      "i 8957 j 29 nb_backup 250785\n",
      "i 8958 j 22 nb_backup 250808\n",
      "i 8959 j 19 nb_backup 250828\n",
      "i 8960 j 21 nb_backup 250850\n",
      "i 8961 j 34 nb_backup 250885\n",
      "i 8962 j 26 nb_backup 250912\n",
      "i 8963 j 24 nb_backup 250937\n",
      "i 8964 j 31 nb_backup 250969\n",
      "i 8965 j 32 nb_backup 251002\n",
      "i 8966 j 25 nb_backup 251028\n",
      "i 8967 j 22 nb_backup 251051\n",
      "i 8968 j 20 nb_backup 251072\n",
      "i 8969 j 27 nb_backup 251100\n",
      "i 8970 j 33 nb_backup 251134\n",
      "i 8971 j 24 nb_backup 251159\n",
      "i 8972 j 31 nb_backup 251191\n",
      "i 8973 j 20 nb_backup 251212\n",
      "i 8974 j 33 nb_backup 251246\n",
      "i 8975 j 19 nb_backup 251266\n",
      "i 8976 j 49 nb_backup 251316\n",
      "i 8977 j 38 nb_backup 251355\n",
      "i 8978 j 30 nb_backup 251386\n",
      "i 8979 j 27 nb_backup 251414\n",
      "i 8980 j 30 nb_backup 251445\n",
      "i 8981 j 24 nb_backup 251470\n",
      "i 8982 j 31 nb_backup 251502\n",
      "i 8983 j 23 nb_backup 251526\n",
      "i 8984 j 24 nb_backup 251551\n",
      "i 8985 j 19 nb_backup 251571\n",
      "i 8986 j 29 nb_backup 251601\n",
      "i 8987 j 22 nb_backup 251624\n",
      "i 8988 j 20 nb_backup 251645\n",
      "i 8989 j 26 nb_backup 251672\n",
      "i 8990 j 25 nb_backup 251698\n",
      "i 8991 j 24 nb_backup 251723\n",
      "i 8992 j 23 nb_backup 251747\n",
      "i 8993 j 20 nb_backup 251768\n",
      "i 8994 j 20 nb_backup 251789\n",
      "i 8995 j 18 nb_backup 251808\n",
      "i 8996 j 16 nb_backup 251825\n",
      "i 8997 j 27 nb_backup 251853\n",
      "i 8998 j 20 nb_backup 251874\n",
      "i 8999 j 16 nb_backup 251891\n",
      "i 9000 j 22 nb_backup 251914\n",
      "i 9001 j 31 nb_backup 251946\n",
      "i 9002 j 29 nb_backup 251976\n",
      "i 9003 j 38 nb_backup 252015\n",
      "i 9004 j 26 nb_backup 252042\n",
      "i 9005 j 26 nb_backup 252069\n",
      "i 9006 j 24 nb_backup 252094\n",
      "i 9007 j 25 nb_backup 252120\n",
      "i 9008 j 23 nb_backup 252144\n",
      "i 9009 j 14 nb_backup 252159\n",
      "i 9010 j 33 nb_backup 252193\n",
      "i 9011 j 16 nb_backup 252210\n",
      "i 9012 j 31 nb_backup 252242\n",
      "i 9013 j 28 nb_backup 252271\n",
      "i 9014 j 19 nb_backup 252291\n",
      "i 9015 j 23 nb_backup 252315\n",
      "i 9016 j 18 nb_backup 252334\n",
      "i 9017 j 17 nb_backup 252352\n",
      "i 9018 j 40 nb_backup 252393\n",
      "i 9019 j 27 nb_backup 252421\n",
      "i 9020 j 22 nb_backup 252444\n",
      "i 9021 j 28 nb_backup 252473\n",
      "i 9022 j 43 nb_backup 252517\n",
      "i 9023 j 15 nb_backup 252533\n",
      "i 9024 j 37 nb_backup 252571\n",
      "i 9025 j 31 nb_backup 252603\n",
      "i 9026 j 20 nb_backup 252624\n",
      "i 9027 j 30 nb_backup 252655\n",
      "i 9028 j 24 nb_backup 252680\n",
      "i 9029 j 25 nb_backup 252706\n",
      "i 9030 j 24 nb_backup 252731\n",
      "i 9031 j 14 nb_backup 252746\n",
      "i 9032 j 46 nb_backup 252793\n",
      "i 9033 j 30 nb_backup 252824\n",
      "i 9034 j 22 nb_backup 252847\n",
      "i 9035 j 39 nb_backup 252887\n",
      "i 9036 j 18 nb_backup 252906\n",
      "i 9037 j 24 nb_backup 252931\n",
      "i 9038 j 33 nb_backup 252965\n",
      "i 9039 j 24 nb_backup 252990\n",
      "i 9040 j 20 nb_backup 253011\n",
      "i 9041 j 22 nb_backup 253034\n",
      "i 9042 j 54 nb_backup 253089\n",
      "i 9043 j 24 nb_backup 253114\n",
      "i 9044 j 24 nb_backup 253139\n",
      "i 9045 j 19 nb_backup 253159\n",
      "i 9046 j 28 nb_backup 253188\n",
      "i 9047 j 17 nb_backup 253206\n",
      "i 9048 j 23 nb_backup 253230\n",
      "i 9049 j 23 nb_backup 253254\n",
      "i 9050 j 18 nb_backup 253273\n",
      "i 9051 j 27 nb_backup 253301\n",
      "i 9052 j 31 nb_backup 253333\n",
      "i 9053 j 32 nb_backup 253366\n",
      "i 9054 j 32 nb_backup 253399\n",
      "i 9055 j 21 nb_backup 253421\n",
      "i 9056 j 22 nb_backup 253444\n",
      "i 9057 j 22 nb_backup 253467\n",
      "i 9058 j 21 nb_backup 253489\n",
      "i 9059 j 26 nb_backup 253516\n",
      "i 9060 j 26 nb_backup 253543\n",
      "i 9061 j 53 nb_backup 253597\n",
      "i 9062 j 38 nb_backup 253636\n",
      "i 9063 j 20 nb_backup 253657\n",
      "i 9064 j 19 nb_backup 253677\n",
      "i 9065 j 24 nb_backup 253702\n",
      "i 9066 j 21 nb_backup 253724\n",
      "i 9067 j 30 nb_backup 253755\n",
      "i 9068 j 23 nb_backup 253779\n",
      "i 9069 j 21 nb_backup 253801\n",
      "i 9070 j 17 nb_backup 253819\n",
      "i 9071 j 61 nb_backup 253881\n",
      "i 9072 j 28 nb_backup 253910\n",
      "i 9073 j 26 nb_backup 253937\n",
      "i 9074 j 13 nb_backup 253951\n",
      "i 9075 j 35 nb_backup 253987\n",
      "i 9076 j 13 nb_backup 254001\n",
      "i 9077 j 38 nb_backup 254040\n",
      "i 9078 j 37 nb_backup 254078\n",
      "i 9079 j 36 nb_backup 254115\n",
      "i 9080 j 47 nb_backup 254163\n",
      "i 9081 j 37 nb_backup 254201\n",
      "i 9082 j 22 nb_backup 254224\n",
      "i 9083 j 30 nb_backup 254255\n",
      "i 9084 j 30 nb_backup 254286\n",
      "i 9085 j 31 nb_backup 254318\n",
      "i 9086 j 39 nb_backup 254358\n",
      "i 9087 j 24 nb_backup 254383\n",
      "i 9088 j 23 nb_backup 254407\n",
      "i 9089 j 22 nb_backup 254430\n",
      "i 9090 j 17 nb_backup 254448\n",
      "i 9091 j 19 nb_backup 254468\n",
      "i 9092 j 25 nb_backup 254494\n",
      "i 9093 j 50 nb_backup 254545\n",
      "i 9094 j 20 nb_backup 254566\n",
      "i 9095 j 25 nb_backup 254592\n",
      "i 9096 j 21 nb_backup 254614\n",
      "i 9097 j 25 nb_backup 254640\n",
      "i 9098 j 15 nb_backup 254656\n",
      "i 9099 j 20 nb_backup 254677\n",
      "i 9100 j 29 nb_backup 254707\n",
      "i 9101 j 28 nb_backup 254736\n",
      "i 9102 j 28 nb_backup 254765\n",
      "i 9103 j 27 nb_backup 254793\n",
      "i 9104 j 38 nb_backup 254832\n",
      "i 9105 j 34 nb_backup 254867\n",
      "i 9106 j 21 nb_backup 254889\n",
      "i 9107 j 31 nb_backup 254921\n",
      "i 9108 j 21 nb_backup 254943\n",
      "i 9109 j 15 nb_backup 254959\n",
      "i 9110 j 16 nb_backup 254976\n",
      "i 9111 j 22 nb_backup 254999\n",
      "i 9112 j 23 nb_backup 255023\n",
      "i 9113 j 24 nb_backup 255048\n",
      "i 9114 j 17 nb_backup 255066\n",
      "i 9115 j 26 nb_backup 255093\n",
      "i 9116 j 31 nb_backup 255125\n",
      "i 9117 j 22 nb_backup 255148\n",
      "i 9118 j 31 nb_backup 255180\n",
      "i 9119 j 18 nb_backup 255199\n",
      "i 9120 j 16 nb_backup 255216\n",
      "i 9121 j 24 nb_backup 255241\n",
      "i 9122 j 38 nb_backup 255280\n",
      "i 9123 j 39 nb_backup 255320\n",
      "i 9124 j 25 nb_backup 255346\n",
      "i 9125 j 22 nb_backup 255369\n",
      "i 9126 j 23 nb_backup 255393\n",
      "i 9127 j 23 nb_backup 255417\n",
      "i 9128 j 27 nb_backup 255445\n",
      "i 9129 j 24 nb_backup 255470\n",
      "i 9130 j 20 nb_backup 255491\n",
      "i 9131 j 28 nb_backup 255520\n",
      "i 9132 j 16 nb_backup 255537\n",
      "i 9133 j 23 nb_backup 255561\n",
      "i 9134 j 28 nb_backup 255590\n",
      "i 9135 j 25 nb_backup 255616\n",
      "i 9136 j 23 nb_backup 255640\n",
      "i 9137 j 21 nb_backup 255662\n",
      "i 9138 j 29 nb_backup 255692\n",
      "i 9139 j 23 nb_backup 255716\n",
      "i 9140 j 31 nb_backup 255748\n",
      "i 9141 j 45 nb_backup 255794\n",
      "i 9142 j 34 nb_backup 255829\n",
      "i 9143 j 42 nb_backup 255872\n",
      "i 9144 j 31 nb_backup 255904\n",
      "i 9145 j 32 nb_backup 255937\n",
      "i 9146 j 29 nb_backup 255967\n",
      "i 9147 j 16 nb_backup 255984\n",
      "i 9148 j 22 nb_backup 256007\n",
      "i 9149 j 27 nb_backup 256035\n",
      "i 9150 j 39 nb_backup 256075\n",
      "i 9151 j 19 nb_backup 256095\n",
      "i 9152 j 23 nb_backup 256119\n",
      "i 9153 j 47 nb_backup 256167\n",
      "i 9154 j 20 nb_backup 256188\n",
      "i 9155 j 25 nb_backup 256214\n",
      "i 9156 j 46 nb_backup 256261\n",
      "i 9157 j 20 nb_backup 256282\n",
      "i 9158 j 19 nb_backup 256302\n",
      "i 9159 j 13 nb_backup 256316\n",
      "i 9160 j 17 nb_backup 256334\n",
      "i 9161 j 32 nb_backup 256367\n",
      "i 9162 j 14 nb_backup 256382\n",
      "i 9163 j 31 nb_backup 256414\n",
      "i 9164 j 15 nb_backup 256430\n",
      "i 9165 j 20 nb_backup 256451\n",
      "i 9166 j 34 nb_backup 256486\n",
      "i 9167 j 22 nb_backup 256509\n",
      "i 9168 j 21 nb_backup 256531\n",
      "i 9169 j 42 nb_backup 256574\n",
      "i 9170 j 26 nb_backup 256601\n",
      "i 9171 j 67 nb_backup 256669\n",
      "i 9172 j 65 nb_backup 256735\n",
      "i 9173 j 28 nb_backup 256764\n",
      "i 9174 j 13 nb_backup 256778\n",
      "i 9175 j 23 nb_backup 256802\n",
      "i 9176 j 26 nb_backup 256829\n",
      "i 9177 j 29 nb_backup 256859\n",
      "i 9178 j 37 nb_backup 256897\n",
      "i 9179 j 38 nb_backup 256936\n",
      "i 9180 j 35 nb_backup 256972\n",
      "i 9181 j 18 nb_backup 256991\n",
      "i 9182 j 26 nb_backup 257018\n",
      "i 9183 j 32 nb_backup 257051\n",
      "i 9184 j 27 nb_backup 257079\n",
      "i 9185 j 24 nb_backup 257104\n",
      "i 9186 j 25 nb_backup 257130\n",
      "i 9187 j 20 nb_backup 257151\n",
      "i 9188 j 38 nb_backup 257190\n",
      "i 9189 j 36 nb_backup 257227\n",
      "i 9190 j 23 nb_backup 257251\n",
      "i 9191 j 23 nb_backup 257275\n",
      "i 9192 j 18 nb_backup 257294\n",
      "i 9193 j 22 nb_backup 257317\n",
      "i 9194 j 21 nb_backup 257339\n",
      "i 9195 j 31 nb_backup 257371\n",
      "i 9196 j 23 nb_backup 257395\n",
      "i 9197 j 24 nb_backup 257420\n",
      "i 9198 j 21 nb_backup 257442\n",
      "i 9199 j 21 nb_backup 257464\n",
      "i 9200 j 25 nb_backup 257490\n",
      "i 9201 j 14 nb_backup 257505\n",
      "i 9202 j 37 nb_backup 257543\n",
      "i 9203 j 26 nb_backup 257570\n",
      "i 9204 j 16 nb_backup 257587\n",
      "i 9205 j 32 nb_backup 257620\n",
      "i 9206 j 32 nb_backup 257653\n",
      "i 9207 j 20 nb_backup 257674\n",
      "i 9208 j 22 nb_backup 257697\n",
      "i 9209 j 36 nb_backup 257734\n",
      "i 9210 j 20 nb_backup 257755\n",
      "i 9211 j 17 nb_backup 257773\n",
      "i 9212 j 23 nb_backup 257797\n",
      "i 9213 j 24 nb_backup 257822\n",
      "i 9214 j 36 nb_backup 257859\n",
      "i 9215 j 18 nb_backup 257878\n",
      "i 9216 j 17 nb_backup 257896\n",
      "i 9217 j 21 nb_backup 257918\n",
      "i 9218 j 33 nb_backup 257952\n",
      "i 9219 j 30 nb_backup 257983\n",
      "i 9220 j 27 nb_backup 258011\n",
      "i 9221 j 34 nb_backup 258046\n",
      "i 9222 j 27 nb_backup 258074\n",
      "i 9223 j 25 nb_backup 258100\n",
      "i 9224 j 25 nb_backup 258126\n",
      "i 9225 j 28 nb_backup 258155\n",
      "i 9226 j 18 nb_backup 258174\n",
      "i 9227 j 37 nb_backup 258212\n",
      "i 9228 j 38 nb_backup 258251\n",
      "i 9229 j 29 nb_backup 258281\n",
      "i 9230 j 17 nb_backup 258299\n",
      "i 9231 j 29 nb_backup 258329\n",
      "i 9232 j 37 nb_backup 258367\n",
      "i 9233 j 23 nb_backup 258391\n",
      "i 9234 j 31 nb_backup 258423\n",
      "i 9235 j 30 nb_backup 258454\n",
      "i 9236 j 31 nb_backup 258486\n",
      "i 9237 j 26 nb_backup 258513\n",
      "i 9238 j 41 nb_backup 258555\n",
      "i 9239 j 32 nb_backup 258588\n",
      "i 9240 j 37 nb_backup 258626\n",
      "i 9241 j 26 nb_backup 258653\n",
      "i 9242 j 26 nb_backup 258680\n",
      "i 9243 j 29 nb_backup 258710\n",
      "i 9244 j 39 nb_backup 258750\n",
      "i 9245 j 20 nb_backup 258771\n",
      "i 9246 j 30 nb_backup 258802\n",
      "i 9247 j 56 nb_backup 258859\n",
      "i 9248 j 15 nb_backup 258875\n",
      "i 9249 j 22 nb_backup 258898\n",
      "i 9250 j 36 nb_backup 258935\n",
      "i 9251 j 21 nb_backup 258957\n",
      "i 9252 j 24 nb_backup 258982\n",
      "i 9253 j 30 nb_backup 259013\n",
      "i 9254 j 15 nb_backup 259029\n",
      "i 9255 j 24 nb_backup 259054\n",
      "i 9256 j 38 nb_backup 259093\n",
      "i 9257 j 27 nb_backup 259121\n",
      "i 9258 j 32 nb_backup 259154\n",
      "i 9259 j 43 nb_backup 259198\n",
      "i 9260 j 25 nb_backup 259224\n",
      "i 9261 j 22 nb_backup 259247\n",
      "i 9262 j 30 nb_backup 259278\n",
      "i 9263 j 22 nb_backup 259301\n",
      "i 9264 j 25 nb_backup 259327\n",
      "i 9265 j 17 nb_backup 259345\n",
      "i 9266 j 24 nb_backup 259370\n",
      "i 9267 j 26 nb_backup 259397\n",
      "i 9268 j 25 nb_backup 259423\n",
      "i 9269 j 70 nb_backup 259494\n",
      "i 9270 j 25 nb_backup 259520\n",
      "i 9271 j 34 nb_backup 259555\n",
      "i 9272 j 24 nb_backup 259580\n",
      "i 9273 j 28 nb_backup 259609\n",
      "i 9274 j 23 nb_backup 259633\n",
      "i 9275 j 17 nb_backup 259651\n",
      "i 9276 j 24 nb_backup 259676\n",
      "i 9277 j 41 nb_backup 259718\n",
      "i 9278 j 25 nb_backup 259744\n",
      "i 9279 j 38 nb_backup 259783\n",
      "i 9280 j 21 nb_backup 259805\n",
      "i 9281 j 32 nb_backup 259838\n",
      "i 9282 j 20 nb_backup 259859\n",
      "i 9283 j 14 nb_backup 259874\n",
      "i 9284 j 54 nb_backup 259929\n",
      "i 9285 j 36 nb_backup 259966\n",
      "i 9286 j 26 nb_backup 259993\n",
      "i 9287 j 29 nb_backup 260023\n",
      "i 9288 j 22 nb_backup 260046\n",
      "i 9289 j 25 nb_backup 260072\n",
      "i 9290 j 32 nb_backup 260105\n",
      "i 9291 j 18 nb_backup 260124\n",
      "i 9292 j 26 nb_backup 260151\n",
      "i 9293 j 16 nb_backup 260168\n",
      "i 9294 j 15 nb_backup 260184\n",
      "i 9295 j 31 nb_backup 260216\n",
      "i 9296 j 22 nb_backup 260239\n",
      "i 9297 j 32 nb_backup 260272\n",
      "i 9298 j 30 nb_backup 260303\n",
      "i 9299 j 22 nb_backup 260326\n",
      "i 9300 j 16 nb_backup 260343\n",
      "i 9301 j 27 nb_backup 260371\n",
      "i 9302 j 21 nb_backup 260393\n",
      "i 9303 j 22 nb_backup 260416\n",
      "i 9304 j 13 nb_backup 260430\n",
      "i 9305 j 27 nb_backup 260458\n",
      "i 9306 j 40 nb_backup 260499\n",
      "i 9307 j 19 nb_backup 260519\n",
      "i 9308 j 32 nb_backup 260552\n",
      "i 9309 j 26 nb_backup 260579\n",
      "i 9310 j 46 nb_backup 260626\n",
      "i 9311 j 30 nb_backup 260657\n",
      "i 9312 j 33 nb_backup 260691\n",
      "i 9313 j 21 nb_backup 260713\n",
      "i 9314 j 23 nb_backup 260737\n",
      "i 9315 j 20 nb_backup 260758\n",
      "i 9316 j 25 nb_backup 260784\n",
      "i 9317 j 17 nb_backup 260802\n",
      "i 9318 j 50 nb_backup 260853\n",
      "i 9319 j 21 nb_backup 260875\n",
      "i 9320 j 40 nb_backup 260916\n",
      "i 9321 j 35 nb_backup 260952\n",
      "i 9322 j 29 nb_backup 260982\n",
      "i 9323 j 22 nb_backup 261005\n",
      "i 9324 j 18 nb_backup 261024\n",
      "i 9325 j 16 nb_backup 261041\n",
      "i 9326 j 13 nb_backup 261055\n",
      "i 9327 j 22 nb_backup 261078\n",
      "i 9328 j 17 nb_backup 261096\n",
      "i 9329 j 28 nb_backup 261125\n",
      "i 9330 j 20 nb_backup 261146\n",
      "i 9331 j 20 nb_backup 261167\n",
      "i 9332 j 13 nb_backup 261181\n",
      "i 9333 j 39 nb_backup 261221\n",
      "i 9334 j 20 nb_backup 261242\n",
      "i 9335 j 25 nb_backup 261268\n",
      "i 9336 j 14 nb_backup 261283\n",
      "i 9337 j 16 nb_backup 261300\n",
      "i 9338 j 31 nb_backup 261332\n",
      "i 9339 j 21 nb_backup 261354\n",
      "i 9340 j 15 nb_backup 261370\n",
      "i 9341 j 45 nb_backup 261416\n",
      "i 9342 j 16 nb_backup 261433\n",
      "i 9343 j 32 nb_backup 261466\n",
      "i 9344 j 56 nb_backup 261523\n",
      "i 9345 j 19 nb_backup 261543\n",
      "i 9346 j 31 nb_backup 261575\n",
      "i 9347 j 21 nb_backup 261597\n",
      "i 9348 j 25 nb_backup 261623\n",
      "i 9349 j 49 nb_backup 261673\n",
      "i 9350 j 31 nb_backup 261705\n",
      "i 9351 j 15 nb_backup 261721\n",
      "i 9352 j 33 nb_backup 261755\n",
      "i 9353 j 32 nb_backup 261788\n",
      "i 9354 j 20 nb_backup 261809\n",
      "i 9355 j 37 nb_backup 261847\n",
      "i 9356 j 39 nb_backup 261887\n",
      "i 9357 j 27 nb_backup 261915\n",
      "i 9358 j 37 nb_backup 261953\n",
      "i 9359 j 46 nb_backup 262000\n",
      "i 9360 j 17 nb_backup 262018\n",
      "i 9361 j 29 nb_backup 262048\n",
      "i 9362 j 26 nb_backup 262075\n",
      "i 9363 j 24 nb_backup 262100\n",
      "i 9364 j 18 nb_backup 262119\n",
      "i 9365 j 36 nb_backup 262156\n",
      "i 9366 j 27 nb_backup 262184\n",
      "i 9367 j 40 nb_backup 262225\n",
      "i 9368 j 28 nb_backup 262254\n",
      "i 9369 j 21 nb_backup 262276\n",
      "i 9370 j 27 nb_backup 262304\n",
      "i 9371 j 53 nb_backup 262358\n",
      "i 9372 j 17 nb_backup 262376\n",
      "i 9373 j 17 nb_backup 262394\n",
      "i 9374 j 17 nb_backup 262412\n",
      "i 9375 j 22 nb_backup 262435\n",
      "i 9376 j 32 nb_backup 262468\n",
      "i 9377 j 30 nb_backup 262499\n",
      "i 9378 j 21 nb_backup 262521\n",
      "i 9379 j 24 nb_backup 262546\n",
      "i 9380 j 27 nb_backup 262574\n",
      "i 9381 j 37 nb_backup 262612\n",
      "i 9382 j 25 nb_backup 262638\n",
      "i 9383 j 29 nb_backup 262668\n",
      "i 9384 j 34 nb_backup 262703\n",
      "i 9385 j 29 nb_backup 262733\n",
      "i 9386 j 25 nb_backup 262759\n",
      "i 9387 j 29 nb_backup 262789\n",
      "i 9388 j 18 nb_backup 262808\n",
      "i 9389 j 27 nb_backup 262836\n",
      "i 9390 j 36 nb_backup 262873\n",
      "i 9391 j 21 nb_backup 262895\n",
      "i 9392 j 20 nb_backup 262916\n",
      "i 9393 j 15 nb_backup 262932\n",
      "i 9394 j 26 nb_backup 262959\n",
      "i 9395 j 43 nb_backup 263003\n",
      "i 9396 j 20 nb_backup 263024\n",
      "i 9397 j 16 nb_backup 263041\n",
      "i 9398 j 20 nb_backup 263062\n",
      "i 9399 j 28 nb_backup 263091\n",
      "i 9400 j 24 nb_backup 263116\n",
      "i 9401 j 20 nb_backup 263137\n",
      "i 9402 j 30 nb_backup 263168\n",
      "i 9403 j 29 nb_backup 263198\n",
      "i 9404 j 31 nb_backup 263230\n",
      "i 9405 j 41 nb_backup 263272\n",
      "i 9406 j 22 nb_backup 263295\n",
      "i 9407 j 25 nb_backup 263321\n",
      "i 9408 j 30 nb_backup 263352\n",
      "i 9409 j 24 nb_backup 263377\n",
      "i 9410 j 17 nb_backup 263395\n",
      "i 9411 j 35 nb_backup 263431\n",
      "i 9412 j 23 nb_backup 263455\n",
      "i 9413 j 21 nb_backup 263477\n",
      "i 9414 j 27 nb_backup 263505\n",
      "i 9415 j 17 nb_backup 263523\n",
      "i 9416 j 34 nb_backup 263558\n",
      "i 9417 j 46 nb_backup 263605\n",
      "i 9418 j 28 nb_backup 263634\n",
      "i 9419 j 55 nb_backup 263690\n",
      "i 9420 j 31 nb_backup 263722\n",
      "i 9421 j 36 nb_backup 263759\n",
      "i 9422 j 28 nb_backup 263788\n",
      "i 9423 j 27 nb_backup 263816\n",
      "i 9424 j 17 nb_backup 263834\n",
      "i 9425 j 42 nb_backup 263877\n",
      "i 9426 j 21 nb_backup 263899\n",
      "i 9427 j 20 nb_backup 263920\n",
      "i 9428 j 27 nb_backup 263948\n",
      "i 9429 j 24 nb_backup 263973\n",
      "i 9430 j 19 nb_backup 263993\n",
      "i 9431 j 22 nb_backup 264016\n",
      "i 9432 j 23 nb_backup 264040\n",
      "i 9433 j 26 nb_backup 264067\n",
      "i 9434 j 38 nb_backup 264106\n",
      "i 9435 j 23 nb_backup 264130\n",
      "i 9436 j 30 nb_backup 264161\n",
      "i 9437 j 27 nb_backup 264189\n",
      "i 9438 j 25 nb_backup 264215\n",
      "i 9439 j 30 nb_backup 264246\n",
      "i 9440 j 38 nb_backup 264285\n",
      "i 9441 j 27 nb_backup 264313\n",
      "i 9442 j 19 nb_backup 264333\n",
      "i 9443 j 20 nb_backup 264354\n",
      "i 9444 j 19 nb_backup 264374\n",
      "i 9445 j 30 nb_backup 264405\n",
      "i 9446 j 13 nb_backup 264419\n",
      "i 9447 j 34 nb_backup 264454\n",
      "i 9448 j 13 nb_backup 264468\n",
      "i 9449 j 30 nb_backup 264499\n",
      "i 9450 j 23 nb_backup 264523\n",
      "i 9451 j 37 nb_backup 264561\n",
      "i 9452 j 20 nb_backup 264582\n",
      "i 9453 j 28 nb_backup 264611\n",
      "i 9454 j 16 nb_backup 264628\n",
      "i 9455 j 28 nb_backup 264657\n",
      "i 9456 j 28 nb_backup 264686\n",
      "i 9457 j 37 nb_backup 264724\n",
      "i 9458 j 20 nb_backup 264745\n",
      "i 9459 j 33 nb_backup 264779\n",
      "i 9460 j 20 nb_backup 264800\n",
      "i 9461 j 28 nb_backup 264829\n",
      "i 9462 j 28 nb_backup 264858\n",
      "i 9463 j 22 nb_backup 264881\n",
      "i 9464 j 27 nb_backup 264909\n",
      "i 9465 j 23 nb_backup 264933\n",
      "i 9466 j 37 nb_backup 264971\n",
      "i 9467 j 15 nb_backup 264987\n",
      "i 9468 j 27 nb_backup 265015\n",
      "i 9469 j 27 nb_backup 265043\n",
      "i 9470 j 20 nb_backup 265064\n",
      "i 9471 j 26 nb_backup 265091\n",
      "i 9472 j 23 nb_backup 265115\n",
      "i 9473 j 25 nb_backup 265141\n",
      "i 9474 j 27 nb_backup 265169\n",
      "i 9475 j 23 nb_backup 265193\n",
      "i 9476 j 33 nb_backup 265227\n",
      "i 9477 j 20 nb_backup 265248\n",
      "i 9478 j 27 nb_backup 265276\n",
      "i 9479 j 26 nb_backup 265303\n",
      "i 9480 j 33 nb_backup 265337\n",
      "i 9481 j 34 nb_backup 265372\n",
      "i 9482 j 21 nb_backup 265394\n",
      "i 9483 j 20 nb_backup 265415\n",
      "i 9484 j 27 nb_backup 265443\n",
      "i 9485 j 17 nb_backup 265461\n",
      "i 9486 j 33 nb_backup 265495\n",
      "i 9487 j 17 nb_backup 265513\n",
      "i 9488 j 37 nb_backup 265551\n",
      "i 9489 j 25 nb_backup 265577\n",
      "i 9490 j 19 nb_backup 265597\n",
      "i 9491 j 36 nb_backup 265634\n",
      "i 9492 j 20 nb_backup 265655\n",
      "i 9493 j 25 nb_backup 265681\n",
      "i 9494 j 28 nb_backup 265710\n",
      "i 9495 j 34 nb_backup 265745\n",
      "i 9496 j 28 nb_backup 265774\n",
      "i 9497 j 20 nb_backup 265795\n",
      "i 9498 j 16 nb_backup 265812\n",
      "i 9499 j 26 nb_backup 265839\n",
      "i 9500 j 32 nb_backup 265872\n",
      "i 9501 j 40 nb_backup 265913\n",
      "i 9502 j 36 nb_backup 265950\n",
      "i 9503 j 26 nb_backup 265977\n",
      "i 9504 j 28 nb_backup 266006\n",
      "i 9505 j 27 nb_backup 266034\n",
      "i 9506 j 19 nb_backup 266054\n",
      "i 9507 j 29 nb_backup 266084\n",
      "i 9508 j 46 nb_backup 266131\n",
      "i 9509 j 20 nb_backup 266152\n",
      "i 9510 j 21 nb_backup 266174\n",
      "i 9511 j 27 nb_backup 266202\n",
      "i 9512 j 32 nb_backup 266235\n",
      "i 9513 j 18 nb_backup 266254\n",
      "i 9514 j 45 nb_backup 266300\n",
      "i 9515 j 33 nb_backup 266334\n",
      "i 9516 j 14 nb_backup 266349\n",
      "i 9517 j 23 nb_backup 266373\n",
      "i 9518 j 25 nb_backup 266399\n",
      "i 9519 j 22 nb_backup 266422\n",
      "i 9520 j 35 nb_backup 266458\n",
      "i 9521 j 30 nb_backup 266489\n",
      "i 9522 j 20 nb_backup 266510\n",
      "i 9523 j 23 nb_backup 266534\n",
      "i 9524 j 22 nb_backup 266557\n",
      "i 9525 j 33 nb_backup 266591\n",
      "i 9526 j 15 nb_backup 266607\n",
      "i 9527 j 20 nb_backup 266628\n",
      "i 9528 j 42 nb_backup 266671\n",
      "i 9529 j 19 nb_backup 266691\n",
      "i 9530 j 29 nb_backup 266721\n",
      "i 9531 j 33 nb_backup 266755\n",
      "i 9532 j 22 nb_backup 266778\n",
      "i 9533 j 26 nb_backup 266805\n",
      "i 9534 j 32 nb_backup 266838\n",
      "i 9535 j 27 nb_backup 266866\n",
      "i 9536 j 32 nb_backup 266899\n",
      "i 9537 j 27 nb_backup 266927\n",
      "i 9538 j 22 nb_backup 266950\n",
      "i 9539 j 18 nb_backup 266969\n",
      "i 9540 j 18 nb_backup 266988\n",
      "i 9541 j 20 nb_backup 267009\n",
      "i 9542 j 26 nb_backup 267036\n",
      "i 9543 j 27 nb_backup 267064\n",
      "i 9544 j 20 nb_backup 267085\n",
      "i 9545 j 20 nb_backup 267106\n",
      "i 9546 j 32 nb_backup 267139\n",
      "i 9547 j 17 nb_backup 267157\n",
      "i 9548 j 16 nb_backup 267174\n",
      "i 9549 j 18 nb_backup 267193\n",
      "i 9550 j 36 nb_backup 267230\n",
      "i 9551 j 21 nb_backup 267252\n",
      "i 9552 j 48 nb_backup 267301\n",
      "i 9553 j 37 nb_backup 267339\n",
      "i 9554 j 44 nb_backup 267384\n",
      "i 9555 j 46 nb_backup 267431\n",
      "i 9556 j 30 nb_backup 267462\n",
      "i 9557 j 19 nb_backup 267482\n",
      "i 9558 j 27 nb_backup 267510\n",
      "i 9559 j 26 nb_backup 267537\n",
      "i 9560 j 14 nb_backup 267552\n",
      "i 9561 j 30 nb_backup 267583\n",
      "i 9562 j 29 nb_backup 267613\n",
      "i 9563 j 27 nb_backup 267641\n",
      "i 9564 j 26 nb_backup 267668\n",
      "i 9565 j 19 nb_backup 267688\n",
      "i 9566 j 21 nb_backup 267710\n",
      "i 9567 j 20 nb_backup 267731\n",
      "i 9568 j 32 nb_backup 267764\n",
      "i 9569 j 30 nb_backup 267795\n",
      "i 9570 j 24 nb_backup 267820\n",
      "i 9571 j 22 nb_backup 267843\n",
      "i 9572 j 28 nb_backup 267872\n",
      "i 9573 j 24 nb_backup 267897\n",
      "i 9574 j 27 nb_backup 267925\n",
      "i 9575 j 21 nb_backup 267947\n",
      "i 9576 j 42 nb_backup 267990\n",
      "i 9577 j 21 nb_backup 268012\n",
      "i 9578 j 25 nb_backup 268038\n",
      "i 9579 j 28 nb_backup 268067\n",
      "i 9580 j 28 nb_backup 268096\n",
      "i 9581 j 20 nb_backup 268117\n",
      "i 9582 j 29 nb_backup 268147\n",
      "i 9583 j 18 nb_backup 268166\n",
      "i 9584 j 22 nb_backup 268189\n",
      "i 9585 j 18 nb_backup 268208\n",
      "i 9586 j 18 nb_backup 268227\n",
      "i 9587 j 32 nb_backup 268260\n",
      "i 9588 j 24 nb_backup 268285\n",
      "i 9589 j 26 nb_backup 268312\n",
      "i 9590 j 49 nb_backup 268362\n",
      "i 9591 j 23 nb_backup 268386\n",
      "i 9592 j 47 nb_backup 268434\n",
      "i 9593 j 23 nb_backup 268458\n",
      "i 9594 j 24 nb_backup 268483\n",
      "i 9595 j 25 nb_backup 268509\n",
      "i 9596 j 28 nb_backup 268538\n",
      "i 9597 j 17 nb_backup 268556\n",
      "i 9598 j 13 nb_backup 268570\n",
      "i 9599 j 18 nb_backup 268589\n",
      "i 9600 j 32 nb_backup 268622\n",
      "i 9601 j 21 nb_backup 268644\n",
      "i 9602 j 24 nb_backup 268669\n",
      "i 9603 j 22 nb_backup 268692\n",
      "i 9604 j 25 nb_backup 268718\n",
      "i 9605 j 32 nb_backup 268751\n",
      "i 9606 j 25 nb_backup 268777\n",
      "i 9607 j 34 nb_backup 268812\n",
      "i 9608 j 21 nb_backup 268834\n",
      "i 9609 j 39 nb_backup 268874\n",
      "i 9610 j 15 nb_backup 268890\n",
      "i 9611 j 27 nb_backup 268918\n",
      "i 9612 j 31 nb_backup 268950\n",
      "i 9613 j 24 nb_backup 268975\n",
      "i 9614 j 40 nb_backup 269016\n",
      "i 9615 j 32 nb_backup 269049\n",
      "i 9616 j 31 nb_backup 269081\n",
      "i 9617 j 27 nb_backup 269109\n",
      "i 9618 j 33 nb_backup 269143\n",
      "i 9619 j 32 nb_backup 269176\n",
      "i 9620 j 26 nb_backup 269203\n",
      "i 9621 j 42 nb_backup 269246\n",
      "i 9622 j 15 nb_backup 269262\n",
      "i 9623 j 37 nb_backup 269300\n",
      "i 9624 j 28 nb_backup 269329\n",
      "i 9625 j 28 nb_backup 269358\n",
      "i 9626 j 29 nb_backup 269388\n",
      "i 9627 j 33 nb_backup 269422\n",
      "i 9628 j 29 nb_backup 269452\n",
      "i 9629 j 33 nb_backup 269486\n",
      "i 9630 j 19 nb_backup 269506\n",
      "i 9631 j 27 nb_backup 269534\n",
      "i 9632 j 34 nb_backup 269569\n",
      "i 9633 j 20 nb_backup 269590\n",
      "i 9634 j 24 nb_backup 269615\n",
      "i 9635 j 28 nb_backup 269644\n",
      "i 9636 j 36 nb_backup 269681\n",
      "i 9637 j 32 nb_backup 269714\n",
      "i 9638 j 22 nb_backup 269737\n",
      "i 9639 j 27 nb_backup 269765\n",
      "i 9640 j 26 nb_backup 269792\n",
      "i 9641 j 21 nb_backup 269814\n",
      "i 9642 j 20 nb_backup 269835\n",
      "i 9643 j 17 nb_backup 269853\n",
      "i 9644 j 18 nb_backup 269872\n",
      "i 9645 j 30 nb_backup 269903\n",
      "i 9646 j 31 nb_backup 269935\n",
      "i 9647 j 57 nb_backup 269993\n",
      "i 9648 j 19 nb_backup 270013\n",
      "i 9649 j 26 nb_backup 270040\n",
      "i 9650 j 15 nb_backup 270056\n",
      "i 9651 j 33 nb_backup 270090\n",
      "i 9652 j 29 nb_backup 270120\n",
      "i 9653 j 30 nb_backup 270151\n",
      "i 9654 j 22 nb_backup 270174\n",
      "i 9655 j 22 nb_backup 270197\n",
      "i 9656 j 17 nb_backup 270215\n",
      "i 9657 j 23 nb_backup 270239\n",
      "i 9658 j 31 nb_backup 270271\n",
      "i 9659 j 24 nb_backup 270296\n",
      "i 9660 j 28 nb_backup 270325\n",
      "i 9661 j 24 nb_backup 270350\n",
      "i 9662 j 28 nb_backup 270379\n",
      "i 9663 j 27 nb_backup 270407\n",
      "i 9664 j 13 nb_backup 270421\n",
      "i 9665 j 23 nb_backup 270445\n",
      "i 9666 j 29 nb_backup 270475\n",
      "i 9667 j 18 nb_backup 270494\n",
      "i 9668 j 45 nb_backup 270540\n",
      "i 9669 j 46 nb_backup 270587\n",
      "i 9670 j 26 nb_backup 270614\n",
      "i 9671 j 20 nb_backup 270635\n",
      "i 9672 j 23 nb_backup 270659\n",
      "i 9673 j 39 nb_backup 270699\n",
      "i 9674 j 18 nb_backup 270718\n",
      "i 9675 j 31 nb_backup 270750\n",
      "i 9676 j 22 nb_backup 270773\n",
      "i 9677 j 24 nb_backup 270798\n",
      "i 9678 j 19 nb_backup 270818\n",
      "i 9679 j 30 nb_backup 270849\n",
      "i 9680 j 21 nb_backup 270871\n",
      "i 9681 j 24 nb_backup 270896\n",
      "i 9682 j 20 nb_backup 270917\n",
      "i 9683 j 27 nb_backup 270945\n",
      "i 9684 j 19 nb_backup 270965\n",
      "i 9685 j 21 nb_backup 270987\n",
      "i 9686 j 32 nb_backup 271020\n",
      "i 9687 j 24 nb_backup 271045\n",
      "i 9688 j 25 nb_backup 271071\n",
      "i 9689 j 21 nb_backup 271093\n",
      "i 9690 j 31 nb_backup 271125\n",
      "i 9691 j 34 nb_backup 271160\n",
      "i 9692 j 25 nb_backup 271186\n",
      "i 9693 j 26 nb_backup 271213\n",
      "i 9694 j 25 nb_backup 271239\n",
      "i 9695 j 19 nb_backup 271259\n",
      "i 9696 j 14 nb_backup 271274\n",
      "i 9697 j 23 nb_backup 271298\n",
      "i 9698 j 21 nb_backup 271320\n",
      "i 9699 j 24 nb_backup 271345\n",
      "i 9700 j 27 nb_backup 271373\n",
      "i 9701 j 18 nb_backup 271392\n",
      "i 9702 j 36 nb_backup 271429\n",
      "i 9703 j 34 nb_backup 271464\n",
      "i 9704 j 32 nb_backup 271497\n",
      "i 9705 j 24 nb_backup 271522\n",
      "i 9706 j 23 nb_backup 271546\n",
      "i 9707 j 33 nb_backup 271580\n",
      "i 9708 j 26 nb_backup 271607\n",
      "i 9709 j 31 nb_backup 271639\n",
      "i 9710 j 34 nb_backup 271674\n",
      "i 9711 j 33 nb_backup 271708\n",
      "i 9712 j 34 nb_backup 271743\n",
      "i 9713 j 29 nb_backup 271773\n",
      "i 9714 j 24 nb_backup 271798\n",
      "i 9715 j 20 nb_backup 271819\n",
      "i 9716 j 31 nb_backup 271851\n",
      "i 9717 j 16 nb_backup 271868\n",
      "i 9718 j 35 nb_backup 271904\n",
      "i 9719 j 24 nb_backup 271929\n",
      "i 9720 j 20 nb_backup 271950\n",
      "i 9721 j 31 nb_backup 271982\n",
      "i 9722 j 21 nb_backup 272004\n",
      "i 9723 j 32 nb_backup 272037\n",
      "i 9724 j 21 nb_backup 272059\n",
      "i 9725 j 22 nb_backup 272082\n",
      "i 9726 j 23 nb_backup 272106\n",
      "i 9727 j 24 nb_backup 272131\n",
      "i 9728 j 26 nb_backup 272158\n",
      "i 9729 j 30 nb_backup 272189\n",
      "i 9730 j 19 nb_backup 272209\n",
      "i 9731 j 39 nb_backup 272249\n",
      "i 9732 j 23 nb_backup 272273\n",
      "i 9733 j 25 nb_backup 272299\n",
      "i 9734 j 29 nb_backup 272329\n",
      "i 9735 j 54 nb_backup 272384\n",
      "i 9736 j 16 nb_backup 272401\n",
      "i 9737 j 23 nb_backup 272425\n",
      "i 9738 j 13 nb_backup 272439\n",
      "i 9739 j 17 nb_backup 272457\n",
      "i 9740 j 23 nb_backup 272481\n",
      "i 9741 j 22 nb_backup 272504\n",
      "i 9742 j 34 nb_backup 272539\n",
      "i 9743 j 17 nb_backup 272557\n",
      "i 9744 j 24 nb_backup 272582\n",
      "i 9745 j 21 nb_backup 272604\n",
      "i 9746 j 19 nb_backup 272624\n",
      "i 9747 j 23 nb_backup 272648\n",
      "i 9748 j 35 nb_backup 272684\n",
      "i 9749 j 17 nb_backup 272702\n",
      "i 9750 j 24 nb_backup 272727\n",
      "i 9751 j 18 nb_backup 272746\n",
      "i 9752 j 20 nb_backup 272767\n",
      "i 9753 j 25 nb_backup 272793\n",
      "i 9754 j 18 nb_backup 272812\n",
      "i 9755 j 30 nb_backup 272843\n",
      "i 9756 j 25 nb_backup 272869\n",
      "i 9757 j 29 nb_backup 272899\n",
      "i 9758 j 27 nb_backup 272927\n",
      "i 9759 j 41 nb_backup 272969\n",
      "i 9760 j 37 nb_backup 273007\n",
      "i 9761 j 22 nb_backup 273030\n",
      "i 9762 j 30 nb_backup 273061\n",
      "i 9763 j 29 nb_backup 273091\n",
      "i 9764 j 30 nb_backup 273122\n",
      "i 9765 j 43 nb_backup 273166\n",
      "i 9766 j 35 nb_backup 273202\n",
      "i 9767 j 20 nb_backup 273223\n",
      "i 9768 j 32 nb_backup 273256\n",
      "i 9769 j 38 nb_backup 273295\n",
      "i 9770 j 28 nb_backup 273324\n",
      "i 9771 j 26 nb_backup 273351\n",
      "i 9772 j 45 nb_backup 273397\n",
      "i 9773 j 35 nb_backup 273433\n",
      "i 9774 j 22 nb_backup 273456\n",
      "i 9775 j 21 nb_backup 273478\n",
      "i 9776 j 28 nb_backup 273507\n",
      "i 9777 j 23 nb_backup 273531\n",
      "i 9778 j 23 nb_backup 273555\n",
      "i 9779 j 33 nb_backup 273589\n",
      "i 9780 j 20 nb_backup 273610\n",
      "i 9781 j 36 nb_backup 273647\n",
      "i 9782 j 21 nb_backup 273669\n",
      "i 9783 j 31 nb_backup 273701\n",
      "i 9784 j 26 nb_backup 273728\n",
      "i 9785 j 24 nb_backup 273753\n",
      "i 9786 j 32 nb_backup 273786\n",
      "i 9787 j 23 nb_backup 273810\n",
      "i 9788 j 29 nb_backup 273840\n",
      "i 9789 j 29 nb_backup 273870\n",
      "i 9790 j 19 nb_backup 273890\n",
      "i 9791 j 33 nb_backup 273924\n",
      "i 9792 j 34 nb_backup 273959\n",
      "i 9793 j 31 nb_backup 273991\n",
      "i 9794 j 28 nb_backup 274020\n",
      "i 9795 j 21 nb_backup 274042\n",
      "i 9796 j 31 nb_backup 274074\n",
      "i 9797 j 33 nb_backup 274108\n",
      "i 9798 j 21 nb_backup 274130\n",
      "i 9799 j 22 nb_backup 274153\n",
      "i 9800 j 48 nb_backup 274202\n",
      "i 9801 j 27 nb_backup 274230\n",
      "i 9802 j 41 nb_backup 274272\n",
      "i 9803 j 33 nb_backup 274306\n",
      "i 9804 j 24 nb_backup 274331\n",
      "i 9805 j 21 nb_backup 274353\n",
      "i 9806 j 19 nb_backup 274373\n",
      "i 9807 j 29 nb_backup 274403\n",
      "i 9808 j 31 nb_backup 274435\n",
      "i 9809 j 19 nb_backup 274455\n",
      "i 9810 j 18 nb_backup 274474\n",
      "i 9811 j 41 nb_backup 274516\n",
      "i 9812 j 24 nb_backup 274541\n",
      "i 9813 j 21 nb_backup 274563\n",
      "i 9814 j 15 nb_backup 274579\n",
      "i 9815 j 28 nb_backup 274608\n",
      "i 9816 j 23 nb_backup 274632\n",
      "i 9817 j 35 nb_backup 274668\n",
      "i 9818 j 23 nb_backup 274692\n",
      "i 9819 j 32 nb_backup 274725\n",
      "i 9820 j 32 nb_backup 274758\n",
      "i 9821 j 17 nb_backup 274776\n",
      "i 9822 j 38 nb_backup 274815\n",
      "i 9823 j 20 nb_backup 274836\n",
      "i 9824 j 22 nb_backup 274859\n",
      "i 9825 j 27 nb_backup 274887\n",
      "i 9826 j 41 nb_backup 274929\n",
      "i 9827 j 26 nb_backup 274956\n",
      "i 9828 j 20 nb_backup 274977\n",
      "i 9829 j 27 nb_backup 275005\n",
      "i 9830 j 25 nb_backup 275031\n",
      "i 9831 j 33 nb_backup 275065\n",
      "i 9832 j 36 nb_backup 275102\n",
      "i 9833 j 32 nb_backup 275135\n",
      "i 9834 j 15 nb_backup 275151\n",
      "i 9835 j 29 nb_backup 275181\n",
      "i 9836 j 15 nb_backup 275197\n",
      "i 9837 j 30 nb_backup 275228\n",
      "i 9838 j 37 nb_backup 275266\n",
      "i 9839 j 18 nb_backup 275285\n",
      "i 9840 j 29 nb_backup 275315\n",
      "i 9841 j 19 nb_backup 275335\n",
      "i 9842 j 26 nb_backup 275362\n",
      "i 9843 j 49 nb_backup 275412\n",
      "i 9844 j 30 nb_backup 275443\n",
      "i 9845 j 20 nb_backup 275464\n",
      "i 9846 j 21 nb_backup 275486\n",
      "i 9847 j 25 nb_backup 275512\n",
      "i 9848 j 25 nb_backup 275538\n",
      "i 9849 j 19 nb_backup 275558\n",
      "i 9850 j 23 nb_backup 275582\n",
      "i 9851 j 22 nb_backup 275605\n",
      "i 9852 j 24 nb_backup 275630\n",
      "i 9853 j 23 nb_backup 275654\n",
      "i 9854 j 16 nb_backup 275671\n",
      "i 9855 j 19 nb_backup 275691\n",
      "i 9856 j 21 nb_backup 275713\n",
      "i 9857 j 43 nb_backup 275757\n",
      "i 9858 j 15 nb_backup 275773\n",
      "i 9859 j 23 nb_backup 275797\n",
      "i 9860 j 24 nb_backup 275822\n",
      "i 9861 j 25 nb_backup 275848\n",
      "i 9862 j 25 nb_backup 275874\n",
      "i 9863 j 37 nb_backup 275912\n",
      "i 9864 j 23 nb_backup 275936\n",
      "i 9865 j 21 nb_backup 275958\n",
      "i 9866 j 15 nb_backup 275974\n",
      "i 9867 j 31 nb_backup 276006\n",
      "i 9868 j 24 nb_backup 276031\n",
      "i 9869 j 29 nb_backup 276061\n",
      "i 9870 j 24 nb_backup 276086\n",
      "i 9871 j 22 nb_backup 276109\n",
      "i 9872 j 20 nb_backup 276130\n",
      "i 9873 j 31 nb_backup 276162\n",
      "i 9874 j 42 nb_backup 276205\n",
      "i 9875 j 37 nb_backup 276243\n",
      "i 9876 j 25 nb_backup 276269\n",
      "i 9877 j 53 nb_backup 276323\n",
      "i 9878 j 46 nb_backup 276370\n",
      "i 9879 j 34 nb_backup 276405\n",
      "i 9880 j 29 nb_backup 276435\n",
      "i 9881 j 37 nb_backup 276473\n",
      "i 9882 j 29 nb_backup 276503\n",
      "i 9883 j 36 nb_backup 276540\n",
      "i 9884 j 40 nb_backup 276581\n",
      "i 9885 j 17 nb_backup 276599\n",
      "i 9886 j 24 nb_backup 276624\n",
      "i 9887 j 33 nb_backup 276658\n",
      "i 9888 j 16 nb_backup 276675\n",
      "i 9889 j 31 nb_backup 276707\n",
      "i 9890 j 24 nb_backup 276732\n",
      "i 9891 j 21 nb_backup 276754\n",
      "i 9892 j 31 nb_backup 276786\n",
      "i 9893 j 16 nb_backup 276803\n",
      "i 9894 j 22 nb_backup 276826\n",
      "i 9895 j 17 nb_backup 276844\n",
      "i 9896 j 43 nb_backup 276888\n",
      "i 9897 j 34 nb_backup 276923\n",
      "i 9898 j 22 nb_backup 276946\n",
      "i 9899 j 23 nb_backup 276970\n",
      "i 9900 j 18 nb_backup 276989\n",
      "i 9901 j 36 nb_backup 277026\n",
      "i 9902 j 24 nb_backup 277051\n",
      "i 9903 j 13 nb_backup 277065\n",
      "i 9904 j 24 nb_backup 277090\n",
      "i 9905 j 17 nb_backup 277108\n",
      "i 9906 j 25 nb_backup 277134\n",
      "i 9907 j 15 nb_backup 277150\n",
      "i 9908 j 25 nb_backup 277176\n",
      "i 9909 j 35 nb_backup 277212\n",
      "i 9910 j 30 nb_backup 277243\n",
      "i 9911 j 44 nb_backup 277288\n",
      "i 9912 j 27 nb_backup 277316\n",
      "i 9913 j 20 nb_backup 277337\n",
      "i 9914 j 31 nb_backup 277369\n",
      "i 9915 j 38 nb_backup 277408\n",
      "i 9916 j 33 nb_backup 277442\n",
      "i 9917 j 21 nb_backup 277464\n",
      "i 9918 j 25 nb_backup 277490\n",
      "i 9919 j 21 nb_backup 277512\n",
      "i 9920 j 23 nb_backup 277536\n",
      "i 9921 j 29 nb_backup 277566\n",
      "i 9922 j 22 nb_backup 277589\n",
      "i 9923 j 22 nb_backup 277612\n",
      "i 9924 j 23 nb_backup 277636\n",
      "i 9925 j 27 nb_backup 277664\n",
      "i 9926 j 22 nb_backup 277687\n",
      "i 9927 j 35 nb_backup 277723\n",
      "i 9928 j 40 nb_backup 277764\n",
      "i 9929 j 33 nb_backup 277798\n",
      "i 9930 j 33 nb_backup 277832\n",
      "i 9931 j 27 nb_backup 277860\n",
      "i 9932 j 18 nb_backup 277879\n",
      "i 9933 j 33 nb_backup 277913\n",
      "i 9934 j 15 nb_backup 277929\n",
      "i 9935 j 25 nb_backup 277955\n",
      "i 9936 j 18 nb_backup 277974\n",
      "i 9937 j 26 nb_backup 278001\n",
      "i 9938 j 29 nb_backup 278031\n",
      "i 9939 j 34 nb_backup 278066\n",
      "i 9940 j 26 nb_backup 278093\n",
      "i 9941 j 21 nb_backup 278115\n",
      "i 9942 j 23 nb_backup 278139\n",
      "i 9943 j 31 nb_backup 278171\n",
      "i 9944 j 39 nb_backup 278211\n",
      "i 9945 j 21 nb_backup 278233\n",
      "i 9946 j 30 nb_backup 278264\n",
      "i 9947 j 20 nb_backup 278285\n",
      "i 9948 j 37 nb_backup 278323\n",
      "i 9949 j 27 nb_backup 278351\n",
      "i 9950 j 47 nb_backup 278399\n",
      "i 9951 j 19 nb_backup 278419\n",
      "i 9952 j 43 nb_backup 278463\n",
      "i 9953 j 29 nb_backup 278493\n",
      "i 9954 j 23 nb_backup 278517\n",
      "i 9955 j 16 nb_backup 278534\n",
      "i 9956 j 26 nb_backup 278561\n",
      "i 9957 j 18 nb_backup 278580\n",
      "i 9958 j 17 nb_backup 278598\n",
      "i 9959 j 22 nb_backup 278621\n",
      "i 9960 j 40 nb_backup 278662\n",
      "i 9961 j 27 nb_backup 278690\n",
      "i 9962 j 19 nb_backup 278710\n",
      "i 9963 j 17 nb_backup 278728\n",
      "i 9964 j 37 nb_backup 278766\n",
      "i 9965 j 22 nb_backup 278789\n",
      "i 9966 j 37 nb_backup 278827\n",
      "i 9967 j 22 nb_backup 278850\n",
      "i 9968 j 23 nb_backup 278874\n",
      "i 9969 j 33 nb_backup 278908\n",
      "i 9970 j 18 nb_backup 278927\n",
      "i 9971 j 16 nb_backup 278944\n",
      "i 9972 j 33 nb_backup 278978\n",
      "i 9973 j 42 nb_backup 279021\n",
      "i 9974 j 26 nb_backup 279048\n",
      "i 9975 j 21 nb_backup 279070\n",
      "i 9976 j 23 nb_backup 279094\n",
      "i 9977 j 26 nb_backup 279121\n",
      "i 9978 j 39 nb_backup 279161\n",
      "i 9979 j 39 nb_backup 279201\n",
      "i 9980 j 40 nb_backup 279242\n",
      "i 9981 j 31 nb_backup 279274\n",
      "i 9982 j 21 nb_backup 279296\n",
      "i 9983 j 26 nb_backup 279323\n",
      "i 9984 j 21 nb_backup 279345\n",
      "i 9985 j 32 nb_backup 279378\n",
      "i 9986 j 23 nb_backup 279402\n",
      "i 9987 j 26 nb_backup 279429\n",
      "i 9988 j 29 nb_backup 279459\n",
      "i 9989 j 25 nb_backup 279485\n",
      "i 9990 j 21 nb_backup 279507\n",
      "i 9991 j 25 nb_backup 279533\n",
      "i 9992 j 19 nb_backup 279553\n",
      "i 9993 j 19 nb_backup 279573\n",
      "i 9994 j 21 nb_backup 279595\n",
      "i 9995 j 16 nb_backup 279612\n",
      "i 9996 j 25 nb_backup 279638\n",
      "i 9997 j 32 nb_backup 279671\n",
      "i 9998 j 27 nb_backup 279699\n",
      "i 9999 j 21 nb_backup 279721\n"
     ]
    },
    {
     "data": {
      "image/png": "[encoded data removed]",
      "text/plain": [
       "<Figure size 432x288 with 1 Axes>"
      ]
     },
     "metadata": {
      "needs_background": "light"
     },
     "output_type": "display_data"
    }
   ],
   "source": [
    "RDyna = RandomDyna(env_9x6, alpha, delta, epsilon, max_step, render = False, episode= 10000)\n",
    "RDyna.execute()\n",
    "\n",
    "data = pd.read_csv(\"executionInformation.csv\")\n",
    "\n",
    "nb_steps = data[\"nb_step\"]\n",
    "nb_steps = np.array(nb_steps)\n",
    "#nb_steps = nb_steps[np.argsort(nb_steps)[::-1]]\n",
    "plt.plot(nb_steps)\n",
    "\n",
    "plt.title('Courbe du nombre de step to goal en fonction du nombre de backup')\n",
    "plt.xlabel('nb_backup')\n",
    "plt.ylabel('nb_step')\n",
    "plt.xscale('log')\n",
    "plt.grid(True)\n",
    "plt.show()\n"
   ]
  },
  {
   "cell_type": "markdown",
   "metadata": {},
   "source": [
    "# Test SR"
   ]
  },
  {
   "cell_type": "code",
   "execution_count": 17,
   "metadata": {},
   "outputs": [],
   "source": [
    "from SuccessorRepresentation import FocusedDynaSR\n",
    "\n",
    "fdsr = FocusedDynaSR(env_9x6, alpha, epsilon, episode=2000, train_episode_length=1000, test_episode_length=1000)\n",
    "\n",
    "fdsr.execute()"
   ]
  },
  {
   "cell_type": "code",
   "execution_count": 18,
   "metadata": {},
   "outputs": [
    {
     "data": {
      "text/plain": [
       "[<matplotlib.lines.Line2D at 0x7f966a3439d0>]"
      ]
     },
     "execution_count": 18,
     "metadata": {},
     "output_type": "execute_result"
    },
    {
     "data": {
      "image/png": "[encoded data removed]",
      "text/plain": [
       "<Figure size 432x288 with 1 Axes>"
      ]
     },
     "metadata": {
      "needs_background": "light"
     },
     "output_type": "display_data"
    }
   ],
   "source": [
    "plt.plot(fdsr.test_lengths)"
   ]
  },
  {
   "cell_type": "markdown",
   "metadata": {},
   "source": [
    "# Focus Dyna"
   ]
  },
  {
   "cell_type": "code",
   "execution_count": null,
   "metadata": {},
   "outputs": [],
   "source": [
    "QueueDyna = FocusedDyna(env_9x6, alpha, delta, epsilon,max_step, render = False, episode= 1000)\n",
    "QueueDyna.execute()"
   ]
  },
  {
   "cell_type": "code",
   "execution_count": null,
   "metadata": {},
   "outputs": [],
   "source": [
    "data = pd.read_csv(\"executionInformation.csv\")\n",
    "\n",
    "nb_steps = data[\"nb_step\"]\n",
    "nb_backup = data[\"nb_backup\"]\n",
    "\n",
    "plt.plot(nb_backup,nb_steps)\n",
    "\n",
    "\n",
    "plt.title('Courbe du nombre de step to goal en fonction du nombre de backup')\n",
    "plt.xlabel('nb_backup')\n",
    "plt.ylabel('nb_step')\n",
    "plt.xscale('log')\n",
    "plt.grid(True)\n",
    "plt.show()"
   ]
  },
  {
   "cell_type": "code",
   "execution_count": null,
   "metadata": {},
   "outputs": [],
   "source": []
  }
 ],
 "metadata": {
  "kernelspec": {
   "display_name": "Python 3",
   "language": "python",
   "name": "python3"
  },
  "language_info": {
   "codemirror_mode": {
    "name": "ipython",
    "version": 3
   },
   "file_extension": ".py",
   "mimetype": "text/x-python",
   "name": "python",
   "nbconvert_exporter": "python",
   "pygments_lexer": "ipython3",
   "version": "3.9.7"
  }
 },
 "nbformat": 4,
 "nbformat_minor": 4
}
