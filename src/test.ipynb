{
 "cells": [
  {
   "cell_type": "markdown",
   "metadata": {},
   "source": [
    "# Importation Bibliothèques"
   ]
  },
  {
   "cell_type": "code",
   "execution_count": 1,
   "metadata": {},
   "outputs": [
    {
     "name": "stdout",
     "output_type": "stream",
     "text": [
      "Matplotlib backend: module://matplotlib_inline.backend_inline\n"
     ]
    }
   ],
   "source": [
    "import gymnasium as gym\n",
    "import bbrl_gymnasium\n",
    "from moviepy.editor import ipython_display as video_display\n",
    "from RewardWrapper import RewardWrapper\n",
    "from Algorithms import PrioritizedReplayAgent\n",
    "import matplotlib.pyplot as plt\n",
    "\n",
    "from LargestFirst import LargestFirst\n",
    "from RandomDyna import RandomDyna\n",
    "from FocusedDyna import FocusedDyna\n",
    "\n",
    "import pandas as pd\n",
    "import numpy as np\n",
    "\n",
    "from omegaconf import OmegaConf\n",
    "# Load YAML config file as DictConfig\n",
    "config = OmegaConf.load(\"hyperparam.yaml\")"
   ]
  },
  {
   "cell_type": "markdown",
   "metadata": {},
   "source": [
    "# Paramètres"
   ]
  },
  {
   "cell_type": "code",
   "execution_count": 2,
   "metadata": {},
   "outputs": [],
   "source": [
    "EPSILON = config.main.epsilon  # parametres pour gerer l'exploration dans EPSILONgreedy\n",
    "DELTA = config.main.delta  #treshold\n",
    "gamma = config.main.gamma  #discount factor\n",
    "ALPHA = config.main.alpha   #learning rate\n",
    "MAX_STEP = config.main.max_step #nombre de pas maximum pour un episode"
   ]
  },
  {
   "cell_type": "markdown",
   "metadata": {},
   "source": [
    "# Définition des labyrinthes"
   ]
  },
  {
   "cell_type": "code",
   "execution_count": 3,
   "metadata": {},
   "outputs": [
    {
     "data": {
      "application/vnd.jupyter.widget-view+json": {
       "model_id": "8e73d1f6b6b14b0b9fd6497b5d871746",
       "version_major": 2,
       "version_minor": 0
      },
      "text/plain": [
       "Output()"
      ]
     },
     "metadata": {},
     "output_type": "display_data"
    },
    {
     "data": {
      "application/vnd.jupyter.widget-view+json": {
       "model_id": "2421bb8d75b643eeb44effa7da635c04",
       "version_major": 2,
       "version_minor": 0
      },
      "text/plain": [
       "Output()"
      ]
     },
     "metadata": {},
     "output_type": "display_data"
    }
   ],
   "source": [
    "# environnement 9x6 \n",
    "env_9x6 = gym.make(\"MazeMDP-v0\", kwargs={\"width\": 9, \"height\": 6,\n",
    "\"start_states\": [2], \"walls\": [13, 14, 15, 34, 42, 43, 44],\n",
    "\"terminal_states\": [41]}, render_mode=\"rgb_array\")\n",
    "\n",
    "env_9x6.metadata['render_fps'] = 1\n",
    "env_9x6 = RewardWrapper(env_9x6)\n",
    "env_9x6.reset()\n",
    "\n",
    "env_9x6.set_no_agent()\n",
    "env_9x6.init_draw(\"The maze 9x6\")\n",
    "\n",
    "# environnement 18x12\n",
    "env_18x12 = gym.make(\"MazeMDP-v0\", kwargs={\"width\": 18, \"height\": 12,\n",
    "\"start_states\": [4], \"walls\": [50,51,52,53,54,62,63,64,65,66, 128,129,140,141,168,169,170,171,172,173,180,181,182,183,184,185],\n",
    "\"terminal_states\": [166,167,178,179]}, render_mode=\"rgb_array\")\n",
    "\n",
    "env_18x12.metadata['render_fps'] = 1\n",
    "env_18x12 = RewardWrapper(env_18x12)\n",
    "env_18x12.reset()\n",
    "\n",
    "env_18x12.set_no_agent()\n",
    "env_18x12.init_draw(\"The maze 18x12\")\n"
   ]
  },
  {
   "cell_type": "markdown",
   "metadata": {},
   "source": [
    "# Largest First Dyna\n",
    "\n",
    "### Queue Dyna Priority Based on Prediction Difference Magnitude"
   ]
  },
  {
   "cell_type": "code",
   "execution_count": null,
   "metadata": {},
   "outputs": [],
   "source": [
    "QueueDyna = LargestFirst(env_9x6, ALPHA, DELTA, EPSILON,MAX_STEP, render = True, episode= 100)\n",
    "QueueDyna.execute()\n"
   ]
  },
  {
   "cell_type": "code",
   "execution_count": null,
   "metadata": {},
   "outputs": [],
   "source": [
    "data = pd.read_csv(\"executionInformation.csv\")\n",
    "\n",
    "nb_steps = data.iloc[:, 1].tolist()\n",
    "nb_backup = data.iloc[:,0].tolist()\n",
    "\n",
    "plt.plot(nb_backup,nb_steps)\n",
    "\n",
    "\n",
    "plt.title('Courbe du nombre de step to goal en fonction du nombre de backup')\n",
    "plt.xlabel('nb_backup')\n",
    "plt.ylabel('nb_step')\n",
    "plt.xscale('log')\n",
    "plt.grid(True)\n",
    "plt.show()"
   ]
  },
  {
   "cell_type": "markdown",
   "metadata": {},
   "source": [
    "# Random Dyna"
   ]
  },
  {
   "cell_type": "code",
   "execution_count": null,
   "metadata": {},
   "outputs": [],
   "source": [
    "RDyna = RandomDyna(env_9x6, ALPHA, DELTA, EPSILON, MAX_STEP, render = True, episode= 100)\n",
    "RDyna.execute()"
   ]
  },
  {
   "cell_type": "code",
   "execution_count": null,
   "metadata": {},
   "outputs": [],
   "source": [
    "data = pd.read_csv(\"executionInformation.csv\")\n",
    "\n",
    "nb_steps = data.iloc[:, 1].tolist()\n",
    "nb_backup = data.iloc[:,0].tolist()\n",
    "\n",
    "plt.plot(nb_backup,nb_steps)\n",
    "\n",
    "plt.title('Courbe du nombre de step to goal en fonction du nombre de backup')\n",
    "plt.xlabel('nb_backup')\n",
    "plt.ylabel('nb_step')\n",
    "plt.xscale('log')\n",
    "plt.grid(True)\n",
    "plt.show()\n"
   ]
  },
  {
   "cell_type": "markdown",
   "metadata": {},
   "source": [
    "# Focused Dyna"
   ]
  },
  {
   "cell_type": "code",
   "execution_count": null,
   "metadata": {},
   "outputs": [],
   "source": [
    "FDyna = FocusedDyna(env_9x6, ALPHA, DELTA, EPSILON,MAX_STEP, render = True, episode= 100)\n",
    "FDyna.execute()\n"
   ]
  },
  {
   "cell_type": "code",
   "execution_count": null,
   "metadata": {},
   "outputs": [],
   "source": [
    "data = pd.read_csv(\"executionInformation.csv\")\n",
    "\n",
    "nb_steps = data.iloc[:, 1].tolist()\n",
    "nb_backup = data.iloc[:,0].tolist()\n",
    "\n",
    "plt.plot(nb_backup,nb_steps)\n",
    "\n",
    "\n",
    "plt.title('Courbe du nombre de step to goal en fonction du nombre de backup')\n",
    "plt.xlabel('nb_backup')\n",
    "plt.ylabel('nb_step')\n",
    "plt.xscale('log')\n",
    "plt.grid(True)\n",
    "plt.show()"
   ]
  },
  {
   "cell_type": "markdown",
   "metadata": {},
   "source": [
    "# Test SR"
   ]
  },
  {
   "cell_type": "code",
   "execution_count": 4,
   "metadata": {},
   "outputs": [],
   "source": [
    "from SuccessorRepresentation import FocusedDynaSR"
   ]
  },
  {
   "cell_type": "markdown",
   "metadata": {},
   "source": [
    "## Small labyrinth"
   ]
  },
  {
   "cell_type": "code",
   "execution_count": 5,
   "metadata": {},
   "outputs": [],
   "source": [
    "fdsr = FocusedDynaSR(env_9x6, ALPHA, EPSILON, config.sr.episode, config.sr.small.train_episode_length, config.sr.small.test_episode_length)\n",
    "fdsr.execute()"
   ]
  },
  {
   "cell_type": "code",
   "execution_count": 6,
   "metadata": {},
   "outputs": [
    {
     "name": "stdout",
     "output_type": "stream",
     "text": [
      "longueur du chemin au but minimal : 13\n"
     ]
    }
   ],
   "source": [
    "print(\"longueur du chemin au but minimal :\",fdsr.optimal_path_length())"
   ]
  },
  {
   "cell_type": "code",
   "execution_count": 7,
   "metadata": {},
   "outputs": [
    {
     "data": {
      "image/png": "[encoded data removed]",
      "text/plain": [
       "<Figure size 432x288 with 1 Axes>"
      ]
     },
     "metadata": {
      "needs_background": "light"
     },
     "output_type": "display_data"
    }
   ],
   "source": [
    "plt.plot(fdsr.test_lengths)\n",
    "plt.savefig(\"img/SR-performance.png\")"
   ]
  },
  {
   "cell_type": "code",
   "execution_count": 8,
   "metadata": {},
   "outputs": [
    {
     "data": {
      "text/plain": [
       "[<matplotlib.lines.Line2D at 0x7fc99baae850>]"
      ]
     },
     "execution_count": 8,
     "metadata": {},
     "output_type": "execute_result"
    },
    {
     "data": {
      "image/png": "[encoded data removed]",
      "text/plain": [
       "<Figure size 432x288 with 1 Axes>"
      ]
     },
     "metadata": {
      "needs_background": "light"
     },
     "output_type": "display_data"
    }
   ],
   "source": [
    "plt.plot(fdsr.lifetime_td_errors)"
   ]
  },
  {
   "cell_type": "markdown",
   "metadata": {},
   "source": [
    "# Figure 8"
   ]
  },
  {
   "cell_type": "code",
   "execution_count": null,
   "metadata": {},
   "outputs": [],
   "source": [
    "fdsr = FocusedDynaSR(env_18x12, ALPHA, EPSILON, config.sr.episode, config.sr.grand.train_episode_length, config.sr.grand.test_episode_length)\n",
    "fdsr.execute()"
   ]
  },
  {
   "cell_type": "code",
   "execution_count": null,
   "metadata": {},
   "outputs": [
    {
     "data": {
      "image/png": "[encoded data removed]",
      "text/plain": [
       "<Figure size 432x288 with 1 Axes>"
      ]
     },
     "metadata": {
      "needs_background": "light"
     },
     "output_type": "display_data"
    }
   ],
   "source": [
    "plt.plot(fdsr.test_lengths)\n",
    "plt.savefig(\"img/SR-performance.png\")"
   ]
  },
  {
   "cell_type": "code",
   "execution_count": null,
   "metadata": {},
   "outputs": [
    {
     "data": {
      "text/plain": [
       "[<matplotlib.lines.Line2D at 0x7fe2c42ad970>]"
      ]
     },
     "execution_count": 15,
     "metadata": {},
     "output_type": "execute_result"
    },
    {
     "data": {
      "image/png": "[encoded data removed]",
      "text/plain": [
       "<Figure size 432x288 with 1 Axes>"
      ]
     },
     "metadata": {
      "needs_background": "light"
     },
     "output_type": "display_data"
    }
   ],
   "source": [
    "plt.plot(fdsr.lifetime_td_errors)"
   ]
  },
  {
   "cell_type": "markdown",
   "metadata": {},
   "source": [
    "# Focus Dyna"
   ]
  },
  {
   "cell_type": "code",
   "execution_count": null,
   "metadata": {},
   "outputs": [],
   "source": [
    "QueueDyna = FocusedDyna(env_9x6, ALPHA, DELTA, EPSILON,MAX_STEP, render = False, episode= 1000)\n",
    "QueueDyna.execute()"
   ]
  },
  {
   "cell_type": "code",
   "execution_count": null,
   "metadata": {},
   "outputs": [],
   "source": [
    "data = pd.read_csv(\"executionInformation.csv\")\n",
    "\n",
    "nb_steps = data[\"nb_step\"]\n",
    "nb_backup = data[\"nb_backup\"]\n",
    "\n",
    "plt.plot(nb_backup,nb_steps)\n",
    "\n",
    "\n",
    "plt.title('Courbe du nombre de step to goal en fonction du nombre de backup')\n",
    "plt.xlabel('nb_backup')\n",
    "plt.ylabel('nb_step')\n",
    "plt.xscale('log')\n",
    "plt.grid(True)\n",
    "plt.show()"
   ]
  },
  {
   "cell_type": "code",
   "execution_count": 21,
   "metadata": {},
   "outputs": [
    {
     "ename": "KeyboardInterrupt",
     "evalue": "",
     "output_type": "error",
     "traceback": [
      "\u001b[0;31m---------------------------------------------------------------------------\u001b[0m",
      "\u001b[0;31mKeyboardInterrupt\u001b[0m                         Traceback (most recent call last)",
      "Cell \u001b[0;32mIn[21], line 14\u001b[0m\n\u001b[1;32m     12\u001b[0m \u001b[38;5;28;01mfor\u001b[39;00m i \u001b[38;5;129;01min\u001b[39;00m \u001b[38;5;28mrange\u001b[39m(\u001b[38;5;241m30\u001b[39m):\n\u001b[1;32m     13\u001b[0m     QueueDyna \u001b[38;5;241m=\u001b[39m LargestFirst(env_9x6, ALPHA, DELTA, EPSILON,MAX_STEP, render \u001b[38;5;241m=\u001b[39m \u001b[38;5;28;01mFalse\u001b[39;00m, episode\u001b[38;5;241m=\u001b[39m \u001b[38;5;241m100\u001b[39m)\n\u001b[0;32m---> 14\u001b[0m     \u001b[43mQueueDyna\u001b[49m\u001b[38;5;241;43m.\u001b[39;49m\u001b[43mexecute\u001b[49m\u001b[43m(\u001b[49m\u001b[43m)\u001b[49m\n\u001b[1;32m     15\u001b[0m     data \u001b[38;5;241m=\u001b[39m pd\u001b[38;5;241m.\u001b[39mread_csv(\u001b[38;5;124m\"\u001b[39m\u001b[38;5;124mexecutionInformation.csv\u001b[39m\u001b[38;5;124m\"\u001b[39m)\n\u001b[1;32m     17\u001b[0m     nb_steps \u001b[38;5;241m=\u001b[39m data\u001b[38;5;241m.\u001b[39miloc[:, \u001b[38;5;241m1\u001b[39m]\u001b[38;5;241m.\u001b[39mtolist()\n",
      "File \u001b[0;32m~/Documents/notes/LU3IN013/tp/Prioritized-Memories-Activation/src/Algorithms.py:76\u001b[0m, in \u001b[0;36mPrioritizedReplayAgent.execute\u001b[0;34m(self)\u001b[0m\n\u001b[1;32m     74\u001b[0m   k\u001b[38;5;241m=\u001b[39m\u001b[38;5;241m5\u001b[39m\n\u001b[1;32m     75\u001b[0m   \u001b[38;5;28;01mwhile\u001b[39;00m(k\u001b[38;5;241m>\u001b[39m\u001b[38;5;241m0\u001b[39m \u001b[38;5;129;01mand\u001b[39;00m \u001b[38;5;28mself\u001b[39m\u001b[38;5;241m.\u001b[39mmemory):\n\u001b[0;32m---> 76\u001b[0m     \u001b[38;5;28;43mself\u001b[39;49m\u001b[38;5;241;43m.\u001b[39;49m\u001b[43mupdate_memory\u001b[49m\u001b[43m(\u001b[49m\u001b[43m)\u001b[49m\n\u001b[1;32m     77\u001b[0m     k\u001b[38;5;241m-\u001b[39m\u001b[38;5;241m=\u001b[39m\u001b[38;5;241m1\u001b[39m\n\u001b[1;32m     79\u001b[0m \u001b[38;5;28;01mif\u001b[39;00m state \u001b[38;5;129;01min\u001b[39;00m \u001b[38;5;28mself\u001b[39m\u001b[38;5;241m.\u001b[39mmdp\u001b[38;5;241m.\u001b[39mterminal_states:\n",
      "File \u001b[0;32m~/Documents/notes/LU3IN013/tp/Prioritized-Memories-Activation/src/LargestFirst.py:53\u001b[0m, in \u001b[0;36mLargestFirst.update_memory\u001b[0;34m(self)\u001b[0m\n\u001b[1;32m     51\u001b[0m \u001b[38;5;28mself\u001b[39m\u001b[38;5;241m.\u001b[39mupdate_q_value(state,action,next_state,reward, \u001b[38;5;241m1\u001b[39m)   \u001b[38;5;66;03m#mise à jour du modele ici on prend le ALPHA de l'agent qu'on s'attend a etre 1\u001b[39;00m\n\u001b[1;32m     52\u001b[0m \u001b[38;5;28mself\u001b[39m\u001b[38;5;241m.\u001b[39mfill_memory([state,action,next_state,reward])\n\u001b[0;32m---> 53\u001b[0m \u001b[38;5;28;43mself\u001b[39;49m\u001b[38;5;241;43m.\u001b[39;49m\u001b[43madd_predecessors\u001b[49m\u001b[43m(\u001b[49m\u001b[43mstate\u001b[49m\u001b[43m)\u001b[49m\n",
      "File \u001b[0;32m~/Documents/notes/LU3IN013/tp/Prioritized-Memories-Activation/src/LargestFirst.py:34\u001b[0m, in \u001b[0;36mLargestFirst.add_predecessors\u001b[0;34m(self, stateForPred)\u001b[0m\n\u001b[1;32m     24\u001b[0m \u001b[38;5;28;01mdef\u001b[39;00m \u001b[38;5;21madd_predecessors\u001b[39m(\u001b[38;5;28mself\u001b[39m, stateForPred):\n\u001b[1;32m     25\u001b[0m \u001b[38;5;250m  \u001b[39m\u001b[38;5;124;03m\"\"\" Ajoute les experiences qui on comme next_state stateForPred\u001b[39;00m\n\u001b[1;32m     26\u001b[0m \n\u001b[1;32m     27\u001b[0m \u001b[38;5;124;03m      Arguments\u001b[39;00m\n\u001b[0;32m   (...)\u001b[0m\n\u001b[1;32m     32\u001b[0m \u001b[38;5;124;03m      #the argument for this method in update_model should have the same name as the parameter in here \u001b[39;00m\n\u001b[1;32m     33\u001b[0m \u001b[38;5;124;03m  \"\"\"\u001b[39;00m\n\u001b[0;32m---> 34\u001b[0m   pred \u001b[38;5;241m=\u001b[39m \u001b[38;5;28;43mself\u001b[39;49m\u001b[38;5;241;43m.\u001b[39;49m\u001b[43mfind_predecessors\u001b[49m\u001b[43m(\u001b[49m\u001b[43mstateForPred\u001b[49m\u001b[43m)\u001b[49m\n\u001b[1;32m     35\u001b[0m   \u001b[38;5;28;01mfor\u001b[39;00m experience \u001b[38;5;129;01min\u001b[39;00m pred:          \u001b[38;5;66;03m#après avoir trouvé les predecesseurs repondant au critere on peut les ajouter a PQueue\u001b[39;00m\n\u001b[1;32m     36\u001b[0m     \u001b[38;5;28mself\u001b[39m\u001b[38;5;241m.\u001b[39mfill_memory(experience)\n",
      "File \u001b[0;32m~/Documents/notes/LU3IN013/tp/Prioritized-Memories-Activation/src/LargestFirst.py:58\u001b[0m, in \u001b[0;36mLargestFirst.find_predecessors\u001b[0;34m(self, stateForPred)\u001b[0m\n\u001b[1;32m     56\u001b[0m pred \u001b[38;5;241m=\u001b[39m[]\n\u001b[1;32m     57\u001b[0m \u001b[38;5;28;01mfor\u001b[39;00m [state, action, next_state, reward] \u001b[38;5;129;01min\u001b[39;00m \u001b[38;5;28mself\u001b[39m\u001b[38;5;241m.\u001b[39mexperienced:\n\u001b[0;32m---> 58\u001b[0m   \u001b[38;5;28;01mif\u001b[39;00m next_state \u001b[38;5;241m==\u001b[39m stateForPred:\n\u001b[1;32m     59\u001b[0m     pred\u001b[38;5;241m.\u001b[39mappend([state,action,stateForPred, reward])\n\u001b[1;32m     60\u001b[0m \u001b[38;5;28;01mreturn\u001b[39;00m pred\n",
      "\u001b[0;31mKeyboardInterrupt\u001b[0m: "
     ]
    }
   ],
   "source": [
    "\n",
    "from scipy.interpolate import interp1d\n",
    "\n",
    "all_steps_lg = []\n",
    "all_backups_lg = []\n",
    "\n",
    "all_steps_rd = []\n",
    "all_backups_rd = []\n",
    "\n",
    "all_steps_fc = []\n",
    "all_backups_fc = []\n",
    "\n",
    "for i in range(30):\n",
    "    QueueDyna = LargestFirst(env_9x6, ALPHA, DELTA, EPSILON,MAX_STEP, render = False, episode= 100)\n",
    "    QueueDyna.execute()\n",
    "    data = pd.read_csv(\"executionInformation.csv\")\n",
    "\n",
    "    nb_steps = data.iloc[:, 1].tolist()\n",
    "    nb_backup = data.iloc[:,0].tolist()\n",
    "    all_steps_lg.append(nb_steps)\n",
    "    all_backups_lg.append(nb_backup)\n",
    "\n",
    "    RDyna = RandomDyna(env_9x6, ALPHA, DELTA, EPSILON,MAX_STEP, render = False, episode= 100)\n",
    "    RDyna.execute()\n",
    "    data = pd.read_csv(\"executionInformation.csv\")\n",
    "\n",
    "    nb_steps = data.iloc[:, 1].tolist()\n",
    "    nb_backup = data.iloc[:,0].tolist()\n",
    "    all_steps_rd.append(nb_steps)\n",
    "    all_backups_rd.append(nb_backup)\n",
    "\n",
    "    FDyna = FocusedDyna(env_9x6, ALPHA, DELTA, EPSILON,MAX_STEP, render = False, episode= 100)\n",
    "    FDyna.execute()\n",
    "    data = pd.read_csv(\"executionInformation.csv\")\n",
    "\n",
    "    nb_steps = data.iloc[:, 1].tolist()\n",
    "    nb_backup = data.iloc[:,0].tolist()\n",
    "    all_steps_fc.append(nb_steps)\n",
    "    all_backups_fc.append(nb_backup)\n",
    "    \n",
    "\n",
    "num_points_interp = min([len(i) for i in all_backups_lg])\n",
    "interp_data = []\n",
    "for curve in all_steps_lg:\n",
    "    x_old = np.linspace(0, 1, len(curve))\n",
    "    x_new = np.linspace(0, 1, num_points_interp)\n",
    "    f = interp1d(x_old, curve, kind='cubic')\n",
    "    interp_data.append(f(x_new))\n",
    "\n",
    "average_curve_lg = np.mean(interp_data, axis=0)\n",
    "plt.plot(average_curve_lg, color='red', linewidth=2)\n",
    "\n",
    "num_points_interp = min([len(i) for i in all_backups_rd])\n",
    "interp_data = []\n",
    "for curve in all_steps_lg:\n",
    "    x_old = np.linspace(0, 1, len(curve))\n",
    "    x_new = np.linspace(0, 1, num_points_interp)\n",
    "    f = interp1d(x_old, curve, kind='cubic')\n",
    "    interp_data.append(f(x_new))\n",
    "\n",
    "average_curve_rd = np.mean(interp_data, axis=0)\n",
    "plt.plot(average_curve_rd, color='blue', linewidth=2)\n",
    "\n",
    "num_points_interp = min([len(i) for i in all_backups_fc])\n",
    "interp_data = []\n",
    "for curve in all_steps_fc:\n",
    "    x_old = np.linspace(0, 1, len(curve))\n",
    "    x_new = np.linspace(0, 1, num_points_interp)\n",
    "    f = interp1d(x_old, curve, kind='cubic')\n",
    "    interp_data.append(f(x_new))\n",
    "\n",
    "average_curve_fc = np.mean(interp_data, axis=0)\n",
    "plt.plot(average_curve_fc, color='green', linewidth=2)\n",
    "\n",
    "\n",
    "\n",
    "\n",
    "plt.title('Courbe du nombre de step to goal en fonction du nombre de backup')\n",
    "plt.xlabel('nb_backup')\n",
    "plt.ylabel('nb_step')\n",
    "plt.xscale('log')\n",
    "plt.grid(True)\n",
    "plt.show()\n"
   ]
  },
  {
   "cell_type": "code",
   "execution_count": null,
   "metadata": {},
   "outputs": [],
   "source": []
  },
  {
   "cell_type": "code",
   "execution_count": null,
   "metadata": {},
   "outputs": [],
   "source": []
  }
 ],
 "metadata": {
  "kernelspec": {
   "display_name": "Python 3",
   "language": "python",
   "name": "python3"
  },
  "language_info": {
   "codemirror_mode": {
    "name": "ipython",
    "version": 3
   },
   "file_extension": ".py",
   "mimetype": "text/x-python",
   "name": "python",
   "nbconvert_exporter": "python",
   "pygments_lexer": "ipython3",
   "version": "3.9.7"
  }
 },
 "nbformat": 4,
 "nbformat_minor": 4
}
